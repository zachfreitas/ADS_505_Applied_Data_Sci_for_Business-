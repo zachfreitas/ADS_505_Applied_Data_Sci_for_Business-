{
  "cells": [
    {
      "cell_type": "markdown",
      "metadata": {
        "id": "view-in-github",
        "colab_type": "text"
      },
      "source": [
        "<a href=\"https://colab.research.google.com/github/zachfreitas/ADS_505_Applied_Data_Sci_for_Business-/blob/main/Module_4/Assignment_4/Assignment_4.ipynb\" target=\"_parent\"><img src=\"https://colab.research.google.com/assets/colab-badge.svg\" alt=\"Open In Colab\"/></a>"
      ]
    },
    {
      "cell_type": "markdown",
      "metadata": {
        "id": "i-VDwTFXwWil"
      },
      "source": [
        "# Assignment 4\n",
        "Zachariah Freitas <br>\n",
        "Date: 2020-10-01 <br>"
      ]
    },
    {
      "cell_type": "markdown",
      "source": [
        "Logistic Regression - from sklearn.linear_model import LogisticRegressionCV<br>\n",
        "classification trees <br>\n",
        "Bagging - from sklearn.ensemble import BaggingClassifier<br>\n",
        "AdaBoost - from sklearn.ensemble import AdaBoostClassifier<br>\n",
        "Random Forest - from sklearn.ensemble import RandomForestClassifier<br>\n",
        "Linear Discriminant Analysis - LinearDiscriminantAnalysis<br>\n",
        "Neural Networks - from sklearn.neural_network import MLPClassifier<br>\n",
        "\n",
        "\n",
        "\n",
        "\n"
      ],
      "metadata": {
        "id": "C1hTx6DqBwDF"
      }
    },
    {
      "cell_type": "code",
      "source": [
        "# Install Book libraries.\n",
        "!pip install dmba"
      ],
      "metadata": {
        "colab": {
          "base_uri": "https://localhost:8080/"
        },
        "id": "sPOrIbrDwd2X",
        "outputId": "4bdea4d4-0cd3-464e-c886-11f98e4c06c1"
      },
      "execution_count": 2,
      "outputs": [
        {
          "output_type": "stream",
          "name": "stdout",
          "text": [
            "Looking in indexes: https://pypi.org/simple, https://us-python.pkg.dev/colab-wheels/public/simple/\n",
            "Requirement already satisfied: dmba in /usr/local/lib/python3.7/dist-packages (0.1.0)\n"
          ]
        }
      ]
    },
    {
      "cell_type": "code",
      "execution_count": 119,
      "metadata": {
        "id": "orvlqQMMwWiv"
      },
      "outputs": [],
      "source": [
        "# # Import required packages for this chapter\n",
        "\n",
        "# EDA and Preprep\n",
        "from sklearn import preprocessing\n",
        "from sklearn.model_selection import train_test_split, GridSearchCV\n",
        "import pandas as pd\n",
        "import matplotlib.pylab as plt\n",
        "import numpy as np\n",
        "\n",
        "# Classification Model Libraries\n",
        "from sklearn.linear_model import LogisticRegressionCV # lr or Logistic Regression\n",
        "from sklearn.ensemble import BaggingClassifier # bc or Bagging Classifier\n",
        "from sklearn.ensemble import AdaBoostClassifier # abc or Ada Boost Classifier\n",
        "from sklearn.ensemble import RandomForestClassifier # rf or Random Forest Classifier\n",
        "from sklearn.discriminant_analysis import LinearDiscriminantAnalysis # lda or Linear Discriminant Analysis\n",
        "from sklearn.neural_network import MLPClassifier # nn or Neural Nets\n",
        "#from sklearn.neighbors import KNeighborsClassifier\n",
        "\n",
        "# Book Helper Functions\n",
        "from dmba import plotDecisionTree, gainsChart, liftChart, classificationSummary, regressionSummary\n",
        "from dmba.metric import AIC_score\n",
        "\n",
        "# Inline Plot Formating\n",
        "%matplotlib inline"
      ]
    },
    {
      "cell_type": "code",
      "source": [
        "# Export Data From Colab to Laptop.\n",
        "# from google.colab import files\n",
        "# scoreAnalysis.to_csv('filename.csv') \n",
        "# files.download('filename.csv')"
      ],
      "metadata": {
        "id": "AxJkNjMd28yz"
      },
      "execution_count": 4,
      "outputs": []
    },
    {
      "cell_type": "markdown",
      "source": [
        "## Question 1\n",
        "**Data preparation:** Load the data and prepare it for predictive analysis."
      ],
      "metadata": {
        "id": "rJeJbMt22SsS"
      }
    },
    {
      "cell_type": "code",
      "source": [
        "# Dataset Sources\n",
        "Fundraising = 'https://raw.githubusercontent.com/zachfreitas/ADS_505_Applied_Data_Sci_for_Business-/main/Module_4/Assignment_4/Fundraising.csv'\n",
        "FutureFundraising = 'https://raw.githubusercontent.com/zachfreitas/ADS_505_Applied_Data_Sci_for_Business-/main/Module_4/Assignment_4/FutureFundraising.csv'"
      ],
      "metadata": {
        "id": "0V33Oso5wzJa"
      },
      "execution_count": 5,
      "outputs": []
    },
    {
      "cell_type": "code",
      "source": [
        "df = pd.read_csv(Fundraising)\n",
        "df.head()"
      ],
      "metadata": {
        "id": "y-aUudr41B9M",
        "outputId": "541fb397-4abe-4a3e-e3a2-490d1a8dd256",
        "colab": {
          "base_uri": "https://localhost:8080/",
          "height": 317
        }
      },
      "execution_count": 6,
      "outputs": [
        {
          "output_type": "execute_result",
          "data": {
            "text/plain": [
              "   Row Id  Row Id.  zipconvert_2  zipconvert_3  zipconvert_4  zipconvert_5  \\\n",
              "0       1       17             0             1             0             0   \n",
              "1       2       25             1             0             0             0   \n",
              "2       3       29             0             0             0             1   \n",
              "3       4       38             0             0             0             1   \n",
              "4       5       40             0             1             0             0   \n",
              "\n",
              "   homeowner dummy  NUMCHLD  INCOME  gender dummy  ...  IC15  NUMPROM  \\\n",
              "0                1        1       5             1  ...     1       74   \n",
              "1                1        1       1             0  ...     4       46   \n",
              "2                0        2       5             1  ...    13       32   \n",
              "3                1        1       3             0  ...     4       94   \n",
              "4                1        1       4             0  ...     7       20   \n",
              "\n",
              "   RAMNTALL  MAXRAMNT  LASTGIFT  totalmonths  TIMELAG   AVGGIFT  TARGET_B  \\\n",
              "0     102.0       6.0       5.0           29        3  4.857143         1   \n",
              "1      94.0      12.0      12.0           34        6  9.400000         1   \n",
              "2      30.0      10.0       5.0           29        7  4.285714         1   \n",
              "3     177.0      10.0       8.0           30        3  7.080000         0   \n",
              "4      23.0      11.0      11.0           30        6  7.666667         0   \n",
              "\n",
              "   TARGET_D  \n",
              "0       5.0  \n",
              "1      10.0  \n",
              "2       5.0  \n",
              "3       0.0  \n",
              "4       0.0  \n",
              "\n",
              "[5 rows x 24 columns]"
            ],
            "text/html": [
              "\n",
              "  <div id=\"df-39a96f10-e23a-48e3-aa84-89f03453ad54\">\n",
              "    <div class=\"colab-df-container\">\n",
              "      <div>\n",
              "<style scoped>\n",
              "    .dataframe tbody tr th:only-of-type {\n",
              "        vertical-align: middle;\n",
              "    }\n",
              "\n",
              "    .dataframe tbody tr th {\n",
              "        vertical-align: top;\n",
              "    }\n",
              "\n",
              "    .dataframe thead th {\n",
              "        text-align: right;\n",
              "    }\n",
              "</style>\n",
              "<table border=\"1\" class=\"dataframe\">\n",
              "  <thead>\n",
              "    <tr style=\"text-align: right;\">\n",
              "      <th></th>\n",
              "      <th>Row Id</th>\n",
              "      <th>Row Id.</th>\n",
              "      <th>zipconvert_2</th>\n",
              "      <th>zipconvert_3</th>\n",
              "      <th>zipconvert_4</th>\n",
              "      <th>zipconvert_5</th>\n",
              "      <th>homeowner dummy</th>\n",
              "      <th>NUMCHLD</th>\n",
              "      <th>INCOME</th>\n",
              "      <th>gender dummy</th>\n",
              "      <th>...</th>\n",
              "      <th>IC15</th>\n",
              "      <th>NUMPROM</th>\n",
              "      <th>RAMNTALL</th>\n",
              "      <th>MAXRAMNT</th>\n",
              "      <th>LASTGIFT</th>\n",
              "      <th>totalmonths</th>\n",
              "      <th>TIMELAG</th>\n",
              "      <th>AVGGIFT</th>\n",
              "      <th>TARGET_B</th>\n",
              "      <th>TARGET_D</th>\n",
              "    </tr>\n",
              "  </thead>\n",
              "  <tbody>\n",
              "    <tr>\n",
              "      <th>0</th>\n",
              "      <td>1</td>\n",
              "      <td>17</td>\n",
              "      <td>0</td>\n",
              "      <td>1</td>\n",
              "      <td>0</td>\n",
              "      <td>0</td>\n",
              "      <td>1</td>\n",
              "      <td>1</td>\n",
              "      <td>5</td>\n",
              "      <td>1</td>\n",
              "      <td>...</td>\n",
              "      <td>1</td>\n",
              "      <td>74</td>\n",
              "      <td>102.0</td>\n",
              "      <td>6.0</td>\n",
              "      <td>5.0</td>\n",
              "      <td>29</td>\n",
              "      <td>3</td>\n",
              "      <td>4.857143</td>\n",
              "      <td>1</td>\n",
              "      <td>5.0</td>\n",
              "    </tr>\n",
              "    <tr>\n",
              "      <th>1</th>\n",
              "      <td>2</td>\n",
              "      <td>25</td>\n",
              "      <td>1</td>\n",
              "      <td>0</td>\n",
              "      <td>0</td>\n",
              "      <td>0</td>\n",
              "      <td>1</td>\n",
              "      <td>1</td>\n",
              "      <td>1</td>\n",
              "      <td>0</td>\n",
              "      <td>...</td>\n",
              "      <td>4</td>\n",
              "      <td>46</td>\n",
              "      <td>94.0</td>\n",
              "      <td>12.0</td>\n",
              "      <td>12.0</td>\n",
              "      <td>34</td>\n",
              "      <td>6</td>\n",
              "      <td>9.400000</td>\n",
              "      <td>1</td>\n",
              "      <td>10.0</td>\n",
              "    </tr>\n",
              "    <tr>\n",
              "      <th>2</th>\n",
              "      <td>3</td>\n",
              "      <td>29</td>\n",
              "      <td>0</td>\n",
              "      <td>0</td>\n",
              "      <td>0</td>\n",
              "      <td>1</td>\n",
              "      <td>0</td>\n",
              "      <td>2</td>\n",
              "      <td>5</td>\n",
              "      <td>1</td>\n",
              "      <td>...</td>\n",
              "      <td>13</td>\n",
              "      <td>32</td>\n",
              "      <td>30.0</td>\n",
              "      <td>10.0</td>\n",
              "      <td>5.0</td>\n",
              "      <td>29</td>\n",
              "      <td>7</td>\n",
              "      <td>4.285714</td>\n",
              "      <td>1</td>\n",
              "      <td>5.0</td>\n",
              "    </tr>\n",
              "    <tr>\n",
              "      <th>3</th>\n",
              "      <td>4</td>\n",
              "      <td>38</td>\n",
              "      <td>0</td>\n",
              "      <td>0</td>\n",
              "      <td>0</td>\n",
              "      <td>1</td>\n",
              "      <td>1</td>\n",
              "      <td>1</td>\n",
              "      <td>3</td>\n",
              "      <td>0</td>\n",
              "      <td>...</td>\n",
              "      <td>4</td>\n",
              "      <td>94</td>\n",
              "      <td>177.0</td>\n",
              "      <td>10.0</td>\n",
              "      <td>8.0</td>\n",
              "      <td>30</td>\n",
              "      <td>3</td>\n",
              "      <td>7.080000</td>\n",
              "      <td>0</td>\n",
              "      <td>0.0</td>\n",
              "    </tr>\n",
              "    <tr>\n",
              "      <th>4</th>\n",
              "      <td>5</td>\n",
              "      <td>40</td>\n",
              "      <td>0</td>\n",
              "      <td>1</td>\n",
              "      <td>0</td>\n",
              "      <td>0</td>\n",
              "      <td>1</td>\n",
              "      <td>1</td>\n",
              "      <td>4</td>\n",
              "      <td>0</td>\n",
              "      <td>...</td>\n",
              "      <td>7</td>\n",
              "      <td>20</td>\n",
              "      <td>23.0</td>\n",
              "      <td>11.0</td>\n",
              "      <td>11.0</td>\n",
              "      <td>30</td>\n",
              "      <td>6</td>\n",
              "      <td>7.666667</td>\n",
              "      <td>0</td>\n",
              "      <td>0.0</td>\n",
              "    </tr>\n",
              "  </tbody>\n",
              "</table>\n",
              "<p>5 rows × 24 columns</p>\n",
              "</div>\n",
              "      <button class=\"colab-df-convert\" onclick=\"convertToInteractive('df-39a96f10-e23a-48e3-aa84-89f03453ad54')\"\n",
              "              title=\"Convert this dataframe to an interactive table.\"\n",
              "              style=\"display:none;\">\n",
              "        \n",
              "  <svg xmlns=\"http://www.w3.org/2000/svg\" height=\"24px\"viewBox=\"0 0 24 24\"\n",
              "       width=\"24px\">\n",
              "    <path d=\"M0 0h24v24H0V0z\" fill=\"none\"/>\n",
              "    <path d=\"M18.56 5.44l.94 2.06.94-2.06 2.06-.94-2.06-.94-.94-2.06-.94 2.06-2.06.94zm-11 1L8.5 8.5l.94-2.06 2.06-.94-2.06-.94L8.5 2.5l-.94 2.06-2.06.94zm10 10l.94 2.06.94-2.06 2.06-.94-2.06-.94-.94-2.06-.94 2.06-2.06.94z\"/><path d=\"M17.41 7.96l-1.37-1.37c-.4-.4-.92-.59-1.43-.59-.52 0-1.04.2-1.43.59L10.3 9.45l-7.72 7.72c-.78.78-.78 2.05 0 2.83L4 21.41c.39.39.9.59 1.41.59.51 0 1.02-.2 1.41-.59l7.78-7.78 2.81-2.81c.8-.78.8-2.07 0-2.86zM5.41 20L4 18.59l7.72-7.72 1.47 1.35L5.41 20z\"/>\n",
              "  </svg>\n",
              "      </button>\n",
              "      \n",
              "  <style>\n",
              "    .colab-df-container {\n",
              "      display:flex;\n",
              "      flex-wrap:wrap;\n",
              "      gap: 12px;\n",
              "    }\n",
              "\n",
              "    .colab-df-convert {\n",
              "      background-color: #E8F0FE;\n",
              "      border: none;\n",
              "      border-radius: 50%;\n",
              "      cursor: pointer;\n",
              "      display: none;\n",
              "      fill: #1967D2;\n",
              "      height: 32px;\n",
              "      padding: 0 0 0 0;\n",
              "      width: 32px;\n",
              "    }\n",
              "\n",
              "    .colab-df-convert:hover {\n",
              "      background-color: #E2EBFA;\n",
              "      box-shadow: 0px 1px 2px rgba(60, 64, 67, 0.3), 0px 1px 3px 1px rgba(60, 64, 67, 0.15);\n",
              "      fill: #174EA6;\n",
              "    }\n",
              "\n",
              "    [theme=dark] .colab-df-convert {\n",
              "      background-color: #3B4455;\n",
              "      fill: #D2E3FC;\n",
              "    }\n",
              "\n",
              "    [theme=dark] .colab-df-convert:hover {\n",
              "      background-color: #434B5C;\n",
              "      box-shadow: 0px 1px 3px 1px rgba(0, 0, 0, 0.15);\n",
              "      filter: drop-shadow(0px 1px 2px rgba(0, 0, 0, 0.3));\n",
              "      fill: #FFFFFF;\n",
              "    }\n",
              "  </style>\n",
              "\n",
              "      <script>\n",
              "        const buttonEl =\n",
              "          document.querySelector('#df-39a96f10-e23a-48e3-aa84-89f03453ad54 button.colab-df-convert');\n",
              "        buttonEl.style.display =\n",
              "          google.colab.kernel.accessAllowed ? 'block' : 'none';\n",
              "\n",
              "        async function convertToInteractive(key) {\n",
              "          const element = document.querySelector('#df-39a96f10-e23a-48e3-aa84-89f03453ad54');\n",
              "          const dataTable =\n",
              "            await google.colab.kernel.invokeFunction('convertToInteractive',\n",
              "                                                     [key], {});\n",
              "          if (!dataTable) return;\n",
              "\n",
              "          const docLinkHtml = 'Like what you see? Visit the ' +\n",
              "            '<a target=\"_blank\" href=https://colab.research.google.com/notebooks/data_table.ipynb>data table notebook</a>'\n",
              "            + ' to learn more about interactive tables.';\n",
              "          element.innerHTML = '';\n",
              "          dataTable['output_type'] = 'display_data';\n",
              "          await google.colab.output.renderOutput(dataTable, element);\n",
              "          const docLink = document.createElement('div');\n",
              "          docLink.innerHTML = docLinkHtml;\n",
              "          element.appendChild(docLink);\n",
              "        }\n",
              "      </script>\n",
              "    </div>\n",
              "  </div>\n",
              "  "
            ]
          },
          "metadata": {},
          "execution_count": 6
        }
      ]
    },
    {
      "cell_type": "code",
      "source": [
        "df_copy = df.copy()\n",
        "\n",
        "df_copy.columns = [d.replace(' ', '_').replace('.', '') for d in df_copy.columns]\n",
        "df_copy = df_copy.iloc[: , 2:]\n",
        "# df_copy = df_copy.drop('TARGET_D', axis=1)\n",
        "df_copy.head()"
      ],
      "metadata": {
        "id": "5ZQ8APGO1CHK",
        "outputId": "4fe8713f-7119-45ff-91ce-22fb3d319fc2",
        "colab": {
          "base_uri": "https://localhost:8080/",
          "height": 300
        }
      },
      "execution_count": 7,
      "outputs": [
        {
          "output_type": "execute_result",
          "data": {
            "text/plain": [
              "   zipconvert_2  zipconvert_3  zipconvert_4  zipconvert_5  homeowner_dummy  \\\n",
              "0             0             1             0             0                1   \n",
              "1             1             0             0             0                1   \n",
              "2             0             0             0             1                0   \n",
              "3             0             0             0             1                1   \n",
              "4             0             1             0             0                1   \n",
              "\n",
              "   NUMCHLD  INCOME  gender_dummy  WEALTH    HV  ...  IC15  NUMPROM  RAMNTALL  \\\n",
              "0        1       5             1       9  1399  ...     1       74     102.0   \n",
              "1        1       1             0       7   698  ...     4       46      94.0   \n",
              "2        2       5             1       8   828  ...    13       32      30.0   \n",
              "3        1       3             0       4  1471  ...     4       94     177.0   \n",
              "4        1       4             0       8   547  ...     7       20      23.0   \n",
              "\n",
              "   MAXRAMNT  LASTGIFT  totalmonths  TIMELAG   AVGGIFT  TARGET_B  TARGET_D  \n",
              "0       6.0       5.0           29        3  4.857143         1       5.0  \n",
              "1      12.0      12.0           34        6  9.400000         1      10.0  \n",
              "2      10.0       5.0           29        7  4.285714         1       5.0  \n",
              "3      10.0       8.0           30        3  7.080000         0       0.0  \n",
              "4      11.0      11.0           30        6  7.666667         0       0.0  \n",
              "\n",
              "[5 rows x 22 columns]"
            ],
            "text/html": [
              "\n",
              "  <div id=\"df-9bd4c099-c16d-4c41-9644-8756c7e29ec0\">\n",
              "    <div class=\"colab-df-container\">\n",
              "      <div>\n",
              "<style scoped>\n",
              "    .dataframe tbody tr th:only-of-type {\n",
              "        vertical-align: middle;\n",
              "    }\n",
              "\n",
              "    .dataframe tbody tr th {\n",
              "        vertical-align: top;\n",
              "    }\n",
              "\n",
              "    .dataframe thead th {\n",
              "        text-align: right;\n",
              "    }\n",
              "</style>\n",
              "<table border=\"1\" class=\"dataframe\">\n",
              "  <thead>\n",
              "    <tr style=\"text-align: right;\">\n",
              "      <th></th>\n",
              "      <th>zipconvert_2</th>\n",
              "      <th>zipconvert_3</th>\n",
              "      <th>zipconvert_4</th>\n",
              "      <th>zipconvert_5</th>\n",
              "      <th>homeowner_dummy</th>\n",
              "      <th>NUMCHLD</th>\n",
              "      <th>INCOME</th>\n",
              "      <th>gender_dummy</th>\n",
              "      <th>WEALTH</th>\n",
              "      <th>HV</th>\n",
              "      <th>...</th>\n",
              "      <th>IC15</th>\n",
              "      <th>NUMPROM</th>\n",
              "      <th>RAMNTALL</th>\n",
              "      <th>MAXRAMNT</th>\n",
              "      <th>LASTGIFT</th>\n",
              "      <th>totalmonths</th>\n",
              "      <th>TIMELAG</th>\n",
              "      <th>AVGGIFT</th>\n",
              "      <th>TARGET_B</th>\n",
              "      <th>TARGET_D</th>\n",
              "    </tr>\n",
              "  </thead>\n",
              "  <tbody>\n",
              "    <tr>\n",
              "      <th>0</th>\n",
              "      <td>0</td>\n",
              "      <td>1</td>\n",
              "      <td>0</td>\n",
              "      <td>0</td>\n",
              "      <td>1</td>\n",
              "      <td>1</td>\n",
              "      <td>5</td>\n",
              "      <td>1</td>\n",
              "      <td>9</td>\n",
              "      <td>1399</td>\n",
              "      <td>...</td>\n",
              "      <td>1</td>\n",
              "      <td>74</td>\n",
              "      <td>102.0</td>\n",
              "      <td>6.0</td>\n",
              "      <td>5.0</td>\n",
              "      <td>29</td>\n",
              "      <td>3</td>\n",
              "      <td>4.857143</td>\n",
              "      <td>1</td>\n",
              "      <td>5.0</td>\n",
              "    </tr>\n",
              "    <tr>\n",
              "      <th>1</th>\n",
              "      <td>1</td>\n",
              "      <td>0</td>\n",
              "      <td>0</td>\n",
              "      <td>0</td>\n",
              "      <td>1</td>\n",
              "      <td>1</td>\n",
              "      <td>1</td>\n",
              "      <td>0</td>\n",
              "      <td>7</td>\n",
              "      <td>698</td>\n",
              "      <td>...</td>\n",
              "      <td>4</td>\n",
              "      <td>46</td>\n",
              "      <td>94.0</td>\n",
              "      <td>12.0</td>\n",
              "      <td>12.0</td>\n",
              "      <td>34</td>\n",
              "      <td>6</td>\n",
              "      <td>9.400000</td>\n",
              "      <td>1</td>\n",
              "      <td>10.0</td>\n",
              "    </tr>\n",
              "    <tr>\n",
              "      <th>2</th>\n",
              "      <td>0</td>\n",
              "      <td>0</td>\n",
              "      <td>0</td>\n",
              "      <td>1</td>\n",
              "      <td>0</td>\n",
              "      <td>2</td>\n",
              "      <td>5</td>\n",
              "      <td>1</td>\n",
              "      <td>8</td>\n",
              "      <td>828</td>\n",
              "      <td>...</td>\n",
              "      <td>13</td>\n",
              "      <td>32</td>\n",
              "      <td>30.0</td>\n",
              "      <td>10.0</td>\n",
              "      <td>5.0</td>\n",
              "      <td>29</td>\n",
              "      <td>7</td>\n",
              "      <td>4.285714</td>\n",
              "      <td>1</td>\n",
              "      <td>5.0</td>\n",
              "    </tr>\n",
              "    <tr>\n",
              "      <th>3</th>\n",
              "      <td>0</td>\n",
              "      <td>0</td>\n",
              "      <td>0</td>\n",
              "      <td>1</td>\n",
              "      <td>1</td>\n",
              "      <td>1</td>\n",
              "      <td>3</td>\n",
              "      <td>0</td>\n",
              "      <td>4</td>\n",
              "      <td>1471</td>\n",
              "      <td>...</td>\n",
              "      <td>4</td>\n",
              "      <td>94</td>\n",
              "      <td>177.0</td>\n",
              "      <td>10.0</td>\n",
              "      <td>8.0</td>\n",
              "      <td>30</td>\n",
              "      <td>3</td>\n",
              "      <td>7.080000</td>\n",
              "      <td>0</td>\n",
              "      <td>0.0</td>\n",
              "    </tr>\n",
              "    <tr>\n",
              "      <th>4</th>\n",
              "      <td>0</td>\n",
              "      <td>1</td>\n",
              "      <td>0</td>\n",
              "      <td>0</td>\n",
              "      <td>1</td>\n",
              "      <td>1</td>\n",
              "      <td>4</td>\n",
              "      <td>0</td>\n",
              "      <td>8</td>\n",
              "      <td>547</td>\n",
              "      <td>...</td>\n",
              "      <td>7</td>\n",
              "      <td>20</td>\n",
              "      <td>23.0</td>\n",
              "      <td>11.0</td>\n",
              "      <td>11.0</td>\n",
              "      <td>30</td>\n",
              "      <td>6</td>\n",
              "      <td>7.666667</td>\n",
              "      <td>0</td>\n",
              "      <td>0.0</td>\n",
              "    </tr>\n",
              "  </tbody>\n",
              "</table>\n",
              "<p>5 rows × 22 columns</p>\n",
              "</div>\n",
              "      <button class=\"colab-df-convert\" onclick=\"convertToInteractive('df-9bd4c099-c16d-4c41-9644-8756c7e29ec0')\"\n",
              "              title=\"Convert this dataframe to an interactive table.\"\n",
              "              style=\"display:none;\">\n",
              "        \n",
              "  <svg xmlns=\"http://www.w3.org/2000/svg\" height=\"24px\"viewBox=\"0 0 24 24\"\n",
              "       width=\"24px\">\n",
              "    <path d=\"M0 0h24v24H0V0z\" fill=\"none\"/>\n",
              "    <path d=\"M18.56 5.44l.94 2.06.94-2.06 2.06-.94-2.06-.94-.94-2.06-.94 2.06-2.06.94zm-11 1L8.5 8.5l.94-2.06 2.06-.94-2.06-.94L8.5 2.5l-.94 2.06-2.06.94zm10 10l.94 2.06.94-2.06 2.06-.94-2.06-.94-.94-2.06-.94 2.06-2.06.94z\"/><path d=\"M17.41 7.96l-1.37-1.37c-.4-.4-.92-.59-1.43-.59-.52 0-1.04.2-1.43.59L10.3 9.45l-7.72 7.72c-.78.78-.78 2.05 0 2.83L4 21.41c.39.39.9.59 1.41.59.51 0 1.02-.2 1.41-.59l7.78-7.78 2.81-2.81c.8-.78.8-2.07 0-2.86zM5.41 20L4 18.59l7.72-7.72 1.47 1.35L5.41 20z\"/>\n",
              "  </svg>\n",
              "      </button>\n",
              "      \n",
              "  <style>\n",
              "    .colab-df-container {\n",
              "      display:flex;\n",
              "      flex-wrap:wrap;\n",
              "      gap: 12px;\n",
              "    }\n",
              "\n",
              "    .colab-df-convert {\n",
              "      background-color: #E8F0FE;\n",
              "      border: none;\n",
              "      border-radius: 50%;\n",
              "      cursor: pointer;\n",
              "      display: none;\n",
              "      fill: #1967D2;\n",
              "      height: 32px;\n",
              "      padding: 0 0 0 0;\n",
              "      width: 32px;\n",
              "    }\n",
              "\n",
              "    .colab-df-convert:hover {\n",
              "      background-color: #E2EBFA;\n",
              "      box-shadow: 0px 1px 2px rgba(60, 64, 67, 0.3), 0px 1px 3px 1px rgba(60, 64, 67, 0.15);\n",
              "      fill: #174EA6;\n",
              "    }\n",
              "\n",
              "    [theme=dark] .colab-df-convert {\n",
              "      background-color: #3B4455;\n",
              "      fill: #D2E3FC;\n",
              "    }\n",
              "\n",
              "    [theme=dark] .colab-df-convert:hover {\n",
              "      background-color: #434B5C;\n",
              "      box-shadow: 0px 1px 3px 1px rgba(0, 0, 0, 0.15);\n",
              "      filter: drop-shadow(0px 1px 2px rgba(0, 0, 0, 0.3));\n",
              "      fill: #FFFFFF;\n",
              "    }\n",
              "  </style>\n",
              "\n",
              "      <script>\n",
              "        const buttonEl =\n",
              "          document.querySelector('#df-9bd4c099-c16d-4c41-9644-8756c7e29ec0 button.colab-df-convert');\n",
              "        buttonEl.style.display =\n",
              "          google.colab.kernel.accessAllowed ? 'block' : 'none';\n",
              "\n",
              "        async function convertToInteractive(key) {\n",
              "          const element = document.querySelector('#df-9bd4c099-c16d-4c41-9644-8756c7e29ec0');\n",
              "          const dataTable =\n",
              "            await google.colab.kernel.invokeFunction('convertToInteractive',\n",
              "                                                     [key], {});\n",
              "          if (!dataTable) return;\n",
              "\n",
              "          const docLinkHtml = 'Like what you see? Visit the ' +\n",
              "            '<a target=\"_blank\" href=https://colab.research.google.com/notebooks/data_table.ipynb>data table notebook</a>'\n",
              "            + ' to learn more about interactive tables.';\n",
              "          element.innerHTML = '';\n",
              "          dataTable['output_type'] = 'display_data';\n",
              "          await google.colab.output.renderOutput(dataTable, element);\n",
              "          const docLink = document.createElement('div');\n",
              "          docLink.innerHTML = docLinkHtml;\n",
              "          element.appendChild(docLink);\n",
              "        }\n",
              "      </script>\n",
              "    </div>\n",
              "  </div>\n",
              "  "
            ]
          },
          "metadata": {},
          "execution_count": 7
        }
      ]
    },
    {
      "cell_type": "code",
      "source": [
        "# separate target and predictors\n",
        "y = df_copy['TARGET_B'].to_numpy()\n",
        "X = df_copy.drop(['TARGET_B', 'TARGET_D'], axis=1)\n",
        "\n",
        "# Standardize the dataset\n",
        "scaler = preprocessing.StandardScaler()\n",
        "scaler.fit(X * 1.0)"
      ],
      "metadata": {
        "id": "_X8sSkUx3Avx",
        "outputId": "65799dfb-9c14-48a2-c53d-2afc38893f17",
        "colab": {
          "base_uri": "https://localhost:8080/"
        }
      },
      "execution_count": 8,
      "outputs": [
        {
          "output_type": "execute_result",
          "data": {
            "text/plain": [
              "StandardScaler()"
            ]
          },
          "metadata": {},
          "execution_count": 8
        }
      ]
    },
    {
      "cell_type": "markdown",
      "source": [
        "### Question 1.1 \n",
        "Partition the dataset into 60% training and 40% validation (set the seed to 12345). (4 Points)"
      ],
      "metadata": {
        "id": "ymW60JhjxvSz"
      }
    },
    {
      "cell_type": "code",
      "source": [
        "X_train, X_test, y_train, y_test = train_test_split(X, y, test_size=0.4, random_state=12345)\n",
        "\n",
        "# Normalize the data\n",
        "X_train_norm = scaler.transform(X_train)\n",
        "X_test_norm = scaler.transform(X_test)"
      ],
      "metadata": {
        "id": "46QEfuzn28kL"
      },
      "execution_count": 9,
      "outputs": []
    },
    {
      "cell_type": "markdown",
      "source": [
        "---\n",
        "**Answer:** <br>\n",
        "Test/Train split code above.\n",
        "---"
      ],
      "metadata": {
        "id": "FFwUoJmnyBOi"
      }
    },
    {
      "cell_type": "markdown",
      "source": [
        "## Question 2\n",
        "**Model Building:** Follow the following steps to build, evaluate, and choose a model.\n",
        "\n",
        "### Question 2.1\n",
        "Select classification tool and parameters: Run at least two classification models of your choosing. Be sure NOT to use TARGET_D in your analysis. Describe the two models that you chose, with sufficient detail (method, parameters, variables, etc.) so that it can be replicated. (10 Points)\n"
      ],
      "metadata": {
        "id": "pDAfZa4ByaVw"
      }
    },
    {
      "cell_type": "code",
      "source": [
        "# Helper Functions:\n",
        "def confusionMatrices(model, title):\n",
        "  print('\\n'+'-'*20)\n",
        "  print(title + ' - training results\\n')\n",
        "  classificationSummary(y_train, model.predict(X_train_norm))\n",
        "  print('\\n'+'-'*20)\n",
        "  print(title + ' - validation results\\n')\n",
        "  valid_pred = model.predict(X_test_norm)\n",
        "  classificationSummary(y_test, valid_pred)\n",
        "\n",
        "\n",
        "def pred_results(model):\n",
        "  model_proba = model.predict_proba(X_test_norm)\n",
        "  pred_results = pd.DataFrame({'actual': y_test.astype(\"int64\"), \n",
        "                            'p(0)': [p[0] for p in model_proba],\n",
        "                            'p(1)': [p[1] for p in model_proba],\n",
        "                            'predicted': model.predict(X_test_norm)\n",
        "                          })\n",
        "  pred_results = pred_results.sort_values(by=['p(1)'], ascending=False)\n",
        "  return pred_results"
      ],
      "metadata": {
        "id": "gcEd7OO6qGiq"
      },
      "execution_count": 140,
      "outputs": []
    },
    {
      "cell_type": "code",
      "source": [
        "# Logistic Regression Model\n",
        "lr = LogisticRegressionCV(penalty='l1', solver='saga', cv=5, max_iter=5000)\n",
        "lr.fit(X_train_norm, y_train)\n",
        "confusionMatrices(lr, 'Logistic Regression')\n",
        "lr_result = pred_results(lr)\n",
        "pred = lr.predict(X_test_norm)\n",
        "print('\\nAIC', AIC_score(y_test, pred, df=len(X.columns) + 1), '\\n')"
      ],
      "metadata": {
        "colab": {
          "base_uri": "https://localhost:8080/"
        },
        "id": "wslvfQDSpx6I",
        "outputId": "c89acbaf-32d7-42ba-92cb-d60d3427ebc8"
      },
      "execution_count": 141,
      "outputs": [
        {
          "output_type": "stream",
          "name": "stdout",
          "text": [
            "\n",
            "--------------------\n",
            "Logistic Regression - training results\n",
            "\n",
            "Confusion Matrix (Accuracy 0.5668)\n",
            "\n",
            "       Prediction\n",
            "Actual   0   1\n",
            "     0 475 447\n",
            "     1 364 586\n",
            "\n",
            "--------------------\n",
            "Logistic Regression - validation results\n",
            "\n",
            "Confusion Matrix (Accuracy 0.5737)\n",
            "\n",
            "       Prediction\n",
            "Actual   0   1\n",
            "     0 349 289\n",
            "     1 243 367\n",
            "\n",
            "AIC 2521.558312513378 \n",
            "\n"
          ]
        }
      ]
    },
    {
      "cell_type": "code",
      "source": [
        "# Bagging Classifier Model\n",
        "bc = BaggingClassifier()\n",
        "bc.fit(X_train_norm, y_train)\n",
        "confusionMatrices(bc, 'Bagging Classifier')\n",
        "bc_result = pred_results(bc)\n",
        "pred = bc.predict(X_test_norm)\n",
        "print('\\nAIC', AIC_score(y_test, pred, df=len(X.columns) + 1), '\\n')"
      ],
      "metadata": {
        "colab": {
          "base_uri": "https://localhost:8080/"
        },
        "id": "-5NnLBC4sj6H",
        "outputId": "06cf4fb6-ac71-44c6-f9ac-5341a5a430b1"
      },
      "execution_count": 149,
      "outputs": [
        {
          "output_type": "stream",
          "name": "stdout",
          "text": [
            "\n",
            "--------------------\n",
            "Bagging Classifier - training results\n",
            "\n",
            "Confusion Matrix (Accuracy 0.9840)\n",
            "\n",
            "       Prediction\n",
            "Actual   0   1\n",
            "     0 919   3\n",
            "     1  27 923\n",
            "\n",
            "--------------------\n",
            "Bagging Classifier - validation results\n",
            "\n",
            "Confusion Matrix (Accuracy 0.5369)\n",
            "\n",
            "       Prediction\n",
            "Actual   0   1\n",
            "     0 413 225\n",
            "     1 353 257\n",
            "\n",
            "AIC 2625.0554259181326 \n",
            "\n"
          ]
        }
      ]
    },
    {
      "cell_type": "code",
      "source": [
        "# AdaBoost Classifier Model\n",
        "ada = AdaBoostClassifier()\n",
        "ada.fit(X_train_norm, y_train)\n",
        "confusionMatrices(ada, 'AdaBoost Classifier')\n",
        "ada_result = pred_results(ada)\n",
        "pred = ada.predict(X_test_norm)\n",
        "print('\\nAIC', AIC_score(y_test, pred, df=len(X.columns) + 1), '\\n')"
      ],
      "metadata": {
        "colab": {
          "base_uri": "https://localhost:8080/"
        },
        "id": "Hvjx7Opbs8ZV",
        "outputId": "6698012c-f019-4a72-890a-77a25a672277"
      },
      "execution_count": 150,
      "outputs": [
        {
          "output_type": "stream",
          "name": "stdout",
          "text": [
            "\n",
            "--------------------\n",
            "AdaBoost Classifier - training results\n",
            "\n",
            "Confusion Matrix (Accuracy 0.6282)\n",
            "\n",
            "       Prediction\n",
            "Actual   0   1\n",
            "     0 595 327\n",
            "     1 369 581\n",
            "\n",
            "--------------------\n",
            "AdaBoost Classifier - validation results\n",
            "\n",
            "Confusion Matrix (Accuracy 0.5569)\n",
            "\n",
            "       Prediction\n",
            "Actual   0   1\n",
            "     0 377 261\n",
            "     1 292 318\n",
            "\n",
            "AIC 2569.8740237148795 \n",
            "\n"
          ]
        }
      ]
    },
    {
      "cell_type": "code",
      "source": [
        "# Random Forest Model\n",
        "rf = RandomForestClassifier(n_estimators=100)\n",
        "rf.fit(X_train_norm, y_train)\n",
        "confusionMatrices(rf, 'Random Forest')\n",
        "rf_result = pred_results(rf)\n",
        "pred = rf.predict(X_test_norm)\n",
        "print('\\nAIC', AIC_score(y_test, pred, df=len(X.columns) + 1), '\\n')"
      ],
      "metadata": {
        "id": "2xMiSZvkDsSP",
        "outputId": "4d79a1a1-aebd-42e7-afd4-018ad372a799",
        "colab": {
          "base_uri": "https://localhost:8080/"
        }
      },
      "execution_count": 151,
      "outputs": [
        {
          "output_type": "stream",
          "name": "stdout",
          "text": [
            "\n",
            "--------------------\n",
            "Random Forest - training results\n",
            "\n",
            "Confusion Matrix (Accuracy 1.0000)\n",
            "\n",
            "       Prediction\n",
            "Actual   0   1\n",
            "     0 922   0\n",
            "     1   0 950\n",
            "\n",
            "--------------------\n",
            "Random Forest - validation results\n",
            "\n",
            "Confusion Matrix (Accuracy 0.5385)\n",
            "\n",
            "       Prediction\n",
            "Actual   0   1\n",
            "     0 351 287\n",
            "     1 289 321\n",
            "\n",
            "AIC 2620.729598363478 \n",
            "\n"
          ]
        }
      ]
    },
    {
      "cell_type": "code",
      "source": [
        "# Linear Discriminant Analysis Model\n",
        "lda =LinearDiscriminantAnalysis()\n",
        "lda.fit(X_train_norm, y_train)\n",
        "confusionMatrices(lda, 'Linear Discriminant Analysis')\n",
        "lda_result = pred_results(lda)\n",
        "pred = lda.predict(X_test_norm)\n",
        "print('\\nAIC', AIC_score(y_test, pred, df=len(X.columns) + 1), '\\n')"
      ],
      "metadata": {
        "id": "mMis794iEAah",
        "outputId": "605018ce-8511-449b-cedf-6d476c58a8e2",
        "colab": {
          "base_uri": "https://localhost:8080/"
        }
      },
      "execution_count": 152,
      "outputs": [
        {
          "output_type": "stream",
          "name": "stdout",
          "text": [
            "\n",
            "--------------------\n",
            "Linear Discriminant Analysis - training results\n",
            "\n",
            "Confusion Matrix (Accuracy 0.5652)\n",
            "\n",
            "       Prediction\n",
            "Actual   0   1\n",
            "     0 477 445\n",
            "     1 369 581\n",
            "\n",
            "--------------------\n",
            "Linear Discriminant Analysis - validation results\n",
            "\n",
            "Confusion Matrix (Accuracy 0.5753)\n",
            "\n",
            "       Prediction\n",
            "Actual   0   1\n",
            "     0 350 288\n",
            "     1 242 368\n",
            "\n",
            "AIC 2516.8577419846224 \n",
            "\n"
          ]
        }
      ]
    },
    {
      "cell_type": "code",
      "source": [
        "# NeuralNet Model\n",
        "nn_param_grid = {\n",
        "    'hidden_layer_sizes': list(range(2, 20)),\n",
        "}\n",
        "neuralNet = MLPClassifier(activation='logistic', solver='lbfgs', random_state=1, max_iter=5000)\n",
        "nn = GridSearchCV(neuralNet, nn_param_grid, cv=5, n_jobs=-1)\n",
        "nn.fit(X_train_norm, y_train)\n",
        "confusionMatrices(nn, 'Neural Net')\n",
        "nn_result = pred_results(nn)\n",
        "pred = nn.predict(X_test_norm)\n",
        "print('\\nAIC', AIC_score(y_test, pred, df=len(X.columns) + 1), '\\n')"
      ],
      "metadata": {
        "id": "ygMnsEv0ESgZ",
        "outputId": "8dbd4c5e-a723-4343-caf2-0aa796af4aa6",
        "colab": {
          "base_uri": "https://localhost:8080/"
        }
      },
      "execution_count": 153,
      "outputs": [
        {
          "output_type": "stream",
          "name": "stdout",
          "text": [
            "\n",
            "--------------------\n",
            "Neural Net - training results\n",
            "\n",
            "Confusion Matrix (Accuracy 0.5972)\n",
            "\n",
            "       Prediction\n",
            "Actual   0   1\n",
            "     0 750 172\n",
            "     1 582 368\n",
            "\n",
            "--------------------\n",
            "Neural Net - validation results\n",
            "\n",
            "Confusion Matrix (Accuracy 0.5417)\n",
            "\n",
            "       Prediction\n",
            "Actual   0   1\n",
            "     0 487 151\n",
            "     1 421 189\n",
            "\n",
            "AIC 2612.0326990569934 \n",
            "\n"
          ]
        }
      ]
    },
    {
      "cell_type": "code",
      "source": [
        "# Plot\n",
        "ax = gainsChart(lr_result.actual, label='Logistic Regression', color='C0', figsize=[10, 10])\n",
        "ax = gainsChart(bc_result.actual, label='Bagging Classifier', color='C1', ax=ax)\n",
        "ax = gainsChart(ada_result.actual, label='AdaBoost Classifier', color='C2', ax=ax)\n",
        "ax = gainsChart(rf_result.actual, label='Random Forest', color='C3', ax=ax)\n",
        "ax = gainsChart(lda_result.actual, label='Linear Discriminant Analysis', color='C4', ax=ax)\n",
        "ax = gainsChart(nn_result.actual, label='Neural Net', color='C5', ax=ax)\n",
        "ax.legend()\n",
        "ax.set_title('Model Comparisons')\n",
        "\n",
        "plt.show()"
      ],
      "metadata": {
        "id": "ei7GlSHSIjhq",
        "outputId": "d9a38bbc-515b-4b8c-ddba-1654e7c089b9",
        "colab": {
          "base_uri": "https://localhost:8080/",
          "height": 621
        }
      },
      "execution_count": 157,
      "outputs": [
        {
          "output_type": "display_data",
          "data": {
            "text/plain": [
              "<Figure size 720x720 with 1 Axes>"
            ],
            "image/png": "[encoded data removed]"
          },
          "metadata": {
            "needs_background": "light"
          }
        }
      ]
    },
    {
      "cell_type": "markdown",
      "source": [
        "---\n",
        "**Answer:** <br>\n",
        "We’ve been asked to the following three model methods: Logistic Regression with regularization (LR), Bagging Classification (BC), Adaboost Classification (ADA), Random Forest (RF), Linear Discriminant Analysis (LDA), and Neural Net (NN). We normalized all of our features. All features were used and all models had default settings except for our Logistic Regression and Neural Net models. With these models we did cross validation to optimize some of our available hyperparameters.\n",
        "\n",
        "---"
      ],
      "metadata": {
        "id": "rURLzK6AyNmi"
      }
    },
    {
      "cell_type": "markdown",
      "source": [
        "### Question 2.2\n",
        "Classification under asymmetric response and cost: What is the reasoning behind using weighted sampling to produce a training set with equal numbers of donors and non-donors? Why not use a simple random sample from the original dataset? (10\n",
        "Points)\n"
      ],
      "metadata": {
        "id": "I-Y4XLroytlQ"
      }
    },
    {
      "cell_type": "markdown",
      "source": [
        "---\n",
        "**Answer:** <br>\n",
        "\n",
        "The purpose of doing classification under asymmetric response and cost is help the model to discriminate between the classes using features rather than prioritize class assignment on classes with the most occurrences. This methodology puts the importance of feature differentiation ahead of class weights.\n",
        "\n",
        "\n",
        "---"
      ],
      "metadata": {
        "id": "9aiNhimKyO_h"
      }
    },
    {
      "cell_type": "markdown",
      "source": [
        "### Question 2.3 \n",
        "Calculate net profit: For each method, calculate the cumulative gains of net profit for both the training and validation sets based on the actual response rate (5.1%). Again, the expected donation, given that they are donors, is \\$13.00, and the total cost of each mailing is \\$0.68. (Hint: To calculate estimated net profit, we will need to undo the effects of the weighted sampling and calculate the net profit that would reflect the actual response distribution of 5.1% donors and 94.9% non-donors. To do this, divide each row’s net profit by the oversampling weights applicable to the actual status of that row. The oversampling weight for actual donors is 50%/5.1% = 9.8. The oversampling weight for actual non-donors is 50%/94.9% = 0.53). (10 Points)\n",
        "\n"
      ],
      "metadata": {
        "id": "D6PeYtzey2VP"
      }
    },
    {
      "cell_type": "code",
      "source": [
        "x = 0.5/0.051\n",
        "print(x)"
      ],
      "metadata": {
        "id": "e62ayQTaNMjM"
      },
      "execution_count": null,
      "outputs": []
    },
    {
      "cell_type": "code",
      "source": [
        "# Helper Functions\n",
        "def gains_data_prep(df_org, model, X=X, orig_response_rate = 0.051, new_rr = 0.5, avgRevenue = 13.0, avgCost = 0.68):\n",
        "  X_norm = scaler.transform(X)\n",
        "  proba = model.predict_proba(X_norm)\n",
        "  result = pd.DataFrame({'actual': y.astype(\"int64\"), \n",
        "                         'p(0)': [p[0] for p in proba],\n",
        "                         'p(1)': [p[1] for p in proba],\n",
        "                         'predicted': model.predict(X_norm)\n",
        "                         })\n",
        "  scoreAnalysis = df_org.join(result)\n",
        "  avg_profit = avgRevenue - avgCost\n",
        "  response_rate = orig_response_rate/new_rr\n",
        "  rr = response_rate\n",
        "  scoreAnalysis['donationProbability'] = model.predict_proba(X_norm)[:,1]\n",
        "  scoreAnalysis['avg_profit'] = avg_profit \n",
        "  scoreAnalysis['test'] = avg_profit/(new_rr/orig_response_rate) * scoreAnalysis['actual']\n",
        "  scoreAnalysis['adjustedSpendingPrediction'] = response_rate * scoreAnalysis['avg_profit']\n",
        "  scoreAnalysis['expectedSpending'] = scoreAnalysis['donationProbability'] * scoreAnalysis['adjustedSpendingPrediction']\n",
        "  scoreAnalysis = scoreAnalysis.sort_values(by=['expectedSpending'], ascending=False)\n",
        "  return scoreAnalysis\n",
        "\n",
        "# Get Analysis\n",
        "lr_scoreAnalysis = gains_data_prep(df_copy, lr, X)\n",
        "bc_scoreAnalysis = gains_data_prep(df_copy, bc, X)\n",
        "ada_scoreAnalysis = gains_data_prep(df_copy, ada, X)\n",
        "rf_scoreAnalysis = gains_data_prep(df_copy, rf, X)\n",
        "lda_scoreAnalysis = gains_data_prep(df_copy, lda, X)\n",
        "nn_scoreAnalysis = gains_data_prep(df_copy, nn, X)\n",
        "\n",
        "# display(lr_scoreAnalysis)\n",
        "# display(bc_scoreAnalysis)\n",
        "# display(ada_scoreAnalysis)\n",
        "# display(rf_scoreAnalysis)\n",
        "# display(lda_scoreAnalysis)\n",
        "# display(nn_scoreAnalysis)"
      ],
      "metadata": {
        "id": "k1s1X_-qbv1Y"
      },
      "execution_count": 200,
      "outputs": []
    },
    {
      "cell_type": "code",
      "source": [
        "# Gross Profit\n",
        "print('Gross Profit:')\n",
        "print('Logistic Regression -', \"${:,}\".format(lr_scoreAnalysis['expectedSpending'].sum().round(2)))\n",
        "print('Bagging Classification -', \"${:,}\".format(bc_scoreAnalysis['expectedSpending'].sum().round(2)))\n",
        "print('Adaboost Classification -', \"${:,}\".format(ada_scoreAnalysis['expectedSpending'].sum().round(2)))\n",
        "print('Random Forest - ', \"${:,}\".format(rf_scoreAnalysis['expectedSpending'].sum().round(2)))\n",
        "print('Linear Discriminant Analysis -', \"${:,}\".format(lda_scoreAnalysis['expectedSpending'].sum().round(2)))\n",
        "print('Neural Net -', \"${:,}\".format(nn_scoreAnalysis['expectedSpending'].sum().round(2)))"
      ],
      "metadata": {
        "id": "wQluCLVogf6S",
        "outputId": "68789630-87fa-473f-e416-76f100a75e4a",
        "colab": {
          "base_uri": "https://localhost:8080/"
        }
      },
      "execution_count": 201,
      "outputs": [
        {
          "output_type": "stream",
          "name": "stdout",
          "text": [
            "Gross Profit:\n",
            "Logistic Regression - $1,980.59\n",
            "Bagging Classification - $1,956.46\n",
            "Adaboost Classification - $1,962.06\n",
            "Random Forest -  $1,978.71\n",
            "Linear Discriminant Analysis - $1,981.23\n",
            "Neural Net - $1,982.62\n"
          ]
        }
      ]
    },
    {
      "cell_type": "code",
      "source": [
        "# Gross Profit\n",
        "print('Gross Profit:')\n",
        "print('Logistic Regression -', \"${:,}\".format(lr_scoreAnalysis['test'].sum().round(2)))\n",
        "print('Bagging Classification -', \"${:,}\".format(bc_scoreAnalysis['test'].sum().round(2)))\n",
        "print('Adaboost Classification -', \"${:,}\".format(ada_scoreAnalysis['test'].sum().round(2)))\n",
        "print('Random Forest - ', \"${:,}\".format(rf_scoreAnalysis['test'].sum().round(2)))\n",
        "print('Linear Discriminant Analysis -', \"${:,}\".format(lda_scoreAnalysis['test'].sum().round(2)))\n",
        "print('Neural Net -', \"${:,}\".format(nn_scoreAnalysis['test'].sum().round(2)))"
      ],
      "metadata": {
        "id": "_KQBNK9ULJrT",
        "outputId": "09ff4a2c-a24e-4247-ea29-6fe28b362bde",
        "colab": {
          "base_uri": "https://localhost:8080/"
        }
      },
      "execution_count": 202,
      "outputs": [
        {
          "output_type": "stream",
          "name": "stdout",
          "text": [
            "Gross Profit:\n",
            "Logistic Regression - $1,960.36\n",
            "Bagging Classification - $1,960.36\n",
            "Adaboost Classification - $1,960.36\n",
            "Random Forest -  $1,960.36\n",
            "Linear Discriminant Analysis - $1,960.36\n",
            "Neural Net - $1,960.36\n"
          ]
        }
      ]
    },
    {
      "cell_type": "code",
      "source": [
        "rf_scoreAnalysis"
      ],
      "metadata": {
        "id": "6jTSqkefLBfb",
        "outputId": "a0ea9fbe-289e-4370-beaa-226e1399b683",
        "colab": {
          "base_uri": "https://localhost:8080/",
          "height": 488
        }
      },
      "execution_count": 192,
      "outputs": [
        {
          "output_type": "execute_result",
          "data": {
            "text/plain": [
              "      zipconvert_2  zipconvert_3  zipconvert_4  zipconvert_5  homeowner_dummy  \\\n",
              "2833             0             0             0             1                1   \n",
              "2430             1             0             0             0                1   \n",
              "646              0             0             0             1                1   \n",
              "944              1             0             0             0                1   \n",
              "697              1             0             0             0                1   \n",
              "...            ...           ...           ...           ...              ...   \n",
              "445              0             1             0             0                1   \n",
              "482              0             0             1             0                0   \n",
              "2179             0             0             1             0                1   \n",
              "192              0             1             0             0                1   \n",
              "62               0             0             0             1                1   \n",
              "\n",
              "      NUMCHLD  INCOME  gender_dummy  WEALTH    HV  ...  TARGET_B  TARGET_D  \\\n",
              "2833        1       4             1       5  2001  ...         1      20.0   \n",
              "2430        1       2             1       7   731  ...         1       5.0   \n",
              "646         1       7             0       9  1654  ...         1      10.0   \n",
              "944         1       4             1       8   872  ...         1       3.0   \n",
              "697         1       3             0       8   483  ...         1       5.0   \n",
              "...       ...     ...           ...     ...   ...  ...       ...       ...   \n",
              "445         1       4             1       0  1194  ...         0       0.0   \n",
              "482         1       3             0       8   486  ...         0       0.0   \n",
              "2179        1       4             0       8     0  ...         0       0.0   \n",
              "192         1       5             0       8   823  ...         0       0.0   \n",
              "62          1       2             1       8  1772  ...         0       0.0   \n",
              "\n",
              "      actual  p(0)  p(1)  predicted  donationProbability  avg_profit  \\\n",
              "2833       1  0.02  0.98          1                 0.98       12.32   \n",
              "2430       1  0.02  0.98          1                 0.98       12.32   \n",
              "646        1  0.04  0.96          1                 0.96       12.32   \n",
              "944        1  0.05  0.95          1                 0.95       12.32   \n",
              "697        1  0.05  0.95          1                 0.95       12.32   \n",
              "...      ...   ...   ...        ...                  ...         ...   \n",
              "445        0  0.94  0.06          0                 0.06       12.32   \n",
              "482        0  0.95  0.05          0                 0.05       12.32   \n",
              "2179       0  0.95  0.05          0                 0.05       12.32   \n",
              "192        0  0.96  0.04          0                 0.04       12.32   \n",
              "62         0  0.96  0.04          0                 0.04       12.32   \n",
              "\n",
              "      adjustedSpendingPrediction  expectedSpending  \n",
              "2833                     1.25664          1.231507  \n",
              "2430                     1.25664          1.231507  \n",
              "646                      1.25664          1.206374  \n",
              "944                      1.25664          1.193808  \n",
              "697                      1.25664          1.193808  \n",
              "...                          ...               ...  \n",
              "445                      1.25664          0.075398  \n",
              "482                      1.25664          0.062832  \n",
              "2179                     1.25664          0.062832  \n",
              "192                      1.25664          0.050266  \n",
              "62                       1.25664          0.050266  \n",
              "\n",
              "[3120 rows x 30 columns]"
            ],
            "text/html": [
              "\n",
              "  <div id=\"df-3ea038bd-57e4-46af-9ee0-35f6881701e8\">\n",
              "    <div class=\"colab-df-container\">\n",
              "      <div>\n",
              "<style scoped>\n",
              "    .dataframe tbody tr th:only-of-type {\n",
              "        vertical-align: middle;\n",
              "    }\n",
              "\n",
              "    .dataframe tbody tr th {\n",
              "        vertical-align: top;\n",
              "    }\n",
              "\n",
              "    .dataframe thead th {\n",
              "        text-align: right;\n",
              "    }\n",
              "</style>\n",
              "<table border=\"1\" class=\"dataframe\">\n",
              "  <thead>\n",
              "    <tr style=\"text-align: right;\">\n",
              "      <th></th>\n",
              "      <th>zipconvert_2</th>\n",
              "      <th>zipconvert_3</th>\n",
              "      <th>zipconvert_4</th>\n",
              "      <th>zipconvert_5</th>\n",
              "      <th>homeowner_dummy</th>\n",
              "      <th>NUMCHLD</th>\n",
              "      <th>INCOME</th>\n",
              "      <th>gender_dummy</th>\n",
              "      <th>WEALTH</th>\n",
              "      <th>HV</th>\n",
              "      <th>...</th>\n",
              "      <th>TARGET_B</th>\n",
              "      <th>TARGET_D</th>\n",
              "      <th>actual</th>\n",
              "      <th>p(0)</th>\n",
              "      <th>p(1)</th>\n",
              "      <th>predicted</th>\n",
              "      <th>donationProbability</th>\n",
              "      <th>avg_profit</th>\n",
              "      <th>adjustedSpendingPrediction</th>\n",
              "      <th>expectedSpending</th>\n",
              "    </tr>\n",
              "  </thead>\n",
              "  <tbody>\n",
              "    <tr>\n",
              "      <th>2833</th>\n",
              "      <td>0</td>\n",
              "      <td>0</td>\n",
              "      <td>0</td>\n",
              "      <td>1</td>\n",
              "      <td>1</td>\n",
              "      <td>1</td>\n",
              "      <td>4</td>\n",
              "      <td>1</td>\n",
              "      <td>5</td>\n",
              "      <td>2001</td>\n",
              "      <td>...</td>\n",
              "      <td>1</td>\n",
              "      <td>20.0</td>\n",
              "      <td>1</td>\n",
              "      <td>0.02</td>\n",
              "      <td>0.98</td>\n",
              "      <td>1</td>\n",
              "      <td>0.98</td>\n",
              "      <td>12.32</td>\n",
              "      <td>1.25664</td>\n",
              "      <td>1.231507</td>\n",
              "    </tr>\n",
              "    <tr>\n",
              "      <th>2430</th>\n",
              "      <td>1</td>\n",
              "      <td>0</td>\n",
              "      <td>0</td>\n",
              "      <td>0</td>\n",
              "      <td>1</td>\n",
              "      <td>1</td>\n",
              "      <td>2</td>\n",
              "      <td>1</td>\n",
              "      <td>7</td>\n",
              "      <td>731</td>\n",
              "      <td>...</td>\n",
              "      <td>1</td>\n",
              "      <td>5.0</td>\n",
              "      <td>1</td>\n",
              "      <td>0.02</td>\n",
              "      <td>0.98</td>\n",
              "      <td>1</td>\n",
              "      <td>0.98</td>\n",
              "      <td>12.32</td>\n",
              "      <td>1.25664</td>\n",
              "      <td>1.231507</td>\n",
              "    </tr>\n",
              "    <tr>\n",
              "      <th>646</th>\n",
              "      <td>0</td>\n",
              "      <td>0</td>\n",
              "      <td>0</td>\n",
              "      <td>1</td>\n",
              "      <td>1</td>\n",
              "      <td>1</td>\n",
              "      <td>7</td>\n",
              "      <td>0</td>\n",
              "      <td>9</td>\n",
              "      <td>1654</td>\n",
              "      <td>...</td>\n",
              "      <td>1</td>\n",
              "      <td>10.0</td>\n",
              "      <td>1</td>\n",
              "      <td>0.04</td>\n",
              "      <td>0.96</td>\n",
              "      <td>1</td>\n",
              "      <td>0.96</td>\n",
              "      <td>12.32</td>\n",
              "      <td>1.25664</td>\n",
              "      <td>1.206374</td>\n",
              "    </tr>\n",
              "    <tr>\n",
              "      <th>944</th>\n",
              "      <td>1</td>\n",
              "      <td>0</td>\n",
              "      <td>0</td>\n",
              "      <td>0</td>\n",
              "      <td>1</td>\n",
              "      <td>1</td>\n",
              "      <td>4</td>\n",
              "      <td>1</td>\n",
              "      <td>8</td>\n",
              "      <td>872</td>\n",
              "      <td>...</td>\n",
              "      <td>1</td>\n",
              "      <td>3.0</td>\n",
              "      <td>1</td>\n",
              "      <td>0.05</td>\n",
              "      <td>0.95</td>\n",
              "      <td>1</td>\n",
              "      <td>0.95</td>\n",
              "      <td>12.32</td>\n",
              "      <td>1.25664</td>\n",
              "      <td>1.193808</td>\n",
              "    </tr>\n",
              "    <tr>\n",
              "      <th>697</th>\n",
              "      <td>1</td>\n",
              "      <td>0</td>\n",
              "      <td>0</td>\n",
              "      <td>0</td>\n",
              "      <td>1</td>\n",
              "      <td>1</td>\n",
              "      <td>3</td>\n",
              "      <td>0</td>\n",
              "      <td>8</td>\n",
              "      <td>483</td>\n",
              "      <td>...</td>\n",
              "      <td>1</td>\n",
              "      <td>5.0</td>\n",
              "      <td>1</td>\n",
              "      <td>0.05</td>\n",
              "      <td>0.95</td>\n",
              "      <td>1</td>\n",
              "      <td>0.95</td>\n",
              "      <td>12.32</td>\n",
              "      <td>1.25664</td>\n",
              "      <td>1.193808</td>\n",
              "    </tr>\n",
              "    <tr>\n",
              "      <th>...</th>\n",
              "      <td>...</td>\n",
              "      <td>...</td>\n",
              "      <td>...</td>\n",
              "      <td>...</td>\n",
              "      <td>...</td>\n",
              "      <td>...</td>\n",
              "      <td>...</td>\n",
              "      <td>...</td>\n",
              "      <td>...</td>\n",
              "      <td>...</td>\n",
              "      <td>...</td>\n",
              "      <td>...</td>\n",
              "      <td>...</td>\n",
              "      <td>...</td>\n",
              "      <td>...</td>\n",
              "      <td>...</td>\n",
              "      <td>...</td>\n",
              "      <td>...</td>\n",
              "      <td>...</td>\n",
              "      <td>...</td>\n",
              "      <td>...</td>\n",
              "    </tr>\n",
              "    <tr>\n",
              "      <th>445</th>\n",
              "      <td>0</td>\n",
              "      <td>1</td>\n",
              "      <td>0</td>\n",
              "      <td>0</td>\n",
              "      <td>1</td>\n",
              "      <td>1</td>\n",
              "      <td>4</td>\n",
              "      <td>1</td>\n",
              "      <td>0</td>\n",
              "      <td>1194</td>\n",
              "      <td>...</td>\n",
              "      <td>0</td>\n",
              "      <td>0.0</td>\n",
              "      <td>0</td>\n",
              "      <td>0.94</td>\n",
              "      <td>0.06</td>\n",
              "      <td>0</td>\n",
              "      <td>0.06</td>\n",
              "      <td>12.32</td>\n",
              "      <td>1.25664</td>\n",
              "      <td>0.075398</td>\n",
              "    </tr>\n",
              "    <tr>\n",
              "      <th>482</th>\n",
              "      <td>0</td>\n",
              "      <td>0</td>\n",
              "      <td>1</td>\n",
              "      <td>0</td>\n",
              "      <td>0</td>\n",
              "      <td>1</td>\n",
              "      <td>3</td>\n",
              "      <td>0</td>\n",
              "      <td>8</td>\n",
              "      <td>486</td>\n",
              "      <td>...</td>\n",
              "      <td>0</td>\n",
              "      <td>0.0</td>\n",
              "      <td>0</td>\n",
              "      <td>0.95</td>\n",
              "      <td>0.05</td>\n",
              "      <td>0</td>\n",
              "      <td>0.05</td>\n",
              "      <td>12.32</td>\n",
              "      <td>1.25664</td>\n",
              "      <td>0.062832</td>\n",
              "    </tr>\n",
              "    <tr>\n",
              "      <th>2179</th>\n",
              "      <td>0</td>\n",
              "      <td>0</td>\n",
              "      <td>1</td>\n",
              "      <td>0</td>\n",
              "      <td>1</td>\n",
              "      <td>1</td>\n",
              "      <td>4</td>\n",
              "      <td>0</td>\n",
              "      <td>8</td>\n",
              "      <td>0</td>\n",
              "      <td>...</td>\n",
              "      <td>0</td>\n",
              "      <td>0.0</td>\n",
              "      <td>0</td>\n",
              "      <td>0.95</td>\n",
              "      <td>0.05</td>\n",
              "      <td>0</td>\n",
              "      <td>0.05</td>\n",
              "      <td>12.32</td>\n",
              "      <td>1.25664</td>\n",
              "      <td>0.062832</td>\n",
              "    </tr>\n",
              "    <tr>\n",
              "      <th>192</th>\n",
              "      <td>0</td>\n",
              "      <td>1</td>\n",
              "      <td>0</td>\n",
              "      <td>0</td>\n",
              "      <td>1</td>\n",
              "      <td>1</td>\n",
              "      <td>5</td>\n",
              "      <td>0</td>\n",
              "      <td>8</td>\n",
              "      <td>823</td>\n",
              "      <td>...</td>\n",
              "      <td>0</td>\n",
              "      <td>0.0</td>\n",
              "      <td>0</td>\n",
              "      <td>0.96</td>\n",
              "      <td>0.04</td>\n",
              "      <td>0</td>\n",
              "      <td>0.04</td>\n",
              "      <td>12.32</td>\n",
              "      <td>1.25664</td>\n",
              "      <td>0.050266</td>\n",
              "    </tr>\n",
              "    <tr>\n",
              "      <th>62</th>\n",
              "      <td>0</td>\n",
              "      <td>0</td>\n",
              "      <td>0</td>\n",
              "      <td>1</td>\n",
              "      <td>1</td>\n",
              "      <td>1</td>\n",
              "      <td>2</td>\n",
              "      <td>1</td>\n",
              "      <td>8</td>\n",
              "      <td>1772</td>\n",
              "      <td>...</td>\n",
              "      <td>0</td>\n",
              "      <td>0.0</td>\n",
              "      <td>0</td>\n",
              "      <td>0.96</td>\n",
              "      <td>0.04</td>\n",
              "      <td>0</td>\n",
              "      <td>0.04</td>\n",
              "      <td>12.32</td>\n",
              "      <td>1.25664</td>\n",
              "      <td>0.050266</td>\n",
              "    </tr>\n",
              "  </tbody>\n",
              "</table>\n",
              "<p>3120 rows × 30 columns</p>\n",
              "</div>\n",
              "      <button class=\"colab-df-convert\" onclick=\"convertToInteractive('df-3ea038bd-57e4-46af-9ee0-35f6881701e8')\"\n",
              "              title=\"Convert this dataframe to an interactive table.\"\n",
              "              style=\"display:none;\">\n",
              "        \n",
              "  <svg xmlns=\"http://www.w3.org/2000/svg\" height=\"24px\"viewBox=\"0 0 24 24\"\n",
              "       width=\"24px\">\n",
              "    <path d=\"M0 0h24v24H0V0z\" fill=\"none\"/>\n",
              "    <path d=\"M18.56 5.44l.94 2.06.94-2.06 2.06-.94-2.06-.94-.94-2.06-.94 2.06-2.06.94zm-11 1L8.5 8.5l.94-2.06 2.06-.94-2.06-.94L8.5 2.5l-.94 2.06-2.06.94zm10 10l.94 2.06.94-2.06 2.06-.94-2.06-.94-.94-2.06-.94 2.06-2.06.94z\"/><path d=\"M17.41 7.96l-1.37-1.37c-.4-.4-.92-.59-1.43-.59-.52 0-1.04.2-1.43.59L10.3 9.45l-7.72 7.72c-.78.78-.78 2.05 0 2.83L4 21.41c.39.39.9.59 1.41.59.51 0 1.02-.2 1.41-.59l7.78-7.78 2.81-2.81c.8-.78.8-2.07 0-2.86zM5.41 20L4 18.59l7.72-7.72 1.47 1.35L5.41 20z\"/>\n",
              "  </svg>\n",
              "      </button>\n",
              "      \n",
              "  <style>\n",
              "    .colab-df-container {\n",
              "      display:flex;\n",
              "      flex-wrap:wrap;\n",
              "      gap: 12px;\n",
              "    }\n",
              "\n",
              "    .colab-df-convert {\n",
              "      background-color: #E8F0FE;\n",
              "      border: none;\n",
              "      border-radius: 50%;\n",
              "      cursor: pointer;\n",
              "      display: none;\n",
              "      fill: #1967D2;\n",
              "      height: 32px;\n",
              "      padding: 0 0 0 0;\n",
              "      width: 32px;\n",
              "    }\n",
              "\n",
              "    .colab-df-convert:hover {\n",
              "      background-color: #E2EBFA;\n",
              "      box-shadow: 0px 1px 2px rgba(60, 64, 67, 0.3), 0px 1px 3px 1px rgba(60, 64, 67, 0.15);\n",
              "      fill: #174EA6;\n",
              "    }\n",
              "\n",
              "    [theme=dark] .colab-df-convert {\n",
              "      background-color: #3B4455;\n",
              "      fill: #D2E3FC;\n",
              "    }\n",
              "\n",
              "    [theme=dark] .colab-df-convert:hover {\n",
              "      background-color: #434B5C;\n",
              "      box-shadow: 0px 1px 3px 1px rgba(0, 0, 0, 0.15);\n",
              "      filter: drop-shadow(0px 1px 2px rgba(0, 0, 0, 0.3));\n",
              "      fill: #FFFFFF;\n",
              "    }\n",
              "  </style>\n",
              "\n",
              "      <script>\n",
              "        const buttonEl =\n",
              "          document.querySelector('#df-3ea038bd-57e4-46af-9ee0-35f6881701e8 button.colab-df-convert');\n",
              "        buttonEl.style.display =\n",
              "          google.colab.kernel.accessAllowed ? 'block' : 'none';\n",
              "\n",
              "        async function convertToInteractive(key) {\n",
              "          const element = document.querySelector('#df-3ea038bd-57e4-46af-9ee0-35f6881701e8');\n",
              "          const dataTable =\n",
              "            await google.colab.kernel.invokeFunction('convertToInteractive',\n",
              "                                                     [key], {});\n",
              "          if (!dataTable) return;\n",
              "\n",
              "          const docLinkHtml = 'Like what you see? Visit the ' +\n",
              "            '<a target=\"_blank\" href=https://colab.research.google.com/notebooks/data_table.ipynb>data table notebook</a>'\n",
              "            + ' to learn more about interactive tables.';\n",
              "          element.innerHTML = '';\n",
              "          dataTable['output_type'] = 'display_data';\n",
              "          await google.colab.output.renderOutput(dataTable, element);\n",
              "          const docLink = document.createElement('div');\n",
              "          docLink.innerHTML = docLinkHtml;\n",
              "          element.appendChild(docLink);\n",
              "        }\n",
              "      </script>\n",
              "    </div>\n",
              "  </div>\n",
              "  "
            ]
          },
          "metadata": {},
          "execution_count": 192
        }
      ]
    },
    {
      "cell_type": "code",
      "source": [
        "# Plot\n",
        "ax = gainsChart(lr_scoreAnalysis.actual, label='Logistic Regression', color='C0', figsize=[10, 10])\n",
        "ax = gainsChart(bc_scoreAnalysis.actual, label='Bagging Classifier', color='C1', ax=ax)\n",
        "ax = gainsChart(ada_scoreAnalysis.actual, label='AdaBoost Classifier', color='C2', ax=ax)\n",
        "ax = gainsChart(rf_scoreAnalysis.actual, label='Random Forest', color='C3', ax=ax)\n",
        "ax = gainsChart(lda_scoreAnalysis.actual, label='Linear Discriminant Analysis', color='C4', ax=ax)\n",
        "ax = gainsChart(nn_scoreAnalysis.actual, label='Neural Net', color='C5', ax=ax)\n",
        "ax.legend()\n",
        "ax.set_title('Model Comparisons')\n",
        "\n",
        "plt.show()"
      ],
      "metadata": {
        "id": "dIomaVJ3HBEk",
        "outputId": "7c2c4730-9329-4e78-924f-8709b2e6b4d5",
        "colab": {
          "base_uri": "https://localhost:8080/",
          "height": 621
        }
      },
      "execution_count": 176,
      "outputs": [
        {
          "output_type": "display_data",
          "data": {
            "text/plain": [
              "<Figure size 720x720 with 1 Axes>"
            ],
            "image/png": "[encoded data removed]"
          },
          "metadata": {
            "needs_background": "light"
          }
        }
      ]
    },
    {
      "cell_type": "markdown",
      "source": [
        "---\n",
        "**Answer:** <br>\n",
        "\n",
        "---"
      ],
      "metadata": {
        "id": "hTtzCkFUyP_Z"
      }
    },
    {
      "cell_type": "markdown",
      "source": [
        "### Question 2.4\n",
        "Draw cumulative gains curves: Draw the different models’ net profit cumulative gains curves for the validation set in a single plot (net profit on the y-axis, proportion of list or number mailed on the x-axis). Is there a model that dominates? (10 Points)\n"
      ],
      "metadata": {
        "id": "72WrgLK70Dak"
      }
    },
    {
      "cell_type": "code",
      "source": [
        "# Plot\n",
        "ax = gainsChart(lr_result.actual, label='Logistic Regression Model', color='C0', figsize=[10, 10])\n",
        "ax = gainsChart(knn_result.actual, label='KNN Model', color='C1', ax=ax)\n",
        "ax = gainsChart(rf_result.actual, label='Random Forest Model', color='C2', ax=ax)\n",
        "ax.legend()\n",
        "ax.set_title('Model Comparisons')\n",
        "\n",
        "plt.show()"
      ],
      "metadata": {
        "id": "9LunePdZI6fk"
      },
      "execution_count": null,
      "outputs": []
    },
    {
      "cell_type": "markdown",
      "source": [
        "---\n",
        "**Answer:** <br>\n",
        "\n",
        "---"
      ],
      "metadata": {
        "id": "rFXTtmt-yQoA"
      }
    },
    {
      "cell_type": "markdown",
      "source": [
        "### Question 2.5\n",
        "Select the best model: From your answer in (4), what do you think is the “best” model? (12 Points)\n"
      ],
      "metadata": {
        "id": "TuIHLvEr0P8o"
      }
    },
    {
      "cell_type": "markdown",
      "source": [
        "---\n",
        "**Answer:** <br>\n",
        "\n",
        "---"
      ],
      "metadata": {
        "id": "dSt478uIyRQX"
      }
    },
    {
      "cell_type": "markdown",
      "source": [
        "## Question 3\n",
        "**Testing:** The file FutureFundraising.csv contains the attributes for future mailing candidates.\n",
        "\n",
        "### Question 3.1\n",
        "Using your “best” model from Step 2 (number 5), which of these candidates do you predict as donors and non-donors? List them in descending order of the probability of being a donor. Starting at the top of this sorted list, roughly how far down would you go in a mailing campaign? (10 Points)\n"
      ],
      "metadata": {
        "id": "aFdQC1sl0b4J"
      }
    },
    {
      "cell_type": "code",
      "source": [
        "mcmr = pd.DataFrame({'marginalRevenue': rf_scoreAnalysis.sort_values(by=['expectedSpending'], ascending=False)['expectedSpending'].reset_index(drop=True)})\n",
        "mcmr['marginalCosts'] = 0.68\n",
        "mcmr['netProfit'] = mcmr['marginalRevenue'] - mcmr['marginalCosts']\n",
        "mcmr['cumProfit'] = mcmr['netProfit'].cumsum()\n",
        "mcmr\n"
      ],
      "metadata": {
        "id": "lrzgGNzIvLdK",
        "outputId": "79ffd44a-5182-4753-bca5-89a8ef80acb5",
        "colab": {
          "base_uri": "https://localhost:8080/",
          "height": 424
        }
      },
      "execution_count": 187,
      "outputs": [
        {
          "output_type": "execute_result",
          "data": {
            "text/plain": [
              "      marginalRevenue  marginalCosts  netProfit   cumProfit\n",
              "0            1.231507           0.68   0.551507    0.551507\n",
              "1            1.231507           0.68   0.551507    1.103014\n",
              "2            1.206374           0.68   0.526374    1.629389\n",
              "3            1.193808           0.68   0.513808    2.143197\n",
              "4            1.193808           0.68   0.513808    2.657005\n",
              "...               ...            ...        ...         ...\n",
              "3115         0.075398           0.68  -0.604602 -140.400851\n",
              "3116         0.062832           0.68  -0.617168 -141.018019\n",
              "3117         0.062832           0.68  -0.617168 -141.635187\n",
              "3118         0.050266           0.68  -0.629734 -142.264922\n",
              "3119         0.050266           0.68  -0.629734 -142.894656\n",
              "\n",
              "[3120 rows x 4 columns]"
            ],
            "text/html": [
              "\n",
              "  <div id=\"df-7ce50cb1-7e96-4d0e-aa5b-5bfb40b4db1d\">\n",
              "    <div class=\"colab-df-container\">\n",
              "      <div>\n",
              "<style scoped>\n",
              "    .dataframe tbody tr th:only-of-type {\n",
              "        vertical-align: middle;\n",
              "    }\n",
              "\n",
              "    .dataframe tbody tr th {\n",
              "        vertical-align: top;\n",
              "    }\n",
              "\n",
              "    .dataframe thead th {\n",
              "        text-align: right;\n",
              "    }\n",
              "</style>\n",
              "<table border=\"1\" class=\"dataframe\">\n",
              "  <thead>\n",
              "    <tr style=\"text-align: right;\">\n",
              "      <th></th>\n",
              "      <th>marginalRevenue</th>\n",
              "      <th>marginalCosts</th>\n",
              "      <th>netProfit</th>\n",
              "      <th>cumProfit</th>\n",
              "    </tr>\n",
              "  </thead>\n",
              "  <tbody>\n",
              "    <tr>\n",
              "      <th>0</th>\n",
              "      <td>1.231507</td>\n",
              "      <td>0.68</td>\n",
              "      <td>0.551507</td>\n",
              "      <td>0.551507</td>\n",
              "    </tr>\n",
              "    <tr>\n",
              "      <th>1</th>\n",
              "      <td>1.231507</td>\n",
              "      <td>0.68</td>\n",
              "      <td>0.551507</td>\n",
              "      <td>1.103014</td>\n",
              "    </tr>\n",
              "    <tr>\n",
              "      <th>2</th>\n",
              "      <td>1.206374</td>\n",
              "      <td>0.68</td>\n",
              "      <td>0.526374</td>\n",
              "      <td>1.629389</td>\n",
              "    </tr>\n",
              "    <tr>\n",
              "      <th>3</th>\n",
              "      <td>1.193808</td>\n",
              "      <td>0.68</td>\n",
              "      <td>0.513808</td>\n",
              "      <td>2.143197</td>\n",
              "    </tr>\n",
              "    <tr>\n",
              "      <th>4</th>\n",
              "      <td>1.193808</td>\n",
              "      <td>0.68</td>\n",
              "      <td>0.513808</td>\n",
              "      <td>2.657005</td>\n",
              "    </tr>\n",
              "    <tr>\n",
              "      <th>...</th>\n",
              "      <td>...</td>\n",
              "      <td>...</td>\n",
              "      <td>...</td>\n",
              "      <td>...</td>\n",
              "    </tr>\n",
              "    <tr>\n",
              "      <th>3115</th>\n",
              "      <td>0.075398</td>\n",
              "      <td>0.68</td>\n",
              "      <td>-0.604602</td>\n",
              "      <td>-140.400851</td>\n",
              "    </tr>\n",
              "    <tr>\n",
              "      <th>3116</th>\n",
              "      <td>0.062832</td>\n",
              "      <td>0.68</td>\n",
              "      <td>-0.617168</td>\n",
              "      <td>-141.018019</td>\n",
              "    </tr>\n",
              "    <tr>\n",
              "      <th>3117</th>\n",
              "      <td>0.062832</td>\n",
              "      <td>0.68</td>\n",
              "      <td>-0.617168</td>\n",
              "      <td>-141.635187</td>\n",
              "    </tr>\n",
              "    <tr>\n",
              "      <th>3118</th>\n",
              "      <td>0.050266</td>\n",
              "      <td>0.68</td>\n",
              "      <td>-0.629734</td>\n",
              "      <td>-142.264922</td>\n",
              "    </tr>\n",
              "    <tr>\n",
              "      <th>3119</th>\n",
              "      <td>0.050266</td>\n",
              "      <td>0.68</td>\n",
              "      <td>-0.629734</td>\n",
              "      <td>-142.894656</td>\n",
              "    </tr>\n",
              "  </tbody>\n",
              "</table>\n",
              "<p>3120 rows × 4 columns</p>\n",
              "</div>\n",
              "      <button class=\"colab-df-convert\" onclick=\"convertToInteractive('df-7ce50cb1-7e96-4d0e-aa5b-5bfb40b4db1d')\"\n",
              "              title=\"Convert this dataframe to an interactive table.\"\n",
              "              style=\"display:none;\">\n",
              "        \n",
              "  <svg xmlns=\"http://www.w3.org/2000/svg\" height=\"24px\"viewBox=\"0 0 24 24\"\n",
              "       width=\"24px\">\n",
              "    <path d=\"M0 0h24v24H0V0z\" fill=\"none\"/>\n",
              "    <path d=\"M18.56 5.44l.94 2.06.94-2.06 2.06-.94-2.06-.94-.94-2.06-.94 2.06-2.06.94zm-11 1L8.5 8.5l.94-2.06 2.06-.94-2.06-.94L8.5 2.5l-.94 2.06-2.06.94zm10 10l.94 2.06.94-2.06 2.06-.94-2.06-.94-.94-2.06-.94 2.06-2.06.94z\"/><path d=\"M17.41 7.96l-1.37-1.37c-.4-.4-.92-.59-1.43-.59-.52 0-1.04.2-1.43.59L10.3 9.45l-7.72 7.72c-.78.78-.78 2.05 0 2.83L4 21.41c.39.39.9.59 1.41.59.51 0 1.02-.2 1.41-.59l7.78-7.78 2.81-2.81c.8-.78.8-2.07 0-2.86zM5.41 20L4 18.59l7.72-7.72 1.47 1.35L5.41 20z\"/>\n",
              "  </svg>\n",
              "      </button>\n",
              "      \n",
              "  <style>\n",
              "    .colab-df-container {\n",
              "      display:flex;\n",
              "      flex-wrap:wrap;\n",
              "      gap: 12px;\n",
              "    }\n",
              "\n",
              "    .colab-df-convert {\n",
              "      background-color: #E8F0FE;\n",
              "      border: none;\n",
              "      border-radius: 50%;\n",
              "      cursor: pointer;\n",
              "      display: none;\n",
              "      fill: #1967D2;\n",
              "      height: 32px;\n",
              "      padding: 0 0 0 0;\n",
              "      width: 32px;\n",
              "    }\n",
              "\n",
              "    .colab-df-convert:hover {\n",
              "      background-color: #E2EBFA;\n",
              "      box-shadow: 0px 1px 2px rgba(60, 64, 67, 0.3), 0px 1px 3px 1px rgba(60, 64, 67, 0.15);\n",
              "      fill: #174EA6;\n",
              "    }\n",
              "\n",
              "    [theme=dark] .colab-df-convert {\n",
              "      background-color: #3B4455;\n",
              "      fill: #D2E3FC;\n",
              "    }\n",
              "\n",
              "    [theme=dark] .colab-df-convert:hover {\n",
              "      background-color: #434B5C;\n",
              "      box-shadow: 0px 1px 3px 1px rgba(0, 0, 0, 0.15);\n",
              "      filter: drop-shadow(0px 1px 2px rgba(0, 0, 0, 0.3));\n",
              "      fill: #FFFFFF;\n",
              "    }\n",
              "  </style>\n",
              "\n",
              "      <script>\n",
              "        const buttonEl =\n",
              "          document.querySelector('#df-7ce50cb1-7e96-4d0e-aa5b-5bfb40b4db1d button.colab-df-convert');\n",
              "        buttonEl.style.display =\n",
              "          google.colab.kernel.accessAllowed ? 'block' : 'none';\n",
              "\n",
              "        async function convertToInteractive(key) {\n",
              "          const element = document.querySelector('#df-7ce50cb1-7e96-4d0e-aa5b-5bfb40b4db1d');\n",
              "          const dataTable =\n",
              "            await google.colab.kernel.invokeFunction('convertToInteractive',\n",
              "                                                     [key], {});\n",
              "          if (!dataTable) return;\n",
              "\n",
              "          const docLinkHtml = 'Like what you see? Visit the ' +\n",
              "            '<a target=\"_blank\" href=https://colab.research.google.com/notebooks/data_table.ipynb>data table notebook</a>'\n",
              "            + ' to learn more about interactive tables.';\n",
              "          element.innerHTML = '';\n",
              "          dataTable['output_type'] = 'display_data';\n",
              "          await google.colab.output.renderOutput(dataTable, element);\n",
              "          const docLink = document.createElement('div');\n",
              "          docLink.innerHTML = docLinkHtml;\n",
              "          element.appendChild(docLink);\n",
              "        }\n",
              "      </script>\n",
              "    </div>\n",
              "  </div>\n",
              "  "
            ]
          },
          "metadata": {},
          "execution_count": 187
        }
      ]
    },
    {
      "cell_type": "code",
      "source": [
        "profit_max = mcmr[mcmr['cumProfit'] == mcmr['cumProfit'].max()].index[0]\n",
        "\n",
        "import matplotlib.pyplot as plt\n",
        "plt.plot(mcmr['marginalRevenue'].head((profit_max*1.5).astype(\"int64\"))\n",
        ", label = \"Marginal Revenue\", linestyle=\"-\", color='C0')\n",
        "plt.plot(mcmr['marginalCosts'].head((profit_max*1.5).astype(\"int64\"))\n",
        ", label = \"Marginal Costs\", linestyle=\"-.\",color='C3')\n",
        "plt.plot(mcmr['cumProfit'].head((profit_max*1.5).astype(\"int64\"))\n",
        ", label = \"Cumulative Profit\", linestyle=\":\", color='C2')\n",
        "plt.ylabel('Dollars')\n",
        "plt.axvline(x=profit_max,\n",
        "            label = 'Marginal Revenue = Marginal Costs',\n",
        "            color = 'red', linestyle=\"--\")\n",
        "plt.legend()\n",
        "plt.show()"
      ],
      "metadata": {
        "id": "E43AUerro-gB",
        "outputId": "5320d5a8-db88-48b4-96f4-71b8c62fe9a2",
        "colab": {
          "base_uri": "https://localhost:8080/",
          "height": 268
        }
      },
      "execution_count": 188,
      "outputs": [
        {
          "output_type": "display_data",
          "data": {
            "text/plain": [
              "<Figure size 432x288 with 1 Axes>"
            ],
            "image/png": "[encoded data removed]"
          },
          "metadata": {
            "needs_background": "light"
          }
        }
      ]
    },
    {
      "cell_type": "code",
      "source": [
        "import matplotlib.pyplot as plt\n",
        "plt.plot(mcmr['marginalRevenue'].head((profit_max*1.5).astype(\"int64\"))\n",
        ", label = \"Marginal Revenue\", linestyle=\"-\", color='C0')\n",
        "plt.plot(mcmr['marginalCosts'].head((profit_max*1.5).astype(\"int64\"))\n",
        ", label = \"Marginal Costs\", linestyle=\"-.\", color='C3')\n",
        "plt.ylabel('Dollars')\n",
        "plt.axvline(x=profit_max,\n",
        "            label = 'Marginal Revenue = Marginal Costs',\n",
        "            linestyle=\"--\", color='C2')\n",
        "plt.legend()\n",
        "plt.show()"
      ],
      "metadata": {
        "id": "3wGcg4BT4GK7",
        "outputId": "6a506c40-cacf-4b69-995c-7618bdb709f3",
        "colab": {
          "base_uri": "https://localhost:8080/",
          "height": 265
        }
      },
      "execution_count": 189,
      "outputs": [
        {
          "output_type": "display_data",
          "data": {
            "text/plain": [
              "<Figure size 432x288 with 1 Axes>"
            ],
            "image/png": "[encoded data removed]"
          },
          "metadata": {
            "needs_background": "light"
          }
        }
      ]
    },
    {
      "cell_type": "code",
      "source": [
        "# Profit Maximizing point\n",
        "profit_max"
      ],
      "metadata": {
        "id": "0zjJN0SH1a_a",
        "outputId": "6386ecf0-d9d9-4190-a2aa-257318538b20",
        "colab": {
          "base_uri": "https://localhost:8080/"
        }
      },
      "execution_count": 190,
      "outputs": [
        {
          "output_type": "execute_result",
          "data": {
            "text/plain": [
              "1416"
            ]
          },
          "metadata": {},
          "execution_count": 190
        }
      ]
    },
    {
      "cell_type": "markdown",
      "source": [
        "---\n",
        "**Answer:** <br>\n",
        "\n",
        "Econ 101 says we will optimize profits when our marginal costs equals our marginal revenue. That being said, I would contact 223 prospects.\n",
        "\n",
        "---"
      ],
      "metadata": {
        "id": "XqJqqNtDyVQb"
      }
    },
    {
      "cell_type": "markdown",
      "source": [
        "### Question 3.2\n",
        "Briefly explain, in two to three paragraphs, the business objective, the data mining models used, why they were used, the model results, and your recommendations to your non-technical stakeholder team. (14 Points)"
      ],
      "metadata": {
        "id": "agxvMwlZ0uTY"
      }
    },
    {
      "cell_type": "markdown",
      "source": [
        "---\n",
        "**Answer:** <br>\n",
        "\n",
        "---"
      ],
      "metadata": {
        "id": "O0sbTTpdyVuv"
      }
    },
    {
      "cell_type": "markdown",
      "source": [],
      "metadata": {
        "id": "aDoDLAdc08Go"
      }
    }
  ],
  "metadata": {
    "kernelspec": {
      "display_name": "Python 3 (ipykernel)",
      "language": "python",
      "name": "python3"
    },
    "language_info": {
      "codemirror_mode": {
        "name": "ipython",
        "version": 3
      },
      "file_extension": ".py",
      "mimetype": "text/x-python",
      "name": "python",
      "nbconvert_exporter": "python",
      "pygments_lexer": "ipython3",
      "version": "3.9.12"
    },
    "colab": {
      "provenance": [],
      "include_colab_link": true
    }
  },
  "nbformat": 4,
  "nbformat_minor": 0
}