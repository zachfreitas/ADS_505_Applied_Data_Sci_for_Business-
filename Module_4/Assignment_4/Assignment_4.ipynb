{
  "cells": [
    {
      "cell_type": "markdown",
      "metadata": {
        "id": "view-in-github",
        "colab_type": "text"
      },
      "source": [
        "<a href=\"https://colab.research.google.com/github/zachfreitas/ADS_505_Applied_Data_Sci_for_Business-/blob/main/Module_4/Assignment_4/Assignment_4.ipynb\" target=\"_parent\"><img src=\"https://colab.research.google.com/assets/colab-badge.svg\" alt=\"Open In Colab\"/></a>"
      ]
    },
    {
      "cell_type": "markdown",
      "metadata": {
        "id": "i-VDwTFXwWil"
      },
      "source": [
        "# Assignment 4\n",
        "Zachariah Freitas <br>\n",
        "Date: 2020-10-01 <br>"
      ]
    },
    {
      "cell_type": "markdown",
      "source": [
        "Logistic Regression - from sklearn.linear_model import LogisticRegressionCV<br>\n",
        "classification trees <br>\n",
        "Bagging - from sklearn.ensemble import BaggingClassifier<br>\n",
        "AdaBoost - from sklearn.ensemble import AdaBoostClassifier<br>\n",
        "Random Forest - from sklearn.ensemble import RandomForestClassifier<br>\n",
        "Linear Discriminant Analysis - LinearDiscriminantAnalysis<br>\n",
        "Neural Networks - from sklearn.neural_network import MLPClassifier<br>\n",
        "\n",
        "\n",
        "\n",
        "\n"
      ],
      "metadata": {
        "id": "C1hTx6DqBwDF"
      }
    },
    {
      "cell_type": "code",
      "source": [
        "# Install Book libraries.\n",
        "!pip install dmba"
      ],
      "metadata": {
        "colab": {
          "base_uri": "https://localhost:8080/"
        },
        "id": "sPOrIbrDwd2X",
        "outputId": "67a99daf-e3f6-4857-ac7e-881542536c5a"
      },
      "execution_count": 203,
      "outputs": [
        {
          "output_type": "stream",
          "name": "stdout",
          "text": [
            "Looking in indexes: https://pypi.org/simple, https://us-python.pkg.dev/colab-wheels/public/simple/\n",
            "Requirement already satisfied: dmba in /usr/local/lib/python3.7/dist-packages (0.1.0)\n"
          ]
        }
      ]
    },
    {
      "cell_type": "code",
      "execution_count": 204,
      "metadata": {
        "id": "orvlqQMMwWiv"
      },
      "outputs": [],
      "source": [
        "# # Import required packages for this chapter\n",
        "\n",
        "# EDA and Preprep\n",
        "from sklearn import preprocessing\n",
        "from sklearn.model_selection import train_test_split, GridSearchCV\n",
        "import pandas as pd\n",
        "import matplotlib.pylab as plt\n",
        "import numpy as np\n",
        "\n",
        "# Classification Model Libraries\n",
        "from sklearn.linear_model import LogisticRegressionCV # lr or Logistic Regression\n",
        "from sklearn.ensemble import BaggingClassifier # bc or Bagging Classifier\n",
        "from sklearn.ensemble import AdaBoostClassifier # abc or Ada Boost Classifier\n",
        "from sklearn.ensemble import RandomForestClassifier # rf or Random Forest Classifier\n",
        "from sklearn.discriminant_analysis import LinearDiscriminantAnalysis # lda or Linear Discriminant Analysis\n",
        "from sklearn.neural_network import MLPClassifier # nn or Neural Nets\n",
        "#from sklearn.neighbors import KNeighborsClassifier\n",
        "\n",
        "# Book Helper Functions\n",
        "from dmba import plotDecisionTree, gainsChart, liftChart, classificationSummary, regressionSummary\n",
        "from dmba.metric import AIC_score\n",
        "\n",
        "# Inline Plot Formating\n",
        "%matplotlib inline"
      ]
    },
    {
      "cell_type": "code",
      "source": [
        "# Export Data From Colab to Laptop.\n",
        "# from google.colab import files\n",
        "# scoreAnalysis.to_csv('filename.csv') \n",
        "# files.download('filename.csv')"
      ],
      "metadata": {
        "id": "AxJkNjMd28yz"
      },
      "execution_count": 205,
      "outputs": []
    },
    {
      "cell_type": "markdown",
      "source": [
        "## Question 1\n",
        "**Data preparation:** Load the data and prepare it for predictive analysis."
      ],
      "metadata": {
        "id": "rJeJbMt22SsS"
      }
    },
    {
      "cell_type": "code",
      "source": [
        "# Dataset Sources\n",
        "Fundraising = 'https://raw.githubusercontent.com/zachfreitas/ADS_505_Applied_Data_Sci_for_Business-/main/Module_4/Assignment_4/Fundraising.csv'\n",
        "FutureFundraising = 'https://raw.githubusercontent.com/zachfreitas/ADS_505_Applied_Data_Sci_for_Business-/main/Module_4/Assignment_4/FutureFundraising.csv'"
      ],
      "metadata": {
        "id": "0V33Oso5wzJa"
      },
      "execution_count": 206,
      "outputs": []
    },
    {
      "cell_type": "code",
      "source": [
        "df = pd.read_csv(Fundraising)\n",
        "df.head()"
      ],
      "metadata": {
        "id": "y-aUudr41B9M",
        "outputId": "9067c7cf-af0f-4556-b1a3-e186d69979cf",
        "colab": {
          "base_uri": "https://localhost:8080/",
          "height": 317
        }
      },
      "execution_count": 207,
      "outputs": [
        {
          "output_type": "execute_result",
          "data": {
            "text/plain": [
              "   Row Id  Row Id.  zipconvert_2  zipconvert_3  zipconvert_4  zipconvert_5  \\\n",
              "0       1       17             0             1             0             0   \n",
              "1       2       25             1             0             0             0   \n",
              "2       3       29             0             0             0             1   \n",
              "3       4       38             0             0             0             1   \n",
              "4       5       40             0             1             0             0   \n",
              "\n",
              "   homeowner dummy  NUMCHLD  INCOME  gender dummy  ...  IC15  NUMPROM  \\\n",
              "0                1        1       5             1  ...     1       74   \n",
              "1                1        1       1             0  ...     4       46   \n",
              "2                0        2       5             1  ...    13       32   \n",
              "3                1        1       3             0  ...     4       94   \n",
              "4                1        1       4             0  ...     7       20   \n",
              "\n",
              "   RAMNTALL  MAXRAMNT  LASTGIFT  totalmonths  TIMELAG   AVGGIFT  TARGET_B  \\\n",
              "0     102.0       6.0       5.0           29        3  4.857143         1   \n",
              "1      94.0      12.0      12.0           34        6  9.400000         1   \n",
              "2      30.0      10.0       5.0           29        7  4.285714         1   \n",
              "3     177.0      10.0       8.0           30        3  7.080000         0   \n",
              "4      23.0      11.0      11.0           30        6  7.666667         0   \n",
              "\n",
              "   TARGET_D  \n",
              "0       5.0  \n",
              "1      10.0  \n",
              "2       5.0  \n",
              "3       0.0  \n",
              "4       0.0  \n",
              "\n",
              "[5 rows x 24 columns]"
            ],
            "text/html": [
              "\n",
              "  <div id=\"df-3c578350-1063-46fc-b885-afbd0165bed8\">\n",
              "    <div class=\"colab-df-container\">\n",
              "      <div>\n",
              "<style scoped>\n",
              "    .dataframe tbody tr th:only-of-type {\n",
              "        vertical-align: middle;\n",
              "    }\n",
              "\n",
              "    .dataframe tbody tr th {\n",
              "        vertical-align: top;\n",
              "    }\n",
              "\n",
              "    .dataframe thead th {\n",
              "        text-align: right;\n",
              "    }\n",
              "</style>\n",
              "<table border=\"1\" class=\"dataframe\">\n",
              "  <thead>\n",
              "    <tr style=\"text-align: right;\">\n",
              "      <th></th>\n",
              "      <th>Row Id</th>\n",
              "      <th>Row Id.</th>\n",
              "      <th>zipconvert_2</th>\n",
              "      <th>zipconvert_3</th>\n",
              "      <th>zipconvert_4</th>\n",
              "      <th>zipconvert_5</th>\n",
              "      <th>homeowner dummy</th>\n",
              "      <th>NUMCHLD</th>\n",
              "      <th>INCOME</th>\n",
              "      <th>gender dummy</th>\n",
              "      <th>...</th>\n",
              "      <th>IC15</th>\n",
              "      <th>NUMPROM</th>\n",
              "      <th>RAMNTALL</th>\n",
              "      <th>MAXRAMNT</th>\n",
              "      <th>LASTGIFT</th>\n",
              "      <th>totalmonths</th>\n",
              "      <th>TIMELAG</th>\n",
              "      <th>AVGGIFT</th>\n",
              "      <th>TARGET_B</th>\n",
              "      <th>TARGET_D</th>\n",
              "    </tr>\n",
              "  </thead>\n",
              "  <tbody>\n",
              "    <tr>\n",
              "      <th>0</th>\n",
              "      <td>1</td>\n",
              "      <td>17</td>\n",
              "      <td>0</td>\n",
              "      <td>1</td>\n",
              "      <td>0</td>\n",
              "      <td>0</td>\n",
              "      <td>1</td>\n",
              "      <td>1</td>\n",
              "      <td>5</td>\n",
              "      <td>1</td>\n",
              "      <td>...</td>\n",
              "      <td>1</td>\n",
              "      <td>74</td>\n",
              "      <td>102.0</td>\n",
              "      <td>6.0</td>\n",
              "      <td>5.0</td>\n",
              "      <td>29</td>\n",
              "      <td>3</td>\n",
              "      <td>4.857143</td>\n",
              "      <td>1</td>\n",
              "      <td>5.0</td>\n",
              "    </tr>\n",
              "    <tr>\n",
              "      <th>1</th>\n",
              "      <td>2</td>\n",
              "      <td>25</td>\n",
              "      <td>1</td>\n",
              "      <td>0</td>\n",
              "      <td>0</td>\n",
              "      <td>0</td>\n",
              "      <td>1</td>\n",
              "      <td>1</td>\n",
              "      <td>1</td>\n",
              "      <td>0</td>\n",
              "      <td>...</td>\n",
              "      <td>4</td>\n",
              "      <td>46</td>\n",
              "      <td>94.0</td>\n",
              "      <td>12.0</td>\n",
              "      <td>12.0</td>\n",
              "      <td>34</td>\n",
              "      <td>6</td>\n",
              "      <td>9.400000</td>\n",
              "      <td>1</td>\n",
              "      <td>10.0</td>\n",
              "    </tr>\n",
              "    <tr>\n",
              "      <th>2</th>\n",
              "      <td>3</td>\n",
              "      <td>29</td>\n",
              "      <td>0</td>\n",
              "      <td>0</td>\n",
              "      <td>0</td>\n",
              "      <td>1</td>\n",
              "      <td>0</td>\n",
              "      <td>2</td>\n",
              "      <td>5</td>\n",
              "      <td>1</td>\n",
              "      <td>...</td>\n",
              "      <td>13</td>\n",
              "      <td>32</td>\n",
              "      <td>30.0</td>\n",
              "      <td>10.0</td>\n",
              "      <td>5.0</td>\n",
              "      <td>29</td>\n",
              "      <td>7</td>\n",
              "      <td>4.285714</td>\n",
              "      <td>1</td>\n",
              "      <td>5.0</td>\n",
              "    </tr>\n",
              "    <tr>\n",
              "      <th>3</th>\n",
              "      <td>4</td>\n",
              "      <td>38</td>\n",
              "      <td>0</td>\n",
              "      <td>0</td>\n",
              "      <td>0</td>\n",
              "      <td>1</td>\n",
              "      <td>1</td>\n",
              "      <td>1</td>\n",
              "      <td>3</td>\n",
              "      <td>0</td>\n",
              "      <td>...</td>\n",
              "      <td>4</td>\n",
              "      <td>94</td>\n",
              "      <td>177.0</td>\n",
              "      <td>10.0</td>\n",
              "      <td>8.0</td>\n",
              "      <td>30</td>\n",
              "      <td>3</td>\n",
              "      <td>7.080000</td>\n",
              "      <td>0</td>\n",
              "      <td>0.0</td>\n",
              "    </tr>\n",
              "    <tr>\n",
              "      <th>4</th>\n",
              "      <td>5</td>\n",
              "      <td>40</td>\n",
              "      <td>0</td>\n",
              "      <td>1</td>\n",
              "      <td>0</td>\n",
              "      <td>0</td>\n",
              "      <td>1</td>\n",
              "      <td>1</td>\n",
              "      <td>4</td>\n",
              "      <td>0</td>\n",
              "      <td>...</td>\n",
              "      <td>7</td>\n",
              "      <td>20</td>\n",
              "      <td>23.0</td>\n",
              "      <td>11.0</td>\n",
              "      <td>11.0</td>\n",
              "      <td>30</td>\n",
              "      <td>6</td>\n",
              "      <td>7.666667</td>\n",
              "      <td>0</td>\n",
              "      <td>0.0</td>\n",
              "    </tr>\n",
              "  </tbody>\n",
              "</table>\n",
              "<p>5 rows × 24 columns</p>\n",
              "</div>\n",
              "      <button class=\"colab-df-convert\" onclick=\"convertToInteractive('df-3c578350-1063-46fc-b885-afbd0165bed8')\"\n",
              "              title=\"Convert this dataframe to an interactive table.\"\n",
              "              style=\"display:none;\">\n",
              "        \n",
              "  <svg xmlns=\"http://www.w3.org/2000/svg\" height=\"24px\"viewBox=\"0 0 24 24\"\n",
              "       width=\"24px\">\n",
              "    <path d=\"M0 0h24v24H0V0z\" fill=\"none\"/>\n",
              "    <path d=\"M18.56 5.44l.94 2.06.94-2.06 2.06-.94-2.06-.94-.94-2.06-.94 2.06-2.06.94zm-11 1L8.5 8.5l.94-2.06 2.06-.94-2.06-.94L8.5 2.5l-.94 2.06-2.06.94zm10 10l.94 2.06.94-2.06 2.06-.94-2.06-.94-.94-2.06-.94 2.06-2.06.94z\"/><path d=\"M17.41 7.96l-1.37-1.37c-.4-.4-.92-.59-1.43-.59-.52 0-1.04.2-1.43.59L10.3 9.45l-7.72 7.72c-.78.78-.78 2.05 0 2.83L4 21.41c.39.39.9.59 1.41.59.51 0 1.02-.2 1.41-.59l7.78-7.78 2.81-2.81c.8-.78.8-2.07 0-2.86zM5.41 20L4 18.59l7.72-7.72 1.47 1.35L5.41 20z\"/>\n",
              "  </svg>\n",
              "      </button>\n",
              "      \n",
              "  <style>\n",
              "    .colab-df-container {\n",
              "      display:flex;\n",
              "      flex-wrap:wrap;\n",
              "      gap: 12px;\n",
              "    }\n",
              "\n",
              "    .colab-df-convert {\n",
              "      background-color: #E8F0FE;\n",
              "      border: none;\n",
              "      border-radius: 50%;\n",
              "      cursor: pointer;\n",
              "      display: none;\n",
              "      fill: #1967D2;\n",
              "      height: 32px;\n",
              "      padding: 0 0 0 0;\n",
              "      width: 32px;\n",
              "    }\n",
              "\n",
              "    .colab-df-convert:hover {\n",
              "      background-color: #E2EBFA;\n",
              "      box-shadow: 0px 1px 2px rgba(60, 64, 67, 0.3), 0px 1px 3px 1px rgba(60, 64, 67, 0.15);\n",
              "      fill: #174EA6;\n",
              "    }\n",
              "\n",
              "    [theme=dark] .colab-df-convert {\n",
              "      background-color: #3B4455;\n",
              "      fill: #D2E3FC;\n",
              "    }\n",
              "\n",
              "    [theme=dark] .colab-df-convert:hover {\n",
              "      background-color: #434B5C;\n",
              "      box-shadow: 0px 1px 3px 1px rgba(0, 0, 0, 0.15);\n",
              "      filter: drop-shadow(0px 1px 2px rgba(0, 0, 0, 0.3));\n",
              "      fill: #FFFFFF;\n",
              "    }\n",
              "  </style>\n",
              "\n",
              "      <script>\n",
              "        const buttonEl =\n",
              "          document.querySelector('#df-3c578350-1063-46fc-b885-afbd0165bed8 button.colab-df-convert');\n",
              "        buttonEl.style.display =\n",
              "          google.colab.kernel.accessAllowed ? 'block' : 'none';\n",
              "\n",
              "        async function convertToInteractive(key) {\n",
              "          const element = document.querySelector('#df-3c578350-1063-46fc-b885-afbd0165bed8');\n",
              "          const dataTable =\n",
              "            await google.colab.kernel.invokeFunction('convertToInteractive',\n",
              "                                                     [key], {});\n",
              "          if (!dataTable) return;\n",
              "\n",
              "          const docLinkHtml = 'Like what you see? Visit the ' +\n",
              "            '<a target=\"_blank\" href=https://colab.research.google.com/notebooks/data_table.ipynb>data table notebook</a>'\n",
              "            + ' to learn more about interactive tables.';\n",
              "          element.innerHTML = '';\n",
              "          dataTable['output_type'] = 'display_data';\n",
              "          await google.colab.output.renderOutput(dataTable, element);\n",
              "          const docLink = document.createElement('div');\n",
              "          docLink.innerHTML = docLinkHtml;\n",
              "          element.appendChild(docLink);\n",
              "        }\n",
              "      </script>\n",
              "    </div>\n",
              "  </div>\n",
              "  "
            ]
          },
          "metadata": {},
          "execution_count": 207
        }
      ]
    },
    {
      "cell_type": "code",
      "source": [
        "df_copy = df.copy()\n",
        "\n",
        "df_copy.columns = [d.replace(' ', '_').replace('.', '') for d in df_copy.columns]\n",
        "df_copy = df_copy.iloc[: , 2:]\n",
        "# df_copy = df_copy.drop('TARGET_D', axis=1)\n",
        "df_copy.head()"
      ],
      "metadata": {
        "id": "5ZQ8APGO1CHK",
        "outputId": "3f314817-f198-43e3-f5c0-10912a670e38",
        "colab": {
          "base_uri": "https://localhost:8080/",
          "height": 300
        }
      },
      "execution_count": 208,
      "outputs": [
        {
          "output_type": "execute_result",
          "data": {
            "text/plain": [
              "   zipconvert_2  zipconvert_3  zipconvert_4  zipconvert_5  homeowner_dummy  \\\n",
              "0             0             1             0             0                1   \n",
              "1             1             0             0             0                1   \n",
              "2             0             0             0             1                0   \n",
              "3             0             0             0             1                1   \n",
              "4             0             1             0             0                1   \n",
              "\n",
              "   NUMCHLD  INCOME  gender_dummy  WEALTH    HV  ...  IC15  NUMPROM  RAMNTALL  \\\n",
              "0        1       5             1       9  1399  ...     1       74     102.0   \n",
              "1        1       1             0       7   698  ...     4       46      94.0   \n",
              "2        2       5             1       8   828  ...    13       32      30.0   \n",
              "3        1       3             0       4  1471  ...     4       94     177.0   \n",
              "4        1       4             0       8   547  ...     7       20      23.0   \n",
              "\n",
              "   MAXRAMNT  LASTGIFT  totalmonths  TIMELAG   AVGGIFT  TARGET_B  TARGET_D  \n",
              "0       6.0       5.0           29        3  4.857143         1       5.0  \n",
              "1      12.0      12.0           34        6  9.400000         1      10.0  \n",
              "2      10.0       5.0           29        7  4.285714         1       5.0  \n",
              "3      10.0       8.0           30        3  7.080000         0       0.0  \n",
              "4      11.0      11.0           30        6  7.666667         0       0.0  \n",
              "\n",
              "[5 rows x 22 columns]"
            ],
            "text/html": [
              "\n",
              "  <div id=\"df-df903ac2-4784-4171-abdc-34bc3c17b595\">\n",
              "    <div class=\"colab-df-container\">\n",
              "      <div>\n",
              "<style scoped>\n",
              "    .dataframe tbody tr th:only-of-type {\n",
              "        vertical-align: middle;\n",
              "    }\n",
              "\n",
              "    .dataframe tbody tr th {\n",
              "        vertical-align: top;\n",
              "    }\n",
              "\n",
              "    .dataframe thead th {\n",
              "        text-align: right;\n",
              "    }\n",
              "</style>\n",
              "<table border=\"1\" class=\"dataframe\">\n",
              "  <thead>\n",
              "    <tr style=\"text-align: right;\">\n",
              "      <th></th>\n",
              "      <th>zipconvert_2</th>\n",
              "      <th>zipconvert_3</th>\n",
              "      <th>zipconvert_4</th>\n",
              "      <th>zipconvert_5</th>\n",
              "      <th>homeowner_dummy</th>\n",
              "      <th>NUMCHLD</th>\n",
              "      <th>INCOME</th>\n",
              "      <th>gender_dummy</th>\n",
              "      <th>WEALTH</th>\n",
              "      <th>HV</th>\n",
              "      <th>...</th>\n",
              "      <th>IC15</th>\n",
              "      <th>NUMPROM</th>\n",
              "      <th>RAMNTALL</th>\n",
              "      <th>MAXRAMNT</th>\n",
              "      <th>LASTGIFT</th>\n",
              "      <th>totalmonths</th>\n",
              "      <th>TIMELAG</th>\n",
              "      <th>AVGGIFT</th>\n",
              "      <th>TARGET_B</th>\n",
              "      <th>TARGET_D</th>\n",
              "    </tr>\n",
              "  </thead>\n",
              "  <tbody>\n",
              "    <tr>\n",
              "      <th>0</th>\n",
              "      <td>0</td>\n",
              "      <td>1</td>\n",
              "      <td>0</td>\n",
              "      <td>0</td>\n",
              "      <td>1</td>\n",
              "      <td>1</td>\n",
              "      <td>5</td>\n",
              "      <td>1</td>\n",
              "      <td>9</td>\n",
              "      <td>1399</td>\n",
              "      <td>...</td>\n",
              "      <td>1</td>\n",
              "      <td>74</td>\n",
              "      <td>102.0</td>\n",
              "      <td>6.0</td>\n",
              "      <td>5.0</td>\n",
              "      <td>29</td>\n",
              "      <td>3</td>\n",
              "      <td>4.857143</td>\n",
              "      <td>1</td>\n",
              "      <td>5.0</td>\n",
              "    </tr>\n",
              "    <tr>\n",
              "      <th>1</th>\n",
              "      <td>1</td>\n",
              "      <td>0</td>\n",
              "      <td>0</td>\n",
              "      <td>0</td>\n",
              "      <td>1</td>\n",
              "      <td>1</td>\n",
              "      <td>1</td>\n",
              "      <td>0</td>\n",
              "      <td>7</td>\n",
              "      <td>698</td>\n",
              "      <td>...</td>\n",
              "      <td>4</td>\n",
              "      <td>46</td>\n",
              "      <td>94.0</td>\n",
              "      <td>12.0</td>\n",
              "      <td>12.0</td>\n",
              "      <td>34</td>\n",
              "      <td>6</td>\n",
              "      <td>9.400000</td>\n",
              "      <td>1</td>\n",
              "      <td>10.0</td>\n",
              "    </tr>\n",
              "    <tr>\n",
              "      <th>2</th>\n",
              "      <td>0</td>\n",
              "      <td>0</td>\n",
              "      <td>0</td>\n",
              "      <td>1</td>\n",
              "      <td>0</td>\n",
              "      <td>2</td>\n",
              "      <td>5</td>\n",
              "      <td>1</td>\n",
              "      <td>8</td>\n",
              "      <td>828</td>\n",
              "      <td>...</td>\n",
              "      <td>13</td>\n",
              "      <td>32</td>\n",
              "      <td>30.0</td>\n",
              "      <td>10.0</td>\n",
              "      <td>5.0</td>\n",
              "      <td>29</td>\n",
              "      <td>7</td>\n",
              "      <td>4.285714</td>\n",
              "      <td>1</td>\n",
              "      <td>5.0</td>\n",
              "    </tr>\n",
              "    <tr>\n",
              "      <th>3</th>\n",
              "      <td>0</td>\n",
              "      <td>0</td>\n",
              "      <td>0</td>\n",
              "      <td>1</td>\n",
              "      <td>1</td>\n",
              "      <td>1</td>\n",
              "      <td>3</td>\n",
              "      <td>0</td>\n",
              "      <td>4</td>\n",
              "      <td>1471</td>\n",
              "      <td>...</td>\n",
              "      <td>4</td>\n",
              "      <td>94</td>\n",
              "      <td>177.0</td>\n",
              "      <td>10.0</td>\n",
              "      <td>8.0</td>\n",
              "      <td>30</td>\n",
              "      <td>3</td>\n",
              "      <td>7.080000</td>\n",
              "      <td>0</td>\n",
              "      <td>0.0</td>\n",
              "    </tr>\n",
              "    <tr>\n",
              "      <th>4</th>\n",
              "      <td>0</td>\n",
              "      <td>1</td>\n",
              "      <td>0</td>\n",
              "      <td>0</td>\n",
              "      <td>1</td>\n",
              "      <td>1</td>\n",
              "      <td>4</td>\n",
              "      <td>0</td>\n",
              "      <td>8</td>\n",
              "      <td>547</td>\n",
              "      <td>...</td>\n",
              "      <td>7</td>\n",
              "      <td>20</td>\n",
              "      <td>23.0</td>\n",
              "      <td>11.0</td>\n",
              "      <td>11.0</td>\n",
              "      <td>30</td>\n",
              "      <td>6</td>\n",
              "      <td>7.666667</td>\n",
              "      <td>0</td>\n",
              "      <td>0.0</td>\n",
              "    </tr>\n",
              "  </tbody>\n",
              "</table>\n",
              "<p>5 rows × 22 columns</p>\n",
              "</div>\n",
              "      <button class=\"colab-df-convert\" onclick=\"convertToInteractive('df-df903ac2-4784-4171-abdc-34bc3c17b595')\"\n",
              "              title=\"Convert this dataframe to an interactive table.\"\n",
              "              style=\"display:none;\">\n",
              "        \n",
              "  <svg xmlns=\"http://www.w3.org/2000/svg\" height=\"24px\"viewBox=\"0 0 24 24\"\n",
              "       width=\"24px\">\n",
              "    <path d=\"M0 0h24v24H0V0z\" fill=\"none\"/>\n",
              "    <path d=\"M18.56 5.44l.94 2.06.94-2.06 2.06-.94-2.06-.94-.94-2.06-.94 2.06-2.06.94zm-11 1L8.5 8.5l.94-2.06 2.06-.94-2.06-.94L8.5 2.5l-.94 2.06-2.06.94zm10 10l.94 2.06.94-2.06 2.06-.94-2.06-.94-.94-2.06-.94 2.06-2.06.94z\"/><path d=\"M17.41 7.96l-1.37-1.37c-.4-.4-.92-.59-1.43-.59-.52 0-1.04.2-1.43.59L10.3 9.45l-7.72 7.72c-.78.78-.78 2.05 0 2.83L4 21.41c.39.39.9.59 1.41.59.51 0 1.02-.2 1.41-.59l7.78-7.78 2.81-2.81c.8-.78.8-2.07 0-2.86zM5.41 20L4 18.59l7.72-7.72 1.47 1.35L5.41 20z\"/>\n",
              "  </svg>\n",
              "      </button>\n",
              "      \n",
              "  <style>\n",
              "    .colab-df-container {\n",
              "      display:flex;\n",
              "      flex-wrap:wrap;\n",
              "      gap: 12px;\n",
              "    }\n",
              "\n",
              "    .colab-df-convert {\n",
              "      background-color: #E8F0FE;\n",
              "      border: none;\n",
              "      border-radius: 50%;\n",
              "      cursor: pointer;\n",
              "      display: none;\n",
              "      fill: #1967D2;\n",
              "      height: 32px;\n",
              "      padding: 0 0 0 0;\n",
              "      width: 32px;\n",
              "    }\n",
              "\n",
              "    .colab-df-convert:hover {\n",
              "      background-color: #E2EBFA;\n",
              "      box-shadow: 0px 1px 2px rgba(60, 64, 67, 0.3), 0px 1px 3px 1px rgba(60, 64, 67, 0.15);\n",
              "      fill: #174EA6;\n",
              "    }\n",
              "\n",
              "    [theme=dark] .colab-df-convert {\n",
              "      background-color: #3B4455;\n",
              "      fill: #D2E3FC;\n",
              "    }\n",
              "\n",
              "    [theme=dark] .colab-df-convert:hover {\n",
              "      background-color: #434B5C;\n",
              "      box-shadow: 0px 1px 3px 1px rgba(0, 0, 0, 0.15);\n",
              "      filter: drop-shadow(0px 1px 2px rgba(0, 0, 0, 0.3));\n",
              "      fill: #FFFFFF;\n",
              "    }\n",
              "  </style>\n",
              "\n",
              "      <script>\n",
              "        const buttonEl =\n",
              "          document.querySelector('#df-df903ac2-4784-4171-abdc-34bc3c17b595 button.colab-df-convert');\n",
              "        buttonEl.style.display =\n",
              "          google.colab.kernel.accessAllowed ? 'block' : 'none';\n",
              "\n",
              "        async function convertToInteractive(key) {\n",
              "          const element = document.querySelector('#df-df903ac2-4784-4171-abdc-34bc3c17b595');\n",
              "          const dataTable =\n",
              "            await google.colab.kernel.invokeFunction('convertToInteractive',\n",
              "                                                     [key], {});\n",
              "          if (!dataTable) return;\n",
              "\n",
              "          const docLinkHtml = 'Like what you see? Visit the ' +\n",
              "            '<a target=\"_blank\" href=https://colab.research.google.com/notebooks/data_table.ipynb>data table notebook</a>'\n",
              "            + ' to learn more about interactive tables.';\n",
              "          element.innerHTML = '';\n",
              "          dataTable['output_type'] = 'display_data';\n",
              "          await google.colab.output.renderOutput(dataTable, element);\n",
              "          const docLink = document.createElement('div');\n",
              "          docLink.innerHTML = docLinkHtml;\n",
              "          element.appendChild(docLink);\n",
              "        }\n",
              "      </script>\n",
              "    </div>\n",
              "  </div>\n",
              "  "
            ]
          },
          "metadata": {},
          "execution_count": 208
        }
      ]
    },
    {
      "cell_type": "code",
      "source": [
        "# separate target and predictors\n",
        "y = df_copy['TARGET_B'].to_numpy()\n",
        "X = df_copy.drop(['TARGET_B', 'TARGET_D'], axis=1)\n",
        "\n",
        "# Standardize the dataset\n",
        "scaler = preprocessing.StandardScaler()\n",
        "scaler.fit(X * 1.0)"
      ],
      "metadata": {
        "id": "_X8sSkUx3Avx",
        "outputId": "d6afe42f-99b1-4b18-ed46-f830b289ac81",
        "colab": {
          "base_uri": "https://localhost:8080/"
        }
      },
      "execution_count": 209,
      "outputs": [
        {
          "output_type": "execute_result",
          "data": {
            "text/plain": [
              "StandardScaler()"
            ]
          },
          "metadata": {},
          "execution_count": 209
        }
      ]
    },
    {
      "cell_type": "markdown",
      "source": [
        "### Question 1.1 \n",
        "Partition the dataset into 60% training and 40% validation (set the seed to 12345). (4 Points)"
      ],
      "metadata": {
        "id": "ymW60JhjxvSz"
      }
    },
    {
      "cell_type": "code",
      "source": [
        "X_train, X_test, y_train, y_test = train_test_split(X, y, test_size=0.4, random_state=12345)\n",
        "\n",
        "# Normalize the data\n",
        "X_train_norm = scaler.transform(X_train)\n",
        "X_test_norm = scaler.transform(X_test)"
      ],
      "metadata": {
        "id": "46QEfuzn28kL"
      },
      "execution_count": 210,
      "outputs": []
    },
    {
      "cell_type": "markdown",
      "source": [
        "---\n",
        "**Answer:** <br>\n",
        "Test/Train split code above.\n",
        "---"
      ],
      "metadata": {
        "id": "FFwUoJmnyBOi"
      }
    },
    {
      "cell_type": "markdown",
      "source": [
        "## Question 2\n",
        "**Model Building:** Follow the following steps to build, evaluate, and choose a model.\n",
        "\n",
        "### Question 2.1\n",
        "Select classification tool and parameters: Run at least two classification models of your choosing. Be sure NOT to use TARGET_D in your analysis. Describe the two models that you chose, with sufficient detail (method, parameters, variables, etc.) so that it can be replicated. (10 Points)\n"
      ],
      "metadata": {
        "id": "pDAfZa4ByaVw"
      }
    },
    {
      "cell_type": "code",
      "source": [
        "# Helper Functions:\n",
        "def confusionMatrices(model, title):\n",
        "  print('\\n'+'-'*20)\n",
        "  print(title + ' - training results\\n')\n",
        "  classificationSummary(y_train, model.predict(X_train_norm))\n",
        "  print('\\n'+'-'*20)\n",
        "  print(title + ' - validation results\\n')\n",
        "  valid_pred = model.predict(X_test_norm)\n",
        "  classificationSummary(y_test, valid_pred)\n",
        "\n",
        "\n",
        "def pred_results(model):\n",
        "  model_proba = model.predict_proba(X_test_norm)\n",
        "  pred_results = pd.DataFrame({'actual': y_test.astype(\"int64\"), \n",
        "                            'p(0)': [p[0] for p in model_proba],\n",
        "                            'p(1)': [p[1] for p in model_proba],\n",
        "                            'predicted': model.predict(X_test_norm)\n",
        "                          })\n",
        "  pred_results = pred_results.sort_values(by=['p(1)'], ascending=False)\n",
        "  return pred_results"
      ],
      "metadata": {
        "id": "gcEd7OO6qGiq"
      },
      "execution_count": 211,
      "outputs": []
    },
    {
      "cell_type": "code",
      "source": [
        "# Logistic Regression Model\n",
        "lr = LogisticRegressionCV(penalty='l1', solver='saga', cv=5, max_iter=5000)\n",
        "lr.fit(X_train_norm, y_train)\n",
        "confusionMatrices(lr, 'Logistic Regression')\n",
        "lr_result = pred_results(lr)\n",
        "pred = lr.predict(X_test_norm)\n",
        "print('\\nAIC', AIC_score(y_test, pred, df=len(X.columns) + 1), '\\n')"
      ],
      "metadata": {
        "colab": {
          "base_uri": "https://localhost:8080/"
        },
        "id": "wslvfQDSpx6I",
        "outputId": "da72ab3d-0b2b-4c9e-e1c6-aacfbeb17bec"
      },
      "execution_count": 212,
      "outputs": [
        {
          "output_type": "stream",
          "name": "stdout",
          "text": [
            "\n",
            "--------------------\n",
            "Logistic Regression - training results\n",
            "\n",
            "Confusion Matrix (Accuracy 0.5668)\n",
            "\n",
            "       Prediction\n",
            "Actual   0   1\n",
            "     0 475 447\n",
            "     1 364 586\n",
            "\n",
            "--------------------\n",
            "Logistic Regression - validation results\n",
            "\n",
            "Confusion Matrix (Accuracy 0.5737)\n",
            "\n",
            "       Prediction\n",
            "Actual   0   1\n",
            "     0 349 289\n",
            "     1 243 367\n",
            "\n",
            "AIC 2521.558312513378 \n",
            "\n"
          ]
        }
      ]
    },
    {
      "cell_type": "code",
      "source": [
        "# Bagging Classifier Model\n",
        "bc = BaggingClassifier()\n",
        "bc.fit(X_train_norm, y_train)\n",
        "confusionMatrices(bc, 'Bagging Classifier')\n",
        "bc_result = pred_results(bc)\n",
        "pred = bc.predict(X_test_norm)\n",
        "print('\\nAIC', AIC_score(y_test, pred, df=len(X.columns) + 1), '\\n')"
      ],
      "metadata": {
        "colab": {
          "base_uri": "https://localhost:8080/"
        },
        "id": "-5NnLBC4sj6H",
        "outputId": "0fb169e0-4e20-425d-98b5-9b66a9f62659"
      },
      "execution_count": 213,
      "outputs": [
        {
          "output_type": "stream",
          "name": "stdout",
          "text": [
            "\n",
            "--------------------\n",
            "Bagging Classifier - training results\n",
            "\n",
            "Confusion Matrix (Accuracy 0.9856)\n",
            "\n",
            "       Prediction\n",
            "Actual   0   1\n",
            "     0 915   7\n",
            "     1  20 930\n",
            "\n",
            "--------------------\n",
            "Bagging Classifier - validation results\n",
            "\n",
            "Confusion Matrix (Accuracy 0.5473)\n",
            "\n",
            "       Prediction\n",
            "Actual   0   1\n",
            "     0 406 232\n",
            "     1 333 277\n",
            "\n",
            "AIC 2596.665750285764 \n",
            "\n"
          ]
        }
      ]
    },
    {
      "cell_type": "code",
      "source": [
        "# AdaBoost Classifier Model\n",
        "ada = AdaBoostClassifier()\n",
        "ada.fit(X_train_norm, y_train)\n",
        "confusionMatrices(ada, 'AdaBoost Classifier')\n",
        "ada_result = pred_results(ada)\n",
        "pred = ada.predict(X_test_norm)\n",
        "print('\\nAIC', AIC_score(y_test, pred, df=len(X.columns) + 1), '\\n')"
      ],
      "metadata": {
        "colab": {
          "base_uri": "https://localhost:8080/"
        },
        "id": "Hvjx7Opbs8ZV",
        "outputId": "e62b1c8c-b95a-47d5-f575-3b69390671a2"
      },
      "execution_count": 214,
      "outputs": [
        {
          "output_type": "stream",
          "name": "stdout",
          "text": [
            "\n",
            "--------------------\n",
            "AdaBoost Classifier - training results\n",
            "\n",
            "Confusion Matrix (Accuracy 0.6282)\n",
            "\n",
            "       Prediction\n",
            "Actual   0   1\n",
            "     0 595 327\n",
            "     1 369 581\n",
            "\n",
            "--------------------\n",
            "AdaBoost Classifier - validation results\n",
            "\n",
            "Confusion Matrix (Accuracy 0.5569)\n",
            "\n",
            "       Prediction\n",
            "Actual   0   1\n",
            "     0 377 261\n",
            "     1 292 318\n",
            "\n",
            "AIC 2569.8740237148795 \n",
            "\n"
          ]
        }
      ]
    },
    {
      "cell_type": "code",
      "source": [
        "# Random Forest Model\n",
        "rf = RandomForestClassifier(n_estimators=100)\n",
        "rf.fit(X_train_norm, y_train)\n",
        "confusionMatrices(rf, 'Random Forest')\n",
        "rf_result = pred_results(rf)\n",
        "pred = rf.predict(X_test_norm)\n",
        "print('\\nAIC', AIC_score(y_test, pred, df=len(X.columns) + 1), '\\n')"
      ],
      "metadata": {
        "id": "2xMiSZvkDsSP",
        "outputId": "bd25eea2-004f-4ee4-c96b-356a1973ef55",
        "colab": {
          "base_uri": "https://localhost:8080/"
        }
      },
      "execution_count": 215,
      "outputs": [
        {
          "output_type": "stream",
          "name": "stdout",
          "text": [
            "\n",
            "--------------------\n",
            "Random Forest - training results\n",
            "\n",
            "Confusion Matrix (Accuracy 1.0000)\n",
            "\n",
            "       Prediction\n",
            "Actual   0   1\n",
            "     0 922   0\n",
            "     1   0 950\n",
            "\n",
            "--------------------\n",
            "Random Forest - validation results\n",
            "\n",
            "Confusion Matrix (Accuracy 0.5457)\n",
            "\n",
            "       Prediction\n",
            "Actual   0   1\n",
            "     0 342 296\n",
            "     1 271 339\n",
            "\n",
            "AIC 2601.0756488672405 \n",
            "\n"
          ]
        }
      ]
    },
    {
      "cell_type": "code",
      "source": [
        "# Linear Discriminant Analysis Model\n",
        "lda =LinearDiscriminantAnalysis()\n",
        "lda.fit(X_train_norm, y_train)\n",
        "confusionMatrices(lda, 'Linear Discriminant Analysis')\n",
        "lda_result = pred_results(lda)\n",
        "pred = lda.predict(X_test_norm)\n",
        "print('\\nAIC', AIC_score(y_test, pred, df=len(X.columns) + 1), '\\n')"
      ],
      "metadata": {
        "id": "mMis794iEAah",
        "outputId": "d3192f2b-9c7c-4611-82cd-ecf329192ea4",
        "colab": {
          "base_uri": "https://localhost:8080/"
        }
      },
      "execution_count": 216,
      "outputs": [
        {
          "output_type": "stream",
          "name": "stdout",
          "text": [
            "\n",
            "--------------------\n",
            "Linear Discriminant Analysis - training results\n",
            "\n",
            "Confusion Matrix (Accuracy 0.5652)\n",
            "\n",
            "       Prediction\n",
            "Actual   0   1\n",
            "     0 477 445\n",
            "     1 369 581\n",
            "\n",
            "--------------------\n",
            "Linear Discriminant Analysis - validation results\n",
            "\n",
            "Confusion Matrix (Accuracy 0.5753)\n",
            "\n",
            "       Prediction\n",
            "Actual   0   1\n",
            "     0 350 288\n",
            "     1 242 368\n",
            "\n",
            "AIC 2516.8577419846224 \n",
            "\n"
          ]
        }
      ]
    },
    {
      "cell_type": "code",
      "source": [
        "# NeuralNet Model\n",
        "nn_param_grid = {\n",
        "    'hidden_layer_sizes': list(range(2, 20)),\n",
        "}\n",
        "neuralNet = MLPClassifier(activation='logistic', solver='lbfgs', random_state=1, max_iter=5000)\n",
        "nn = GridSearchCV(neuralNet, nn_param_grid, cv=5, n_jobs=-1)\n",
        "nn.fit(X_train_norm, y_train)\n",
        "confusionMatrices(nn, 'Neural Net')\n",
        "nn_result = pred_results(nn)\n",
        "pred = nn.predict(X_test_norm)\n",
        "print('\\nAIC', AIC_score(y_test, pred, df=len(X.columns) + 1), '\\n')"
      ],
      "metadata": {
        "id": "ygMnsEv0ESgZ",
        "outputId": "223b98cf-96ff-40d2-a2bf-c44cd5243437",
        "colab": {
          "base_uri": "https://localhost:8080/"
        }
      },
      "execution_count": 217,
      "outputs": [
        {
          "output_type": "stream",
          "name": "stdout",
          "text": [
            "\n",
            "--------------------\n",
            "Neural Net - training results\n",
            "\n",
            "Confusion Matrix (Accuracy 0.5972)\n",
            "\n",
            "       Prediction\n",
            "Actual   0   1\n",
            "     0 750 172\n",
            "     1 582 368\n",
            "\n",
            "--------------------\n",
            "Neural Net - validation results\n",
            "\n",
            "Confusion Matrix (Accuracy 0.5417)\n",
            "\n",
            "       Prediction\n",
            "Actual   0   1\n",
            "     0 487 151\n",
            "     1 421 189\n",
            "\n",
            "AIC 2612.0326990569934 \n",
            "\n"
          ]
        }
      ]
    },
    {
      "cell_type": "code",
      "source": [
        "rev = 13.0*(368.0 +189.0)\n",
        "costs = 0.68*((368.0 + 172.0) + (189.0 + 151.0))\n",
        "rev - costs"
      ],
      "metadata": {
        "colab": {
          "base_uri": "https://localhost:8080/"
        },
        "id": "zOyKZ0PtPk_V",
        "outputId": "cb87d356-aeb3-4725-d36f-28fd23f2f5a1"
      },
      "execution_count": 231,
      "outputs": [
        {
          "output_type": "execute_result",
          "data": {
            "text/plain": [
              "6642.6"
            ]
          },
          "metadata": {},
          "execution_count": 231
        }
      ]
    },
    {
      "cell_type": "code",
      "source": [
        "# Plot\n",
        "ax = gainsChart(lr_result.actual, label='Logistic Regression', color='C0', figsize=[10, 10])\n",
        "ax = gainsChart(bc_result.actual, label='Bagging Classifier', color='C1', ax=ax)\n",
        "ax = gainsChart(ada_result.actual, label='AdaBoost Classifier', color='C2', ax=ax)\n",
        "ax = gainsChart(rf_result.actual, label='Random Forest', color='C3', ax=ax)\n",
        "ax = gainsChart(lda_result.actual, label='Linear Discriminant Analysis', color='C4', ax=ax)\n",
        "ax = gainsChart(nn_result.actual, label='Neural Net', color='C5', ax=ax)\n",
        "ax.legend()\n",
        "ax.set_title('Model Comparisons')\n",
        "\n",
        "plt.show()"
      ],
      "metadata": {
        "id": "ei7GlSHSIjhq",
        "outputId": "99c8362d-71ed-43f7-e3f6-3f127330266d",
        "colab": {
          "base_uri": "https://localhost:8080/",
          "height": 621
        }
      },
      "execution_count": 218,
      "outputs": [
        {
          "output_type": "display_data",
          "data": {
            "text/plain": [
              "<Figure size 720x720 with 1 Axes>"
            ],
            "image/png": "[encoded data removed]"
          },
          "metadata": {
            "needs_background": "light"
          }
        }
      ]
    },
    {
      "cell_type": "markdown",
      "source": [
        "---\n",
        "**Answer:** <br>\n",
        "We’ve been asked to the following three model methods: Logistic Regression with regularization (LR), Bagging Classification (BC), Adaboost Classification (ADA), Random Forest (RF), Linear Discriminant Analysis (LDA), and Neural Net (NN). We normalized all of our features. All features were used and all models had default settings except for our Logistic Regression and Neural Net models. With these models we did cross validation to optimize some of our available hyperparameters.\n",
        "\n",
        "---"
      ],
      "metadata": {
        "id": "rURLzK6AyNmi"
      }
    },
    {
      "cell_type": "markdown",
      "source": [
        "### Question 2.2\n",
        "Classification under asymmetric response and cost: What is the reasoning behind using weighted sampling to produce a training set with equal numbers of donors and non-donors? Why not use a simple random sample from the original dataset? (10\n",
        "Points)\n"
      ],
      "metadata": {
        "id": "I-Y4XLroytlQ"
      }
    },
    {
      "cell_type": "markdown",
      "source": [
        "---\n",
        "**Answer:** <br>\n",
        "\n",
        "The purpose of doing classification under asymmetric response and cost is help the model to discriminate between the classes using features rather than prioritize class assignment on classes with the most occurrences. This methodology puts the importance of feature differentiation ahead of class weights.\n",
        "\n",
        "\n",
        "---"
      ],
      "metadata": {
        "id": "9aiNhimKyO_h"
      }
    },
    {
      "cell_type": "markdown",
      "source": [
        "### Question 2.3 \n",
        "Calculate net profit: For each method, calculate the cumulative gains of net profit for both the training and validation sets based on the actual response rate (5.1%). Again, the expected donation, given that they are donors, is \\$13.00, and the total cost of each mailing is \\$0.68. (Hint: To calculate estimated net profit, we will need to undo the effects of the weighted sampling and calculate the net profit that would reflect the actual response distribution of 5.1% donors and 94.9% non-donors. To do this, divide each row’s net profit by the oversampling weights applicable to the actual status of that row. The oversampling weight for actual donors is 50%/5.1% = 9.8. The oversampling weight for actual non-donors is 50%/94.9% = 0.53). (10 Points)\n",
        "\n"
      ],
      "metadata": {
        "id": "D6PeYtzey2VP"
      }
    },
    {
      "cell_type": "code",
      "source": [
        "len(X)"
      ],
      "metadata": {
        "colab": {
          "base_uri": "https://localhost:8080/"
        },
        "id": "HyvqU8rCOs1l",
        "outputId": "68c75e24-0ce6-4d00-cfef-cd4fb6286d1b"
      },
      "execution_count": 224,
      "outputs": [
        {
          "output_type": "execute_result",
          "data": {
            "text/plain": [
              "3120"
            ]
          },
          "metadata": {},
          "execution_count": 224
        }
      ]
    },
    {
      "cell_type": "code",
      "source": [
        "0.051/0.5"
      ],
      "metadata": {
        "id": "e62ayQTaNMjM",
        "colab": {
          "base_uri": "https://localhost:8080/"
        },
        "outputId": "9b080c38-5466-4ff0-8a98-15d46dfe53d1"
      },
      "execution_count": 258,
      "outputs": [
        {
          "output_type": "execute_result",
          "data": {
            "text/plain": [
              "0.102"
            ]
          },
          "metadata": {},
          "execution_count": 258
        }
      ]
    },
    {
      "cell_type": "code",
      "source": [
        "# Helper Functions\n",
        "def gains_data_prep(df_org, model, X=X, orig_response_rate = 0.051, new_rr = 0.5, avgRevenue = 13.0, avgCost = 0.68):\n",
        "  X_norm = scaler.transform(X)\n",
        "  proba = model.predict_proba(X_norm)\n",
        "  result = pd.DataFrame({'actual': y.astype(\"int64\"), \n",
        "                         'p(0)': [p[0] for p in proba],\n",
        "                         'p(1)': [p[1] for p in proba],\n",
        "                         'predicted': model.predict(X_norm)\n",
        "                         })\n",
        "  scoreAnalysis = df_org.join(result)\n",
        "  avg_profit = avgRevenue - avgCost\n",
        "  response_rate = orig_response_rate/new_rr\n",
        "  rr = response_rate\n",
        "  scoreAnalysis['donationProbability'] = model.predict_proba(X_norm)[:,1]\n",
        "  scoreAnalysis['adj_net_profit'] = scoreAnalysis['predicted'].apply(lambda x: (13 - .68)*(0.051/0.5) if x==1 else (-0.68)*(0.949/0.5) )\n",
        "  scoreAnalysis['adj_net_profit(inverse)'] = scoreAnalysis['predicted'].apply(lambda x: (13 - .68)/(0.5/0.051) if x==1 else (-0.68)/(0.5/0.949) )\n",
        "  \n",
        "  scoreAnalysis = scoreAnalysis.sort_values(by=['donationProbability'], ascending=False)\n",
        "  return scoreAnalysis\n",
        "\n",
        "# Get Analysis\n",
        "lr_scoreAnalysis = gains_data_prep(df_copy, lr, X)\n",
        "bc_scoreAnalysis = gains_data_prep(df_copy, bc, X)\n",
        "ada_scoreAnalysis = gains_data_prep(df_copy, ada, X)\n",
        "rf_scoreAnalysis = gains_data_prep(df_copy, rf, X)\n",
        "lda_scoreAnalysis = gains_data_prep(df_copy, lda, X)\n",
        "nn_scoreAnalysis = gains_data_prep(df_copy, nn, X)\n",
        "\n",
        "# display(lr_scoreAnalysis)\n",
        "# display(bc_scoreAnalysis)\n",
        "# display(ada_scoreAnalysis)\n",
        "# display(rf_scoreAnalysis)\n",
        "# display(lda_scoreAnalysis)\n",
        "# display(nn_scoreAnalysis)"
      ],
      "metadata": {
        "id": "k1s1X_-qbv1Y"
      },
      "execution_count": 325,
      "outputs": []
    },
    {
      "cell_type": "code",
      "source": [
        "# Gross Profit\n",
        "print('Gross Profit:')\n",
        "print('Logistic Regression =', \"${:,}\".format(lr_scoreAnalysis['adj_net_profit'].sum().round(2)))\n",
        "print('Bagging Classification =', \"${:,}\".format(bc_scoreAnalysis['adj_net_profit'].sum().round(2)))\n",
        "print('Adaboost Classification =', \"${:,}\".format(ada_scoreAnalysis['adj_net_profit'].sum().round(2)))\n",
        "print('Random Forest =', \"${:,}\".format(rf_scoreAnalysis['adj_net_profit'].sum().round(2)))\n",
        "print('Linear Discriminant Analysis =', \"${:,}\".format(lda_scoreAnalysis['adj_net_profit'].sum().round(2)))\n",
        "print('Neural Net =', \"${:,}\".format(nn_scoreAnalysis['adj_net_profit'].sum().round(2)))"
      ],
      "metadata": {
        "id": "wQluCLVogf6S",
        "outputId": "3306d32f-ef27-49ff-b8e7-d0379ef9a883",
        "colab": {
          "base_uri": "https://localhost:8080/"
        }
      },
      "execution_count": 326,
      "outputs": [
        {
          "output_type": "stream",
          "name": "stdout",
          "text": [
            "Gross Profit:\n",
            "Logistic Regression = $275.56\n",
            "Bagging Classification = $-343.43\n",
            "Adaboost Classification = $-238.99\n",
            "Random Forest = $10.64\n",
            "Linear Discriminant Analysis = $257.73\n",
            "Neural Net = $-1,785.19\n"
          ]
        }
      ]
    },
    {
      "cell_type": "markdown",
      "source": [
        "---\n",
        "**Answer:** <br>\n",
        "\n",
        "See above that our best performing model is Logistic Regression.\n",
        "\n",
        "---"
      ],
      "metadata": {
        "id": "hTtzCkFUyP_Z"
      }
    },
    {
      "cell_type": "markdown",
      "source": [
        "### Question 2.4\n",
        "Draw cumulative gains curves: Draw the different models’ net profit cumulative gains curves for the validation set in a single plot (net profit on the y-axis, proportion of list or number mailed on the x-axis). Is there a model that dominates? (10 Points)\n"
      ],
      "metadata": {
        "id": "72WrgLK70Dak"
      }
    },
    {
      "cell_type": "code",
      "source": [
        "# Plot\n",
        "ax = gainsChart(lr_scoreAnalysis.adj_net_profit, label='Logistic Regression', color='C0', figsize=[10, 10])\n",
        "ax = gainsChart(bc_scoreAnalysis.adj_net_profit, label='Bagging Classifier', color='C1', ax=ax)\n",
        "ax = gainsChart(ada_scoreAnalysis.adj_net_profit, label='AdaBoost Classifier', color='C2', ax=ax)\n",
        "ax = gainsChart(rf_scoreAnalysis.adj_net_profit, label='Random Forest', color='C3', ax=ax)\n",
        "ax = gainsChart(lda_scoreAnalysis.adj_net_profit, label='Linear Discriminant Analysis', color='C4', ax=ax)\n",
        "ax = gainsChart(nn_scoreAnalysis.adj_net_profit, label='Neural Net', color='C5', ax=ax)\n",
        "ax.legend()\n",
        "ax.set_title('Model Comparisons')\n",
        "\n",
        "plt.show()"
      ],
      "metadata": {
        "id": "9LunePdZI6fk",
        "colab": {
          "base_uri": "https://localhost:8080/",
          "height": 621
        },
        "outputId": "8e28fbaa-c5dd-4e5d-b965-89d886a1d19d"
      },
      "execution_count": 327,
      "outputs": [
        {
          "output_type": "display_data",
          "data": {
            "text/plain": [
              "<Figure size 720x720 with 1 Axes>"
            ],
            "image/png": "[encoded data removed]"
          },
          "metadata": {
            "needs_background": "light"
          }
        }
      ]
    },
    {
      "cell_type": "markdown",
      "source": [
        "---\n",
        "**Answer:** <br>\n",
        "\n",
        "See above that our best performing model is Logistic Regression.\n",
        "\n",
        "---"
      ],
      "metadata": {
        "id": "rFXTtmt-yQoA"
      }
    },
    {
      "cell_type": "markdown",
      "source": [
        "### Question 2.5\n",
        "Select the best model: From your answer in (4), what do you think is the “best” model? (12 Points)\n"
      ],
      "metadata": {
        "id": "TuIHLvEr0P8o"
      }
    },
    {
      "cell_type": "markdown",
      "source": [
        "---\n",
        "**Answer:** <br>\n",
        "\n",
        "I beleive that the two best models are Logistic Regression, followed by LDA as a close second.\n",
        "\n",
        "---"
      ],
      "metadata": {
        "id": "dSt478uIyRQX"
      }
    },
    {
      "cell_type": "markdown",
      "source": [
        "## Question 3\n",
        "**Testing:** The file FutureFundraising.csv contains the attributes for future mailing candidates.\n",
        "\n",
        "### Question 3.1\n",
        "Using your “best” model from Step 2 (number 5), which of these candidates do you predict as donors and non-donors? List them in descending order of the probability of being a donor. Starting at the top of this sorted list, roughly how far down would you go in a mailing campaign? (10 Points)\n"
      ],
      "metadata": {
        "id": "aFdQC1sl0b4J"
      }
    },
    {
      "cell_type": "code",
      "source": [
        "ff_df = pd.read_csv(FutureFundraising)\n",
        "ff_df.head()"
      ],
      "metadata": {
        "id": "Hy4eib4K8TCz",
        "outputId": "f477a5f4-2d21-481d-e558-da37c0b46091",
        "colab": {
          "base_uri": "https://localhost:8080/",
          "height": 317
        }
      },
      "execution_count": 330,
      "outputs": [
        {
          "output_type": "execute_result",
          "data": {
            "text/plain": [
              "   Row Id  Row Id.  zipconvert_2  zipconvert_3  zipconvert_4  zipconvert_5  \\\n",
              "0       1        3             0             1             0             0   \n",
              "1       2        4             0             0             1             0   \n",
              "2       3        5             0             0             0             1   \n",
              "3       4        1             0             0             0             0   \n",
              "4       5        4             0             0             1             0   \n",
              "\n",
              "   homeowner dummy  NUMCHLD  INCOME  gender dummy  ...  IC15  NUMPROM  \\\n",
              "0                1        1       1             1  ...     3       42   \n",
              "1                0        1       2             1  ...     4       21   \n",
              "2                0        1       1             0  ...    10       61   \n",
              "3                1        1       4             0  ...    21       32   \n",
              "4                1        1       7             1  ...     1       47   \n",
              "\n",
              "   RAMNTALL  MAXRAMNT  LASTGIFT  totalmonths  TIMELAG    AVGGIFT  TARGET_B  \\\n",
              "0      92.0      29.0      15.0           17        8  15.333333       NaN   \n",
              "1      30.0      20.0      20.0           33        9  15.000000       NaN   \n",
              "2     220.0      35.0      25.0           31        9  24.444444       NaN   \n",
              "3      41.0      19.0      19.0           31       13  13.666667       NaN   \n",
              "4      46.0      10.0      10.0           28        8   5.750000       NaN   \n",
              "\n",
              "   TARGET_D  \n",
              "0       NaN  \n",
              "1       NaN  \n",
              "2       NaN  \n",
              "3       NaN  \n",
              "4       NaN  \n",
              "\n",
              "[5 rows x 24 columns]"
            ],
            "text/html": [
              "\n",
              "  <div id=\"df-97f3865d-fa30-4d98-9b84-a30e82db09af\">\n",
              "    <div class=\"colab-df-container\">\n",
              "      <div>\n",
              "<style scoped>\n",
              "    .dataframe tbody tr th:only-of-type {\n",
              "        vertical-align: middle;\n",
              "    }\n",
              "\n",
              "    .dataframe tbody tr th {\n",
              "        vertical-align: top;\n",
              "    }\n",
              "\n",
              "    .dataframe thead th {\n",
              "        text-align: right;\n",
              "    }\n",
              "</style>\n",
              "<table border=\"1\" class=\"dataframe\">\n",
              "  <thead>\n",
              "    <tr style=\"text-align: right;\">\n",
              "      <th></th>\n",
              "      <th>Row Id</th>\n",
              "      <th>Row Id.</th>\n",
              "      <th>zipconvert_2</th>\n",
              "      <th>zipconvert_3</th>\n",
              "      <th>zipconvert_4</th>\n",
              "      <th>zipconvert_5</th>\n",
              "      <th>homeowner dummy</th>\n",
              "      <th>NUMCHLD</th>\n",
              "      <th>INCOME</th>\n",
              "      <th>gender dummy</th>\n",
              "      <th>...</th>\n",
              "      <th>IC15</th>\n",
              "      <th>NUMPROM</th>\n",
              "      <th>RAMNTALL</th>\n",
              "      <th>MAXRAMNT</th>\n",
              "      <th>LASTGIFT</th>\n",
              "      <th>totalmonths</th>\n",
              "      <th>TIMELAG</th>\n",
              "      <th>AVGGIFT</th>\n",
              "      <th>TARGET_B</th>\n",
              "      <th>TARGET_D</th>\n",
              "    </tr>\n",
              "  </thead>\n",
              "  <tbody>\n",
              "    <tr>\n",
              "      <th>0</th>\n",
              "      <td>1</td>\n",
              "      <td>3</td>\n",
              "      <td>0</td>\n",
              "      <td>1</td>\n",
              "      <td>0</td>\n",
              "      <td>0</td>\n",
              "      <td>1</td>\n",
              "      <td>1</td>\n",
              "      <td>1</td>\n",
              "      <td>1</td>\n",
              "      <td>...</td>\n",
              "      <td>3</td>\n",
              "      <td>42</td>\n",
              "      <td>92.0</td>\n",
              "      <td>29.0</td>\n",
              "      <td>15.0</td>\n",
              "      <td>17</td>\n",
              "      <td>8</td>\n",
              "      <td>15.333333</td>\n",
              "      <td>NaN</td>\n",
              "      <td>NaN</td>\n",
              "    </tr>\n",
              "    <tr>\n",
              "      <th>1</th>\n",
              "      <td>2</td>\n",
              "      <td>4</td>\n",
              "      <td>0</td>\n",
              "      <td>0</td>\n",
              "      <td>1</td>\n",
              "      <td>0</td>\n",
              "      <td>0</td>\n",
              "      <td>1</td>\n",
              "      <td>2</td>\n",
              "      <td>1</td>\n",
              "      <td>...</td>\n",
              "      <td>4</td>\n",
              "      <td>21</td>\n",
              "      <td>30.0</td>\n",
              "      <td>20.0</td>\n",
              "      <td>20.0</td>\n",
              "      <td>33</td>\n",
              "      <td>9</td>\n",
              "      <td>15.000000</td>\n",
              "      <td>NaN</td>\n",
              "      <td>NaN</td>\n",
              "    </tr>\n",
              "    <tr>\n",
              "      <th>2</th>\n",
              "      <td>3</td>\n",
              "      <td>5</td>\n",
              "      <td>0</td>\n",
              "      <td>0</td>\n",
              "      <td>0</td>\n",
              "      <td>1</td>\n",
              "      <td>0</td>\n",
              "      <td>1</td>\n",
              "      <td>1</td>\n",
              "      <td>0</td>\n",
              "      <td>...</td>\n",
              "      <td>10</td>\n",
              "      <td>61</td>\n",
              "      <td>220.0</td>\n",
              "      <td>35.0</td>\n",
              "      <td>25.0</td>\n",
              "      <td>31</td>\n",
              "      <td>9</td>\n",
              "      <td>24.444444</td>\n",
              "      <td>NaN</td>\n",
              "      <td>NaN</td>\n",
              "    </tr>\n",
              "    <tr>\n",
              "      <th>3</th>\n",
              "      <td>4</td>\n",
              "      <td>1</td>\n",
              "      <td>0</td>\n",
              "      <td>0</td>\n",
              "      <td>0</td>\n",
              "      <td>0</td>\n",
              "      <td>1</td>\n",
              "      <td>1</td>\n",
              "      <td>4</td>\n",
              "      <td>0</td>\n",
              "      <td>...</td>\n",
              "      <td>21</td>\n",
              "      <td>32</td>\n",
              "      <td>41.0</td>\n",
              "      <td>19.0</td>\n",
              "      <td>19.0</td>\n",
              "      <td>31</td>\n",
              "      <td>13</td>\n",
              "      <td>13.666667</td>\n",
              "      <td>NaN</td>\n",
              "      <td>NaN</td>\n",
              "    </tr>\n",
              "    <tr>\n",
              "      <th>4</th>\n",
              "      <td>5</td>\n",
              "      <td>4</td>\n",
              "      <td>0</td>\n",
              "      <td>0</td>\n",
              "      <td>1</td>\n",
              "      <td>0</td>\n",
              "      <td>1</td>\n",
              "      <td>1</td>\n",
              "      <td>7</td>\n",
              "      <td>1</td>\n",
              "      <td>...</td>\n",
              "      <td>1</td>\n",
              "      <td>47</td>\n",
              "      <td>46.0</td>\n",
              "      <td>10.0</td>\n",
              "      <td>10.0</td>\n",
              "      <td>28</td>\n",
              "      <td>8</td>\n",
              "      <td>5.750000</td>\n",
              "      <td>NaN</td>\n",
              "      <td>NaN</td>\n",
              "    </tr>\n",
              "  </tbody>\n",
              "</table>\n",
              "<p>5 rows × 24 columns</p>\n",
              "</div>\n",
              "      <button class=\"colab-df-convert\" onclick=\"convertToInteractive('df-97f3865d-fa30-4d98-9b84-a30e82db09af')\"\n",
              "              title=\"Convert this dataframe to an interactive table.\"\n",
              "              style=\"display:none;\">\n",
              "        \n",
              "  <svg xmlns=\"http://www.w3.org/2000/svg\" height=\"24px\"viewBox=\"0 0 24 24\"\n",
              "       width=\"24px\">\n",
              "    <path d=\"M0 0h24v24H0V0z\" fill=\"none\"/>\n",
              "    <path d=\"M18.56 5.44l.94 2.06.94-2.06 2.06-.94-2.06-.94-.94-2.06-.94 2.06-2.06.94zm-11 1L8.5 8.5l.94-2.06 2.06-.94-2.06-.94L8.5 2.5l-.94 2.06-2.06.94zm10 10l.94 2.06.94-2.06 2.06-.94-2.06-.94-.94-2.06-.94 2.06-2.06.94z\"/><path d=\"M17.41 7.96l-1.37-1.37c-.4-.4-.92-.59-1.43-.59-.52 0-1.04.2-1.43.59L10.3 9.45l-7.72 7.72c-.78.78-.78 2.05 0 2.83L4 21.41c.39.39.9.59 1.41.59.51 0 1.02-.2 1.41-.59l7.78-7.78 2.81-2.81c.8-.78.8-2.07 0-2.86zM5.41 20L4 18.59l7.72-7.72 1.47 1.35L5.41 20z\"/>\n",
              "  </svg>\n",
              "      </button>\n",
              "      \n",
              "  <style>\n",
              "    .colab-df-container {\n",
              "      display:flex;\n",
              "      flex-wrap:wrap;\n",
              "      gap: 12px;\n",
              "    }\n",
              "\n",
              "    .colab-df-convert {\n",
              "      background-color: #E8F0FE;\n",
              "      border: none;\n",
              "      border-radius: 50%;\n",
              "      cursor: pointer;\n",
              "      display: none;\n",
              "      fill: #1967D2;\n",
              "      height: 32px;\n",
              "      padding: 0 0 0 0;\n",
              "      width: 32px;\n",
              "    }\n",
              "\n",
              "    .colab-df-convert:hover {\n",
              "      background-color: #E2EBFA;\n",
              "      box-shadow: 0px 1px 2px rgba(60, 64, 67, 0.3), 0px 1px 3px 1px rgba(60, 64, 67, 0.15);\n",
              "      fill: #174EA6;\n",
              "    }\n",
              "\n",
              "    [theme=dark] .colab-df-convert {\n",
              "      background-color: #3B4455;\n",
              "      fill: #D2E3FC;\n",
              "    }\n",
              "\n",
              "    [theme=dark] .colab-df-convert:hover {\n",
              "      background-color: #434B5C;\n",
              "      box-shadow: 0px 1px 3px 1px rgba(0, 0, 0, 0.15);\n",
              "      filter: drop-shadow(0px 1px 2px rgba(0, 0, 0, 0.3));\n",
              "      fill: #FFFFFF;\n",
              "    }\n",
              "  </style>\n",
              "\n",
              "      <script>\n",
              "        const buttonEl =\n",
              "          document.querySelector('#df-97f3865d-fa30-4d98-9b84-a30e82db09af button.colab-df-convert');\n",
              "        buttonEl.style.display =\n",
              "          google.colab.kernel.accessAllowed ? 'block' : 'none';\n",
              "\n",
              "        async function convertToInteractive(key) {\n",
              "          const element = document.querySelector('#df-97f3865d-fa30-4d98-9b84-a30e82db09af');\n",
              "          const dataTable =\n",
              "            await google.colab.kernel.invokeFunction('convertToInteractive',\n",
              "                                                     [key], {});\n",
              "          if (!dataTable) return;\n",
              "\n",
              "          const docLinkHtml = 'Like what you see? Visit the ' +\n",
              "            '<a target=\"_blank\" href=https://colab.research.google.com/notebooks/data_table.ipynb>data table notebook</a>'\n",
              "            + ' to learn more about interactive tables.';\n",
              "          element.innerHTML = '';\n",
              "          dataTable['output_type'] = 'display_data';\n",
              "          await google.colab.output.renderOutput(dataTable, element);\n",
              "          const docLink = document.createElement('div');\n",
              "          docLink.innerHTML = docLinkHtml;\n",
              "          element.appendChild(docLink);\n",
              "        }\n",
              "      </script>\n",
              "    </div>\n",
              "  </div>\n",
              "  "
            ]
          },
          "metadata": {},
          "execution_count": 330
        }
      ]
    },
    {
      "cell_type": "code",
      "source": [
        "ff_df_copy = ff_df.copy()\n",
        "\n",
        "ff_df_copy.columns = [d.replace(' ', '_').replace('.', '') for d in ff_df_copy.columns]\n",
        "ff_df_copy = ff_df_copy.iloc[: , 2:]\n",
        "# df_copy = df_copy.drop('TARGET_D', axis=1)\n",
        "ff_df_copy.head()"
      ],
      "metadata": {
        "id": "PIh_RJA38aqd",
        "outputId": "d12d5f8a-63dc-425f-d0c5-27ed63f16245",
        "colab": {
          "base_uri": "https://localhost:8080/",
          "height": 300
        }
      },
      "execution_count": 331,
      "outputs": [
        {
          "output_type": "execute_result",
          "data": {
            "text/plain": [
              "   zipconvert_2  zipconvert_3  zipconvert_4  zipconvert_5  homeowner_dummy  \\\n",
              "0             0             1             0             0                1   \n",
              "1             0             0             1             0                0   \n",
              "2             0             0             0             1                0   \n",
              "3             0             0             0             0                1   \n",
              "4             0             0             1             0                1   \n",
              "\n",
              "   NUMCHLD  INCOME  gender_dummy  WEALTH    HV  ...  IC15  NUMPROM  RAMNTALL  \\\n",
              "0        1       1             1       8   923  ...     3       42      92.0   \n",
              "1        1       2             1       9   724  ...     4       21      30.0   \n",
              "2        1       1             0       4  1153  ...    10       61     220.0   \n",
              "3        1       4             0       1   551  ...    21       32      41.0   \n",
              "4        1       7             1       9  2214  ...     1       47      46.0   \n",
              "\n",
              "   MAXRAMNT  LASTGIFT  totalmonths  TIMELAG    AVGGIFT  TARGET_B  TARGET_D  \n",
              "0      29.0      15.0           17        8  15.333333       NaN       NaN  \n",
              "1      20.0      20.0           33        9  15.000000       NaN       NaN  \n",
              "2      35.0      25.0           31        9  24.444444       NaN       NaN  \n",
              "3      19.0      19.0           31       13  13.666667       NaN       NaN  \n",
              "4      10.0      10.0           28        8   5.750000       NaN       NaN  \n",
              "\n",
              "[5 rows x 22 columns]"
            ],
            "text/html": [
              "\n",
              "  <div id=\"df-01a21182-5618-4ef7-944e-1703243964db\">\n",
              "    <div class=\"colab-df-container\">\n",
              "      <div>\n",
              "<style scoped>\n",
              "    .dataframe tbody tr th:only-of-type {\n",
              "        vertical-align: middle;\n",
              "    }\n",
              "\n",
              "    .dataframe tbody tr th {\n",
              "        vertical-align: top;\n",
              "    }\n",
              "\n",
              "    .dataframe thead th {\n",
              "        text-align: right;\n",
              "    }\n",
              "</style>\n",
              "<table border=\"1\" class=\"dataframe\">\n",
              "  <thead>\n",
              "    <tr style=\"text-align: right;\">\n",
              "      <th></th>\n",
              "      <th>zipconvert_2</th>\n",
              "      <th>zipconvert_3</th>\n",
              "      <th>zipconvert_4</th>\n",
              "      <th>zipconvert_5</th>\n",
              "      <th>homeowner_dummy</th>\n",
              "      <th>NUMCHLD</th>\n",
              "      <th>INCOME</th>\n",
              "      <th>gender_dummy</th>\n",
              "      <th>WEALTH</th>\n",
              "      <th>HV</th>\n",
              "      <th>...</th>\n",
              "      <th>IC15</th>\n",
              "      <th>NUMPROM</th>\n",
              "      <th>RAMNTALL</th>\n",
              "      <th>MAXRAMNT</th>\n",
              "      <th>LASTGIFT</th>\n",
              "      <th>totalmonths</th>\n",
              "      <th>TIMELAG</th>\n",
              "      <th>AVGGIFT</th>\n",
              "      <th>TARGET_B</th>\n",
              "      <th>TARGET_D</th>\n",
              "    </tr>\n",
              "  </thead>\n",
              "  <tbody>\n",
              "    <tr>\n",
              "      <th>0</th>\n",
              "      <td>0</td>\n",
              "      <td>1</td>\n",
              "      <td>0</td>\n",
              "      <td>0</td>\n",
              "      <td>1</td>\n",
              "      <td>1</td>\n",
              "      <td>1</td>\n",
              "      <td>1</td>\n",
              "      <td>8</td>\n",
              "      <td>923</td>\n",
              "      <td>...</td>\n",
              "      <td>3</td>\n",
              "      <td>42</td>\n",
              "      <td>92.0</td>\n",
              "      <td>29.0</td>\n",
              "      <td>15.0</td>\n",
              "      <td>17</td>\n",
              "      <td>8</td>\n",
              "      <td>15.333333</td>\n",
              "      <td>NaN</td>\n",
              "      <td>NaN</td>\n",
              "    </tr>\n",
              "    <tr>\n",
              "      <th>1</th>\n",
              "      <td>0</td>\n",
              "      <td>0</td>\n",
              "      <td>1</td>\n",
              "      <td>0</td>\n",
              "      <td>0</td>\n",
              "      <td>1</td>\n",
              "      <td>2</td>\n",
              "      <td>1</td>\n",
              "      <td>9</td>\n",
              "      <td>724</td>\n",
              "      <td>...</td>\n",
              "      <td>4</td>\n",
              "      <td>21</td>\n",
              "      <td>30.0</td>\n",
              "      <td>20.0</td>\n",
              "      <td>20.0</td>\n",
              "      <td>33</td>\n",
              "      <td>9</td>\n",
              "      <td>15.000000</td>\n",
              "      <td>NaN</td>\n",
              "      <td>NaN</td>\n",
              "    </tr>\n",
              "    <tr>\n",
              "      <th>2</th>\n",
              "      <td>0</td>\n",
              "      <td>0</td>\n",
              "      <td>0</td>\n",
              "      <td>1</td>\n",
              "      <td>0</td>\n",
              "      <td>1</td>\n",
              "      <td>1</td>\n",
              "      <td>0</td>\n",
              "      <td>4</td>\n",
              "      <td>1153</td>\n",
              "      <td>...</td>\n",
              "      <td>10</td>\n",
              "      <td>61</td>\n",
              "      <td>220.0</td>\n",
              "      <td>35.0</td>\n",
              "      <td>25.0</td>\n",
              "      <td>31</td>\n",
              "      <td>9</td>\n",
              "      <td>24.444444</td>\n",
              "      <td>NaN</td>\n",
              "      <td>NaN</td>\n",
              "    </tr>\n",
              "    <tr>\n",
              "      <th>3</th>\n",
              "      <td>0</td>\n",
              "      <td>0</td>\n",
              "      <td>0</td>\n",
              "      <td>0</td>\n",
              "      <td>1</td>\n",
              "      <td>1</td>\n",
              "      <td>4</td>\n",
              "      <td>0</td>\n",
              "      <td>1</td>\n",
              "      <td>551</td>\n",
              "      <td>...</td>\n",
              "      <td>21</td>\n",
              "      <td>32</td>\n",
              "      <td>41.0</td>\n",
              "      <td>19.0</td>\n",
              "      <td>19.0</td>\n",
              "      <td>31</td>\n",
              "      <td>13</td>\n",
              "      <td>13.666667</td>\n",
              "      <td>NaN</td>\n",
              "      <td>NaN</td>\n",
              "    </tr>\n",
              "    <tr>\n",
              "      <th>4</th>\n",
              "      <td>0</td>\n",
              "      <td>0</td>\n",
              "      <td>1</td>\n",
              "      <td>0</td>\n",
              "      <td>1</td>\n",
              "      <td>1</td>\n",
              "      <td>7</td>\n",
              "      <td>1</td>\n",
              "      <td>9</td>\n",
              "      <td>2214</td>\n",
              "      <td>...</td>\n",
              "      <td>1</td>\n",
              "      <td>47</td>\n",
              "      <td>46.0</td>\n",
              "      <td>10.0</td>\n",
              "      <td>10.0</td>\n",
              "      <td>28</td>\n",
              "      <td>8</td>\n",
              "      <td>5.750000</td>\n",
              "      <td>NaN</td>\n",
              "      <td>NaN</td>\n",
              "    </tr>\n",
              "  </tbody>\n",
              "</table>\n",
              "<p>5 rows × 22 columns</p>\n",
              "</div>\n",
              "      <button class=\"colab-df-convert\" onclick=\"convertToInteractive('df-01a21182-5618-4ef7-944e-1703243964db')\"\n",
              "              title=\"Convert this dataframe to an interactive table.\"\n",
              "              style=\"display:none;\">\n",
              "        \n",
              "  <svg xmlns=\"http://www.w3.org/2000/svg\" height=\"24px\"viewBox=\"0 0 24 24\"\n",
              "       width=\"24px\">\n",
              "    <path d=\"M0 0h24v24H0V0z\" fill=\"none\"/>\n",
              "    <path d=\"M18.56 5.44l.94 2.06.94-2.06 2.06-.94-2.06-.94-.94-2.06-.94 2.06-2.06.94zm-11 1L8.5 8.5l.94-2.06 2.06-.94-2.06-.94L8.5 2.5l-.94 2.06-2.06.94zm10 10l.94 2.06.94-2.06 2.06-.94-2.06-.94-.94-2.06-.94 2.06-2.06.94z\"/><path d=\"M17.41 7.96l-1.37-1.37c-.4-.4-.92-.59-1.43-.59-.52 0-1.04.2-1.43.59L10.3 9.45l-7.72 7.72c-.78.78-.78 2.05 0 2.83L4 21.41c.39.39.9.59 1.41.59.51 0 1.02-.2 1.41-.59l7.78-7.78 2.81-2.81c.8-.78.8-2.07 0-2.86zM5.41 20L4 18.59l7.72-7.72 1.47 1.35L5.41 20z\"/>\n",
              "  </svg>\n",
              "      </button>\n",
              "      \n",
              "  <style>\n",
              "    .colab-df-container {\n",
              "      display:flex;\n",
              "      flex-wrap:wrap;\n",
              "      gap: 12px;\n",
              "    }\n",
              "\n",
              "    .colab-df-convert {\n",
              "      background-color: #E8F0FE;\n",
              "      border: none;\n",
              "      border-radius: 50%;\n",
              "      cursor: pointer;\n",
              "      display: none;\n",
              "      fill: #1967D2;\n",
              "      height: 32px;\n",
              "      padding: 0 0 0 0;\n",
              "      width: 32px;\n",
              "    }\n",
              "\n",
              "    .colab-df-convert:hover {\n",
              "      background-color: #E2EBFA;\n",
              "      box-shadow: 0px 1px 2px rgba(60, 64, 67, 0.3), 0px 1px 3px 1px rgba(60, 64, 67, 0.15);\n",
              "      fill: #174EA6;\n",
              "    }\n",
              "\n",
              "    [theme=dark] .colab-df-convert {\n",
              "      background-color: #3B4455;\n",
              "      fill: #D2E3FC;\n",
              "    }\n",
              "\n",
              "    [theme=dark] .colab-df-convert:hover {\n",
              "      background-color: #434B5C;\n",
              "      box-shadow: 0px 1px 3px 1px rgba(0, 0, 0, 0.15);\n",
              "      filter: drop-shadow(0px 1px 2px rgba(0, 0, 0, 0.3));\n",
              "      fill: #FFFFFF;\n",
              "    }\n",
              "  </style>\n",
              "\n",
              "      <script>\n",
              "        const buttonEl =\n",
              "          document.querySelector('#df-01a21182-5618-4ef7-944e-1703243964db button.colab-df-convert');\n",
              "        buttonEl.style.display =\n",
              "          google.colab.kernel.accessAllowed ? 'block' : 'none';\n",
              "\n",
              "        async function convertToInteractive(key) {\n",
              "          const element = document.querySelector('#df-01a21182-5618-4ef7-944e-1703243964db');\n",
              "          const dataTable =\n",
              "            await google.colab.kernel.invokeFunction('convertToInteractive',\n",
              "                                                     [key], {});\n",
              "          if (!dataTable) return;\n",
              "\n",
              "          const docLinkHtml = 'Like what you see? Visit the ' +\n",
              "            '<a target=\"_blank\" href=https://colab.research.google.com/notebooks/data_table.ipynb>data table notebook</a>'\n",
              "            + ' to learn more about interactive tables.';\n",
              "          element.innerHTML = '';\n",
              "          dataTable['output_type'] = 'display_data';\n",
              "          await google.colab.output.renderOutput(dataTable, element);\n",
              "          const docLink = document.createElement('div');\n",
              "          docLink.innerHTML = docLinkHtml;\n",
              "          element.appendChild(docLink);\n",
              "        }\n",
              "      </script>\n",
              "    </div>\n",
              "  </div>\n",
              "  "
            ]
          },
          "metadata": {},
          "execution_count": 331
        }
      ]
    },
    {
      "cell_type": "code",
      "source": [
        "# separate target and predictors\n",
        "y = ff_df_copy['TARGET_B'].to_numpy()\n",
        "X = ff_df_copy.drop(['TARGET_B', 'TARGET_D'], axis=1)\n"
      ],
      "metadata": {
        "id": "8HWVTmlV8ATO"
      },
      "execution_count": 339,
      "outputs": []
    },
    {
      "cell_type": "code",
      "source": [
        "X_norm = scaler.transform(X)\n",
        "pred_y = lr.predict_proba(X_norm)"
      ],
      "metadata": {
        "id": "uP6W0UmJ8spD"
      },
      "execution_count": 341,
      "outputs": []
    },
    {
      "cell_type": "code",
      "source": [
        "lr_model_proba = lr.predict_proba(X_norm)\n",
        "pred_results = pd.DataFrame({'p(0)': [p[0] for p in lr_model_proba],\n",
        "                          'p(1)': [p[1] for p in lr_model_proba],\n",
        "                          'predicted': lr.predict(X_norm),\n",
        "\n",
        "                        })\n",
        "pred_results = pred_results.sort_values(by=['p(1)'], ascending=False)\n",
        "\n",
        "pred_results['marginalRevenue'] = pred_results['predicted'].apply(lambda x: (13)/(0.5/0.051) if x==1 else (0)/(0.5/0.949) )\n",
        "pred_results['marginalCosts'] = pred_results['predicted'].apply(lambda x: (-0.68)/(0.5/0.051) if x==1 else (-0.68)/(0.5/0.949) )\n",
        "pred_results['total'] = pred_results['predicted'].apply(lambda x: (13 - .68)/(0.5/0.051) if x==1 else (-0.68)/(0.5/0.949) )\n",
        "pred_results['netProfit'] = pred_results['marginalRevenue'] + pred_results['marginalCosts']\n",
        "pred_results['cumProfit'] = pred_results['netProfit'].cumsum()\n",
        "pred_results\n"
      ],
      "metadata": {
        "id": "_D91O95l9ZxA",
        "outputId": "c0823629-2f04-4759-8a49-db41e073790b",
        "colab": {
          "base_uri": "https://localhost:8080/",
          "height": 424
        }
      },
      "execution_count": 354,
      "outputs": [
        {
          "output_type": "execute_result",
          "data": {
            "text/plain": [
              "          p(0)      p(1)  predicted  marginalRevenue  marginalCosts    total  \\\n",
              "1013  0.224800  0.775200          1            1.326       -0.06936  1.25664   \n",
              "721   0.225051  0.774949          1            1.326       -0.06936  1.25664   \n",
              "119   0.235727  0.764273          1            1.326       -0.06936  1.25664   \n",
              "55    0.239903  0.760097          1            1.326       -0.06936  1.25664   \n",
              "25    0.244639  0.755361          1            1.326       -0.06936  1.25664   \n",
              "...        ...       ...        ...              ...            ...      ...   \n",
              "835   0.926304  0.073696          0            0.000       -1.29064 -1.29064   \n",
              "23    0.928075  0.071925          0            0.000       -1.29064 -1.29064   \n",
              "1852  0.928275  0.071725          0            0.000       -1.29064 -1.29064   \n",
              "1813  0.933665  0.066335          0            0.000       -1.29064 -1.29064   \n",
              "1272  0.946318  0.053682          0            0.000       -1.29064 -1.29064   \n",
              "\n",
              "      netProfit  cumProfit  \n",
              "1013    1.25664    1.25664  \n",
              "721     1.25664    2.51328  \n",
              "119     1.25664    3.76992  \n",
              "55      1.25664    5.02656  \n",
              "25      1.25664    6.28320  \n",
              "...         ...        ...  \n",
              "835    -1.29064  -51.76296  \n",
              "23     -1.29064  -53.05360  \n",
              "1852   -1.29064  -54.34424  \n",
              "1813   -1.29064  -55.63488  \n",
              "1272   -1.29064  -56.92552  \n",
              "\n",
              "[2000 rows x 8 columns]"
            ],
            "text/html": [
              "\n",
              "  <div id=\"df-eaa4f359-21f4-46e5-8313-112a2b7e7a04\">\n",
              "    <div class=\"colab-df-container\">\n",
              "      <div>\n",
              "<style scoped>\n",
              "    .dataframe tbody tr th:only-of-type {\n",
              "        vertical-align: middle;\n",
              "    }\n",
              "\n",
              "    .dataframe tbody tr th {\n",
              "        vertical-align: top;\n",
              "    }\n",
              "\n",
              "    .dataframe thead th {\n",
              "        text-align: right;\n",
              "    }\n",
              "</style>\n",
              "<table border=\"1\" class=\"dataframe\">\n",
              "  <thead>\n",
              "    <tr style=\"text-align: right;\">\n",
              "      <th></th>\n",
              "      <th>p(0)</th>\n",
              "      <th>p(1)</th>\n",
              "      <th>predicted</th>\n",
              "      <th>marginalRevenue</th>\n",
              "      <th>marginalCosts</th>\n",
              "      <th>total</th>\n",
              "      <th>netProfit</th>\n",
              "      <th>cumProfit</th>\n",
              "    </tr>\n",
              "  </thead>\n",
              "  <tbody>\n",
              "    <tr>\n",
              "      <th>1013</th>\n",
              "      <td>0.224800</td>\n",
              "      <td>0.775200</td>\n",
              "      <td>1</td>\n",
              "      <td>1.326</td>\n",
              "      <td>-0.06936</td>\n",
              "      <td>1.25664</td>\n",
              "      <td>1.25664</td>\n",
              "      <td>1.25664</td>\n",
              "    </tr>\n",
              "    <tr>\n",
              "      <th>721</th>\n",
              "      <td>0.225051</td>\n",
              "      <td>0.774949</td>\n",
              "      <td>1</td>\n",
              "      <td>1.326</td>\n",
              "      <td>-0.06936</td>\n",
              "      <td>1.25664</td>\n",
              "      <td>1.25664</td>\n",
              "      <td>2.51328</td>\n",
              "    </tr>\n",
              "    <tr>\n",
              "      <th>119</th>\n",
              "      <td>0.235727</td>\n",
              "      <td>0.764273</td>\n",
              "      <td>1</td>\n",
              "      <td>1.326</td>\n",
              "      <td>-0.06936</td>\n",
              "      <td>1.25664</td>\n",
              "      <td>1.25664</td>\n",
              "      <td>3.76992</td>\n",
              "    </tr>\n",
              "    <tr>\n",
              "      <th>55</th>\n",
              "      <td>0.239903</td>\n",
              "      <td>0.760097</td>\n",
              "      <td>1</td>\n",
              "      <td>1.326</td>\n",
              "      <td>-0.06936</td>\n",
              "      <td>1.25664</td>\n",
              "      <td>1.25664</td>\n",
              "      <td>5.02656</td>\n",
              "    </tr>\n",
              "    <tr>\n",
              "      <th>25</th>\n",
              "      <td>0.244639</td>\n",
              "      <td>0.755361</td>\n",
              "      <td>1</td>\n",
              "      <td>1.326</td>\n",
              "      <td>-0.06936</td>\n",
              "      <td>1.25664</td>\n",
              "      <td>1.25664</td>\n",
              "      <td>6.28320</td>\n",
              "    </tr>\n",
              "    <tr>\n",
              "      <th>...</th>\n",
              "      <td>...</td>\n",
              "      <td>...</td>\n",
              "      <td>...</td>\n",
              "      <td>...</td>\n",
              "      <td>...</td>\n",
              "      <td>...</td>\n",
              "      <td>...</td>\n",
              "      <td>...</td>\n",
              "    </tr>\n",
              "    <tr>\n",
              "      <th>835</th>\n",
              "      <td>0.926304</td>\n",
              "      <td>0.073696</td>\n",
              "      <td>0</td>\n",
              "      <td>0.000</td>\n",
              "      <td>-1.29064</td>\n",
              "      <td>-1.29064</td>\n",
              "      <td>-1.29064</td>\n",
              "      <td>-51.76296</td>\n",
              "    </tr>\n",
              "    <tr>\n",
              "      <th>23</th>\n",
              "      <td>0.928075</td>\n",
              "      <td>0.071925</td>\n",
              "      <td>0</td>\n",
              "      <td>0.000</td>\n",
              "      <td>-1.29064</td>\n",
              "      <td>-1.29064</td>\n",
              "      <td>-1.29064</td>\n",
              "      <td>-53.05360</td>\n",
              "    </tr>\n",
              "    <tr>\n",
              "      <th>1852</th>\n",
              "      <td>0.928275</td>\n",
              "      <td>0.071725</td>\n",
              "      <td>0</td>\n",
              "      <td>0.000</td>\n",
              "      <td>-1.29064</td>\n",
              "      <td>-1.29064</td>\n",
              "      <td>-1.29064</td>\n",
              "      <td>-54.34424</td>\n",
              "    </tr>\n",
              "    <tr>\n",
              "      <th>1813</th>\n",
              "      <td>0.933665</td>\n",
              "      <td>0.066335</td>\n",
              "      <td>0</td>\n",
              "      <td>0.000</td>\n",
              "      <td>-1.29064</td>\n",
              "      <td>-1.29064</td>\n",
              "      <td>-1.29064</td>\n",
              "      <td>-55.63488</td>\n",
              "    </tr>\n",
              "    <tr>\n",
              "      <th>1272</th>\n",
              "      <td>0.946318</td>\n",
              "      <td>0.053682</td>\n",
              "      <td>0</td>\n",
              "      <td>0.000</td>\n",
              "      <td>-1.29064</td>\n",
              "      <td>-1.29064</td>\n",
              "      <td>-1.29064</td>\n",
              "      <td>-56.92552</td>\n",
              "    </tr>\n",
              "  </tbody>\n",
              "</table>\n",
              "<p>2000 rows × 8 columns</p>\n",
              "</div>\n",
              "      <button class=\"colab-df-convert\" onclick=\"convertToInteractive('df-eaa4f359-21f4-46e5-8313-112a2b7e7a04')\"\n",
              "              title=\"Convert this dataframe to an interactive table.\"\n",
              "              style=\"display:none;\">\n",
              "        \n",
              "  <svg xmlns=\"http://www.w3.org/2000/svg\" height=\"24px\"viewBox=\"0 0 24 24\"\n",
              "       width=\"24px\">\n",
              "    <path d=\"M0 0h24v24H0V0z\" fill=\"none\"/>\n",
              "    <path d=\"M18.56 5.44l.94 2.06.94-2.06 2.06-.94-2.06-.94-.94-2.06-.94 2.06-2.06.94zm-11 1L8.5 8.5l.94-2.06 2.06-.94-2.06-.94L8.5 2.5l-.94 2.06-2.06.94zm10 10l.94 2.06.94-2.06 2.06-.94-2.06-.94-.94-2.06-.94 2.06-2.06.94z\"/><path d=\"M17.41 7.96l-1.37-1.37c-.4-.4-.92-.59-1.43-.59-.52 0-1.04.2-1.43.59L10.3 9.45l-7.72 7.72c-.78.78-.78 2.05 0 2.83L4 21.41c.39.39.9.59 1.41.59.51 0 1.02-.2 1.41-.59l7.78-7.78 2.81-2.81c.8-.78.8-2.07 0-2.86zM5.41 20L4 18.59l7.72-7.72 1.47 1.35L5.41 20z\"/>\n",
              "  </svg>\n",
              "      </button>\n",
              "      \n",
              "  <style>\n",
              "    .colab-df-container {\n",
              "      display:flex;\n",
              "      flex-wrap:wrap;\n",
              "      gap: 12px;\n",
              "    }\n",
              "\n",
              "    .colab-df-convert {\n",
              "      background-color: #E8F0FE;\n",
              "      border: none;\n",
              "      border-radius: 50%;\n",
              "      cursor: pointer;\n",
              "      display: none;\n",
              "      fill: #1967D2;\n",
              "      height: 32px;\n",
              "      padding: 0 0 0 0;\n",
              "      width: 32px;\n",
              "    }\n",
              "\n",
              "    .colab-df-convert:hover {\n",
              "      background-color: #E2EBFA;\n",
              "      box-shadow: 0px 1px 2px rgba(60, 64, 67, 0.3), 0px 1px 3px 1px rgba(60, 64, 67, 0.15);\n",
              "      fill: #174EA6;\n",
              "    }\n",
              "\n",
              "    [theme=dark] .colab-df-convert {\n",
              "      background-color: #3B4455;\n",
              "      fill: #D2E3FC;\n",
              "    }\n",
              "\n",
              "    [theme=dark] .colab-df-convert:hover {\n",
              "      background-color: #434B5C;\n",
              "      box-shadow: 0px 1px 3px 1px rgba(0, 0, 0, 0.15);\n",
              "      filter: drop-shadow(0px 1px 2px rgba(0, 0, 0, 0.3));\n",
              "      fill: #FFFFFF;\n",
              "    }\n",
              "  </style>\n",
              "\n",
              "      <script>\n",
              "        const buttonEl =\n",
              "          document.querySelector('#df-eaa4f359-21f4-46e5-8313-112a2b7e7a04 button.colab-df-convert');\n",
              "        buttonEl.style.display =\n",
              "          google.colab.kernel.accessAllowed ? 'block' : 'none';\n",
              "\n",
              "        async function convertToInteractive(key) {\n",
              "          const element = document.querySelector('#df-eaa4f359-21f4-46e5-8313-112a2b7e7a04');\n",
              "          const dataTable =\n",
              "            await google.colab.kernel.invokeFunction('convertToInteractive',\n",
              "                                                     [key], {});\n",
              "          if (!dataTable) return;\n",
              "\n",
              "          const docLinkHtml = 'Like what you see? Visit the ' +\n",
              "            '<a target=\"_blank\" href=https://colab.research.google.com/notebooks/data_table.ipynb>data table notebook</a>'\n",
              "            + ' to learn more about interactive tables.';\n",
              "          element.innerHTML = '';\n",
              "          dataTable['output_type'] = 'display_data';\n",
              "          await google.colab.output.renderOutput(dataTable, element);\n",
              "          const docLink = document.createElement('div');\n",
              "          docLink.innerHTML = docLinkHtml;\n",
              "          element.appendChild(docLink);\n",
              "        }\n",
              "      </script>\n",
              "    </div>\n",
              "  </div>\n",
              "  "
            ]
          },
          "metadata": {},
          "execution_count": 354
        }
      ]
    },
    {
      "cell_type": "code",
      "source": [
        "profit_max = pred_results[pred_results['cumProfit'] == pred_results['cumProfit'].max()].index[0]\n",
        "profit_max"
      ],
      "metadata": {
        "id": "lrzgGNzIvLdK",
        "outputId": "317aaad1-fdc1-4fe0-ea9c-56bba71a8ede",
        "colab": {
          "base_uri": "https://localhost:8080/"
        }
      },
      "execution_count": 356,
      "outputs": [
        {
          "output_type": "execute_result",
          "data": {
            "text/plain": [
              "1407"
            ]
          },
          "metadata": {},
          "execution_count": 356
        }
      ]
    },
    {
      "cell_type": "code",
      "source": [
        "# Profit Maximizing point\n",
        "profit_max"
      ],
      "metadata": {
        "id": "0zjJN0SH1a_a",
        "outputId": "48295832-7767-47d1-fdd8-d68aced60c5e",
        "colab": {
          "base_uri": "https://localhost:8080/"
        }
      },
      "execution_count": 358,
      "outputs": [
        {
          "output_type": "execute_result",
          "data": {
            "text/plain": [
              "1407"
            ]
          },
          "metadata": {},
          "execution_count": 358
        }
      ]
    },
    {
      "cell_type": "markdown",
      "source": [
        "---\n",
        "**Answer:** <br>\n",
        "\n",
        "Econ 101 says we will optimize profits when our marginal costs equals our marginal revenue. That being said, I would contact the first 1407 prospects to maximize profitability from this list.\n",
        "\n",
        "---"
      ],
      "metadata": {
        "id": "XqJqqNtDyVQb"
      }
    },
    {
      "cell_type": "markdown",
      "source": [
        "### Question 3.2\n",
        "Briefly explain, in two to three paragraphs, the business objective, the data mining models used, why they were used, the model results, and your recommendations to your non-technical stakeholder team. (14 Points)"
      ],
      "metadata": {
        "id": "agxvMwlZ0uTY"
      }
    },
    {
      "cell_type": "markdown",
      "source": [
        "---\n",
        "**Answer:** <br>\n",
        "\n",
        "Our main business objective is that the national veterans’ organization wants us to develop a predictive model to improve the cost-effectiveness of their direct marketing campaigns. For this project we tried six algorithms: Logistic Regression with regularization (LR), Bagging Classification (BC), Adaboost Classification (ADA), Random Forest (RF), Linear Discriminant Analysis (LDA), and Neural Net (NN). We used the aforementioned models because we were assigned to do so and because our assignment is a classification problem and these were classification algorithms. \n",
        "\n",
        "Our recommendations for our stakeholders are as follows: \n",
        "•\tUse the Logistic Regression model because it showed the highest lift.  \n",
        "•\tConsider looking for an optimal cutoff where the marketing costs are minimized, and the profitability is maximized. Using 0.5 seems arbitrary at this point.\n",
        "\n",
        "\n",
        "---"
      ],
      "metadata": {
        "id": "O0sbTTpdyVuv"
      }
    }
  ],
  "metadata": {
    "kernelspec": {
      "display_name": "Python 3 (ipykernel)",
      "language": "python",
      "name": "python3"
    },
    "language_info": {
      "codemirror_mode": {
        "name": "ipython",
        "version": 3
      },
      "file_extension": ".py",
      "mimetype": "text/x-python",
      "name": "python",
      "nbconvert_exporter": "python",
      "pygments_lexer": "ipython3",
      "version": "3.9.12"
    },
    "colab": {
      "provenance": [],
      "include_colab_link": true
    }
  },
  "nbformat": 4,
  "nbformat_minor": 0
}