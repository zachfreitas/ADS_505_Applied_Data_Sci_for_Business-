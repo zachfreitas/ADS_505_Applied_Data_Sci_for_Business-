{
  "cells": [
    {
      "cell_type": "markdown",
      "metadata": {
        "id": "view-in-github",
        "colab_type": "text"
      },
      "source": [
        "<a href=\"https://colab.research.google.com/github/zachfreitas/ADS_505_Applied_Data_Sci_for_Business-/blob/main/Module_4/Lab_4/Ch13_ProbSolutions_Ensemble.ipynb\" target=\"_parent\"><img src=\"https://colab.research.google.com/assets/colab-badge.svg\" alt=\"Open In Colab\"/></a>"
      ]
    },
    {
      "cell_type": "markdown",
      "metadata": {
        "id": "GI-dnQJRoQVo"
      },
      "source": [
        "# Chapter 13: Combining Methods: Ensembles and Uplift Modeling"
      ]
    },
    {
      "cell_type": "markdown",
      "metadata": {
        "id": "P6c1njmNoQVw"
      },
      "source": [
        "\n",
        "> (c) 2019-2020 Galit Shmueli, Peter C. Bruce, Peter Gedeck \n",
        ">\n",
        "> _Data Mining for Business Analytics: Concepts, Techniques, and Applications in Python_ (First Edition) \n",
        "> Galit Shmueli, Peter C. Bruce, Peter Gedeck, and Nitin R. Patel. 2019.\n",
        ">\n",
        "> Date: 2020-03-08\n",
        ">\n",
        "> Python Version: 3.8.2\n",
        "> Jupyter Notebook Version: 5.6.1\n",
        ">\n",
        "> Packages:\n",
        ">   - dmba: 0.0.12\n",
        ">   - matplotlib: 3.2.0\n",
        ">   - pandas: 1.0.1\n",
        ">   - scikit-learn: 0.22.2\n",
        ">\n",
        "> The assistance from Mr. Kuber Deokar and Ms. Anuja Kulkarni in preparing these solutions is gratefully acknowledged.\n",
        "\n",
        "> Edited and presented by Dillon Orr for University of San Diego, 2022\n"
      ]
    },
    {
      "cell_type": "code",
      "source": [
        "!pip install dmba"
      ],
      "metadata": {
        "colab": {
          "base_uri": "https://localhost:8080/"
        },
        "id": "ObMcRLgFoYjE",
        "outputId": "6a335a26-5a5a-4507-c551-9dc02789fcc2"
      },
      "execution_count": 2,
      "outputs": [
        {
          "output_type": "stream",
          "name": "stdout",
          "text": [
            "Looking in indexes: https://pypi.org/simple, https://us-python.pkg.dev/colab-wheels/public/simple/\n",
            "Collecting dmba\n",
            "  Downloading dmba-0.1.0-py3-none-any.whl (11.8 MB)\n",
            "\u001b[K     |████████████████████████████████| 11.8 MB 2.2 MB/s \n",
            "\u001b[?25hInstalling collected packages: dmba\n",
            "Successfully installed dmba-0.1.0\n"
          ]
        }
      ]
    },
    {
      "cell_type": "code",
      "execution_count": 3,
      "metadata": {
        "colab": {
          "base_uri": "https://localhost:8080/"
        },
        "id": "h33g-EqZoQVy",
        "outputId": "c37ed72f-0972-402a-bdfa-0fe911da4ae2"
      },
      "outputs": [
        {
          "output_type": "stream",
          "name": "stdout",
          "text": [
            "no display found. Using non-interactive Agg backend\n"
          ]
        }
      ],
      "source": [
        "# # Import required packages for this chapter\n",
        "\n",
        "import pandas as pd\n",
        "import matplotlib.pylab as plt\n",
        "import numpy as np\n",
        "\n",
        "from sklearn import preprocessing\n",
        "from sklearn.ensemble import RandomForestClassifier\n",
        "from sklearn.neighbors import KNeighborsClassifier\n",
        "from sklearn.model_selection import train_test_split\n",
        "\n",
        "\n",
        "from dmba import classificationSummary\n",
        "\n",
        "%matplotlib inline"
      ]
    },
    {
      "cell_type": "markdown",
      "metadata": {
        "id": "K1NwH1RUoQV2"
      },
      "source": [
        "# Problem 13.4 - Hair Care Product - Uplift Modeling\n",
        "This problem uses the data set in _Hair-Care-Product.csv_, courtesy of SAS. In this hypothetical case, a promotion for a hair care product was sent to some members of a buyers club.  Purchases were then recorded for both the members who got the promotion and those who did not."
      ]
    },
    {
      "cell_type": "markdown",
      "metadata": {
        "tags": [],
        "id": "3qV2hhKtoQV3"
      },
      "source": [
        "## Preprocessing"
      ]
    },
    {
      "cell_type": "code",
      "execution_count": 5,
      "metadata": {
        "colab": {
          "base_uri": "https://localhost:8080/",
          "height": 206
        },
        "id": "e79qq1vyoQV3",
        "outputId": "e4824ca1-530c-43d0-d4d7-628daaea6cf6"
      },
      "outputs": [
        {
          "output_type": "execute_result",
          "data": {
            "text/plain": [
              "   Purchase  Age Hair Color U.S. Region  Validation  Promotion_ord  \\\n",
              "0         0   25      Black   Southwest           1              1   \n",
              "1         0   30      Black   Northwest           1              0   \n",
              "2         0   45        Red   Northeast           1              0   \n",
              "3         0   35      Blond   Southwest           0              0   \n",
              "4         0   33      Brown   Southwest           0              1   \n",
              "\n",
              "   Gender_ord  Residence_ord  \n",
              "0           0              1  \n",
              "1           0              1  \n",
              "2           0              0  \n",
              "3           0              1  \n",
              "4           0              1  "
            ],
            "text/html": [
              "\n",
              "  <div id=\"df-c9667003-7d84-4183-b353-b40287e72d67\">\n",
              "    <div class=\"colab-df-container\">\n",
              "      <div>\n",
              "<style scoped>\n",
              "    .dataframe tbody tr th:only-of-type {\n",
              "        vertical-align: middle;\n",
              "    }\n",
              "\n",
              "    .dataframe tbody tr th {\n",
              "        vertical-align: top;\n",
              "    }\n",
              "\n",
              "    .dataframe thead th {\n",
              "        text-align: right;\n",
              "    }\n",
              "</style>\n",
              "<table border=\"1\" class=\"dataframe\">\n",
              "  <thead>\n",
              "    <tr style=\"text-align: right;\">\n",
              "      <th></th>\n",
              "      <th>Purchase</th>\n",
              "      <th>Age</th>\n",
              "      <th>Hair Color</th>\n",
              "      <th>U.S. Region</th>\n",
              "      <th>Validation</th>\n",
              "      <th>Promotion_ord</th>\n",
              "      <th>Gender_ord</th>\n",
              "      <th>Residence_ord</th>\n",
              "    </tr>\n",
              "  </thead>\n",
              "  <tbody>\n",
              "    <tr>\n",
              "      <th>0</th>\n",
              "      <td>0</td>\n",
              "      <td>25</td>\n",
              "      <td>Black</td>\n",
              "      <td>Southwest</td>\n",
              "      <td>1</td>\n",
              "      <td>1</td>\n",
              "      <td>0</td>\n",
              "      <td>1</td>\n",
              "    </tr>\n",
              "    <tr>\n",
              "      <th>1</th>\n",
              "      <td>0</td>\n",
              "      <td>30</td>\n",
              "      <td>Black</td>\n",
              "      <td>Northwest</td>\n",
              "      <td>1</td>\n",
              "      <td>0</td>\n",
              "      <td>0</td>\n",
              "      <td>1</td>\n",
              "    </tr>\n",
              "    <tr>\n",
              "      <th>2</th>\n",
              "      <td>0</td>\n",
              "      <td>45</td>\n",
              "      <td>Red</td>\n",
              "      <td>Northeast</td>\n",
              "      <td>1</td>\n",
              "      <td>0</td>\n",
              "      <td>0</td>\n",
              "      <td>0</td>\n",
              "    </tr>\n",
              "    <tr>\n",
              "      <th>3</th>\n",
              "      <td>0</td>\n",
              "      <td>35</td>\n",
              "      <td>Blond</td>\n",
              "      <td>Southwest</td>\n",
              "      <td>0</td>\n",
              "      <td>0</td>\n",
              "      <td>0</td>\n",
              "      <td>1</td>\n",
              "    </tr>\n",
              "    <tr>\n",
              "      <th>4</th>\n",
              "      <td>0</td>\n",
              "      <td>33</td>\n",
              "      <td>Brown</td>\n",
              "      <td>Southwest</td>\n",
              "      <td>0</td>\n",
              "      <td>1</td>\n",
              "      <td>0</td>\n",
              "      <td>1</td>\n",
              "    </tr>\n",
              "  </tbody>\n",
              "</table>\n",
              "</div>\n",
              "      <button class=\"colab-df-convert\" onclick=\"convertToInteractive('df-c9667003-7d84-4183-b353-b40287e72d67')\"\n",
              "              title=\"Convert this dataframe to an interactive table.\"\n",
              "              style=\"display:none;\">\n",
              "        \n",
              "  <svg xmlns=\"http://www.w3.org/2000/svg\" height=\"24px\"viewBox=\"0 0 24 24\"\n",
              "       width=\"24px\">\n",
              "    <path d=\"M0 0h24v24H0V0z\" fill=\"none\"/>\n",
              "    <path d=\"M18.56 5.44l.94 2.06.94-2.06 2.06-.94-2.06-.94-.94-2.06-.94 2.06-2.06.94zm-11 1L8.5 8.5l.94-2.06 2.06-.94-2.06-.94L8.5 2.5l-.94 2.06-2.06.94zm10 10l.94 2.06.94-2.06 2.06-.94-2.06-.94-.94-2.06-.94 2.06-2.06.94z\"/><path d=\"M17.41 7.96l-1.37-1.37c-.4-.4-.92-.59-1.43-.59-.52 0-1.04.2-1.43.59L10.3 9.45l-7.72 7.72c-.78.78-.78 2.05 0 2.83L4 21.41c.39.39.9.59 1.41.59.51 0 1.02-.2 1.41-.59l7.78-7.78 2.81-2.81c.8-.78.8-2.07 0-2.86zM5.41 20L4 18.59l7.72-7.72 1.47 1.35L5.41 20z\"/>\n",
              "  </svg>\n",
              "      </button>\n",
              "      \n",
              "  <style>\n",
              "    .colab-df-container {\n",
              "      display:flex;\n",
              "      flex-wrap:wrap;\n",
              "      gap: 12px;\n",
              "    }\n",
              "\n",
              "    .colab-df-convert {\n",
              "      background-color: #E8F0FE;\n",
              "      border: none;\n",
              "      border-radius: 50%;\n",
              "      cursor: pointer;\n",
              "      display: none;\n",
              "      fill: #1967D2;\n",
              "      height: 32px;\n",
              "      padding: 0 0 0 0;\n",
              "      width: 32px;\n",
              "    }\n",
              "\n",
              "    .colab-df-convert:hover {\n",
              "      background-color: #E2EBFA;\n",
              "      box-shadow: 0px 1px 2px rgba(60, 64, 67, 0.3), 0px 1px 3px 1px rgba(60, 64, 67, 0.15);\n",
              "      fill: #174EA6;\n",
              "    }\n",
              "\n",
              "    [theme=dark] .colab-df-convert {\n",
              "      background-color: #3B4455;\n",
              "      fill: #D2E3FC;\n",
              "    }\n",
              "\n",
              "    [theme=dark] .colab-df-convert:hover {\n",
              "      background-color: #434B5C;\n",
              "      box-shadow: 0px 1px 3px 1px rgba(0, 0, 0, 0.15);\n",
              "      filter: drop-shadow(0px 1px 2px rgba(0, 0, 0, 0.3));\n",
              "      fill: #FFFFFF;\n",
              "    }\n",
              "  </style>\n",
              "\n",
              "      <script>\n",
              "        const buttonEl =\n",
              "          document.querySelector('#df-c9667003-7d84-4183-b353-b40287e72d67 button.colab-df-convert');\n",
              "        buttonEl.style.display =\n",
              "          google.colab.kernel.accessAllowed ? 'block' : 'none';\n",
              "\n",
              "        async function convertToInteractive(key) {\n",
              "          const element = document.querySelector('#df-c9667003-7d84-4183-b353-b40287e72d67');\n",
              "          const dataTable =\n",
              "            await google.colab.kernel.invokeFunction('convertToInteractive',\n",
              "                                                     [key], {});\n",
              "          if (!dataTable) return;\n",
              "\n",
              "          const docLinkHtml = 'Like what you see? Visit the ' +\n",
              "            '<a target=\"_blank\" href=https://colab.research.google.com/notebooks/data_table.ipynb>data table notebook</a>'\n",
              "            + ' to learn more about interactive tables.';\n",
              "          element.innerHTML = '';\n",
              "          dataTable['output_type'] = 'display_data';\n",
              "          await google.colab.output.renderOutput(dataTable, element);\n",
              "          const docLink = document.createElement('div');\n",
              "          docLink.innerHTML = docLinkHtml;\n",
              "          element.appendChild(docLink);\n",
              "        }\n",
              "      </script>\n",
              "    </div>\n",
              "  </div>\n",
              "  "
            ]
          },
          "metadata": {},
          "execution_count": 5
        }
      ],
      "source": [
        "df = pd.read_csv('https://raw.githubusercontent.com/zachfreitas/ADS_505_Applied_Data_Sci_for_Business-/main/Module_4/Lab_4/Hair_Care_Product.csv')\n",
        "df.head()"
      ]
    },
    {
      "cell_type": "code",
      "execution_count": 6,
      "metadata": {
        "tags": [],
        "colab": {
          "base_uri": "https://localhost:8080/",
          "height": 206
        },
        "id": "1LJRPisvoQV6",
        "outputId": "86b27d34-6dd4-4a30-8150-2ed8b5c08d53"
      },
      "outputs": [
        {
          "output_type": "execute_result",
          "data": {
            "text/plain": [
              "   Purchase  Age Hair_Color  US_Region  Validation  Promotion_ord  Gender_ord  \\\n",
              "0         0   25      Black  Southwest           1              1           0   \n",
              "1         0   30      Black  Northwest           1              0           0   \n",
              "2         0   45        Red  Northeast           1              0           0   \n",
              "3         0   35      Blond  Southwest           0              0           0   \n",
              "4         0   33      Brown  Southwest           0              1           0   \n",
              "\n",
              "   Residence_ord  \n",
              "0              1  \n",
              "1              1  \n",
              "2              0  \n",
              "3              1  \n",
              "4              1  "
            ],
            "text/html": [
              "\n",
              "  <div id=\"df-c526d43e-e40e-40be-bc8b-e81f48ed0023\">\n",
              "    <div class=\"colab-df-container\">\n",
              "      <div>\n",
              "<style scoped>\n",
              "    .dataframe tbody tr th:only-of-type {\n",
              "        vertical-align: middle;\n",
              "    }\n",
              "\n",
              "    .dataframe tbody tr th {\n",
              "        vertical-align: top;\n",
              "    }\n",
              "\n",
              "    .dataframe thead th {\n",
              "        text-align: right;\n",
              "    }\n",
              "</style>\n",
              "<table border=\"1\" class=\"dataframe\">\n",
              "  <thead>\n",
              "    <tr style=\"text-align: right;\">\n",
              "      <th></th>\n",
              "      <th>Purchase</th>\n",
              "      <th>Age</th>\n",
              "      <th>Hair_Color</th>\n",
              "      <th>US_Region</th>\n",
              "      <th>Validation</th>\n",
              "      <th>Promotion_ord</th>\n",
              "      <th>Gender_ord</th>\n",
              "      <th>Residence_ord</th>\n",
              "    </tr>\n",
              "  </thead>\n",
              "  <tbody>\n",
              "    <tr>\n",
              "      <th>0</th>\n",
              "      <td>0</td>\n",
              "      <td>25</td>\n",
              "      <td>Black</td>\n",
              "      <td>Southwest</td>\n",
              "      <td>1</td>\n",
              "      <td>1</td>\n",
              "      <td>0</td>\n",
              "      <td>1</td>\n",
              "    </tr>\n",
              "    <tr>\n",
              "      <th>1</th>\n",
              "      <td>0</td>\n",
              "      <td>30</td>\n",
              "      <td>Black</td>\n",
              "      <td>Northwest</td>\n",
              "      <td>1</td>\n",
              "      <td>0</td>\n",
              "      <td>0</td>\n",
              "      <td>1</td>\n",
              "    </tr>\n",
              "    <tr>\n",
              "      <th>2</th>\n",
              "      <td>0</td>\n",
              "      <td>45</td>\n",
              "      <td>Red</td>\n",
              "      <td>Northeast</td>\n",
              "      <td>1</td>\n",
              "      <td>0</td>\n",
              "      <td>0</td>\n",
              "      <td>0</td>\n",
              "    </tr>\n",
              "    <tr>\n",
              "      <th>3</th>\n",
              "      <td>0</td>\n",
              "      <td>35</td>\n",
              "      <td>Blond</td>\n",
              "      <td>Southwest</td>\n",
              "      <td>0</td>\n",
              "      <td>0</td>\n",
              "      <td>0</td>\n",
              "      <td>1</td>\n",
              "    </tr>\n",
              "    <tr>\n",
              "      <th>4</th>\n",
              "      <td>0</td>\n",
              "      <td>33</td>\n",
              "      <td>Brown</td>\n",
              "      <td>Southwest</td>\n",
              "      <td>0</td>\n",
              "      <td>1</td>\n",
              "      <td>0</td>\n",
              "      <td>1</td>\n",
              "    </tr>\n",
              "  </tbody>\n",
              "</table>\n",
              "</div>\n",
              "      <button class=\"colab-df-convert\" onclick=\"convertToInteractive('df-c526d43e-e40e-40be-bc8b-e81f48ed0023')\"\n",
              "              title=\"Convert this dataframe to an interactive table.\"\n",
              "              style=\"display:none;\">\n",
              "        \n",
              "  <svg xmlns=\"http://www.w3.org/2000/svg\" height=\"24px\"viewBox=\"0 0 24 24\"\n",
              "       width=\"24px\">\n",
              "    <path d=\"M0 0h24v24H0V0z\" fill=\"none\"/>\n",
              "    <path d=\"M18.56 5.44l.94 2.06.94-2.06 2.06-.94-2.06-.94-.94-2.06-.94 2.06-2.06.94zm-11 1L8.5 8.5l.94-2.06 2.06-.94-2.06-.94L8.5 2.5l-.94 2.06-2.06.94zm10 10l.94 2.06.94-2.06 2.06-.94-2.06-.94-.94-2.06-.94 2.06-2.06.94z\"/><path d=\"M17.41 7.96l-1.37-1.37c-.4-.4-.92-.59-1.43-.59-.52 0-1.04.2-1.43.59L10.3 9.45l-7.72 7.72c-.78.78-.78 2.05 0 2.83L4 21.41c.39.39.9.59 1.41.59.51 0 1.02-.2 1.41-.59l7.78-7.78 2.81-2.81c.8-.78.8-2.07 0-2.86zM5.41 20L4 18.59l7.72-7.72 1.47 1.35L5.41 20z\"/>\n",
              "  </svg>\n",
              "      </button>\n",
              "      \n",
              "  <style>\n",
              "    .colab-df-container {\n",
              "      display:flex;\n",
              "      flex-wrap:wrap;\n",
              "      gap: 12px;\n",
              "    }\n",
              "\n",
              "    .colab-df-convert {\n",
              "      background-color: #E8F0FE;\n",
              "      border: none;\n",
              "      border-radius: 50%;\n",
              "      cursor: pointer;\n",
              "      display: none;\n",
              "      fill: #1967D2;\n",
              "      height: 32px;\n",
              "      padding: 0 0 0 0;\n",
              "      width: 32px;\n",
              "    }\n",
              "\n",
              "    .colab-df-convert:hover {\n",
              "      background-color: #E2EBFA;\n",
              "      box-shadow: 0px 1px 2px rgba(60, 64, 67, 0.3), 0px 1px 3px 1px rgba(60, 64, 67, 0.15);\n",
              "      fill: #174EA6;\n",
              "    }\n",
              "\n",
              "    [theme=dark] .colab-df-convert {\n",
              "      background-color: #3B4455;\n",
              "      fill: #D2E3FC;\n",
              "    }\n",
              "\n",
              "    [theme=dark] .colab-df-convert:hover {\n",
              "      background-color: #434B5C;\n",
              "      box-shadow: 0px 1px 3px 1px rgba(0, 0, 0, 0.15);\n",
              "      filter: drop-shadow(0px 1px 2px rgba(0, 0, 0, 0.3));\n",
              "      fill: #FFFFFF;\n",
              "    }\n",
              "  </style>\n",
              "\n",
              "      <script>\n",
              "        const buttonEl =\n",
              "          document.querySelector('#df-c526d43e-e40e-40be-bc8b-e81f48ed0023 button.colab-df-convert');\n",
              "        buttonEl.style.display =\n",
              "          google.colab.kernel.accessAllowed ? 'block' : 'none';\n",
              "\n",
              "        async function convertToInteractive(key) {\n",
              "          const element = document.querySelector('#df-c526d43e-e40e-40be-bc8b-e81f48ed0023');\n",
              "          const dataTable =\n",
              "            await google.colab.kernel.invokeFunction('convertToInteractive',\n",
              "                                                     [key], {});\n",
              "          if (!dataTable) return;\n",
              "\n",
              "          const docLinkHtml = 'Like what you see? Visit the ' +\n",
              "            '<a target=\"_blank\" href=https://colab.research.google.com/notebooks/data_table.ipynb>data table notebook</a>'\n",
              "            + ' to learn more about interactive tables.';\n",
              "          element.innerHTML = '';\n",
              "          dataTable['output_type'] = 'display_data';\n",
              "          await google.colab.output.renderOutput(dataTable, element);\n",
              "          const docLink = document.createElement('div');\n",
              "          docLink.innerHTML = docLinkHtml;\n",
              "          element.appendChild(docLink);\n",
              "        }\n",
              "      </script>\n",
              "    </div>\n",
              "  </div>\n",
              "  "
            ]
          },
          "metadata": {},
          "execution_count": 6
        }
      ],
      "source": [
        "df_copy = df.copy()\n",
        "\n",
        "df_copy.columns = [d.replace(' ', '_').replace('.', '') for d in df_copy.columns]\n",
        "df_copy.head()"
      ]
    },
    {
      "cell_type": "markdown",
      "metadata": {
        "tags": [],
        "id": "kasQ9GbhoQV8"
      },
      "source": [
        "## a. What is the purchase propensity... "
      ]
    },
    {
      "cell_type": "markdown",
      "metadata": {
        "id": "WkUxIOYeoQV9"
      },
      "source": [
        "#### i. Among those who received the promotion? \n",
        "> The purchase propensity among those who received the promotion = (Number of purchases made) / (Total Number of Records)\n",
        "\n",
        "The `Promotion_ord` column has a 1 for members that received a promotion. The `Purchase` column has a 1 for members that purchased a product after the promotion. "
      ]
    },
    {
      "cell_type": "code",
      "execution_count": 7,
      "metadata": {
        "tags": [],
        "colab": {
          "base_uri": "https://localhost:8080/"
        },
        "id": "zl6l4mCRoQV-",
        "outputId": "d9e4456c-45da-4a2b-aaa2-762d69f51b82"
      },
      "outputs": [
        {
          "output_type": "stream",
          "name": "stdout",
          "text": [
            "Total Number of Records 4976\n",
            "Number of purchases made 80\n",
            "80 / 4976 = 0.01607717041800643\n"
          ]
        }
      ],
      "source": [
        "# Number of members that received promotion\n",
        "promotion_members = len(df_copy[df_copy['Promotion_ord'] == 1])\n",
        "print(\"Total Number of Records\", promotion_members)\n",
        "\n",
        "# Number of purchases made for members that received promotion\n",
        "promotion_purchases = sum(df_copy['Purchase'][df_copy['Promotion_ord'] == 1])\n",
        "print(\"Number of purchases made\", promotion_purchases)\n",
        "\n",
        "# Purchase propensity for members who received promotion\n",
        "promotion_propensity = promotion_purchases / promotion_members\n",
        "print(f\"{promotion_purchases} / {promotion_members} = {promotion_propensity}\")"
      ]
    },
    {
      "cell_type": "markdown",
      "metadata": {
        "id": "PqDMkgIFoQWA"
      },
      "source": [
        "#### i. Among those who did not receive the promotion? "
      ]
    },
    {
      "cell_type": "code",
      "execution_count": 9,
      "metadata": {
        "tags": [],
        "colab": {
          "base_uri": "https://localhost:8080/"
        },
        "id": "5HDm_h63oQWB",
        "outputId": "3fadf726-750f-48c1-bbe1-2c723f745b60"
      },
      "outputs": [
        {
          "output_type": "stream",
          "name": "stdout",
          "text": [
            "Total Number of Records 5024\n",
            "Number of purchases made 32\n",
            "32 / 5024 = 0.006369426751592357\n"
          ]
        }
      ],
      "source": [
        "# Number of members that did not receive a promotion\n",
        "non_promotion_members = len(df_copy[df_copy['Promotion_ord'] == 0])\n",
        "print(\"Total Number of Records\", non_promotion_members)\n",
        "\n",
        "# Number of purchases made for members that did not receive a promotion\n",
        "non_promotion_purchases = sum(df_copy['Purchase'][df_copy['Promotion_ord'] == 0])\n",
        "print(\"Number of purchases made\", non_promotion_purchases)\n",
        "\n",
        "# # Purchase propensity for members who did not receive promotion\n",
        "non_promotion_propensity = non_promotion_purchases / non_promotion_members\n",
        "print(f\"{non_promotion_purchases} / {non_promotion_members} = {non_promotion_propensity}\")"
      ]
    },
    {
      "cell_type": "markdown",
      "metadata": {
        "tags": [],
        "id": "Ud5NWkw9oQWC"
      },
      "source": [
        "## b. Partition the data into training (60\\%) and validation (40\\%) and..."
      ]
    },
    {
      "cell_type": "code",
      "execution_count": null,
      "metadata": {
        "tags": [],
        "id": "l7CgwCJdoQWD",
        "outputId": "b6b30d56-9bcd-4345-dcfb-bf8f4737c99d"
      },
      "outputs": [
        {
          "data": {
            "text/html": [
              "<div>\n",
              "<style scoped>\n",
              "    .dataframe tbody tr th:only-of-type {\n",
              "        vertical-align: middle;\n",
              "    }\n",
              "\n",
              "    .dataframe tbody tr th {\n",
              "        vertical-align: top;\n",
              "    }\n",
              "\n",
              "    .dataframe thead th {\n",
              "        text-align: right;\n",
              "    }\n",
              "</style>\n",
              "<table border=\"1\" class=\"dataframe\">\n",
              "  <thead>\n",
              "    <tr style=\"text-align: right;\">\n",
              "      <th></th>\n",
              "      <th>Purchase</th>\n",
              "      <th>Age</th>\n",
              "      <th>Validation</th>\n",
              "      <th>Promotion_ord</th>\n",
              "      <th>Gender_ord</th>\n",
              "      <th>Residence_ord</th>\n",
              "      <th>Hair_Color_Blond</th>\n",
              "      <th>Hair_Color_Brown</th>\n",
              "      <th>Hair_Color_Red</th>\n",
              "      <th>US_Region_Northwest</th>\n",
              "      <th>US_Region_Southeast</th>\n",
              "      <th>US_Region_Southwest</th>\n",
              "    </tr>\n",
              "  </thead>\n",
              "  <tbody>\n",
              "    <tr>\n",
              "      <th>0</th>\n",
              "      <td>0</td>\n",
              "      <td>25</td>\n",
              "      <td>1</td>\n",
              "      <td>1</td>\n",
              "      <td>0</td>\n",
              "      <td>1</td>\n",
              "      <td>0</td>\n",
              "      <td>0</td>\n",
              "      <td>0</td>\n",
              "      <td>0</td>\n",
              "      <td>0</td>\n",
              "      <td>1</td>\n",
              "    </tr>\n",
              "    <tr>\n",
              "      <th>1</th>\n",
              "      <td>0</td>\n",
              "      <td>30</td>\n",
              "      <td>1</td>\n",
              "      <td>0</td>\n",
              "      <td>0</td>\n",
              "      <td>1</td>\n",
              "      <td>0</td>\n",
              "      <td>0</td>\n",
              "      <td>0</td>\n",
              "      <td>1</td>\n",
              "      <td>0</td>\n",
              "      <td>0</td>\n",
              "    </tr>\n",
              "    <tr>\n",
              "      <th>2</th>\n",
              "      <td>0</td>\n",
              "      <td>45</td>\n",
              "      <td>1</td>\n",
              "      <td>0</td>\n",
              "      <td>0</td>\n",
              "      <td>0</td>\n",
              "      <td>0</td>\n",
              "      <td>0</td>\n",
              "      <td>1</td>\n",
              "      <td>0</td>\n",
              "      <td>0</td>\n",
              "      <td>0</td>\n",
              "    </tr>\n",
              "    <tr>\n",
              "      <th>3</th>\n",
              "      <td>0</td>\n",
              "      <td>35</td>\n",
              "      <td>0</td>\n",
              "      <td>0</td>\n",
              "      <td>0</td>\n",
              "      <td>1</td>\n",
              "      <td>1</td>\n",
              "      <td>0</td>\n",
              "      <td>0</td>\n",
              "      <td>0</td>\n",
              "      <td>0</td>\n",
              "      <td>1</td>\n",
              "    </tr>\n",
              "    <tr>\n",
              "      <th>4</th>\n",
              "      <td>0</td>\n",
              "      <td>33</td>\n",
              "      <td>0</td>\n",
              "      <td>1</td>\n",
              "      <td>0</td>\n",
              "      <td>1</td>\n",
              "      <td>0</td>\n",
              "      <td>1</td>\n",
              "      <td>0</td>\n",
              "      <td>0</td>\n",
              "      <td>0</td>\n",
              "      <td>1</td>\n",
              "    </tr>\n",
              "  </tbody>\n",
              "</table>\n",
              "</div>"
            ],
            "text/plain": [
              "   Purchase  Age  Validation  Promotion_ord  Gender_ord  Residence_ord  \\\n",
              "0         0   25           1              1           0              1   \n",
              "1         0   30           1              0           0              1   \n",
              "2         0   45           1              0           0              0   \n",
              "3         0   35           0              0           0              1   \n",
              "4         0   33           0              1           0              1   \n",
              "\n",
              "   Hair_Color_Blond  Hair_Color_Brown  Hair_Color_Red  US_Region_Northwest  \\\n",
              "0                 0                 0               0                    0   \n",
              "1                 0                 0               0                    1   \n",
              "2                 0                 0               1                    0   \n",
              "3                 1                 0               0                    0   \n",
              "4                 0                 1               0                    0   \n",
              "\n",
              "   US_Region_Southeast  US_Region_Southwest  \n",
              "0                    0                    1  \n",
              "1                    0                    0  \n",
              "2                    0                    0  \n",
              "3                    0                    1  \n",
              "4                    0                    1  "
            ]
          },
          "execution_count": 48,
          "metadata": {},
          "output_type": "execute_result"
        }
      ],
      "source": [
        "# ensure hair color and region are typed as categorical variables\n",
        "df_copy.Hair_Color = df_copy.Hair_Color.astype('category')\n",
        "df_copy.US_Region = df_copy.US_Region.astype('category')\n",
        "\n",
        "df_dummies = pd.get_dummies(df_copy, drop_first=True)\n",
        "df_dummies.head()"
      ]
    },
    {
      "cell_type": "code",
      "execution_count": null,
      "metadata": {
        "scrolled": true,
        "tags": [],
        "id": "i7ehrbx-oQWE"
      },
      "outputs": [],
      "source": [
        "# separate target and predictors\n",
        "y = df_dummies['Purchase'].to_numpy()\n",
        "X = df_dummies.drop(columns=['Purchase'])\n",
        "\n",
        "# Standardize the dataset\n",
        "scaler = preprocessing.StandardScaler()\n",
        "X_norm = scaler.fit_transform(X * 1.0)\n",
        "\n",
        "X_train, X_test, y_train, y_test = train_test_split(X_norm, y, test_size=0.4, random_state=1)"
      ]
    },
    {
      "cell_type": "markdown",
      "metadata": {
        "id": "DVogdpProQWE"
      },
      "source": [
        "### i. Fit uplift using a Random Forest."
      ]
    },
    {
      "cell_type": "code",
      "execution_count": null,
      "metadata": {
        "tags": [],
        "id": "mNNYWsi1oQWE",
        "outputId": "c46cd6c7-8153-4181-9496-5f529a6a31dd"
      },
      "outputs": [
        {
          "name": "stdout",
          "output_type": "stream",
          "text": [
            "Confusion Matrix (Accuracy 0.9840)\n",
            "\n",
            "       Prediction\n",
            "Actual    0    1\n",
            "     0 3936   12\n",
            "     1   52    0\n"
          ]
        }
      ],
      "source": [
        "rf = RandomForestClassifier()\n",
        "rf.fit(X_train, y_train)\n",
        "\n",
        "pred = rf.predict(X_test)\n",
        "classificationSummary(y_test, pred)"
      ]
    },
    {
      "cell_type": "code",
      "execution_count": null,
      "metadata": {
        "scrolled": true,
        "tags": [],
        "id": "Z3YdGaeQoQWG",
        "outputId": "b63e04d9-2f8e-453c-b925-0ab06045ad1d"
      },
      "outputs": [
        {
          "data": {
            "image/png": "[encoded data removed]",
            "text/plain": [
              "<Figure size 432x288 with 1 Axes>"
            ]
          },
          "metadata": {
            "needs_background": "light"
          },
          "output_type": "display_data"
        }
      ],
      "source": [
        "uplift_df = pd.DataFrame(X_test, columns = df_dummies.drop(columns='Purchase').columns)\n",
        "\n",
        "uplift_df.Promotion_ord = 1\n",
        "pred_promotion = rf.predict_proba(uplift_df.values) # using .values because model was fitted without column names\n",
        "\n",
        "uplift_df.Promotion_ord = 0\n",
        "pred_none = rf.predict_proba(uplift_df.values)\n",
        "\n",
        "rf_uplift = pd.DataFrame({\n",
        "    'probMessage': pred_promotion[:,1],\n",
        "    'probNoMessage': pred_none[:,1],\n",
        "    'uplift': pred_promotion[:,1] - pred_none[:,1],\n",
        "    }, index=uplift_df.index)\n",
        "\n",
        "rf_uplift = rf_uplift.sort_values(by=['uplift'], ascending=False)\n",
        "\n",
        "rf_uplift.reset_index().plot(x=None, y='uplift')\n",
        "plt.show()"
      ]
    },
    {
      "cell_type": "markdown",
      "metadata": {
        "id": "0xh5gOVioQWH"
      },
      "source": [
        "### ii. Uplift using $k$-NN."
      ]
    },
    {
      "cell_type": "code",
      "execution_count": null,
      "metadata": {
        "tags": [],
        "id": "lbRAK9YJoQWH"
      },
      "outputs": [],
      "source": [
        "from sklearn.metrics import f1_score, precision_score, recall_score, accuracy_score"
      ]
    },
    {
      "cell_type": "code",
      "execution_count": null,
      "metadata": {
        "tags": [],
        "id": "fkQGrrMpoQWI",
        "outputId": "ce104214-a273-4efe-d5c2-d44e4cf45596"
      },
      "outputs": [
        {
          "name": "stdout",
          "output_type": "stream",
          "text": [
            "neighbors: 1\n",
            "accuracy: 0.9745\n",
            "precision: 0.037037037037037035\n",
            "recall: 0.038461538461538464\n",
            "\n",
            "\n",
            "neighbors: 2\n",
            "accuracy: 0.987\n",
            "precision: 0.0\n",
            "recall: 0.0\n",
            "\n",
            "\n",
            "neighbors: 3\n",
            "accuracy: 0.987\n",
            "precision: 0.0\n",
            "recall: 0.0\n",
            "\n",
            "\n",
            "neighbors: 4\n",
            "accuracy: 0.987\n",
            "precision: 0.0\n",
            "recall: 0.0\n",
            "\n",
            "\n",
            "neighbors: 5\n",
            "accuracy: 0.987\n",
            "precision: 0.0\n",
            "recall: 0.0\n",
            "\n",
            "\n",
            "neighbors: 6\n",
            "accuracy: 0.987\n",
            "precision: 0.0\n",
            "recall: 0.0\n",
            "\n",
            "\n",
            "neighbors: 7\n",
            "accuracy: 0.987\n",
            "precision: 0.0\n",
            "recall: 0.0\n",
            "\n",
            "\n",
            "neighbors: 8\n",
            "accuracy: 0.987\n",
            "precision: 0.0\n",
            "recall: 0.0\n",
            "\n",
            "\n",
            "neighbors: 9\n",
            "accuracy: 0.987\n",
            "precision: 0.0\n",
            "recall: 0.0\n",
            "\n",
            "\n"
          ]
        }
      ],
      "source": [
        "for r in range (1, 10): \n",
        "    knn = KNeighborsClassifier(n_neighbors=r)\n",
        "    knn.fit(X_train, y_train)\n",
        "\n",
        "    # print(knn.score(X_train, y_train))\n",
        "    \n",
        "    y_pred = knn.predict(X_test)\n",
        "    \n",
        "    print(f'neighbors: {r}')\n",
        "    print(f'accuracy: {accuracy_score(y_test, y_pred)}')\n",
        "    print(f'precision: {precision_score(y_test, y_pred, zero_division=0)}')\n",
        "    print(f'recall: {recall_score(y_test, y_pred, zero_division=1)}')\n",
        "    print('\\n')\n",
        "    \n",
        "    "
      ]
    },
    {
      "cell_type": "code",
      "execution_count": null,
      "metadata": {
        "tags": [],
        "id": "X6uzkaEwoQWJ",
        "outputId": "86656d25-c822-4b52-83e2-3046fdc32e9e"
      },
      "outputs": [
        {
          "name": "stdout",
          "output_type": "stream",
          "text": [
            "Confusion Matrix (Accuracy 0.9745)\n",
            "\n",
            "       Prediction\n",
            "Actual    0    1\n",
            "     0 3896   52\n",
            "     1   50    2\n"
          ]
        }
      ],
      "source": [
        "knn = KNeighborsClassifier(n_neighbors=1)\n",
        "knn.fit(X_train, y_train)\n",
        "\n",
        "pred = knn.predict(X_test)\n",
        "    \n",
        "classificationSummary(y_test, pred)"
      ]
    },
    {
      "cell_type": "code",
      "execution_count": null,
      "metadata": {
        "scrolled": true,
        "tags": [],
        "id": "OsWMfmKHoQWK",
        "outputId": "4255d47d-d43d-4fe9-c4b6-c709843d0db0"
      },
      "outputs": [
        {
          "data": {
            "image/png": "[encoded data removed]",
            "text/plain": [
              "<Figure size 432x288 with 1 Axes>"
            ]
          },
          "metadata": {
            "needs_background": "light"
          },
          "output_type": "display_data"
        }
      ],
      "source": [
        "uplift_df = pd.DataFrame(X_test, columns = df_dummies.drop(columns='Purchase').columns)\n",
        "\n",
        "uplift_df.Promotion_ord = 1\n",
        "pred_promotion = knn.predict_proba(uplift_df.values) # using .values because model was fitted without column names\n",
        "\n",
        "uplift_df.Promotion_ord = 0\n",
        "pred_none = knn.predict_proba(uplift_df.values)\n",
        "\n",
        "knn_uplift = pd.DataFrame({\n",
        "    'probMessage': pred_promotion[:,1],\n",
        "    'probNoMessage': pred_none[:,1],\n",
        "    'uplift': pred_promotion[:,1] - pred_none[:,1],\n",
        "    }, index=uplift_df.index)\n",
        "\n",
        "knn_uplift = knn_uplift.sort_values(by=['uplift'], ascending=False)\n",
        "\n",
        "knn_uplift.reset_index().plot(x=None, y='uplift')\n",
        "plt.show()"
      ]
    },
    {
      "cell_type": "markdown",
      "metadata": {
        "tags": [],
        "id": "wRKPgnXFoQWM"
      },
      "source": [
        "## c. Report the two models' recommendations for the first three members."
      ]
    },
    {
      "cell_type": "markdown",
      "metadata": {
        "id": "VKceTq_zoQWM"
      },
      "source": [
        "#### Random Forest"
      ]
    },
    {
      "cell_type": "code",
      "execution_count": null,
      "metadata": {
        "tags": [],
        "id": "C_wet6wWoQWM",
        "outputId": "525af021-f716-4722-9381-a0518b4cf431"
      },
      "outputs": [
        {
          "data": {
            "text/html": [
              "<div>\n",
              "<style scoped>\n",
              "    .dataframe tbody tr th:only-of-type {\n",
              "        vertical-align: middle;\n",
              "    }\n",
              "\n",
              "    .dataframe tbody tr th {\n",
              "        vertical-align: top;\n",
              "    }\n",
              "\n",
              "    .dataframe thead th {\n",
              "        text-align: right;\n",
              "    }\n",
              "</style>\n",
              "<table border=\"1\" class=\"dataframe\">\n",
              "  <thead>\n",
              "    <tr style=\"text-align: right;\">\n",
              "      <th></th>\n",
              "      <th>probMessage</th>\n",
              "      <th>probNoMessage</th>\n",
              "      <th>uplift</th>\n",
              "    </tr>\n",
              "  </thead>\n",
              "  <tbody>\n",
              "    <tr>\n",
              "      <th>653</th>\n",
              "      <td>0.682</td>\n",
              "      <td>0.01</td>\n",
              "      <td>0.672</td>\n",
              "    </tr>\n",
              "    <tr>\n",
              "      <th>3883</th>\n",
              "      <td>0.682</td>\n",
              "      <td>0.01</td>\n",
              "      <td>0.672</td>\n",
              "    </tr>\n",
              "    <tr>\n",
              "      <th>1810</th>\n",
              "      <td>0.640</td>\n",
              "      <td>0.00</td>\n",
              "      <td>0.640</td>\n",
              "    </tr>\n",
              "  </tbody>\n",
              "</table>\n",
              "</div>"
            ],
            "text/plain": [
              "      probMessage  probNoMessage  uplift\n",
              "653         0.682           0.01   0.672\n",
              "3883        0.682           0.01   0.672\n",
              "1810        0.640           0.00   0.640"
            ]
          },
          "execution_count": 55,
          "metadata": {},
          "output_type": "execute_result"
        }
      ],
      "source": [
        "rf_uplift.head(3)"
      ]
    },
    {
      "cell_type": "markdown",
      "metadata": {
        "id": "4zR7IiYmoQWN"
      },
      "source": [
        "#### K Nearest Neighbors"
      ]
    },
    {
      "cell_type": "code",
      "execution_count": null,
      "metadata": {
        "tags": [],
        "id": "VGjmQkeFoQWN",
        "outputId": "e96737af-6579-4efa-8b9d-4d75435bbbf9"
      },
      "outputs": [
        {
          "data": {
            "text/html": [
              "<div>\n",
              "<style scoped>\n",
              "    .dataframe tbody tr th:only-of-type {\n",
              "        vertical-align: middle;\n",
              "    }\n",
              "\n",
              "    .dataframe tbody tr th {\n",
              "        vertical-align: top;\n",
              "    }\n",
              "\n",
              "    .dataframe thead th {\n",
              "        text-align: right;\n",
              "    }\n",
              "</style>\n",
              "<table border=\"1\" class=\"dataframe\">\n",
              "  <thead>\n",
              "    <tr style=\"text-align: right;\">\n",
              "      <th></th>\n",
              "      <th>probMessage</th>\n",
              "      <th>probNoMessage</th>\n",
              "      <th>uplift</th>\n",
              "    </tr>\n",
              "  </thead>\n",
              "  <tbody>\n",
              "    <tr>\n",
              "      <th>3246</th>\n",
              "      <td>1.0</td>\n",
              "      <td>0.0</td>\n",
              "      <td>1.0</td>\n",
              "    </tr>\n",
              "    <tr>\n",
              "      <th>2227</th>\n",
              "      <td>1.0</td>\n",
              "      <td>0.0</td>\n",
              "      <td>1.0</td>\n",
              "    </tr>\n",
              "    <tr>\n",
              "      <th>3559</th>\n",
              "      <td>1.0</td>\n",
              "      <td>0.0</td>\n",
              "      <td>1.0</td>\n",
              "    </tr>\n",
              "  </tbody>\n",
              "</table>\n",
              "</div>"
            ],
            "text/plain": [
              "      probMessage  probNoMessage  uplift\n",
              "3246          1.0            0.0     1.0\n",
              "2227          1.0            0.0     1.0\n",
              "3559          1.0            0.0     1.0"
            ]
          },
          "execution_count": 56,
          "metadata": {},
          "output_type": "execute_result"
        }
      ],
      "source": [
        "knn_uplift.head(3)"
      ]
    },
    {
      "cell_type": "markdown",
      "metadata": {
        "id": "snI_1cJEoQWN"
      },
      "source": [
        "---"
      ]
    },
    {
      "cell_type": "markdown",
      "metadata": {
        "tags": [],
        "id": "1pRHCHhAoQWO"
      },
      "source": [
        "### (BONUS) With removal of variables and oversampling due to class imbalance"
      ]
    },
    {
      "cell_type": "code",
      "execution_count": 15,
      "metadata": {
        "tags": [],
        "id": "8lFaArADoQWO"
      },
      "outputs": [],
      "source": [
        "from imblearn.over_sampling import RandomOverSampler"
      ]
    },
    {
      "cell_type": "code",
      "execution_count": 12,
      "metadata": {
        "tags": [],
        "colab": {
          "base_uri": "https://localhost:8080/",
          "height": 206
        },
        "id": "QBI1iB_woQWO",
        "outputId": "78fc7775-7512-4deb-d1c9-891a92027309"
      },
      "outputs": [
        {
          "output_type": "execute_result",
          "data": {
            "text/plain": [
              "   Purchase  Age Hair Color U.S. Region  Validation  Promotion_ord  \\\n",
              "0         0   25      Black   Southwest           1              1   \n",
              "1         0   30      Black   Northwest           1              0   \n",
              "2         0   45        Red   Northeast           1              0   \n",
              "3         0   35      Blond   Southwest           0              0   \n",
              "4         0   33      Brown   Southwest           0              1   \n",
              "\n",
              "   Gender_ord  Residence_ord  \n",
              "0           0              1  \n",
              "1           0              1  \n",
              "2           0              0  \n",
              "3           0              1  \n",
              "4           0              1  "
            ],
            "text/html": [
              "\n",
              "  <div id=\"df-515dcaa8-2cc8-426d-94d1-321ee0e6b8e2\">\n",
              "    <div class=\"colab-df-container\">\n",
              "      <div>\n",
              "<style scoped>\n",
              "    .dataframe tbody tr th:only-of-type {\n",
              "        vertical-align: middle;\n",
              "    }\n",
              "\n",
              "    .dataframe tbody tr th {\n",
              "        vertical-align: top;\n",
              "    }\n",
              "\n",
              "    .dataframe thead th {\n",
              "        text-align: right;\n",
              "    }\n",
              "</style>\n",
              "<table border=\"1\" class=\"dataframe\">\n",
              "  <thead>\n",
              "    <tr style=\"text-align: right;\">\n",
              "      <th></th>\n",
              "      <th>Purchase</th>\n",
              "      <th>Age</th>\n",
              "      <th>Hair Color</th>\n",
              "      <th>U.S. Region</th>\n",
              "      <th>Validation</th>\n",
              "      <th>Promotion_ord</th>\n",
              "      <th>Gender_ord</th>\n",
              "      <th>Residence_ord</th>\n",
              "    </tr>\n",
              "  </thead>\n",
              "  <tbody>\n",
              "    <tr>\n",
              "      <th>0</th>\n",
              "      <td>0</td>\n",
              "      <td>25</td>\n",
              "      <td>Black</td>\n",
              "      <td>Southwest</td>\n",
              "      <td>1</td>\n",
              "      <td>1</td>\n",
              "      <td>0</td>\n",
              "      <td>1</td>\n",
              "    </tr>\n",
              "    <tr>\n",
              "      <th>1</th>\n",
              "      <td>0</td>\n",
              "      <td>30</td>\n",
              "      <td>Black</td>\n",
              "      <td>Northwest</td>\n",
              "      <td>1</td>\n",
              "      <td>0</td>\n",
              "      <td>0</td>\n",
              "      <td>1</td>\n",
              "    </tr>\n",
              "    <tr>\n",
              "      <th>2</th>\n",
              "      <td>0</td>\n",
              "      <td>45</td>\n",
              "      <td>Red</td>\n",
              "      <td>Northeast</td>\n",
              "      <td>1</td>\n",
              "      <td>0</td>\n",
              "      <td>0</td>\n",
              "      <td>0</td>\n",
              "    </tr>\n",
              "    <tr>\n",
              "      <th>3</th>\n",
              "      <td>0</td>\n",
              "      <td>35</td>\n",
              "      <td>Blond</td>\n",
              "      <td>Southwest</td>\n",
              "      <td>0</td>\n",
              "      <td>0</td>\n",
              "      <td>0</td>\n",
              "      <td>1</td>\n",
              "    </tr>\n",
              "    <tr>\n",
              "      <th>4</th>\n",
              "      <td>0</td>\n",
              "      <td>33</td>\n",
              "      <td>Brown</td>\n",
              "      <td>Southwest</td>\n",
              "      <td>0</td>\n",
              "      <td>1</td>\n",
              "      <td>0</td>\n",
              "      <td>1</td>\n",
              "    </tr>\n",
              "  </tbody>\n",
              "</table>\n",
              "</div>\n",
              "      <button class=\"colab-df-convert\" onclick=\"convertToInteractive('df-515dcaa8-2cc8-426d-94d1-321ee0e6b8e2')\"\n",
              "              title=\"Convert this dataframe to an interactive table.\"\n",
              "              style=\"display:none;\">\n",
              "        \n",
              "  <svg xmlns=\"http://www.w3.org/2000/svg\" height=\"24px\"viewBox=\"0 0 24 24\"\n",
              "       width=\"24px\">\n",
              "    <path d=\"M0 0h24v24H0V0z\" fill=\"none\"/>\n",
              "    <path d=\"M18.56 5.44l.94 2.06.94-2.06 2.06-.94-2.06-.94-.94-2.06-.94 2.06-2.06.94zm-11 1L8.5 8.5l.94-2.06 2.06-.94-2.06-.94L8.5 2.5l-.94 2.06-2.06.94zm10 10l.94 2.06.94-2.06 2.06-.94-2.06-.94-.94-2.06-.94 2.06-2.06.94z\"/><path d=\"M17.41 7.96l-1.37-1.37c-.4-.4-.92-.59-1.43-.59-.52 0-1.04.2-1.43.59L10.3 9.45l-7.72 7.72c-.78.78-.78 2.05 0 2.83L4 21.41c.39.39.9.59 1.41.59.51 0 1.02-.2 1.41-.59l7.78-7.78 2.81-2.81c.8-.78.8-2.07 0-2.86zM5.41 20L4 18.59l7.72-7.72 1.47 1.35L5.41 20z\"/>\n",
              "  </svg>\n",
              "      </button>\n",
              "      \n",
              "  <style>\n",
              "    .colab-df-container {\n",
              "      display:flex;\n",
              "      flex-wrap:wrap;\n",
              "      gap: 12px;\n",
              "    }\n",
              "\n",
              "    .colab-df-convert {\n",
              "      background-color: #E8F0FE;\n",
              "      border: none;\n",
              "      border-radius: 50%;\n",
              "      cursor: pointer;\n",
              "      display: none;\n",
              "      fill: #1967D2;\n",
              "      height: 32px;\n",
              "      padding: 0 0 0 0;\n",
              "      width: 32px;\n",
              "    }\n",
              "\n",
              "    .colab-df-convert:hover {\n",
              "      background-color: #E2EBFA;\n",
              "      box-shadow: 0px 1px 2px rgba(60, 64, 67, 0.3), 0px 1px 3px 1px rgba(60, 64, 67, 0.15);\n",
              "      fill: #174EA6;\n",
              "    }\n",
              "\n",
              "    [theme=dark] .colab-df-convert {\n",
              "      background-color: #3B4455;\n",
              "      fill: #D2E3FC;\n",
              "    }\n",
              "\n",
              "    [theme=dark] .colab-df-convert:hover {\n",
              "      background-color: #434B5C;\n",
              "      box-shadow: 0px 1px 3px 1px rgba(0, 0, 0, 0.15);\n",
              "      filter: drop-shadow(0px 1px 2px rgba(0, 0, 0, 0.3));\n",
              "      fill: #FFFFFF;\n",
              "    }\n",
              "  </style>\n",
              "\n",
              "      <script>\n",
              "        const buttonEl =\n",
              "          document.querySelector('#df-515dcaa8-2cc8-426d-94d1-321ee0e6b8e2 button.colab-df-convert');\n",
              "        buttonEl.style.display =\n",
              "          google.colab.kernel.accessAllowed ? 'block' : 'none';\n",
              "\n",
              "        async function convertToInteractive(key) {\n",
              "          const element = document.querySelector('#df-515dcaa8-2cc8-426d-94d1-321ee0e6b8e2');\n",
              "          const dataTable =\n",
              "            await google.colab.kernel.invokeFunction('convertToInteractive',\n",
              "                                                     [key], {});\n",
              "          if (!dataTable) return;\n",
              "\n",
              "          const docLinkHtml = 'Like what you see? Visit the ' +\n",
              "            '<a target=\"_blank\" href=https://colab.research.google.com/notebooks/data_table.ipynb>data table notebook</a>'\n",
              "            + ' to learn more about interactive tables.';\n",
              "          element.innerHTML = '';\n",
              "          dataTable['output_type'] = 'display_data';\n",
              "          await google.colab.output.renderOutput(dataTable, element);\n",
              "          const docLink = document.createElement('div');\n",
              "          docLink.innerHTML = docLinkHtml;\n",
              "          element.appendChild(docLink);\n",
              "        }\n",
              "      </script>\n",
              "    </div>\n",
              "  </div>\n",
              "  "
            ]
          },
          "metadata": {},
          "execution_count": 12
        }
      ],
      "source": [
        "df = pd.read_csv('https://raw.githubusercontent.com/zachfreitas/ADS_505_Applied_Data_Sci_for_Business-/main/Module_4/Lab_4/Hair_Care_Product.csv')\n",
        "df.head()"
      ]
    },
    {
      "cell_type": "code",
      "execution_count": 13,
      "metadata": {
        "tags": [],
        "colab": {
          "base_uri": "https://localhost:8080/",
          "height": 206
        },
        "id": "0JMyps_1oQWP",
        "outputId": "147ddb07-ff4f-40a7-cccd-e2362ab9a52a"
      },
      "outputs": [
        {
          "output_type": "execute_result",
          "data": {
            "text/plain": [
              "   Purchase  Age  Validation  Promotion_ord  Gender_ord  Residence_ord\n",
              "0         0   25           1              1           0              1\n",
              "1         0   30           1              0           0              1\n",
              "2         0   45           1              0           0              0\n",
              "3         0   35           0              0           0              1\n",
              "4         0   33           0              1           0              1"
            ],
            "text/html": [
              "\n",
              "  <div id=\"df-4db2e9ab-c54a-41f3-bd81-abf22186bbd8\">\n",
              "    <div class=\"colab-df-container\">\n",
              "      <div>\n",
              "<style scoped>\n",
              "    .dataframe tbody tr th:only-of-type {\n",
              "        vertical-align: middle;\n",
              "    }\n",
              "\n",
              "    .dataframe tbody tr th {\n",
              "        vertical-align: top;\n",
              "    }\n",
              "\n",
              "    .dataframe thead th {\n",
              "        text-align: right;\n",
              "    }\n",
              "</style>\n",
              "<table border=\"1\" class=\"dataframe\">\n",
              "  <thead>\n",
              "    <tr style=\"text-align: right;\">\n",
              "      <th></th>\n",
              "      <th>Purchase</th>\n",
              "      <th>Age</th>\n",
              "      <th>Validation</th>\n",
              "      <th>Promotion_ord</th>\n",
              "      <th>Gender_ord</th>\n",
              "      <th>Residence_ord</th>\n",
              "    </tr>\n",
              "  </thead>\n",
              "  <tbody>\n",
              "    <tr>\n",
              "      <th>0</th>\n",
              "      <td>0</td>\n",
              "      <td>25</td>\n",
              "      <td>1</td>\n",
              "      <td>1</td>\n",
              "      <td>0</td>\n",
              "      <td>1</td>\n",
              "    </tr>\n",
              "    <tr>\n",
              "      <th>1</th>\n",
              "      <td>0</td>\n",
              "      <td>30</td>\n",
              "      <td>1</td>\n",
              "      <td>0</td>\n",
              "      <td>0</td>\n",
              "      <td>1</td>\n",
              "    </tr>\n",
              "    <tr>\n",
              "      <th>2</th>\n",
              "      <td>0</td>\n",
              "      <td>45</td>\n",
              "      <td>1</td>\n",
              "      <td>0</td>\n",
              "      <td>0</td>\n",
              "      <td>0</td>\n",
              "    </tr>\n",
              "    <tr>\n",
              "      <th>3</th>\n",
              "      <td>0</td>\n",
              "      <td>35</td>\n",
              "      <td>0</td>\n",
              "      <td>0</td>\n",
              "      <td>0</td>\n",
              "      <td>1</td>\n",
              "    </tr>\n",
              "    <tr>\n",
              "      <th>4</th>\n",
              "      <td>0</td>\n",
              "      <td>33</td>\n",
              "      <td>0</td>\n",
              "      <td>1</td>\n",
              "      <td>0</td>\n",
              "      <td>1</td>\n",
              "    </tr>\n",
              "  </tbody>\n",
              "</table>\n",
              "</div>\n",
              "      <button class=\"colab-df-convert\" onclick=\"convertToInteractive('df-4db2e9ab-c54a-41f3-bd81-abf22186bbd8')\"\n",
              "              title=\"Convert this dataframe to an interactive table.\"\n",
              "              style=\"display:none;\">\n",
              "        \n",
              "  <svg xmlns=\"http://www.w3.org/2000/svg\" height=\"24px\"viewBox=\"0 0 24 24\"\n",
              "       width=\"24px\">\n",
              "    <path d=\"M0 0h24v24H0V0z\" fill=\"none\"/>\n",
              "    <path d=\"M18.56 5.44l.94 2.06.94-2.06 2.06-.94-2.06-.94-.94-2.06-.94 2.06-2.06.94zm-11 1L8.5 8.5l.94-2.06 2.06-.94-2.06-.94L8.5 2.5l-.94 2.06-2.06.94zm10 10l.94 2.06.94-2.06 2.06-.94-2.06-.94-.94-2.06-.94 2.06-2.06.94z\"/><path d=\"M17.41 7.96l-1.37-1.37c-.4-.4-.92-.59-1.43-.59-.52 0-1.04.2-1.43.59L10.3 9.45l-7.72 7.72c-.78.78-.78 2.05 0 2.83L4 21.41c.39.39.9.59 1.41.59.51 0 1.02-.2 1.41-.59l7.78-7.78 2.81-2.81c.8-.78.8-2.07 0-2.86zM5.41 20L4 18.59l7.72-7.72 1.47 1.35L5.41 20z\"/>\n",
              "  </svg>\n",
              "      </button>\n",
              "      \n",
              "  <style>\n",
              "    .colab-df-container {\n",
              "      display:flex;\n",
              "      flex-wrap:wrap;\n",
              "      gap: 12px;\n",
              "    }\n",
              "\n",
              "    .colab-df-convert {\n",
              "      background-color: #E8F0FE;\n",
              "      border: none;\n",
              "      border-radius: 50%;\n",
              "      cursor: pointer;\n",
              "      display: none;\n",
              "      fill: #1967D2;\n",
              "      height: 32px;\n",
              "      padding: 0 0 0 0;\n",
              "      width: 32px;\n",
              "    }\n",
              "\n",
              "    .colab-df-convert:hover {\n",
              "      background-color: #E2EBFA;\n",
              "      box-shadow: 0px 1px 2px rgba(60, 64, 67, 0.3), 0px 1px 3px 1px rgba(60, 64, 67, 0.15);\n",
              "      fill: #174EA6;\n",
              "    }\n",
              "\n",
              "    [theme=dark] .colab-df-convert {\n",
              "      background-color: #3B4455;\n",
              "      fill: #D2E3FC;\n",
              "    }\n",
              "\n",
              "    [theme=dark] .colab-df-convert:hover {\n",
              "      background-color: #434B5C;\n",
              "      box-shadow: 0px 1px 3px 1px rgba(0, 0, 0, 0.15);\n",
              "      filter: drop-shadow(0px 1px 2px rgba(0, 0, 0, 0.3));\n",
              "      fill: #FFFFFF;\n",
              "    }\n",
              "  </style>\n",
              "\n",
              "      <script>\n",
              "        const buttonEl =\n",
              "          document.querySelector('#df-4db2e9ab-c54a-41f3-bd81-abf22186bbd8 button.colab-df-convert');\n",
              "        buttonEl.style.display =\n",
              "          google.colab.kernel.accessAllowed ? 'block' : 'none';\n",
              "\n",
              "        async function convertToInteractive(key) {\n",
              "          const element = document.querySelector('#df-4db2e9ab-c54a-41f3-bd81-abf22186bbd8');\n",
              "          const dataTable =\n",
              "            await google.colab.kernel.invokeFunction('convertToInteractive',\n",
              "                                                     [key], {});\n",
              "          if (!dataTable) return;\n",
              "\n",
              "          const docLinkHtml = 'Like what you see? Visit the ' +\n",
              "            '<a target=\"_blank\" href=https://colab.research.google.com/notebooks/data_table.ipynb>data table notebook</a>'\n",
              "            + ' to learn more about interactive tables.';\n",
              "          element.innerHTML = '';\n",
              "          dataTable['output_type'] = 'display_data';\n",
              "          await google.colab.output.renderOutput(dataTable, element);\n",
              "          const docLink = document.createElement('div');\n",
              "          docLink.innerHTML = docLinkHtml;\n",
              "          element.appendChild(docLink);\n",
              "        }\n",
              "      </script>\n",
              "    </div>\n",
              "  </div>\n",
              "  "
            ]
          },
          "metadata": {},
          "execution_count": 13
        }
      ],
      "source": [
        "df_copy = df.copy()\n",
        "df_copy.columns = [d.replace(' ', '_').replace('.', '') for d in df_copy.columns]\n",
        "\n",
        "# drop hair color and region\n",
        "df_copy = df_copy.drop(columns=['Hair_Color', 'US_Region'])\n",
        "\n",
        "df_dummies = pd.get_dummies(df_copy, drop_first=True)\n",
        "\n",
        "df_dummies.head()"
      ]
    },
    {
      "cell_type": "code",
      "execution_count": 16,
      "metadata": {
        "tags": [],
        "id": "-qO8XYd5oQWQ"
      },
      "outputs": [],
      "source": [
        "# separate target and predictors\n",
        "y = df_dummies['Purchase'].to_numpy()\n",
        "X = df_dummies.drop(columns=['Purchase'])\n",
        "\n",
        "# Standardize the dataset\n",
        "scaler = preprocessing.StandardScaler()\n",
        "X_norm = scaler.fit_transform(X * 1.0)\n",
        "\n",
        "X_train, X_test, y_train, y_test = train_test_split(X_norm, y, test_size=0.4, random_state=1)"
      ]
    },
    {
      "cell_type": "code",
      "execution_count": 17,
      "metadata": {
        "tags": [],
        "colab": {
          "base_uri": "https://localhost:8080/"
        },
        "id": "3wiupQHcoQWQ",
        "outputId": "8bfeddc6-a5f0-4113-f026-8ba1444d5a06"
      },
      "outputs": [
        {
          "output_type": "execute_result",
          "data": {
            "text/plain": [
              "{0: 5940, 1: 60}"
            ]
          },
          "metadata": {},
          "execution_count": 17
        }
      ],
      "source": [
        "unique, counts = np.unique(y_train, return_counts=True)\n",
        "\n",
        "class_frequency_counts = {\n",
        "    unique[0]: counts[0],\n",
        "    unique[1]: counts[1]\n",
        "}\n",
        "\n",
        "class_frequency_counts"
      ]
    },
    {
      "cell_type": "code",
      "execution_count": null,
      "metadata": {
        "tags": [],
        "id": "6Bu4HJaAoQWQ"
      },
      "outputs": [],
      "source": [
        "oversample = RandomOverSampler(sampling_strategy='minority')\n",
        "X_train_over, y_train_over = oversample.fit_resample(X_train, y_train)"
      ]
    },
    {
      "cell_type": "code",
      "execution_count": null,
      "metadata": {
        "tags": [],
        "id": "gPWnsh8poQWR",
        "outputId": "3d4ef5df-1e9b-440a-d9b6-12e329543b46"
      },
      "outputs": [
        {
          "data": {
            "text/plain": [
              "{0: 5940, 1: 5940}"
            ]
          },
          "execution_count": 63,
          "metadata": {},
          "output_type": "execute_result"
        }
      ],
      "source": [
        "unique, counts = np.unique(y_train_over, return_counts=True)\n",
        "\n",
        "oversampled_class_frequency_counts = {\n",
        "    unique[0]: counts[0],\n",
        "    unique[1]: counts[1]\n",
        "}\n",
        "\n",
        "oversampled_class_frequency_counts"
      ]
    },
    {
      "cell_type": "markdown",
      "metadata": {
        "tags": [],
        "id": "eYr3yqiFoQWR"
      },
      "source": [
        "#### Random Forest"
      ]
    },
    {
      "cell_type": "code",
      "execution_count": null,
      "metadata": {
        "tags": [],
        "id": "D9jmOnnBoQWS",
        "outputId": "561efbbe-4222-4711-bf4c-2c58b7d995ed"
      },
      "outputs": [
        {
          "name": "stdout",
          "output_type": "stream",
          "text": [
            "Confusion Matrix (Accuracy 0.8622)\n",
            "\n",
            "       Prediction\n",
            "Actual    0    1\n",
            "     0 3441  507\n",
            "     1   44    8\n"
          ]
        }
      ],
      "source": [
        "rf = RandomForestClassifier()\n",
        "rf.fit(X_train_over, y_train_over)\n",
        "\n",
        "pred = rf.predict(X_test)\n",
        "classificationSummary(y_test, pred)"
      ]
    },
    {
      "cell_type": "markdown",
      "metadata": {
        "id": "IyUeZuN_oQWS"
      },
      "source": [
        "#### KNN"
      ]
    },
    {
      "cell_type": "code",
      "execution_count": null,
      "metadata": {
        "tags": [],
        "id": "A09mUu4UoQWS",
        "outputId": "e5b63bf3-5722-4f6b-c062-428278bcf6fc"
      },
      "outputs": [
        {
          "name": "stdout",
          "output_type": "stream",
          "text": [
            "neighbors: 1\n",
            "accuracy: 0.985\n",
            "precision: 0.0\n",
            "recall: 0.0\n",
            "\n",
            "\n",
            "neighbors: 2\n",
            "accuracy: 0.98675\n",
            "precision: 0.0\n",
            "recall: 0.0\n",
            "\n",
            "\n",
            "neighbors: 3\n",
            "accuracy: 0.98675\n",
            "precision: 0.0\n",
            "recall: 0.0\n",
            "\n",
            "\n",
            "neighbors: 4\n",
            "accuracy: 0.98675\n",
            "precision: 0.0\n",
            "recall: 0.0\n",
            "\n",
            "\n",
            "neighbors: 5\n",
            "accuracy: 0.98525\n",
            "precision: 0.0\n",
            "recall: 0.0\n",
            "\n",
            "\n",
            "neighbors: 6\n",
            "accuracy: 0.98525\n",
            "precision: 0.0\n",
            "recall: 0.0\n",
            "\n",
            "\n",
            "neighbors: 7\n",
            "accuracy: 0.9835\n",
            "precision: 0.0\n",
            "recall: 0.0\n",
            "\n",
            "\n",
            "neighbors: 8\n",
            "accuracy: 0.98375\n",
            "precision: 0.0\n",
            "recall: 0.0\n",
            "\n",
            "\n",
            "neighbors: 9\n",
            "accuracy: 0.98075\n",
            "precision: 0.0\n",
            "recall: 0.0\n",
            "\n",
            "\n",
            "neighbors: 10\n",
            "accuracy: 0.98075\n",
            "precision: 0.0\n",
            "recall: 0.0\n",
            "\n",
            "\n",
            "neighbors: 11\n",
            "accuracy: 0.97975\n",
            "precision: 0.03225806451612903\n",
            "recall: 0.019230769230769232\n",
            "\n",
            "\n",
            "neighbors: 12\n",
            "accuracy: 0.97975\n",
            "precision: 0.03225806451612903\n",
            "recall: 0.019230769230769232\n",
            "\n",
            "\n",
            "neighbors: 13\n",
            "accuracy: 0.976\n",
            "precision: 0.021739130434782608\n",
            "recall: 0.019230769230769232\n",
            "\n",
            "\n",
            "neighbors: 14\n",
            "accuracy: 0.9775\n",
            "precision: 0.025\n",
            "recall: 0.019230769230769232\n",
            "\n",
            "\n",
            "neighbors: 15\n",
            "accuracy: 0.9705\n",
            "precision: 0.02857142857142857\n",
            "recall: 0.038461538461538464\n",
            "\n",
            "\n",
            "neighbors: 16\n",
            "accuracy: 0.9705\n",
            "precision: 0.02857142857142857\n",
            "recall: 0.038461538461538464\n",
            "\n",
            "\n",
            "neighbors: 17\n",
            "accuracy: 0.968\n",
            "precision: 0.025\n",
            "recall: 0.038461538461538464\n",
            "\n",
            "\n",
            "neighbors: 18\n",
            "accuracy: 0.968\n",
            "precision: 0.025\n",
            "recall: 0.038461538461538464\n",
            "\n",
            "\n",
            "neighbors: 19\n",
            "accuracy: 0.9655\n",
            "precision: 0.03260869565217391\n",
            "recall: 0.057692307692307696\n",
            "\n",
            "\n",
            "neighbors: 20\n",
            "accuracy: 0.9655\n",
            "precision: 0.03260869565217391\n",
            "recall: 0.057692307692307696\n",
            "\n",
            "\n",
            "neighbors: 21\n",
            "accuracy: 0.95625\n",
            "precision: 0.023255813953488372\n",
            "recall: 0.057692307692307696\n",
            "\n",
            "\n",
            "neighbors: 22\n",
            "accuracy: 0.957\n",
            "precision: 0.023809523809523808\n",
            "recall: 0.057692307692307696\n",
            "\n",
            "\n",
            "neighbors: 23\n",
            "accuracy: 0.951\n",
            "precision: 0.02\n",
            "recall: 0.057692307692307696\n",
            "\n",
            "\n",
            "neighbors: 24\n",
            "accuracy: 0.951\n",
            "precision: 0.02\n",
            "recall: 0.057692307692307696\n",
            "\n",
            "\n"
          ]
        }
      ],
      "source": [
        "for r in range (1, 25): \n",
        "    knn = KNeighborsClassifier(n_neighbors=r)\n",
        "    knn.fit(X_train_over, y_train_over)\n",
        "\n",
        "    # print(knn.score(X_train, y_train))\n",
        "    \n",
        "    y_pred = knn.predict(X_test)\n",
        "    \n",
        "    print(f'neighbors: {r}')\n",
        "    \n",
        "    print(f'accuracy: {accuracy_score(y_test, y_pred)}')\n",
        "    print(f'precision: {precision_score(y_test, y_pred, zero_division=0)}')\n",
        "    print(f'recall: {recall_score(y_test, y_pred, zero_division=1)}')\n",
        "    print('\\n')"
      ]
    },
    {
      "cell_type": "code",
      "execution_count": null,
      "metadata": {
        "tags": [],
        "id": "XU3fnkv3oQWT",
        "outputId": "5e28773c-5848-4ec0-9ccd-af9f7fbe1366"
      },
      "outputs": [
        {
          "name": "stdout",
          "output_type": "stream",
          "text": [
            "Confusion Matrix (Accuracy 0.8512)\n",
            "\n",
            "       Prediction\n",
            "Actual    0    1\n",
            "     0 3395  553\n",
            "     1   42   10\n"
          ]
        }
      ],
      "source": [
        "knn = KNeighborsClassifier(n_neighbors=50)\n",
        "knn.fit(X_train_over, y_train_over)\n",
        "\n",
        "pred = knn.predict(X_test)\n",
        "classificationSummary(y_test, pred)"
      ]
    },
    {
      "cell_type": "code",
      "execution_count": null,
      "metadata": {
        "id": "Z9MXz2MeoQWT"
      },
      "outputs": [],
      "source": []
    }
  ],
  "metadata": {
    "kernelspec": {
      "display_name": "Python 3 (ipykernel)",
      "language": "python",
      "name": "python3"
    },
    "language_info": {
      "codemirror_mode": {
        "name": "ipython",
        "version": 3
      },
      "file_extension": ".py",
      "mimetype": "text/x-python",
      "name": "python",
      "nbconvert_exporter": "python",
      "pygments_lexer": "ipython3",
      "version": "3.9.12"
    },
    "colab": {
      "provenance": [],
      "include_colab_link": true
    }
  },
  "nbformat": 4,
  "nbformat_minor": 0
}