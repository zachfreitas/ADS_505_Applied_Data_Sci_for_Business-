{
  "cells": [
    {
      "cell_type": "markdown",
      "metadata": {
        "id": "view-in-github",
        "colab_type": "text"
      },
      "source": [
        "<a href=\"https://colab.research.google.com/github/zachfreitas/ADS_505_Applied_Data_Sci_for_Business-/blob/main/Module_2/Lab_2/M2_Lab_Session_2_1_MLR.ipynb\" target=\"_parent\"><img src=\"https://colab.research.google.com/assets/colab-badge.svg\" alt=\"Open In Colab\"/></a>"
      ]
    },
    {
      "cell_type": "markdown",
      "metadata": {
        "id": "ryjMFyFEAQql"
      },
      "source": [
        "# Chapter 6: Multiple Linear Regression\n",
        "\n",
        "> (c) 2019 Galit Shmueli, Peter C. Bruce, Peter Gedeck \n",
        ">\n",
        "> Code included in\n",
        ">\n",
        "> _Data Mining for Business Analytics: Concepts, Techniques, and Applications in Python_ (First Edition) \n",
        "> Galit Shmueli, Peter C. Bruce, Peter Gedeck, and Nitin R. Patel. 2019.\n",
        "\n",
        "Presented and edited by Dillon Orr for University of San Diego, 2022.\n",
        "\n",
        "## Import required packages"
      ]
    },
    {
      "cell_type": "code",
      "source": [
        "pip install dmba"
      ],
      "metadata": {
        "id": "0cBrw1yFAn1e",
        "outputId": "39d09c7a-4668-404b-bf1f-d9e2a7395176",
        "colab": {
          "base_uri": "https://localhost:8080/"
        }
      },
      "execution_count": 2,
      "outputs": [
        {
          "output_type": "stream",
          "name": "stdout",
          "text": [
            "Looking in indexes: https://pypi.org/simple, https://us-python.pkg.dev/colab-wheels/public/simple/\n",
            "Collecting dmba\n",
            "  Downloading dmba-0.1.0-py3-none-any.whl (11.8 MB)\n",
            "\u001b[K     |████████████████████████████████| 11.8 MB 10.7 MB/s \n",
            "\u001b[?25hInstalling collected packages: dmba\n",
            "Successfully installed dmba-0.1.0\n"
          ]
        }
      ]
    },
    {
      "cell_type": "code",
      "execution_count": 3,
      "metadata": {
        "tags": [],
        "id": "7qQVQL8DAQqo",
        "outputId": "61958376-8ed0-4ed0-ea75-306283cd2e08",
        "colab": {
          "base_uri": "https://localhost:8080/"
        }
      },
      "outputs": [
        {
          "output_type": "stream",
          "name": "stdout",
          "text": [
            "no display found. Using non-interactive Agg backend\n"
          ]
        }
      ],
      "source": [
        "import pandas as pd\n",
        "\n",
        "from sklearn.model_selection import train_test_split\n",
        "from sklearn.linear_model import LinearRegression\n",
        "import matplotlib.pylab as plt\n",
        "\n",
        "import dmba\n",
        "from dmba import regressionSummary\n",
        "from dmba import adjusted_r2_score, AIC_score, BIC_score\n",
        "\n",
        "%matplotlib inline"
      ]
    },
    {
      "cell_type": "markdown",
      "metadata": {
        "id": "YIeUcucQAQqq"
      },
      "source": [
        "## Table 6.3"
      ]
    },
    {
      "cell_type": "code",
      "execution_count": 4,
      "metadata": {
        "id": "otDjtNb4AQqq",
        "outputId": "5f49afa9-211d-4f95-de8d-9e91a199ef71",
        "colab": {
          "base_uri": "https://localhost:8080/",
          "height": 173
        }
      },
      "outputs": [
        {
          "output_type": "display_data",
          "data": {
            "text/plain": [
              "Index(['Id', 'Model', 'Price', 'Age_08_04', 'Mfg_Month', 'Mfg_Year', 'KM',\n",
              "       'Fuel_Type', 'HP', 'Met_Color', 'Color', 'Automatic', 'CC', 'Doors',\n",
              "       'Cylinders', 'Gears', 'Quarterly_Tax', 'Weight', 'Mfr_Guarantee',\n",
              "       'BOVAG_Guarantee', 'Guarantee_Period', 'ABS', 'Airbag_1', 'Airbag_2',\n",
              "       'Airco', 'Automatic_airco', 'Boardcomputer', 'CD_Player',\n",
              "       'Central_Lock', 'Powered_Windows', 'Power_Steering', 'Radio',\n",
              "       'Mistlamps', 'Sport_Model', 'Backseat_Divider', 'Metallic_Rim',\n",
              "       'Radio_cassette', 'Parking_Assistant', 'Tow_Bar'],\n",
              "      dtype='object')"
            ]
          },
          "metadata": {}
        }
      ],
      "source": [
        "# Import and reduce data frame to the top 1000 rows\n",
        "car_df = dmba.load_data('ToyotaCorolla.csv')\n",
        "car_df = car_df.iloc[0:1000]\n",
        "display(car_df.columns)"
      ]
    },
    {
      "cell_type": "code",
      "execution_count": 5,
      "metadata": {
        "id": "fr6W_eQ9AQqs",
        "outputId": "6c39300d-97bb-47c2-ecb9-188ae349caa4",
        "colab": {
          "base_uri": "https://localhost:8080/",
          "height": 551
        }
      },
      "outputs": [
        {
          "output_type": "stream",
          "name": "stdout",
          "text": [
            "intercept  -1319.354380041219\n"
          ]
        },
        {
          "output_type": "display_data",
          "data": {
            "text/plain": [
              "           Predictor  coefficient\n",
              "0          Age_08_04  -140.748761\n",
              "1                 KM    -0.017840\n",
              "2                 HP    36.103419\n",
              "3          Met_Color    84.281830\n",
              "4          Automatic   416.781954\n",
              "5                 CC     0.017737\n",
              "6              Doors   -50.657863\n",
              "7      Quarterly_Tax    13.625325\n",
              "8             Weight    13.038711\n",
              "9   Fuel_Type_Diesel  1066.464681\n",
              "10  Fuel_Type_Petrol  2310.249543"
            ],
            "text/html": [
              "\n",
              "  <div id=\"df-1520a88a-9cea-4b0a-affd-aa6ea01d535f\">\n",
              "    <div class=\"colab-df-container\">\n",
              "      <div>\n",
              "<style scoped>\n",
              "    .dataframe tbody tr th:only-of-type {\n",
              "        vertical-align: middle;\n",
              "    }\n",
              "\n",
              "    .dataframe tbody tr th {\n",
              "        vertical-align: top;\n",
              "    }\n",
              "\n",
              "    .dataframe thead th {\n",
              "        text-align: right;\n",
              "    }\n",
              "</style>\n",
              "<table border=\"1\" class=\"dataframe\">\n",
              "  <thead>\n",
              "    <tr style=\"text-align: right;\">\n",
              "      <th></th>\n",
              "      <th>Predictor</th>\n",
              "      <th>coefficient</th>\n",
              "    </tr>\n",
              "  </thead>\n",
              "  <tbody>\n",
              "    <tr>\n",
              "      <th>0</th>\n",
              "      <td>Age_08_04</td>\n",
              "      <td>-140.748761</td>\n",
              "    </tr>\n",
              "    <tr>\n",
              "      <th>1</th>\n",
              "      <td>KM</td>\n",
              "      <td>-0.017840</td>\n",
              "    </tr>\n",
              "    <tr>\n",
              "      <th>2</th>\n",
              "      <td>HP</td>\n",
              "      <td>36.103419</td>\n",
              "    </tr>\n",
              "    <tr>\n",
              "      <th>3</th>\n",
              "      <td>Met_Color</td>\n",
              "      <td>84.281830</td>\n",
              "    </tr>\n",
              "    <tr>\n",
              "      <th>4</th>\n",
              "      <td>Automatic</td>\n",
              "      <td>416.781954</td>\n",
              "    </tr>\n",
              "    <tr>\n",
              "      <th>5</th>\n",
              "      <td>CC</td>\n",
              "      <td>0.017737</td>\n",
              "    </tr>\n",
              "    <tr>\n",
              "      <th>6</th>\n",
              "      <td>Doors</td>\n",
              "      <td>-50.657863</td>\n",
              "    </tr>\n",
              "    <tr>\n",
              "      <th>7</th>\n",
              "      <td>Quarterly_Tax</td>\n",
              "      <td>13.625325</td>\n",
              "    </tr>\n",
              "    <tr>\n",
              "      <th>8</th>\n",
              "      <td>Weight</td>\n",
              "      <td>13.038711</td>\n",
              "    </tr>\n",
              "    <tr>\n",
              "      <th>9</th>\n",
              "      <td>Fuel_Type_Diesel</td>\n",
              "      <td>1066.464681</td>\n",
              "    </tr>\n",
              "    <tr>\n",
              "      <th>10</th>\n",
              "      <td>Fuel_Type_Petrol</td>\n",
              "      <td>2310.249543</td>\n",
              "    </tr>\n",
              "  </tbody>\n",
              "</table>\n",
              "</div>\n",
              "      <button class=\"colab-df-convert\" onclick=\"convertToInteractive('df-1520a88a-9cea-4b0a-affd-aa6ea01d535f')\"\n",
              "              title=\"Convert this dataframe to an interactive table.\"\n",
              "              style=\"display:none;\">\n",
              "        \n",
              "  <svg xmlns=\"http://www.w3.org/2000/svg\" height=\"24px\"viewBox=\"0 0 24 24\"\n",
              "       width=\"24px\">\n",
              "    <path d=\"M0 0h24v24H0V0z\" fill=\"none\"/>\n",
              "    <path d=\"M18.56 5.44l.94 2.06.94-2.06 2.06-.94-2.06-.94-.94-2.06-.94 2.06-2.06.94zm-11 1L8.5 8.5l.94-2.06 2.06-.94-2.06-.94L8.5 2.5l-.94 2.06-2.06.94zm10 10l.94 2.06.94-2.06 2.06-.94-2.06-.94-.94-2.06-.94 2.06-2.06.94z\"/><path d=\"M17.41 7.96l-1.37-1.37c-.4-.4-.92-.59-1.43-.59-.52 0-1.04.2-1.43.59L10.3 9.45l-7.72 7.72c-.78.78-.78 2.05 0 2.83L4 21.41c.39.39.9.59 1.41.59.51 0 1.02-.2 1.41-.59l7.78-7.78 2.81-2.81c.8-.78.8-2.07 0-2.86zM5.41 20L4 18.59l7.72-7.72 1.47 1.35L5.41 20z\"/>\n",
              "  </svg>\n",
              "      </button>\n",
              "      \n",
              "  <style>\n",
              "    .colab-df-container {\n",
              "      display:flex;\n",
              "      flex-wrap:wrap;\n",
              "      gap: 12px;\n",
              "    }\n",
              "\n",
              "    .colab-df-convert {\n",
              "      background-color: #E8F0FE;\n",
              "      border: none;\n",
              "      border-radius: 50%;\n",
              "      cursor: pointer;\n",
              "      display: none;\n",
              "      fill: #1967D2;\n",
              "      height: 32px;\n",
              "      padding: 0 0 0 0;\n",
              "      width: 32px;\n",
              "    }\n",
              "\n",
              "    .colab-df-convert:hover {\n",
              "      background-color: #E2EBFA;\n",
              "      box-shadow: 0px 1px 2px rgba(60, 64, 67, 0.3), 0px 1px 3px 1px rgba(60, 64, 67, 0.15);\n",
              "      fill: #174EA6;\n",
              "    }\n",
              "\n",
              "    [theme=dark] .colab-df-convert {\n",
              "      background-color: #3B4455;\n",
              "      fill: #D2E3FC;\n",
              "    }\n",
              "\n",
              "    [theme=dark] .colab-df-convert:hover {\n",
              "      background-color: #434B5C;\n",
              "      box-shadow: 0px 1px 3px 1px rgba(0, 0, 0, 0.15);\n",
              "      filter: drop-shadow(0px 1px 2px rgba(0, 0, 0, 0.3));\n",
              "      fill: #FFFFFF;\n",
              "    }\n",
              "  </style>\n",
              "\n",
              "      <script>\n",
              "        const buttonEl =\n",
              "          document.querySelector('#df-1520a88a-9cea-4b0a-affd-aa6ea01d535f button.colab-df-convert');\n",
              "        buttonEl.style.display =\n",
              "          google.colab.kernel.accessAllowed ? 'block' : 'none';\n",
              "\n",
              "        async function convertToInteractive(key) {\n",
              "          const element = document.querySelector('#df-1520a88a-9cea-4b0a-affd-aa6ea01d535f');\n",
              "          const dataTable =\n",
              "            await google.colab.kernel.invokeFunction('convertToInteractive',\n",
              "                                                     [key], {});\n",
              "          if (!dataTable) return;\n",
              "\n",
              "          const docLinkHtml = 'Like what you see? Visit the ' +\n",
              "            '<a target=\"_blank\" href=https://colab.research.google.com/notebooks/data_table.ipynb>data table notebook</a>'\n",
              "            + ' to learn more about interactive tables.';\n",
              "          element.innerHTML = '';\n",
              "          dataTable['output_type'] = 'display_data';\n",
              "          await google.colab.output.renderOutput(dataTable, element);\n",
              "          const docLink = document.createElement('div');\n",
              "          docLink.innerHTML = docLinkHtml;\n",
              "          element.appendChild(docLink);\n",
              "        }\n",
              "      </script>\n",
              "    </div>\n",
              "  </div>\n",
              "  "
            ]
          },
          "metadata": {}
        },
        {
          "output_type": "stream",
          "name": "stdout",
          "text": [
            "\n",
            "Regression statistics\n",
            "\n",
            "                      Mean Error (ME) : -0.0000\n",
            "       Root Mean Squared Error (RMSE) : 1400.5823\n",
            "            Mean Absolute Error (MAE) : 1046.9072\n",
            "          Mean Percentage Error (MPE) : -1.0223\n",
            "Mean Absolute Percentage Error (MAPE) : 9.2994\n"
          ]
        }
      ],
      "source": [
        "# select columns for regression analysis\n",
        "predictors = ['Age_08_04', 'KM', 'Fuel_Type', 'HP', 'Met_Color', 'Automatic', 'CC', \n",
        "              'Doors', 'Quarterly_Tax', 'Weight']\n",
        "outcome = 'Price'\n",
        "\n",
        "# partition data\n",
        "X = pd.get_dummies(car_df[predictors], drop_first=True)\n",
        "y = car_df[outcome]\n",
        "train_X, valid_X, train_y, valid_y = train_test_split(X, y, test_size=0.4, random_state=1)\n",
        "\n",
        "car_lm = LinearRegression()\n",
        "car_lm.fit(train_X, train_y)\n",
        "\n",
        "# print coefficients\n",
        "print('intercept ', car_lm.intercept_)\n",
        "display(pd.DataFrame({'Predictor': X.columns, 'coefficient': car_lm.coef_}))\n",
        "\n",
        "# print performance measures\n",
        "regressionSummary(train_y, car_lm.predict(train_X))"
      ]
    },
    {
      "cell_type": "code",
      "execution_count": 6,
      "metadata": {
        "id": "UZqBV1nSAQqt",
        "outputId": "2eb7aee6-afb9-48bc-f422-eae0e4bb66bb",
        "colab": {
          "base_uri": "https://localhost:8080/"
        }
      },
      "outputs": [
        {
          "output_type": "stream",
          "name": "stdout",
          "text": [
            "adjusted r2 :  0.8537958550253093\n",
            "AIC :  10422.298278332171\n",
            "BIC :  10479.45836384998\n"
          ]
        }
      ],
      "source": [
        "# get predictions based on train_X\n",
        "pred_y = car_lm.predict(train_X)\n",
        "\n",
        "#calculate adjusted r2 and information criteria measures\n",
        "print('adjusted r2 : ', adjusted_r2_score(train_y, pred_y, car_lm))\n",
        "print('AIC : ', AIC_score(train_y, pred_y, car_lm))\n",
        "print('BIC : ', BIC_score(train_y, pred_y, car_lm))"
      ]
    },
    {
      "cell_type": "markdown",
      "metadata": {
        "id": "xDWKq8kKAQqu"
      },
      "source": [
        "## Table 6.4"
      ]
    },
    {
      "cell_type": "code",
      "execution_count": 7,
      "metadata": {
        "id": "BGHwrZbuAQqu",
        "outputId": "24b576db-32ef-4adf-bd7e-a0ba1a666a5d",
        "colab": {
          "base_uri": "https://localhost:8080/",
          "height": 815
        }
      },
      "outputs": [
        {
          "output_type": "display_data",
          "data": {
            "text/plain": [
              "        Predicted  Actual     Residual\n",
              "507  10607.333940   11500   892.666060\n",
              "818   9272.705792    8950  -322.705792\n",
              "452  10617.947808   11450   832.052192\n",
              "368  13600.396275   11450 -2150.396275\n",
              "242  12396.694660   11950  -446.694660\n",
              "929   9496.498212    9995   498.501788\n",
              "262  12480.063217   13500  1019.936783\n",
              "810   8834.146068    7950  -884.146068\n",
              "318  12183.361282    9900 -2283.361282\n",
              "49   19206.965683   21950  2743.034317\n",
              "446  10987.498309   11950   962.501691\n",
              "142  18501.527375   19950  1448.472625\n",
              "968   9914.690947    9950    35.309053\n",
              "345  13827.299932   14950  1122.700068\n",
              "971   7966.732543   10495  2528.267457\n",
              "133  17185.242041   15950 -1235.242041\n",
              "104  19952.658062   19450  -502.658062\n",
              "6    16570.609280   16900   329.390720\n",
              "600  13739.409113   11250 -2489.409113\n",
              "496  11267.513740   11750   482.486260"
            ],
            "text/html": [
              "\n",
              "  <div id=\"df-7ce704dc-0e6f-4c85-b184-a4b30aaa7305\">\n",
              "    <div class=\"colab-df-container\">\n",
              "      <div>\n",
              "<style scoped>\n",
              "    .dataframe tbody tr th:only-of-type {\n",
              "        vertical-align: middle;\n",
              "    }\n",
              "\n",
              "    .dataframe tbody tr th {\n",
              "        vertical-align: top;\n",
              "    }\n",
              "\n",
              "    .dataframe thead th {\n",
              "        text-align: right;\n",
              "    }\n",
              "</style>\n",
              "<table border=\"1\" class=\"dataframe\">\n",
              "  <thead>\n",
              "    <tr style=\"text-align: right;\">\n",
              "      <th></th>\n",
              "      <th>Predicted</th>\n",
              "      <th>Actual</th>\n",
              "      <th>Residual</th>\n",
              "    </tr>\n",
              "  </thead>\n",
              "  <tbody>\n",
              "    <tr>\n",
              "      <th>507</th>\n",
              "      <td>10607.333940</td>\n",
              "      <td>11500</td>\n",
              "      <td>892.666060</td>\n",
              "    </tr>\n",
              "    <tr>\n",
              "      <th>818</th>\n",
              "      <td>9272.705792</td>\n",
              "      <td>8950</td>\n",
              "      <td>-322.705792</td>\n",
              "    </tr>\n",
              "    <tr>\n",
              "      <th>452</th>\n",
              "      <td>10617.947808</td>\n",
              "      <td>11450</td>\n",
              "      <td>832.052192</td>\n",
              "    </tr>\n",
              "    <tr>\n",
              "      <th>368</th>\n",
              "      <td>13600.396275</td>\n",
              "      <td>11450</td>\n",
              "      <td>-2150.396275</td>\n",
              "    </tr>\n",
              "    <tr>\n",
              "      <th>242</th>\n",
              "      <td>12396.694660</td>\n",
              "      <td>11950</td>\n",
              "      <td>-446.694660</td>\n",
              "    </tr>\n",
              "    <tr>\n",
              "      <th>929</th>\n",
              "      <td>9496.498212</td>\n",
              "      <td>9995</td>\n",
              "      <td>498.501788</td>\n",
              "    </tr>\n",
              "    <tr>\n",
              "      <th>262</th>\n",
              "      <td>12480.063217</td>\n",
              "      <td>13500</td>\n",
              "      <td>1019.936783</td>\n",
              "    </tr>\n",
              "    <tr>\n",
              "      <th>810</th>\n",
              "      <td>8834.146068</td>\n",
              "      <td>7950</td>\n",
              "      <td>-884.146068</td>\n",
              "    </tr>\n",
              "    <tr>\n",
              "      <th>318</th>\n",
              "      <td>12183.361282</td>\n",
              "      <td>9900</td>\n",
              "      <td>-2283.361282</td>\n",
              "    </tr>\n",
              "    <tr>\n",
              "      <th>49</th>\n",
              "      <td>19206.965683</td>\n",
              "      <td>21950</td>\n",
              "      <td>2743.034317</td>\n",
              "    </tr>\n",
              "    <tr>\n",
              "      <th>446</th>\n",
              "      <td>10987.498309</td>\n",
              "      <td>11950</td>\n",
              "      <td>962.501691</td>\n",
              "    </tr>\n",
              "    <tr>\n",
              "      <th>142</th>\n",
              "      <td>18501.527375</td>\n",
              "      <td>19950</td>\n",
              "      <td>1448.472625</td>\n",
              "    </tr>\n",
              "    <tr>\n",
              "      <th>968</th>\n",
              "      <td>9914.690947</td>\n",
              "      <td>9950</td>\n",
              "      <td>35.309053</td>\n",
              "    </tr>\n",
              "    <tr>\n",
              "      <th>345</th>\n",
              "      <td>13827.299932</td>\n",
              "      <td>14950</td>\n",
              "      <td>1122.700068</td>\n",
              "    </tr>\n",
              "    <tr>\n",
              "      <th>971</th>\n",
              "      <td>7966.732543</td>\n",
              "      <td>10495</td>\n",
              "      <td>2528.267457</td>\n",
              "    </tr>\n",
              "    <tr>\n",
              "      <th>133</th>\n",
              "      <td>17185.242041</td>\n",
              "      <td>15950</td>\n",
              "      <td>-1235.242041</td>\n",
              "    </tr>\n",
              "    <tr>\n",
              "      <th>104</th>\n",
              "      <td>19952.658062</td>\n",
              "      <td>19450</td>\n",
              "      <td>-502.658062</td>\n",
              "    </tr>\n",
              "    <tr>\n",
              "      <th>6</th>\n",
              "      <td>16570.609280</td>\n",
              "      <td>16900</td>\n",
              "      <td>329.390720</td>\n",
              "    </tr>\n",
              "    <tr>\n",
              "      <th>600</th>\n",
              "      <td>13739.409113</td>\n",
              "      <td>11250</td>\n",
              "      <td>-2489.409113</td>\n",
              "    </tr>\n",
              "    <tr>\n",
              "      <th>496</th>\n",
              "      <td>11267.513740</td>\n",
              "      <td>11750</td>\n",
              "      <td>482.486260</td>\n",
              "    </tr>\n",
              "  </tbody>\n",
              "</table>\n",
              "</div>\n",
              "      <button class=\"colab-df-convert\" onclick=\"convertToInteractive('df-7ce704dc-0e6f-4c85-b184-a4b30aaa7305')\"\n",
              "              title=\"Convert this dataframe to an interactive table.\"\n",
              "              style=\"display:none;\">\n",
              "        \n",
              "  <svg xmlns=\"http://www.w3.org/2000/svg\" height=\"24px\"viewBox=\"0 0 24 24\"\n",
              "       width=\"24px\">\n",
              "    <path d=\"M0 0h24v24H0V0z\" fill=\"none\"/>\n",
              "    <path d=\"M18.56 5.44l.94 2.06.94-2.06 2.06-.94-2.06-.94-.94-2.06-.94 2.06-2.06.94zm-11 1L8.5 8.5l.94-2.06 2.06-.94-2.06-.94L8.5 2.5l-.94 2.06-2.06.94zm10 10l.94 2.06.94-2.06 2.06-.94-2.06-.94-.94-2.06-.94 2.06-2.06.94z\"/><path d=\"M17.41 7.96l-1.37-1.37c-.4-.4-.92-.59-1.43-.59-.52 0-1.04.2-1.43.59L10.3 9.45l-7.72 7.72c-.78.78-.78 2.05 0 2.83L4 21.41c.39.39.9.59 1.41.59.51 0 1.02-.2 1.41-.59l7.78-7.78 2.81-2.81c.8-.78.8-2.07 0-2.86zM5.41 20L4 18.59l7.72-7.72 1.47 1.35L5.41 20z\"/>\n",
              "  </svg>\n",
              "      </button>\n",
              "      \n",
              "  <style>\n",
              "    .colab-df-container {\n",
              "      display:flex;\n",
              "      flex-wrap:wrap;\n",
              "      gap: 12px;\n",
              "    }\n",
              "\n",
              "    .colab-df-convert {\n",
              "      background-color: #E8F0FE;\n",
              "      border: none;\n",
              "      border-radius: 50%;\n",
              "      cursor: pointer;\n",
              "      display: none;\n",
              "      fill: #1967D2;\n",
              "      height: 32px;\n",
              "      padding: 0 0 0 0;\n",
              "      width: 32px;\n",
              "    }\n",
              "\n",
              "    .colab-df-convert:hover {\n",
              "      background-color: #E2EBFA;\n",
              "      box-shadow: 0px 1px 2px rgba(60, 64, 67, 0.3), 0px 1px 3px 1px rgba(60, 64, 67, 0.15);\n",
              "      fill: #174EA6;\n",
              "    }\n",
              "\n",
              "    [theme=dark] .colab-df-convert {\n",
              "      background-color: #3B4455;\n",
              "      fill: #D2E3FC;\n",
              "    }\n",
              "\n",
              "    [theme=dark] .colab-df-convert:hover {\n",
              "      background-color: #434B5C;\n",
              "      box-shadow: 0px 1px 3px 1px rgba(0, 0, 0, 0.15);\n",
              "      filter: drop-shadow(0px 1px 2px rgba(0, 0, 0, 0.3));\n",
              "      fill: #FFFFFF;\n",
              "    }\n",
              "  </style>\n",
              "\n",
              "      <script>\n",
              "        const buttonEl =\n",
              "          document.querySelector('#df-7ce704dc-0e6f-4c85-b184-a4b30aaa7305 button.colab-df-convert');\n",
              "        buttonEl.style.display =\n",
              "          google.colab.kernel.accessAllowed ? 'block' : 'none';\n",
              "\n",
              "        async function convertToInteractive(key) {\n",
              "          const element = document.querySelector('#df-7ce704dc-0e6f-4c85-b184-a4b30aaa7305');\n",
              "          const dataTable =\n",
              "            await google.colab.kernel.invokeFunction('convertToInteractive',\n",
              "                                                     [key], {});\n",
              "          if (!dataTable) return;\n",
              "\n",
              "          const docLinkHtml = 'Like what you see? Visit the ' +\n",
              "            '<a target=\"_blank\" href=https://colab.research.google.com/notebooks/data_table.ipynb>data table notebook</a>'\n",
              "            + ' to learn more about interactive tables.';\n",
              "          element.innerHTML = '';\n",
              "          dataTable['output_type'] = 'display_data';\n",
              "          await google.colab.output.renderOutput(dataTable, element);\n",
              "          const docLink = document.createElement('div');\n",
              "          docLink.innerHTML = docLinkHtml;\n",
              "          element.appendChild(docLink);\n",
              "        }\n",
              "      </script>\n",
              "    </div>\n",
              "  </div>\n",
              "  "
            ]
          },
          "metadata": {}
        },
        {
          "output_type": "stream",
          "name": "stdout",
          "text": [
            "\n",
            "Regression statistics\n",
            "\n",
            "                      Mean Error (ME) : 103.6803\n",
            "       Root Mean Squared Error (RMSE) : 1312.8523\n",
            "            Mean Absolute Error (MAE) : 1017.5972\n",
            "          Mean Percentage Error (MPE) : -0.2633\n",
            "Mean Absolute Percentage Error (MAPE) : 9.0111\n"
          ]
        }
      ],
      "source": [
        "# Use predict() to make predictions on a new set\n",
        "car_lm_pred = car_lm.predict(valid_X)\n",
        "\n",
        "result = pd.DataFrame({'Predicted': car_lm_pred, 'Actual': valid_y,\n",
        "                       'Residual': valid_y - car_lm_pred})\n",
        "display(result.head(20))\n",
        "\n",
        "# Compute common accuracy measures\n",
        "regressionSummary(valid_y, car_lm_pred)"
      ]
    },
    {
      "cell_type": "markdown",
      "metadata": {
        "id": "pWo5jRUMAQqv"
      },
      "source": [
        "## Figure 6.1\n",
        "Determine the residuals and create a histogram"
      ]
    },
    {
      "cell_type": "code",
      "execution_count": 8,
      "metadata": {
        "tags": [],
        "id": "zglQf8eCAQqv",
        "outputId": "1d569cd8-ca95-4389-f829-eb68b399b6d9",
        "colab": {
          "base_uri": "https://localhost:8080/",
          "height": 314
        }
      },
      "outputs": [
        {
          "output_type": "stream",
          "name": "stdout",
          "text": [
            "0.7425\n"
          ]
        },
        {
          "output_type": "display_data",
          "data": {
            "text/plain": [
              "<Figure size 432x288 with 1 Axes>"
            ],
            "image/png": "[encoded data removed]"
          },
          "metadata": {
            "needs_background": "light"
          }
        }
      ],
      "source": [
        "car_lm_pred = car_lm.predict(valid_X)\n",
        "all_residuals = valid_y - car_lm_pred\n",
        "\n",
        "# Determine the percentage of datapoints with a residual in [-1406, 1406] = approx. 75\\%\n",
        "print(len(all_residuals[(all_residuals > -1406) & (all_residuals < 1406)]) / len(all_residuals))\n",
        "\n",
        "ax = pd.DataFrame({'Residuals': all_residuals}).hist(bins=25)\n",
        "\n",
        "plt.tight_layout()\n",
        "plt.show()"
      ]
    },
    {
      "cell_type": "code",
      "execution_count": 8,
      "metadata": {
        "id": "m0koS8oJAQqw"
      },
      "outputs": [],
      "source": []
    }
  ],
  "metadata": {
    "kernelspec": {
      "display_name": "Python 3 (ipykernel)",
      "language": "python",
      "name": "python3"
    },
    "language_info": {
      "codemirror_mode": {
        "name": "ipython",
        "version": 3
      },
      "file_extension": ".py",
      "mimetype": "text/x-python",
      "name": "python",
      "nbconvert_exporter": "python",
      "pygments_lexer": "ipython3",
      "version": "3.9.12"
    },
    "colab": {
      "provenance": [],
      "include_colab_link": true
    }
  },
  "nbformat": 4,
  "nbformat_minor": 0
}