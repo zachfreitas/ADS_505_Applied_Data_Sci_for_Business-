{
  "cells": [
    {
      "cell_type": "markdown",
      "metadata": {
        "id": "view-in-github",
        "colab_type": "text"
      },
      "source": [
        "<a href=\"https://colab.research.google.com/github/zachfreitas/ADS_505_Applied_Data_Sci_for_Business-/blob/main/Module_3/LAB_3/M3_Lab_Session_3_1_Ch9_Classification_and_Decision_Trees.ipynb\" target=\"_parent\"><img src=\"https://colab.research.google.com/assets/colab-badge.svg\" alt=\"Open In Colab\"/></a>"
      ]
    },
    {
      "cell_type": "markdown",
      "metadata": {
        "id": "738d-jOpHFrQ"
      },
      "source": [
        "# Chapter 9: Classification and Regression Trees (CART)"
      ]
    },
    {
      "cell_type": "markdown",
      "metadata": {
        "id": "S-kP5bk3HFrU"
      },
      "source": [
        "\n",
        "> (c) 2019-2020 Galit Shmueli, Peter C. Bruce, Peter Gedeck \n",
        ">\n",
        "> _Data Mining for Business Analytics: Concepts, Techniques, and Applications in Python_ (First Edition) \n",
        "> Galit Shmueli, Peter C. Bruce, Peter Gedeck, and Nitin R. Patel. 2019.\n",
        ">\n",
        "> Date: 2020-03-08\n",
        ">\n",
        "> Python Version: 3.8.2\n",
        "> Jupyter Notebook Version: 5.6.1\n",
        ">\n",
        "> Packages:\n",
        ">   - dmba: 0.0.12\n",
        ">   - matplotlib: 3.2.0\n",
        ">   - numpy: 1.18.1\n",
        ">   - pandas: 1.0.1\n",
        ">   - scikit-learn: 0.22.2\n",
        ">\n",
        "> The assistance from Mr. Kuber Deokar and Ms. Anuja Kulkarni in preparing these solutions is gratefully acknowledged.\n",
        "\n",
        "> Edited and presented for University of San Diego by Dillon Orr, 2022.\n"
      ]
    },
    {
      "cell_type": "code",
      "execution_count": null,
      "metadata": {
        "id": "wrUj_PD7HFrW"
      },
      "outputs": [],
      "source": [
        "import pandas as pd\n",
        "import numpy as np\n",
        "from sklearn.model_selection import train_test_split, GridSearchCV\n",
        "from sklearn.tree import DecisionTreeClassifier, DecisionTreeRegressor\n",
        "\n",
        "import matplotlib.pylab as plt\n",
        "\n",
        "from dmba import plotDecisionTree, gainsChart, liftChart\n",
        "from dmba import classificationSummary, regressionSummary\n",
        "\n",
        "%matplotlib inline"
      ]
    },
    {
      "cell_type": "markdown",
      "metadata": {
        "id": "fF6jfK_pHFrX"
      },
      "source": [
        "# Problem 9.1 Competitive Auctions on eBay.com."
      ]
    },
    {
      "cell_type": "markdown",
      "metadata": {
        "id": "t8NYHTFxHFrY"
      },
      "source": [
        "The file _eBayAuctions.csv_ contains information on 1972 auctions that transacted on eBay.com during May–June 2004. The goal\n",
        "is to use these data to build a model that will classify auctions as competitive or noncompetitive. A _competitive auction_ is defined as an auction with at least two bids placed on the item auctioned. The data include variables that describe the item (auction category), the seller (his/her eBay rating), and the auction terms that the seller selected (auction duration, opening price, currency, day-of-week of auction close). In addition, we have the price at which the auction closed. The task is to predict whether or not the auction will be competitive.\n",
        "\n",
        "__Data Preprocessing.__ Convert variable _Duration_ into a categorical variable. Split the\n",
        "data into training (60%) and validation (40%) datasets."
      ]
    },
    {
      "cell_type": "code",
      "execution_count": null,
      "metadata": {
        "tags": [],
        "id": "Ho1_nsKhHFrZ",
        "outputId": "50415d63-b95b-4e35-c41b-a59eeb12ab9d"
      },
      "outputs": [
        {
          "data": {
            "text/html": [
              "<div>\n",
              "<style scoped>\n",
              "    .dataframe tbody tr th:only-of-type {\n",
              "        vertical-align: middle;\n",
              "    }\n",
              "\n",
              "    .dataframe tbody tr th {\n",
              "        vertical-align: top;\n",
              "    }\n",
              "\n",
              "    .dataframe thead th {\n",
              "        text-align: right;\n",
              "    }\n",
              "</style>\n",
              "<table border=\"1\" class=\"dataframe\">\n",
              "  <thead>\n",
              "    <tr style=\"text-align: right;\">\n",
              "      <th></th>\n",
              "      <th>Category</th>\n",
              "      <th>currency</th>\n",
              "      <th>sellerRating</th>\n",
              "      <th>Duration</th>\n",
              "      <th>endDay</th>\n",
              "      <th>ClosePrice</th>\n",
              "      <th>OpenPrice</th>\n",
              "      <th>Competitive?</th>\n",
              "    </tr>\n",
              "  </thead>\n",
              "  <tbody>\n",
              "    <tr>\n",
              "      <th>0</th>\n",
              "      <td>Music/Movie/Game</td>\n",
              "      <td>US</td>\n",
              "      <td>3249</td>\n",
              "      <td>5</td>\n",
              "      <td>Mon</td>\n",
              "      <td>0.01</td>\n",
              "      <td>0.01</td>\n",
              "      <td>0</td>\n",
              "    </tr>\n",
              "    <tr>\n",
              "      <th>1</th>\n",
              "      <td>Music/Movie/Game</td>\n",
              "      <td>US</td>\n",
              "      <td>3249</td>\n",
              "      <td>5</td>\n",
              "      <td>Mon</td>\n",
              "      <td>0.01</td>\n",
              "      <td>0.01</td>\n",
              "      <td>0</td>\n",
              "    </tr>\n",
              "    <tr>\n",
              "      <th>2</th>\n",
              "      <td>Music/Movie/Game</td>\n",
              "      <td>US</td>\n",
              "      <td>3249</td>\n",
              "      <td>5</td>\n",
              "      <td>Mon</td>\n",
              "      <td>0.01</td>\n",
              "      <td>0.01</td>\n",
              "      <td>0</td>\n",
              "    </tr>\n",
              "    <tr>\n",
              "      <th>3</th>\n",
              "      <td>Music/Movie/Game</td>\n",
              "      <td>US</td>\n",
              "      <td>3249</td>\n",
              "      <td>5</td>\n",
              "      <td>Mon</td>\n",
              "      <td>0.01</td>\n",
              "      <td>0.01</td>\n",
              "      <td>0</td>\n",
              "    </tr>\n",
              "    <tr>\n",
              "      <th>4</th>\n",
              "      <td>Music/Movie/Game</td>\n",
              "      <td>US</td>\n",
              "      <td>3249</td>\n",
              "      <td>5</td>\n",
              "      <td>Mon</td>\n",
              "      <td>0.01</td>\n",
              "      <td>0.01</td>\n",
              "      <td>0</td>\n",
              "    </tr>\n",
              "  </tbody>\n",
              "</table>\n",
              "</div>"
            ],
            "text/plain": [
              "           Category currency  sellerRating  Duration endDay  ClosePrice  \\\n",
              "0  Music/Movie/Game       US          3249         5    Mon        0.01   \n",
              "1  Music/Movie/Game       US          3249         5    Mon        0.01   \n",
              "2  Music/Movie/Game       US          3249         5    Mon        0.01   \n",
              "3  Music/Movie/Game       US          3249         5    Mon        0.01   \n",
              "4  Music/Movie/Game       US          3249         5    Mon        0.01   \n",
              "\n",
              "   OpenPrice  Competitive?  \n",
              "0       0.01             0  \n",
              "1       0.01             0  \n",
              "2       0.01             0  \n",
              "3       0.01             0  \n",
              "4       0.01             0  "
            ]
          },
          "execution_count": 10,
          "metadata": {},
          "output_type": "execute_result"
        }
      ],
      "source": [
        "# Load the data\n",
        "ebay_df = pd.read_csv('eBayAuctions.csv')\n",
        "ebay_df.head()"
      ]
    },
    {
      "cell_type": "markdown",
      "metadata": {
        "id": "uJMGqxerHFra"
      },
      "source": [
        "## Data Preprocessing"
      ]
    },
    {
      "cell_type": "code",
      "execution_count": null,
      "metadata": {
        "tags": [],
        "id": "ps4jdPSuHFra",
        "outputId": "623161be-b077-4d9f-e316-d3bbf50f92e2"
      },
      "outputs": [
        {
          "data": {
            "text/html": [
              "<div>\n",
              "<style scoped>\n",
              "    .dataframe tbody tr th:only-of-type {\n",
              "        vertical-align: middle;\n",
              "    }\n",
              "\n",
              "    .dataframe tbody tr th {\n",
              "        vertical-align: top;\n",
              "    }\n",
              "\n",
              "    .dataframe thead th {\n",
              "        text-align: right;\n",
              "    }\n",
              "</style>\n",
              "<table border=\"1\" class=\"dataframe\">\n",
              "  <thead>\n",
              "    <tr style=\"text-align: right;\">\n",
              "      <th></th>\n",
              "      <th>sellerRating</th>\n",
              "      <th>Duration</th>\n",
              "      <th>ClosePrice</th>\n",
              "      <th>OpenPrice</th>\n",
              "      <th>Competitive?</th>\n",
              "      <th>Category_Automotive</th>\n",
              "      <th>Category_Books</th>\n",
              "      <th>Category_Business/Industrial</th>\n",
              "      <th>Category_Clothing/Accessories</th>\n",
              "      <th>Category_Coins/Stamps</th>\n",
              "      <th>...</th>\n",
              "      <th>Category_SportingGoods</th>\n",
              "      <th>Category_Toys/Hobbies</th>\n",
              "      <th>currency_GBP</th>\n",
              "      <th>currency_US</th>\n",
              "      <th>endDay_Mon</th>\n",
              "      <th>endDay_Sat</th>\n",
              "      <th>endDay_Sun</th>\n",
              "      <th>endDay_Thu</th>\n",
              "      <th>endDay_Tue</th>\n",
              "      <th>endDay_Wed</th>\n",
              "    </tr>\n",
              "  </thead>\n",
              "  <tbody>\n",
              "    <tr>\n",
              "      <th>0</th>\n",
              "      <td>3249</td>\n",
              "      <td>5</td>\n",
              "      <td>0.01</td>\n",
              "      <td>0.01</td>\n",
              "      <td>0</td>\n",
              "      <td>0</td>\n",
              "      <td>0</td>\n",
              "      <td>0</td>\n",
              "      <td>0</td>\n",
              "      <td>0</td>\n",
              "      <td>...</td>\n",
              "      <td>0</td>\n",
              "      <td>0</td>\n",
              "      <td>0</td>\n",
              "      <td>1</td>\n",
              "      <td>1</td>\n",
              "      <td>0</td>\n",
              "      <td>0</td>\n",
              "      <td>0</td>\n",
              "      <td>0</td>\n",
              "      <td>0</td>\n",
              "    </tr>\n",
              "    <tr>\n",
              "      <th>1</th>\n",
              "      <td>3249</td>\n",
              "      <td>5</td>\n",
              "      <td>0.01</td>\n",
              "      <td>0.01</td>\n",
              "      <td>0</td>\n",
              "      <td>0</td>\n",
              "      <td>0</td>\n",
              "      <td>0</td>\n",
              "      <td>0</td>\n",
              "      <td>0</td>\n",
              "      <td>...</td>\n",
              "      <td>0</td>\n",
              "      <td>0</td>\n",
              "      <td>0</td>\n",
              "      <td>1</td>\n",
              "      <td>1</td>\n",
              "      <td>0</td>\n",
              "      <td>0</td>\n",
              "      <td>0</td>\n",
              "      <td>0</td>\n",
              "      <td>0</td>\n",
              "    </tr>\n",
              "    <tr>\n",
              "      <th>2</th>\n",
              "      <td>3249</td>\n",
              "      <td>5</td>\n",
              "      <td>0.01</td>\n",
              "      <td>0.01</td>\n",
              "      <td>0</td>\n",
              "      <td>0</td>\n",
              "      <td>0</td>\n",
              "      <td>0</td>\n",
              "      <td>0</td>\n",
              "      <td>0</td>\n",
              "      <td>...</td>\n",
              "      <td>0</td>\n",
              "      <td>0</td>\n",
              "      <td>0</td>\n",
              "      <td>1</td>\n",
              "      <td>1</td>\n",
              "      <td>0</td>\n",
              "      <td>0</td>\n",
              "      <td>0</td>\n",
              "      <td>0</td>\n",
              "      <td>0</td>\n",
              "    </tr>\n",
              "    <tr>\n",
              "      <th>3</th>\n",
              "      <td>3249</td>\n",
              "      <td>5</td>\n",
              "      <td>0.01</td>\n",
              "      <td>0.01</td>\n",
              "      <td>0</td>\n",
              "      <td>0</td>\n",
              "      <td>0</td>\n",
              "      <td>0</td>\n",
              "      <td>0</td>\n",
              "      <td>0</td>\n",
              "      <td>...</td>\n",
              "      <td>0</td>\n",
              "      <td>0</td>\n",
              "      <td>0</td>\n",
              "      <td>1</td>\n",
              "      <td>1</td>\n",
              "      <td>0</td>\n",
              "      <td>0</td>\n",
              "      <td>0</td>\n",
              "      <td>0</td>\n",
              "      <td>0</td>\n",
              "    </tr>\n",
              "    <tr>\n",
              "      <th>4</th>\n",
              "      <td>3249</td>\n",
              "      <td>5</td>\n",
              "      <td>0.01</td>\n",
              "      <td>0.01</td>\n",
              "      <td>0</td>\n",
              "      <td>0</td>\n",
              "      <td>0</td>\n",
              "      <td>0</td>\n",
              "      <td>0</td>\n",
              "      <td>0</td>\n",
              "      <td>...</td>\n",
              "      <td>0</td>\n",
              "      <td>0</td>\n",
              "      <td>0</td>\n",
              "      <td>1</td>\n",
              "      <td>1</td>\n",
              "      <td>0</td>\n",
              "      <td>0</td>\n",
              "      <td>0</td>\n",
              "      <td>0</td>\n",
              "      <td>0</td>\n",
              "    </tr>\n",
              "  </tbody>\n",
              "</table>\n",
              "<p>5 rows × 30 columns</p>\n",
              "</div>"
            ],
            "text/plain": [
              "   sellerRating  Duration  ClosePrice  OpenPrice  Competitive?  \\\n",
              "0          3249         5        0.01       0.01             0   \n",
              "1          3249         5        0.01       0.01             0   \n",
              "2          3249         5        0.01       0.01             0   \n",
              "3          3249         5        0.01       0.01             0   \n",
              "4          3249         5        0.01       0.01             0   \n",
              "\n",
              "   Category_Automotive  Category_Books  Category_Business/Industrial  \\\n",
              "0                    0               0                             0   \n",
              "1                    0               0                             0   \n",
              "2                    0               0                             0   \n",
              "3                    0               0                             0   \n",
              "4                    0               0                             0   \n",
              "\n",
              "   Category_Clothing/Accessories  Category_Coins/Stamps  ...  \\\n",
              "0                              0                      0  ...   \n",
              "1                              0                      0  ...   \n",
              "2                              0                      0  ...   \n",
              "3                              0                      0  ...   \n",
              "4                              0                      0  ...   \n",
              "\n",
              "   Category_SportingGoods  Category_Toys/Hobbies  currency_GBP  currency_US  \\\n",
              "0                       0                      0             0            1   \n",
              "1                       0                      0             0            1   \n",
              "2                       0                      0             0            1   \n",
              "3                       0                      0             0            1   \n",
              "4                       0                      0             0            1   \n",
              "\n",
              "   endDay_Mon  endDay_Sat  endDay_Sun  endDay_Thu  endDay_Tue  endDay_Wed  \n",
              "0           1           0           0           0           0           0  \n",
              "1           1           0           0           0           0           0  \n",
              "2           1           0           0           0           0           0  \n",
              "3           1           0           0           0           0           0  \n",
              "4           1           0           0           0           0           0  \n",
              "\n",
              "[5 rows x 30 columns]"
            ]
          },
          "execution_count": 11,
          "metadata": {},
          "output_type": "execute_result"
        }
      ],
      "source": [
        "# convert categorical variables into indicator and drop the first column of each of them\n",
        "ebay_df = pd.get_dummies(ebay_df, prefix_sep='_')\n",
        "ebay_df.drop(columns=['Category_Antique/Art/Craft', 'currency_EUR', 'endDay_Fri'], inplace=True)\n",
        "\n",
        "ebay_df.head()"
      ]
    },
    {
      "cell_type": "code",
      "execution_count": null,
      "metadata": {
        "tags": [],
        "id": "Y2OgI8DXHFrb"
      },
      "outputs": [],
      "source": [
        "# remove question mark from response name\n",
        "ebay_df.columns = [c.replace('?', '') for c in ebay_df.columns]\n",
        "\n",
        "# convert variable Duration to categorical data type\n",
        "ebay_df['Duration'].astype('category')\n",
        "\n",
        "# Separate out predictors and outcome variable \n",
        "X = ebay_df.drop(columns='Competitive')\n",
        "y = ebay_df['Competitive']\n"
      ]
    },
    {
      "cell_type": "code",
      "execution_count": null,
      "metadata": {
        "tags": [],
        "id": "b6kZj_qRHFrb"
      },
      "outputs": [],
      "source": [
        "# partition the data into training (60%) and validation (40%) sets. use random_state=1 for reproducibility of results\n",
        "train_X, valid_X, train_y, valid_y = train_test_split(X, y, test_size=0.4, random_state=1)"
      ]
    },
    {
      "cell_type": "markdown",
      "metadata": {
        "id": "3U_MbZq0HFrb"
      },
      "source": [
        "__9.1.a.__ Fit a classification tree using all predictors. To avoid overfitting, set the minimum number of records in a terminal node to 50 and the maximum tree depth to 7. Write down the results in terms of rules. (_Note:_ If you had to slightly reduce the\n",
        "number of predictors due to software limitations, or for clarity of presentation, which would be a good variable to choose?)"
      ]
    },
    {
      "cell_type": "code",
      "execution_count": null,
      "metadata": {
        "tags": [],
        "id": "m2OAo2O3HFrc",
        "outputId": "6b8fe3a9-5dad-4a4a-dfdf-2fbc55d10597"
      },
      "outputs": [
        {
          "data": {
            "image/png": "[encoded data removed]",
            "text/plain": [
              "<IPython.core.display.Image object>"
            ]
          },
          "execution_count": 14,
          "metadata": {},
          "output_type": "execute_result"
        }
      ],
      "source": [
        "# fit the tree\n",
        "smallClassTree = DecisionTreeClassifier(max_depth=7, min_samples_split=50, min_impurity_decrease=0.01)\n",
        "smallClassTree.fit(train_X, train_y)\n",
        "\n",
        "plotDecisionTree(smallClassTree, feature_names=train_X.columns)"
      ]
    },
    {
      "cell_type": "markdown",
      "metadata": {
        "id": "DzuB24dOHFrc"
      },
      "source": [
        "__9.1.b.__ Is this model practical for predicting the outcome of a new auction?"
      ]
    },
    {
      "cell_type": "markdown",
      "metadata": {
        "tags": [],
        "id": "Fpf_--tAHFrd"
      },
      "source": [
        "__Answer:__ \n",
        "\n",
        "No, because the close price is not known at the start of the auction."
      ]
    },
    {
      "cell_type": "markdown",
      "metadata": {
        "id": "nb0Sgw3CHFrd"
      },
      "source": [
        "__9.1.c.__ Describe the interesting and uninteresting information that these rules provide."
      ]
    },
    {
      "cell_type": "markdown",
      "metadata": {
        "tags": [],
        "id": "ldl0LRkDHFrd"
      },
      "source": [
        "__Answer:__\n",
        "\n",
        "The main effect of a competitive auction is to raise the item's price.  So, by including both the opening and closing price as predictors, our tree is naturally going to focus repeatedly on those two variables since they, by themselves, are the most powerful predictors of a competitive auction. In order to make the tree pay attention to more useful variables we will need to remove the closing price as a predictor."
      ]
    },
    {
      "cell_type": "markdown",
      "metadata": {
        "id": "wW7gn2KeHFre"
      },
      "source": [
        "__9.1.d.__ Fit another classification tree (using a tree with a minimum number of records per terminal node = 50 and maximum depth = 7), this time only with predictors that can be used for predicting the outcome of a new auction. Describe the resulting\n",
        "tree in terms of rules. Make sure to report the smallest set of rules required for classification."
      ]
    },
    {
      "cell_type": "markdown",
      "metadata": {
        "tags": [],
        "id": "BPF_ohtLHFre"
      },
      "source": [
        "__Answer:__"
      ]
    },
    {
      "cell_type": "code",
      "execution_count": null,
      "metadata": {
        "tags": [],
        "id": "LAa3h066HFre",
        "outputId": "93bd7b08-75d4-4205-d91a-32911882e0ee"
      },
      "outputs": [
        {
          "data": {
            "text/plain": [
              "Index(['sellerRating', 'Duration', 'ClosePrice', 'OpenPrice', 'Competitive',\n",
              "       'Category_Automotive', 'Category_Books', 'Category_Business/Industrial',\n",
              "       'Category_Clothing/Accessories', 'Category_Coins/Stamps',\n",
              "       'Category_Collectibles', 'Category_Computer', 'Category_Electronics',\n",
              "       'Category_EverythingElse', 'Category_Health/Beauty',\n",
              "       'Category_Home/Garden', 'Category_Jewelry', 'Category_Music/Movie/Game',\n",
              "       'Category_Photography', 'Category_Pottery/Glass',\n",
              "       'Category_SportingGoods', 'Category_Toys/Hobbies', 'currency_GBP',\n",
              "       'currency_US', 'endDay_Mon', 'endDay_Sat', 'endDay_Sun', 'endDay_Thu',\n",
              "       'endDay_Tue', 'endDay_Wed'],\n",
              "      dtype='object')"
            ]
          },
          "execution_count": 15,
          "metadata": {},
          "output_type": "execute_result"
        }
      ],
      "source": [
        "ebay_df.columns"
      ]
    },
    {
      "cell_type": "code",
      "execution_count": null,
      "metadata": {
        "tags": [],
        "id": "9wCM_IHyHFrf",
        "outputId": "f5e47b59-532b-4721-e218-7e66e6c752d5"
      },
      "outputs": [
        {
          "data": {
            "text/plain": [
              "Index(['sellerRating', 'Duration', 'OpenPrice', 'Competitive',\n",
              "       'Category_Automotive', 'Category_Books', 'Category_Business/Industrial',\n",
              "       'Category_Clothing/Accessories', 'Category_Coins/Stamps',\n",
              "       'Category_Collectibles', 'Category_Computer', 'Category_Electronics',\n",
              "       'Category_EverythingElse', 'Category_Health/Beauty',\n",
              "       'Category_Home/Garden', 'Category_Jewelry', 'Category_Music/Movie/Game',\n",
              "       'Category_Photography', 'Category_Pottery/Glass',\n",
              "       'Category_SportingGoods', 'Category_Toys/Hobbies', 'currency_GBP',\n",
              "       'currency_US'],\n",
              "      dtype='object')"
            ]
          },
          "execution_count": 16,
          "metadata": {},
          "output_type": "execute_result"
        }
      ],
      "source": [
        "# Select only those variables which can be used for predicting the outcome of new auction.\n",
        "\n",
        "# Create a new dataframe with predictors\n",
        "predictors_df = ebay_df\n",
        "\n",
        "columns = list(ebay_df.columns)\n",
        "columns\n",
        "\n",
        "columns.remove('ClosePrice')\n",
        "columns.remove('endDay_Mon')\n",
        "columns.remove('endDay_Sat')\n",
        "columns.remove('endDay_Sun')\n",
        "columns.remove('endDay_Thu')\n",
        "columns.remove('endDay_Tue')\n",
        "columns.remove('endDay_Wed')\n",
        "ebay_df = ebay_df[columns]\n",
        "ebay_df.columns"
      ]
    },
    {
      "cell_type": "code",
      "execution_count": null,
      "metadata": {
        "scrolled": true,
        "tags": [],
        "id": "DFqKiAFHHFrf",
        "outputId": "1fe78022-bdfd-47ad-d364-ee2798c0ebdc"
      },
      "outputs": [
        {
          "data": {
            "image/png": "[encoded data removed]",
            "text/plain": [
              "<IPython.core.display.Image object>"
            ]
          },
          "execution_count": 17,
          "metadata": {},
          "output_type": "execute_result"
        }
      ],
      "source": [
        "# separate out the predictors and response variable\n",
        "X1 = ebay_df.drop(columns='Competitive')\n",
        "y1 = ebay_df['Competitive']\n",
        "\n",
        "# partition the data into training (60%) and validation (40%) sets. Set random_state=1 for reproducibility of results\n",
        "train_X1, valid_X1, train_y1, valid_y1 = train_test_split(X1, y1, test_size=0.4, random_state=1)\n",
        "\n",
        "# fit the tree\n",
        "smallClassTree1 = DecisionTreeClassifier(max_depth=7, min_samples_split=50, min_impurity_decrease=0.01)\n",
        "smallClassTree1.fit(train_X1, train_y1)\n",
        "\n",
        "plotDecisionTree(smallClassTree1, feature_names=train_X1.columns)"
      ]
    },
    {
      "cell_type": "markdown",
      "metadata": {
        "tags": [],
        "id": "LB8b4Y_SHFrg"
      },
      "source": [
        "Set of rules\n",
        "\n",
        "If (OpenPrice <= 3.615) then class = 1\n",
        "\n",
        "If (OpenPrice > 3.615) and (sellerRating <= 601.5) then class = 1\n",
        "\n",
        "If (OpenPrice > 3.615) and (sellerRating > 601.5) then class = 0"
      ]
    },
    {
      "cell_type": "markdown",
      "metadata": {
        "id": "FrZBOUKeHFrg"
      },
      "source": [
        "__9.1.e.__ Plot the resulting tree on a scatter plot: Use the two axes for the two best (quantitative) predictors. Each auction will appear as a point, with coordinates corresponding to its values on those two predictors. Use different colors or symbols\n",
        "to separate competitive and noncompetitive auctions. Draw lines (you can sketch these by hand or use Python) at the values that create splits. Does this splitting seem reasonable with respect to the meaning of the two predictors? Does it seem to do\n",
        "a good job of separating the two classes?"
      ]
    },
    {
      "cell_type": "markdown",
      "metadata": {
        "tags": [],
        "id": "DcBZzXkiHFrg"
      },
      "source": [
        "__Answer:__"
      ]
    },
    {
      "cell_type": "code",
      "execution_count": null,
      "metadata": {
        "tags": [],
        "id": "qqVQR7WhHFrg",
        "outputId": "048ecf3f-b07d-46fa-9018-c429b59c433f"
      },
      "outputs": [
        {
          "data": {
            "text/plain": [
              "<matplotlib.legend.Legend at 0x15052dc4730>"
            ]
          },
          "execution_count": 18,
          "metadata": {},
          "output_type": "execute_result"
        },
        {
          "data": {
            "image/png": "[encoded data removed]",
            "text/plain": [
              "<Figure size 432x288 with 1 Axes>"
            ]
          },
          "metadata": {
            "needs_background": "light"
          },
          "output_type": "display_data"
        }
      ],
      "source": [
        "# plot sellerRating vs. OpenPrice \n",
        "fig, ax = plt.subplots()\n",
        "\n",
        "subset = ebay_df.loc[ebay_df['Competitive']== 0]\n",
        "ax.scatter(subset.sellerRating, subset.OpenPrice, marker='o', label='Competitive=No')\n",
        "\n",
        "subset1 = ebay_df.loc[ebay_df['Competitive']== 1]\n",
        "ax.scatter(subset1.sellerRating, subset1.OpenPrice, marker='D', label='Competitive=Yes')\n",
        "\n",
        "plt.xlabel('sellerRating')  # set x-axis label\n",
        "plt.ylabel('OpenPrice')  # set y-axis label\n",
        "    \n",
        "handles, labels = ax.get_legend_handles_labels()\n",
        "ax.legend(handles, labels)"
      ]
    },
    {
      "cell_type": "markdown",
      "metadata": {
        "tags": [],
        "id": "viZeq5i0HFrh"
      },
      "source": [
        "The splitting points are located way down in the lower left corner so the scatterplot does not reveal much to answer the question. We could do a log transform, or restrict the scatterplot to the smaller values."
      ]
    },
    {
      "cell_type": "code",
      "execution_count": null,
      "metadata": {
        "tags": [],
        "id": "QbA5iZqPHFrh"
      },
      "outputs": [],
      "source": [
        "# apply log transformation on the variables OpenPrice and sellerRating\n",
        "train_df = train_X.copy()\n",
        "train_df['Competitive'] = train_y\n",
        "train_df['log_OpenPrice'] = np.log(train_df['OpenPrice'])\n",
        "train_df['log_sellerRating'] = np.log(train_df['sellerRating'])"
      ]
    },
    {
      "cell_type": "code",
      "execution_count": null,
      "metadata": {
        "tags": [],
        "id": "mplOmIJ4HFrh",
        "outputId": "440228d9-2b28-46b4-c6dd-f0e05d57a8d8"
      },
      "outputs": [
        {
          "data": {
            "text/plain": [
              "<matplotlib.legend.Legend at 0x15052e0f8e0>"
            ]
          },
          "execution_count": 21,
          "metadata": {},
          "output_type": "execute_result"
        },
        {
          "data": {
            "image/png": "[encoded data removed]",
            "text/plain": [
              "<Figure size 432x288 with 1 Axes>"
            ]
          },
          "metadata": {
            "needs_background": "light"
          },
          "output_type": "display_data"
        }
      ],
      "source": [
        "# plot sellerRating vs. OpenPrice \n",
        "fig, ax = plt.subplots()\n",
        "\n",
        "subset = train_df.loc[train_df['Competitive']== 0]\n",
        "ax.scatter(subset.log_sellerRating, subset.log_OpenPrice, marker='o', label='Competitive=No')\n",
        "\n",
        "subset1 = train_df.loc[train_df['Competitive']== 1]\n",
        "ax.scatter(subset1.log_sellerRating, subset1.log_OpenPrice, marker='D', label='Competitive=Yes')\n",
        "\n",
        "plt.xlabel('sellerRating')  # set x-axis label\n",
        "plt.ylabel('OpenPrice')  # set y-axis label\n",
        "    \n",
        "handles, labels = ax.get_legend_handles_labels()\n",
        "ax.legend(handles, labels)\n"
      ]
    },
    {
      "cell_type": "markdown",
      "metadata": {
        "tags": [],
        "id": "gwlFcq3VHFrh"
      },
      "source": [
        "Although it is hard to see a clear separation between the competitive and noncompetitive auctions on the scatter plot, we see a set of competitive auctions with opening price > 10 held by sellers with rating < 1000. This is surprising, because we would expect higher seller ratings to be associated with a higher chance of competitive auctions. We also see that the bulk of auctions with opening price < $1 or so are competitive, and this is not surprising (lower opening bids attract bidders)."
      ]
    },
    {
      "cell_type": "markdown",
      "metadata": {
        "id": "OXVixI0JHFri"
      },
      "source": [
        "__9.1.f.__ Examine the lift chart and the confusion matrix for the tree. What can you say about the predictive performance of this model?"
      ]
    },
    {
      "cell_type": "markdown",
      "metadata": {
        "tags": [],
        "id": "1YDD-R8_HFri"
      },
      "source": [
        "__Answer:__ "
      ]
    },
    {
      "cell_type": "code",
      "execution_count": null,
      "metadata": {
        "tags": [],
        "id": "SHvyiI1wHFri",
        "outputId": "f7557e02-bf12-4e0d-91d8-8b0ad6487e83"
      },
      "outputs": [
        {
          "data": {
            "text/html": [
              "<div>\n",
              "<style scoped>\n",
              "    .dataframe tbody tr th:only-of-type {\n",
              "        vertical-align: middle;\n",
              "    }\n",
              "\n",
              "    .dataframe tbody tr th {\n",
              "        vertical-align: top;\n",
              "    }\n",
              "\n",
              "    .dataframe thead th {\n",
              "        text-align: right;\n",
              "    }\n",
              "</style>\n",
              "<table border=\"1\" class=\"dataframe\">\n",
              "  <thead>\n",
              "    <tr style=\"text-align: right;\">\n",
              "      <th></th>\n",
              "      <th>actual</th>\n",
              "      <th>p(0)</th>\n",
              "      <th>p(1)</th>\n",
              "      <th>predicted</th>\n",
              "    </tr>\n",
              "  </thead>\n",
              "  <tbody>\n",
              "    <tr>\n",
              "      <th>1287</th>\n",
              "      <td>0</td>\n",
              "      <td>0.711340</td>\n",
              "      <td>0.288660</td>\n",
              "      <td>0</td>\n",
              "    </tr>\n",
              "    <tr>\n",
              "      <th>1017</th>\n",
              "      <td>1</td>\n",
              "      <td>0.270567</td>\n",
              "      <td>0.729433</td>\n",
              "      <td>1</td>\n",
              "    </tr>\n",
              "    <tr>\n",
              "      <th>1047</th>\n",
              "      <td>0</td>\n",
              "      <td>0.711340</td>\n",
              "      <td>0.288660</td>\n",
              "      <td>0</td>\n",
              "    </tr>\n",
              "    <tr>\n",
              "      <th>108</th>\n",
              "      <td>1</td>\n",
              "      <td>0.270567</td>\n",
              "      <td>0.729433</td>\n",
              "      <td>1</td>\n",
              "    </tr>\n",
              "    <tr>\n",
              "      <th>1084</th>\n",
              "      <td>1</td>\n",
              "      <td>0.711340</td>\n",
              "      <td>0.288660</td>\n",
              "      <td>0</td>\n",
              "    </tr>\n",
              "  </tbody>\n",
              "</table>\n",
              "</div>"
            ],
            "text/plain": [
              "      actual      p(0)      p(1)  predicted\n",
              "1287       0  0.711340  0.288660          0\n",
              "1017       1  0.270567  0.729433          1\n",
              "1047       0  0.711340  0.288660          0\n",
              "108        1  0.270567  0.729433          1\n",
              "1084       1  0.711340  0.288660          0"
            ]
          },
          "execution_count": 22,
          "metadata": {},
          "output_type": "execute_result"
        }
      ],
      "source": [
        "# predicted classes\n",
        "pred_t = smallClassTree1.predict(train_X1)\n",
        "pred_v = smallClassTree1.predict(valid_X1)\n",
        "\n",
        "# predicted probabilities for validation set\n",
        "pred_prob_v = (smallClassTree1.predict_proba(valid_X1))\n",
        "\n",
        "# put it together in a data frame\n",
        "tree_result = pd.DataFrame({'actual': valid_y1,\n",
        "                           'p(0)': [p[0] for p in pred_prob_v],\n",
        "                           'p(1)': [p[1] for p in pred_prob_v],\n",
        "                           'predicted': pred_v})\n",
        "tree_result.head()"
      ]
    },
    {
      "cell_type": "code",
      "execution_count": null,
      "metadata": {
        "scrolled": true,
        "tags": [],
        "id": "Ekt-Qbl7HFri",
        "outputId": "a501d3d7-e453-4ed5-d1e1-1c63f433e530"
      },
      "outputs": [
        {
          "name": "stdout",
          "output_type": "stream",
          "text": [
            "Training Set: Confusion matrix\n",
            "\n",
            "Confusion Matrix (Accuracy 0.7058)\n",
            "\n",
            "       Prediction\n",
            "Actual   0   1\n",
            "     0 345 208\n",
            "     1 140 490\n",
            "\n",
            "Validation Set: Confusion matrix\n",
            "\n",
            "Confusion Matrix (Accuracy 0.7072)\n",
            "\n",
            "       Prediction\n",
            "Actual   0   1\n",
            "     0 228 125\n",
            "     1 106 330\n"
          ]
        }
      ],
      "source": [
        "# confusion matrices for training and validation sets\n",
        "print('Training Set: Confusion matrix\\n')\n",
        "classificationSummary(train_y1, pred_t)\n",
        "print(\"\\nValidation Set: Confusion matrix\\n\")\n",
        "classificationSummary(valid_y1, pred_v)"
      ]
    },
    {
      "cell_type": "code",
      "execution_count": null,
      "metadata": {
        "scrolled": true,
        "tags": [],
        "id": "aq5SIQJQHFrj",
        "outputId": "a8bfa493-72e4-49ef-e5e0-e4ed4eccf505"
      },
      "outputs": [
        {
          "data": {
            "text/plain": [
              "<AxesSubplot:xlabel='Percentile', ylabel='Lift'>"
            ]
          },
          "execution_count": 24,
          "metadata": {},
          "output_type": "execute_result"
        },
        {
          "data": {
            "image/png": "[encoded data removed]",
            "text/plain": [
              "<Figure size 720x288 with 2 Axes>"
            ]
          },
          "metadata": {
            "needs_background": "light"
          },
          "output_type": "display_data"
        }
      ],
      "source": [
        "# lift chart for validation set\n",
        "df = tree_result.sort_values(by=['p(1)'], ascending=False)\n",
        "fig, axes = plt.subplots(nrows=1, ncols=2, figsize=(10, 4))\n",
        "\n",
        "gainsChart(df.actual, ax=axes[0])\n",
        "liftChart(df['p(1)'], title=False, ax=axes[1])"
      ]
    },
    {
      "cell_type": "markdown",
      "metadata": {
        "tags": [],
        "id": "Jscd8BcrHFrj"
      },
      "source": [
        "From the lift chart we see that the model's predictive performance (i.e. correctly capturing the auctions that are most likely to be competitive) is better than the baseline model, since its lift curve is higher than that of the baseline model. The decile lift chart has a limited set of lift values because the tree is a simple one, producing only three potential predicted probabilities."
      ]
    },
    {
      "cell_type": "markdown",
      "metadata": {
        "id": "zJkt0axdHFrj"
      },
      "source": [
        "__9.1.g.__ Based on this last tree, what can you conclude from these data about the chances of an auction obtaining at least two bids and its relationship to the auction settings set by the seller (duration, opening price, ending day, currency)? What would you recommend for a seller as the strategy that will most likely lead to a competitive auction?"
      ]
    },
    {
      "cell_type": "markdown",
      "metadata": {
        "tags": [],
        "id": "HqozPoj6HFrj"
      },
      "source": [
        "__Answer:__\n",
        "\n",
        "To get a competitive auction, the most important factor controlled by the seller is the opening price, with lower opening prices attracting more bidders. From the tree we see that if the opening price < \\\\$3.615, then it will lead to a competitive auction. In particular, it appears that setting the opening price to the minimum of $0.01 (which is eBay's default) is most likely to lead to a competitive auction."
      ]
    },
    {
      "cell_type": "markdown",
      "metadata": {
        "id": "eo9LBTK-HFrk"
      },
      "source": [
        "## Data Preprocessing"
      ]
    },
    {
      "cell_type": "code",
      "execution_count": null,
      "metadata": {
        "id": "yfGRdJh6HFrk"
      },
      "outputs": [],
      "source": [
        "# Load the data\n",
        "delays_df = pd.read_csv(DATA / 'FlightDelays.csv')\n",
        "delays_df.head()"
      ]
    },
    {
      "cell_type": "code",
      "execution_count": null,
      "metadata": {
        "scrolled": true,
        "id": "IYPogL0OHFrk"
      },
      "outputs": [],
      "source": [
        "# convert variable DAY_WEEK to categorical data type\n",
        "delays_df['DAY_WEEK'].astype('category')"
      ]
    },
    {
      "cell_type": "code",
      "execution_count": null,
      "metadata": {
        "id": "y-lxfRPPHFrl"
      },
      "outputs": [],
      "source": [
        "# bin CRS_DEP_TIME variable into 8 bins\n",
        "delays_df['binned_CRS_DEP_TIME'] = pd.cut(delays_df.CRS_DEP_TIME, 8, labels=False)\n",
        "delays_df['binned_CRS_DEP_TIME'].astype('category')"
      ]
    },
    {
      "cell_type": "code",
      "execution_count": null,
      "metadata": {
        "id": "2DwaOAhfHFrl"
      },
      "outputs": [],
      "source": [
        "# remove DAY_OF_MONTH variable\n",
        "predictors_df = delays_df\n",
        "columns = list(delays_df.columns)\n",
        "columns.remove('DAY_OF_MONTH')\n",
        "predictors_df = predictors_df[columns]"
      ]
    },
    {
      "cell_type": "markdown",
      "metadata": {
        "id": "PrqVF5-SHFrm"
      },
      "source": [
        "__9.2.a.__ Fit a classification tree to the flight delay variable using all the relevant predictors. Do not include DEP_TIME (actual departure time) in the model because it is unknown at the time of prediction (unless we are generating our predictions of delays after the plane takes off, which is unlikely). Use a tree with maximum depth 8 and minimum impurity decrease = 0.01. Express the resulting tree as a set of rules."
      ]
    },
    {
      "cell_type": "code",
      "execution_count": null,
      "metadata": {
        "id": "I38sfKBvHFrm"
      },
      "outputs": [],
      "source": [
        "# select only those variables which can be used for predicting the outcome.\n",
        "# create a new dataframe with predictors\n",
        "columns = list(predictors_df.columns)\n",
        "columns\n",
        "\n",
        "columns.remove('CRS_DEP_TIME')\n",
        "columns.remove('DEP_TIME')\n",
        "columns.remove('FL_DATE')\n",
        "columns.remove('FL_NUM')\n",
        "columns.remove('TAIL_NUM')\n",
        "columns.remove('Flight Status')\n",
        "predictors_df = predictors_df[columns]\n",
        "predictors_df.columns\n",
        "\n",
        "predictors_df.head()"
      ]
    },
    {
      "cell_type": "code",
      "execution_count": null,
      "metadata": {
        "id": "T_kCwr3kHFrm"
      },
      "outputs": [],
      "source": [
        "# create dummies for categorical variables\n",
        "predictors_df = pd.get_dummies(predictors_df, prefix_sep='_')\n",
        "predictors_df.columns"
      ]
    },
    {
      "cell_type": "code",
      "execution_count": null,
      "metadata": {
        "id": "l2cUsI84HFrn"
      },
      "outputs": [],
      "source": [
        "# partition the data into training (60%) and validation (40%) sets. set random_state=1 for the reproducibility of results\n",
        "X = predictors_df\n",
        "y = delays_df['Flight Status']\n",
        "\n",
        "train_X, valid_X, train_y, valid_y = train_test_split(X, y, test_size=0.4, random_state=1)\n",
        "train_X.head()"
      ]
    },
    {
      "cell_type": "code",
      "execution_count": null,
      "metadata": {
        "id": "YvnCJE_oHFrn"
      },
      "outputs": [],
      "source": [
        "# fit the tree model and draw tree\n",
        "smallClassTree = DecisionTreeClassifier(max_depth=8, min_samples_split=50, min_impurity_decrease=0.01)\n",
        "smallClassTree.fit(train_X, train_y)\n",
        "\n",
        "print('Tree has {} nodes'.format(smallClassTree.tree_.node_count))\n",
        "plotDecisionTree(smallClassTree, feature_names=train_X.columns)"
      ]
    },
    {
      "cell_type": "markdown",
      "metadata": {
        "id": "omlE5MypHFrn"
      },
      "source": [
        "The limited tree has only one splitting variable: Weather\n",
        "\n",
        "If (Weather <= 0.5) then classify as Ontime."
      ]
    },
    {
      "cell_type": "markdown",
      "metadata": {
        "id": "a_K9aeoDHFro"
      },
      "source": [
        "__9.2.b.__ If you needed to fly between DCA and EWR on a Monday at 7:00 AM, would you be able to use this tree? What other information would you need? Is it available in practice? What information is redundant?"
      ]
    },
    {
      "cell_type": "markdown",
      "metadata": {
        "id": "cVUbJzUAHFro"
      },
      "source": [
        "__Answer:__ \n",
        "\n",
        "We cannot use this tree, because we must know the Weather. The redundant information is the day of week (Monday) and arrival airport (EWR). The tree requires knowing whether the weather was inclement or not. We may not know the weather in advance."
      ]
    },
    {
      "cell_type": "markdown",
      "metadata": {
        "id": "B5xmJ800HFrp"
      },
      "source": [
        "__9.2.c.__ Fit the same tree as in (a), this time excluding the Weather predictor. Display both the resulting (small) tree and the full-grown tree. You will find that the small tree contains a single terminal node."
      ]
    },
    {
      "cell_type": "code",
      "execution_count": null,
      "metadata": {
        "id": "T-aZE7ubHFrp"
      },
      "outputs": [],
      "source": [
        "# remove variable Weather from the analysis\n",
        "predictors1_df = predictors_df\n",
        "columns = list(predictors_df.columns)\n",
        "columns\n",
        "columns.remove('Weather')\n",
        "predictors1_df = predictors1_df[columns]\n",
        "predictors1_df.columns"
      ]
    },
    {
      "cell_type": "code",
      "execution_count": null,
      "metadata": {
        "id": "rYEUI0FcHFrp"
      },
      "outputs": [],
      "source": [
        "X1 = predictors1_df\n",
        "y1 = delays_df['Flight Status']\n",
        "\n",
        "train_X1, valid_X1, train_y1, valid_y1 = train_test_split(X1, y1, test_size=0.4, random_state=1)\n",
        "\n",
        "# full-grown tree\n",
        "fullClassTree = DecisionTreeClassifier()\n",
        "fullClassTree.fit(train_X1, train_y1)\n",
        "\n",
        "print('Tree has {} nodes'.format(fullClassTree.tree_.node_count))\n",
        "plotDecisionTree(fullClassTree, feature_names=train_X1.columns)"
      ]
    },
    {
      "cell_type": "code",
      "execution_count": null,
      "metadata": {
        "id": "4Xi48CbUHFrp"
      },
      "outputs": [],
      "source": [
        "# small tree\n",
        "ClassTree = DecisionTreeClassifier(max_depth=8, min_samples_split=50, min_impurity_decrease=0.01)\n",
        "ClassTree.fit(train_X1, train_y1)\n",
        "\n",
        "print('Tree has {} nodes'.format(ClassTree.tree_.node_count))\n",
        "plotDecisionTree(ClassTree, feature_names=train_X1.columns)"
      ]
    },
    {
      "cell_type": "markdown",
      "metadata": {
        "id": "IPWtHkYNHFrq"
      },
      "source": [
        "__9.2.c.i.__ How is the small tree used for classification? (What is the rule for classifying?)"
      ]
    },
    {
      "cell_type": "markdown",
      "metadata": {
        "id": "23u_HoxJHFrq"
      },
      "source": [
        "__Answer:__ \n",
        "\n",
        "In the small tree we get a single terminal node labeled \"ontime.\" Therefore any new flight will be classified as being \"on time\"."
      ]
    },
    {
      "cell_type": "markdown",
      "metadata": {
        "id": "kbbE4jAZHFrq"
      },
      "source": [
        "__9.2.c.ii__ To what is this rule equivalent?"
      ]
    },
    {
      "cell_type": "markdown",
      "metadata": {
        "id": "l07p3L3MHFrr"
      },
      "source": [
        "__Answer:__\n",
        "\n",
        "This is equivalent to the naïve rule, which is the majority rule. In this dataset most of the flights arrived on time, and therefore the naïve rule is to classify a new flight as arriving on time."
      ]
    },
    {
      "cell_type": "markdown",
      "metadata": {
        "id": "NKd0s0aXHFrr"
      },
      "source": [
        "__9.2.c.iii.__ Examine the full-grown tree. What are the top three predictors according to this tree?"
      ]
    },
    {
      "cell_type": "markdown",
      "metadata": {
        "id": "JAkbs0gTHFrr"
      },
      "source": [
        "__Answer:__\n",
        "\n",
        "CARRIER=US, CARRIER=DL, binned_CRS_DEP_TIME."
      ]
    },
    {
      "cell_type": "markdown",
      "metadata": {
        "id": "UD_QvRlWHFrr"
      },
      "source": [
        "__9.2.c.iv.__ Why, technically, does the small tree result in a single node?"
      ]
    },
    {
      "cell_type": "markdown",
      "metadata": {
        "id": "uxwOUfvDHFrs"
      },
      "source": [
        "__Answer:__\n",
        "\n",
        "The small tree results in a single node because adding splits would violate one of the constraints we used to limit tree growth. "
      ]
    },
    {
      "cell_type": "markdown",
      "metadata": {
        "id": "e0q5319fHFrs"
      },
      "source": [
        "__9.2.c.v.__ What is the disadvantage of using the top levels of the full-grown tree as opposed to the small tree?"
      ]
    },
    {
      "cell_type": "markdown",
      "metadata": {
        "id": "-UsT9fw1HFrs"
      },
      "source": [
        "__Answer:__\n",
        "\n",
        "Simply using the top layers of the full decision tree would be an ad hoc visual approach, and does not assure an optimal solution. Using \"gridsearchCV\" in Python allows us to set the parameters for limiting tree growth by assessing error on the validation data. We did not use \"gridsearchCV\" in this case, opting to keep the problem simple by specifying the limiting parameters."
      ]
    },
    {
      "cell_type": "markdown",
      "metadata": {
        "id": "4SNn5C43HFrs"
      },
      "source": [
        "__9.2.c.vi.__ Compare this general result to that from logistic regression in the example in Chapter 10. What are possible reasons for the classification tree’s failure to find a good predictive model?"
      ]
    },
    {
      "cell_type": "code",
      "execution_count": null,
      "metadata": {
        "id": "B7yMXwLbHFrt"
      },
      "outputs": [],
      "source": [
        "# predictive power of tree\n",
        "# predicted values for validation set\n",
        "pred_v = ClassTree.predict(valid_X1)\n",
        "# confusion matrix for validation set\n",
        "classificationSummary(valid_y1, pred_v)"
      ]
    },
    {
      "cell_type": "markdown",
      "metadata": {
        "id": "cfkeKbxeHFrt"
      },
      "source": [
        "The logistic regression improves only marginally on the naive rule, and the simple tree we ended up with improves on it not at all, so it is likely that the predictor variables offer little predictive power. With poor predictive power and a relatively small dataset, the model-based logistic regression may do a bit better by virtue of imposing structure, as opposed to the tree, which is more at the mercy of the data and can suffer from instability."
      ]
    },
    {
      "cell_type": "markdown",
      "metadata": {
        "id": "kx2hPU2_HFrt"
      },
      "source": [
        "__9.3.a.__ Run a full-grown regression tree (RT) with outcome variable Price and predictors Age_08_04, KM, Fuel_Type (first convert to dummies), HP, Automatic, Doors, Quarterly_Tax, Mfr_Guarantee, Guarantee_Period, Airco, Automatic_airco, CD_Player, Powered_Windows, Sport_Model, and Tow_Bar. Set random_state=1."
      ]
    },
    {
      "cell_type": "markdown",
      "metadata": {
        "id": "pvCB0SgwHFrt"
      },
      "source": [
        "__9.3.a.i.__ Which appear to be the three or four most important car specifications for predicting the car’s price?"
      ]
    },
    {
      "cell_type": "code",
      "execution_count": null,
      "metadata": {
        "scrolled": true,
        "id": "FO_NIabqHFru"
      },
      "outputs": [],
      "source": [
        "# Load the data\n",
        "car_df = pd.read_csv(DATA / 'ToyotaCorolla.csv')\n",
        "\n",
        "# Select the required columns\n",
        "columns = ['Price', 'Age_08_04', 'KM', 'Fuel_Type', 'HP', 'Automatic', \n",
        "           'Doors', 'Quarterly_Tax', 'Mfr_Guarantee', 'Guarantee_Period', \n",
        "           'Airco', 'Automatic_airco', 'CD_Player', 'Powered_Windows', \n",
        "           'Sport_Model', 'Tow_Bar']\n",
        "\n",
        "car_df = car_df[columns]\n",
        "\n",
        "# Convert Fuel_Type to dummy variables\n",
        "car_df = pd.get_dummies(car_df, drop_first=True)\n",
        "\n",
        "# Make sure that the result is as expected\n",
        "car_df.head()"
      ]
    },
    {
      "cell_type": "code",
      "execution_count": null,
      "metadata": {
        "id": "a7r1Im_WHFru"
      },
      "outputs": [],
      "source": [
        "# separate out predictors and outcome variable\n",
        "X = car_df.drop(columns='Price')\n",
        "y = car_df['Price']\n",
        "\n",
        "# partition the data into training (60%) and validiation (40%). Set random_state=1 for reproducibility of results \n",
        "train_X, valid_X, train_y, valid_y = train_test_split(X, y, test_size=0.4, random_state=1)\n",
        "print('Training set:', train_X.shape, 'Validation set:', valid_X.shape)"
      ]
    },
    {
      "cell_type": "code",
      "execution_count": null,
      "metadata": {
        "id": "Cn39e8vuHFru"
      },
      "outputs": [],
      "source": [
        "# setting random state will ensure that the same tree is produced every time\n",
        "deepTree = DecisionTreeRegressor(random_state=1)\n",
        "deepTree.fit(train_X, train_y)\n",
        "\n",
        "print('Tree has {} nodes'.format(deepTree.tree_.node_count))\n",
        "plotDecisionTree(deepTree, feature_names=train_X.columns, impurity=False)"
      ]
    },
    {
      "cell_type": "code",
      "execution_count": null,
      "metadata": {
        "id": "5R56itZGHFru"
      },
      "outputs": [],
      "source": [
        "# Variable importance\n",
        "importance = pd.DataFrame({'features': train_X.columns, \n",
        "                           'importance': deepTree.feature_importances_})\n",
        "importance.sort_values(by='importance', ascending=False)"
      ]
    },
    {
      "cell_type": "markdown",
      "metadata": {
        "id": "gMytSttGHFrv"
      },
      "source": [
        "From the regression tree it appears that the most important car specifications to predict the car's price are Age_08_04 (Age in months as of August 2004), HP (Horse Power), KM (accumulated kilometers on odometer) and Automatic_airco (Automatic Airconditioning(Yes=1, No=0)).\n",
        "\n",
        "__Note:__ It has been pointed out that there is a value in the cc variable - 16,000 - that is probably a data input error. The solutions have been prepared without correcting this error, but a solution that includes correcting this error to 1600 would also be fine. (The data could also be used as a small illustration or exercise of data prep and cleaning.)"
      ]
    },
    {
      "cell_type": "markdown",
      "metadata": {
        "id": "JUTozwqmHFrv"
      },
      "source": [
        "__9.3.a.ii.__ Compare the prediction errors of the training and validation sets by examining their RMS error and by plotting the two boxplots. How does the predictive performance of the validation set compare to the training set? Why does this occur?"
      ]
    },
    {
      "cell_type": "markdown",
      "metadata": {
        "id": "ZiutKskWHFrv"
      },
      "source": [
        "__Answer:__"
      ]
    },
    {
      "cell_type": "code",
      "execution_count": null,
      "metadata": {
        "id": "SzrWUR_0HFrv"
      },
      "outputs": [],
      "source": [
        "# error report for training and validation sets\n",
        "print('training set:')\n",
        "regressionSummary(train_y, deepTree.predict(train_X))\n",
        "print('\\nvalidation set:')\n",
        "regressionSummary(valid_y, deepTree.predict(valid_X))"
      ]
    },
    {
      "cell_type": "markdown",
      "metadata": {
        "id": "RuTsZyHQHFrv"
      },
      "source": [
        "The RMSE of the training set is 0 since the tree is as complex as it can be and fully predicts every record. The RMSE of the validation set, which was not involved in the overfitting, is about 1500."
      ]
    },
    {
      "cell_type": "markdown",
      "metadata": {
        "id": "GoT-6BTsHFrw"
      },
      "source": [
        "__9.3.a.iii.__ How might we achieve better validation predictive performance at the expense of training performance?"
      ]
    },
    {
      "cell_type": "markdown",
      "metadata": {
        "id": "YEZ3yOO8HFrw"
      },
      "source": [
        "__Answer:__"
      ]
    },
    {
      "cell_type": "markdown",
      "metadata": {
        "id": "AGnMhQlxHFrw"
      },
      "source": [
        "By limiting tree growth with GridSearchCV, which assesses the performance of many different tree sizes."
      ]
    },
    {
      "cell_type": "markdown",
      "metadata": {
        "id": "0hQg91HgHFrw"
      },
      "source": [
        "__9.3.a.iv.__ Create a smaller tree by using GridSearchCV() with cv=5 to find a fine-tuned tree. Compared to the full-grown tree, what is the predictive performance on the validation set?"
      ]
    },
    {
      "cell_type": "code",
      "execution_count": null,
      "metadata": {
        "id": "n7Emfl6DHFrx"
      },
      "outputs": [],
      "source": [
        "# Before doing full grid search, try a tree of depth = 5\n",
        "# smaller tree\n",
        "shallowTree = DecisionTreeRegressor(max_depth=5)\n",
        "shallowTree.fit(train_X, train_y)\n",
        "print('Tree has {} nodes'.format(shallowTree.tree_.node_count))\n",
        "plotDecisionTree(shallowTree, feature_names=train_X.columns, rotate=True, impurity=False)"
      ]
    },
    {
      "cell_type": "code",
      "execution_count": null,
      "metadata": {
        "id": "8VPFjC7GHFrx"
      },
      "outputs": [],
      "source": [
        "# error report for training and validation sets\n",
        "print('training set:')\n",
        "regressionSummary(train_y, shallowTree.predict(train_X))\n",
        "print('\\nvalidation set:')\n",
        "regressionSummary(valid_y, shallowTree.predict(valid_X))"
      ]
    },
    {
      "cell_type": "markdown",
      "metadata": {
        "id": "Ky4hpM5DHFrx"
      },
      "source": [
        "For the shallower tree, the RMSE values of training and validation sets are comparable. Compared to the deep tree, the RMSE of the validation set is lower. This shallower tree does much worse on the training set than the deep tree but does better in predicting rows in the validation set. This indicates a more robust model."
      ]
    },
    {
      "cell_type": "code",
      "execution_count": null,
      "metadata": {
        "id": "8DMp-SdPHFrx"
      },
      "outputs": [],
      "source": [
        "# user grid search to find optimized tree\n",
        "param_grid = {\n",
        "    'max_depth': [5, 10, 15, 20, 25], \n",
        "    'min_impurity_decrease': [0, 0.001, 0.005, 0.01], \n",
        "    'min_samples_split': [10, 20, 30, 40, 50], \n",
        "}\n",
        "gridSearch = GridSearchCV(DecisionTreeRegressor(random_state=1), \n",
        "                          param_grid, cv=5, n_jobs=-1)\n",
        "gridSearch.fit(train_X, train_y)\n",
        "print('Initial parameters: ', gridSearch.best_params_)\n",
        "\n",
        "param_grid = {\n",
        "    'max_depth': [5, 6, 7, 8, 9, 10, 11, 12, 13], \n",
        "    'min_impurity_decrease': [0, 0.001, 0.002, 0.003, 0.004, 0.005, \n",
        "                              0.006, 0.007], \n",
        "    'min_samples_split': [17, 18, 19, 20, 21, 22, 23], \n",
        "}\n",
        "gridSearch = GridSearchCV(DecisionTreeRegressor(random_state=1), \n",
        "                          param_grid, cv=5, n_jobs=-1)\n",
        "gridSearch.fit(train_X, train_y)\n",
        "print('Improved parameters: ', gridSearch.best_params_)\n",
        "\n",
        "optRegTree = gridSearch.best_estimator_\n",
        "\n",
        "importanceRT = pd.DataFrame({'features': train_X.columns, \n",
        "                             'importance': deepTree.feature_importances_})\n",
        "\n",
        "print('Tree has {} nodes'.format(optRegTree.tree_.node_count))\n",
        "plotDecisionTree(optRegTree, feature_names=train_X.columns, rotate=True)"
      ]
    },
    {
      "cell_type": "code",
      "execution_count": null,
      "metadata": {
        "id": "GuZemF6uHFry"
      },
      "outputs": [],
      "source": [
        "# error report for training and validation sets\n",
        "print('training set:')\n",
        "regressionSummary(train_y, optRegTree.predict(train_X))\n",
        "print('\\nvalidation set:')\n",
        "regressionSummary(valid_y, optRegTree.predict(valid_X))"
      ]
    },
    {
      "cell_type": "markdown",
      "metadata": {
        "id": "1DDP3DPAHFry"
      },
      "source": [
        "__9.3.b.__ Let us see the effect of turning the price variable into a categorical variable. First, create a new variable that categorizes price into 20 bins. Now repartition the data keeping Binned_Price instead of Price. Run a classification tree with the same set of input variables as in the RT, and with Binned_Price as the output variable. As in the less deep regression tree, create a smaller tree by using GridSearchCV() with cv=5 to find a fine-tuned tree."
      ]
    },
    {
      "cell_type": "code",
      "execution_count": null,
      "metadata": {
        "id": "-O7NZdfcHFry"
      },
      "outputs": [],
      "source": [
        "# categorical price\n",
        "car_df['binned_price'] = pd.cut(car_df.Price, 20, labels=False)\n",
        "car_df.head(5)\n",
        "\n",
        "# separate out predictors and response\n",
        "X = car_df.drop(columns=['Price', 'binned_price'])\n",
        "y = car_df['binned_price']\n",
        "\n",
        "# partition the data into training (60%) and validation (40%). Set random_state=1 for the reproducibility of results\n",
        "train_X, valid_X, train_y, valid_y = train_test_split(X, y, test_size=0.4, random_state=1)"
      ]
    },
    {
      "cell_type": "markdown",
      "metadata": {
        "id": "ZjWSOPOUHFry"
      },
      "source": [
        "__9.3.b.i.__ Compare the smaller tree generated by the CT with the smaller tree generated by RT. Are they different? (Look at structure, the top predictors, size of tree, etc.) Why?"
      ]
    },
    {
      "cell_type": "markdown",
      "metadata": {
        "id": "-VhTigz7HFrz"
      },
      "source": [
        "__Answer:__"
      ]
    },
    {
      "cell_type": "code",
      "execution_count": null,
      "metadata": {
        "id": "7Eru5qZmHFrz"
      },
      "outputs": [],
      "source": [
        "# use grid search to find optimized tree\n",
        "param_grid = {\n",
        "    'max_depth': [5, 10, 15, 20, 25], \n",
        "    'min_impurity_decrease': [0, 0.001, 0.005, 0.01], \n",
        "    'min_samples_split': [10, 20, 30, 40, 50], \n",
        "}\n",
        "gridSearch = GridSearchCV(DecisionTreeClassifier(random_state=1), param_grid, cv=5, n_jobs=-1)\n",
        "with warnings.catch_warnings():\n",
        "    warnings.simplefilter(\"ignore\")\n",
        "    gridSearch.fit(train_X, train_y)\n",
        "print('Initial parameters: ', gridSearch.best_params_)\n",
        "\n",
        "param_grid = {\n",
        "    'max_depth': [1, 2, 3, 4, 5, 6, 7, 8], \n",
        "    'min_impurity_decrease': [0, 0.001, 0.002, 0.003, 0.004, 0.005, 0.006, 0.007], \n",
        "    'min_samples_split': [8, 9, 10, 11, 12, 13], \n",
        "}\n",
        "gridSearch = GridSearchCV(DecisionTreeClassifier(random_state=1), param_grid, cv=5, n_jobs=-1)\n",
        "with warnings.catch_warnings():\n",
        "    warnings.simplefilter(\"ignore\")\n",
        "    gridSearch.fit(train_X, train_y)\n",
        "print('Improved parameters: ', gridSearch.best_params_)\n",
        "\n",
        "optClassTree = gridSearch.best_estimator_\n",
        "importanceCT = pd.DataFrame({'features': train_X.columns, \n",
        "                             'importance': optClassTree.feature_importances_})\n"
      ]
    },
    {
      "cell_type": "code",
      "execution_count": null,
      "metadata": {
        "id": "FyIgTtcLHFrz"
      },
      "outputs": [],
      "source": [
        "# plot the tree\n",
        "# CT has 57 nodes, compared to RT, which has 61\n",
        "print('Tree has {} nodes'.format(optClassTree.tree_.node_count))\n",
        "plotDecisionTree(optClassTree, feature_names=train_X.columns, rotate=True)"
      ]
    },
    {
      "cell_type": "code",
      "execution_count": null,
      "metadata": {
        "id": "x12_2nblHFrz"
      },
      "outputs": [],
      "source": [
        "# error report for trainig and validation sets\n",
        "print('training set:')\n",
        "classificationSummary(train_y, optClassTree.predict(train_X))\n",
        "print('\\nvalidation set:')\n",
        "classificationSummary(valid_y, optClassTree.predict(valid_X))"
      ]
    },
    {
      "cell_type": "markdown",
      "metadata": {
        "id": "0LTbmN4AHFr0"
      },
      "source": [
        "The accuracies for the shallow classification tree are 0.57 and 0.48."
      ]
    },
    {
      "cell_type": "markdown",
      "metadata": {
        "id": "C-fVVtfAHFr0"
      },
      "source": [
        "The cross validation results suggest to pick a maximum tree depth of 5. At this depth, the accuracy on the training (0.57) and validation sets (0.48) are comparable."
      ]
    },
    {
      "cell_type": "code",
      "execution_count": null,
      "metadata": {
        "id": "OZ8aefSDHFr0"
      },
      "outputs": [],
      "source": [
        "# variable importance for regression tree\n",
        "importanceRT.sort_values(by='importance', ascending=False).head(5)"
      ]
    },
    {
      "cell_type": "code",
      "execution_count": null,
      "metadata": {
        "id": "6YuJAmePHFr0"
      },
      "outputs": [],
      "source": [
        "# variable importance for classification tree\n",
        "importanceCT.sort_values(by='importance', ascending=False).head(5)"
      ]
    },
    {
      "cell_type": "markdown",
      "metadata": {
        "id": "-7alLuF5HFr1"
      },
      "source": [
        "__9.3.b.ii.__ Predict the price, using the smaller RT and CT, of a used Toyota Corolla with the specifications listed in Table 9.10."
      ]
    },
    {
      "cell_type": "markdown",
      "metadata": {
        "id": "Y1SE_R0SHFr1"
      },
      "source": [
        "__Answer:__"
      ]
    },
    {
      "cell_type": "code",
      "execution_count": null,
      "metadata": {
        "id": "JXyU6e8aHFr1"
      },
      "outputs": [],
      "source": [
        "# used car\n",
        "useCar_df = pd.DataFrame([{\n",
        "    'Age_08_04': 77,\n",
        "    'KM': 117000, \n",
        "    'Petrol': 1,\n",
        "    'Diesel': 0,\n",
        "    'HP': 110, \n",
        "    'Automatic': 0, \n",
        "    'Doors': 5, \n",
        "    'Quarterly_Tax': 100,\n",
        "    'Mfr_Guarantee': 0, \n",
        "    'Guarantee_Period': 3, \n",
        "    'Airco': 1, \n",
        "    'Automatic_airco': 0,  \n",
        "    'CD_Player': 0, \n",
        "    'Powered_Windows': 0, \n",
        "    'Sport_Model': 0, \n",
        "    'Tow_Bar': 1 \n",
        "}])\n",
        "optRegTree.predict(useCar_df)\n",
        "\n",
        "print(optClassTree.predict(useCar_df))\n",
        "pd.cut(car_df.Price, 20).cat.categories[optClassTree.predict(useCar_df)]"
      ]
    },
    {
      "cell_type": "markdown",
      "metadata": {
        "id": "2kQ1-f00HFr1"
      },
      "source": [
        "__9.3.b.iii.__ Compare the predictions in terms of the predictors that were used, the magnitude of the difference between the two predictions, and the advantages and disadvantages of the two methods."
      ]
    },
    {
      "cell_type": "markdown",
      "metadata": {
        "id": "hRATfvKBHFr1"
      },
      "source": [
        "__Answer:__"
      ]
    },
    {
      "cell_type": "markdown",
      "metadata": {
        "id": "bU-X7WiUHFr7"
      },
      "source": [
        "The optimal tree predicts the car price to be in bin 2 which corresponds to a price range of 7165 to 8572. \n",
        "\n",
        "From the classification tree we get a range for the predicted price whereas the regression tree gives a predicted fixed price.\n",
        "\n",
        "The advantage of CT is that it is simpler and therefore more robust, but you do lose accuracy by binning the price. So depending on the application, RT or CT would be selected.\n",
        "\n",
        "For example, if your purpose were simply to set an initial sticker price at which to sell the car (i.e., estimation), RT would be a good choice. On the other hand, if your purpose were to determine whether the car falls above or below a set cutoff (say, for inclusion in an offering to a volume buyer who will not pay more than a certain amount per car), CT will focus on developing rules for that particular price point and might work better."
      ]
    },
    {
      "cell_type": "code",
      "execution_count": null,
      "metadata": {
        "id": "emoUu4UZHFr8"
      },
      "outputs": [],
      "source": []
    }
  ],
  "metadata": {
    "kernelspec": {
      "display_name": "Python 3 (ipykernel)",
      "language": "python",
      "name": "python3"
    },
    "language_info": {
      "codemirror_mode": {
        "name": "ipython",
        "version": 3
      },
      "file_extension": ".py",
      "mimetype": "text/x-python",
      "name": "python",
      "nbconvert_exporter": "python",
      "pygments_lexer": "ipython3",
      "version": "3.9.12"
    },
    "colab": {
      "provenance": [],
      "include_colab_link": true
    }
  },
  "nbformat": 4,
  "nbformat_minor": 0
}