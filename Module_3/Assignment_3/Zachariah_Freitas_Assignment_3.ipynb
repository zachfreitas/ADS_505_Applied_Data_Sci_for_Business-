{
  "nbformat": 4,
  "nbformat_minor": 0,
  "metadata": {
    "colab": {
      "provenance": [],
      "authorship_tag": "ABX9TyNe1wq1Pl9LsVYp9eYAJSHT",
      "include_colab_link": true
    },
    "kernelspec": {
      "name": "python3",
      "display_name": "Python 3"
    },
    "language_info": {
      "name": "python"
    }
  },
  "cells": [
    {
      "cell_type": "markdown",
      "metadata": {
        "id": "view-in-github",
        "colab_type": "text"
      },
      "source": [
        "<a href=\"https://colab.research.google.com/github/zachfreitas/ADS_505_Applied_Data_Sci_for_Business-/blob/main/Module_3/Assignment_3/Zachariah_Freitas_Assignment_3.ipynb\" target=\"_parent\"><img src=\"https://colab.research.google.com/assets/colab-badge.svg\" alt=\"Open In Colab\"/></a>"
      ]
    },
    {
      "cell_type": "markdown",
      "source": [
        "# Assignment 3.1\n",
        "Zachariah Freitas <br>\n",
        "2022-09-24\n",
        "\n",
        "Import required packages"
      ],
      "metadata": {
        "id": "NkTgVvO-oug0"
      }
    },
    {
      "cell_type": "code",
      "source": [
        "from google.colab import drive\n",
        "drive.mount('/content/drive')"
      ],
      "metadata": {
        "colab": {
          "base_uri": "https://localhost:8080/"
        },
        "id": "qnooFLTWo_6z",
        "outputId": "8d5f743c-00d8-4b70-bedc-8b9ad4531143"
      },
      "execution_count": 1,
      "outputs": [
        {
          "output_type": "stream",
          "name": "stdout",
          "text": [
            "Mounted at /content/drive\n"
          ]
        }
      ]
    },
    {
      "cell_type": "code",
      "execution_count": 2,
      "metadata": {
        "id": "TG-dvZdeiE2B",
        "colab": {
          "base_uri": "https://localhost:8080/"
        },
        "outputId": "7d07b40d-073c-4d28-b7a1-60b925c05c1d"
      },
      "outputs": [
        {
          "output_type": "stream",
          "name": "stdout",
          "text": [
            "Looking in indexes: https://pypi.org/simple, https://us-python.pkg.dev/colab-wheels/public/simple/\n",
            "Collecting dmba\n",
            "  Downloading dmba-0.1.0-py3-none-any.whl (11.8 MB)\n",
            "\u001b[K     |████████████████████████████████| 11.8 MB 6.6 MB/s \n",
            "\u001b[?25hInstalling collected packages: dmba\n",
            "Successfully installed dmba-0.1.0\n"
          ]
        }
      ],
      "source": [
        "!pip install dmba"
      ]
    },
    {
      "cell_type": "code",
      "source": [
        "import pandas as pd\n",
        "import numpy as np\n",
        "from sklearn.model_selection import train_test_split, GridSearchCV\n",
        "from sklearn.tree import DecisionTreeClassifier, DecisionTreeRegressor\n",
        "\n",
        "import matplotlib.pylab as plt\n",
        "\n",
        "from dmba import plotDecisionTree, gainsChart, liftChart\n",
        "from dmba import classificationSummary, regressionSummary\n",
        "import dmba\n",
        "\n",
        "%matplotlib inline"
      ],
      "metadata": {
        "colab": {
          "base_uri": "https://localhost:8080/"
        },
        "id": "JkIFVryTot7D",
        "outputId": "c576d57c-b893-4f16-a48e-83a5270badb9"
      },
      "execution_count": 3,
      "outputs": [
        {
          "output_type": "stream",
          "name": "stdout",
          "text": [
            "no display found. Using non-interactive Agg backend\n"
          ]
        }
      ]
    },
    {
      "cell_type": "markdown",
      "source": [
        "## Data ETL and EDA"
      ],
      "metadata": {
        "id": "Rlx8DvFhtf89"
      }
    },
    {
      "cell_type": "code",
      "source": [
        "# Load the data\n",
        "taxi_df = pd.read_csv('https://raw.githubusercontent.com/zachfreitas/ADS_505_Applied_Data_Sci_for_Business-/main/Module_3/Assignment_3/Taxi-cancellation-case.csv')\n",
        "taxi_df.head()"
      ],
      "metadata": {
        "colab": {
          "base_uri": "https://localhost:8080/",
          "height": 357
        },
        "id": "8VpIBpQ8ot-x",
        "outputId": "a5b9e76f-09d4-4afb-90d5-1fe7908fcacb"
      },
      "execution_count": 6,
      "outputs": [
        {
          "output_type": "execute_result",
          "data": {
            "text/plain": [
              "   row#  user_id  vehicle_model_id  package_id  travel_type_id  from_area_id  \\\n",
              "0     1    17712                12         NaN               2        1021.0   \n",
              "1     2    17037                12         NaN               2         455.0   \n",
              "2     3      761                12         NaN               2         814.0   \n",
              "3     4      868                12         NaN               2         297.0   \n",
              "4     5    21716                28         NaN               2        1237.0   \n",
              "\n",
              "   to_area_id  from_city_id  to_city_id     from_date      to_date  \\\n",
              "0      1323.0           NaN         NaN  1/1/13 22:33          NaN   \n",
              "1      1330.0           NaN         NaN  1/1/13 12:43          NaN   \n",
              "2       393.0           NaN         NaN   1/2/13 0:28  1/3/13 0:00   \n",
              "3       212.0           NaN         NaN  1/1/13 13:12          NaN   \n",
              "4       330.0           NaN         NaN  1/1/13 16:33          NaN   \n",
              "\n",
              "   online_booking  mobile_site_booking booking_created   from_lat  from_long  \\\n",
              "0               0                    0     1/1/13 8:01  13.028530   77.54625   \n",
              "1               0                    0     1/1/13 9:59  12.999874   77.67812   \n",
              "2               1                    0    1/1/13 12:14  12.908993   77.68890   \n",
              "3               0                    0    1/1/13 12:42  12.997890   77.61488   \n",
              "4               0                    0    1/1/13 15:07  12.926450   77.61206   \n",
              "\n",
              "      to_lat    to_long  Car_Cancellation  \n",
              "0  12.869805  77.653211                 0  \n",
              "1  12.953434  77.706510                 0  \n",
              "2  13.199560  77.706880                 0  \n",
              "3  12.994740  77.607970                 0  \n",
              "4  12.858833  77.589127                 0  "
            ],
            "text/html": [
              "\n",
              "  <div id=\"df-4d8654b9-aacc-4282-966a-897ca57e4c37\">\n",
              "    <div class=\"colab-df-container\">\n",
              "      <div>\n",
              "<style scoped>\n",
              "    .dataframe tbody tr th:only-of-type {\n",
              "        vertical-align: middle;\n",
              "    }\n",
              "\n",
              "    .dataframe tbody tr th {\n",
              "        vertical-align: top;\n",
              "    }\n",
              "\n",
              "    .dataframe thead th {\n",
              "        text-align: right;\n",
              "    }\n",
              "</style>\n",
              "<table border=\"1\" class=\"dataframe\">\n",
              "  <thead>\n",
              "    <tr style=\"text-align: right;\">\n",
              "      <th></th>\n",
              "      <th>row#</th>\n",
              "      <th>user_id</th>\n",
              "      <th>vehicle_model_id</th>\n",
              "      <th>package_id</th>\n",
              "      <th>travel_type_id</th>\n",
              "      <th>from_area_id</th>\n",
              "      <th>to_area_id</th>\n",
              "      <th>from_city_id</th>\n",
              "      <th>to_city_id</th>\n",
              "      <th>from_date</th>\n",
              "      <th>to_date</th>\n",
              "      <th>online_booking</th>\n",
              "      <th>mobile_site_booking</th>\n",
              "      <th>booking_created</th>\n",
              "      <th>from_lat</th>\n",
              "      <th>from_long</th>\n",
              "      <th>to_lat</th>\n",
              "      <th>to_long</th>\n",
              "      <th>Car_Cancellation</th>\n",
              "    </tr>\n",
              "  </thead>\n",
              "  <tbody>\n",
              "    <tr>\n",
              "      <th>0</th>\n",
              "      <td>1</td>\n",
              "      <td>17712</td>\n",
              "      <td>12</td>\n",
              "      <td>NaN</td>\n",
              "      <td>2</td>\n",
              "      <td>1021.0</td>\n",
              "      <td>1323.0</td>\n",
              "      <td>NaN</td>\n",
              "      <td>NaN</td>\n",
              "      <td>1/1/13 22:33</td>\n",
              "      <td>NaN</td>\n",
              "      <td>0</td>\n",
              "      <td>0</td>\n",
              "      <td>1/1/13 8:01</td>\n",
              "      <td>13.028530</td>\n",
              "      <td>77.54625</td>\n",
              "      <td>12.869805</td>\n",
              "      <td>77.653211</td>\n",
              "      <td>0</td>\n",
              "    </tr>\n",
              "    <tr>\n",
              "      <th>1</th>\n",
              "      <td>2</td>\n",
              "      <td>17037</td>\n",
              "      <td>12</td>\n",
              "      <td>NaN</td>\n",
              "      <td>2</td>\n",
              "      <td>455.0</td>\n",
              "      <td>1330.0</td>\n",
              "      <td>NaN</td>\n",
              "      <td>NaN</td>\n",
              "      <td>1/1/13 12:43</td>\n",
              "      <td>NaN</td>\n",
              "      <td>0</td>\n",
              "      <td>0</td>\n",
              "      <td>1/1/13 9:59</td>\n",
              "      <td>12.999874</td>\n",
              "      <td>77.67812</td>\n",
              "      <td>12.953434</td>\n",
              "      <td>77.706510</td>\n",
              "      <td>0</td>\n",
              "    </tr>\n",
              "    <tr>\n",
              "      <th>2</th>\n",
              "      <td>3</td>\n",
              "      <td>761</td>\n",
              "      <td>12</td>\n",
              "      <td>NaN</td>\n",
              "      <td>2</td>\n",
              "      <td>814.0</td>\n",
              "      <td>393.0</td>\n",
              "      <td>NaN</td>\n",
              "      <td>NaN</td>\n",
              "      <td>1/2/13 0:28</td>\n",
              "      <td>1/3/13 0:00</td>\n",
              "      <td>1</td>\n",
              "      <td>0</td>\n",
              "      <td>1/1/13 12:14</td>\n",
              "      <td>12.908993</td>\n",
              "      <td>77.68890</td>\n",
              "      <td>13.199560</td>\n",
              "      <td>77.706880</td>\n",
              "      <td>0</td>\n",
              "    </tr>\n",
              "    <tr>\n",
              "      <th>3</th>\n",
              "      <td>4</td>\n",
              "      <td>868</td>\n",
              "      <td>12</td>\n",
              "      <td>NaN</td>\n",
              "      <td>2</td>\n",
              "      <td>297.0</td>\n",
              "      <td>212.0</td>\n",
              "      <td>NaN</td>\n",
              "      <td>NaN</td>\n",
              "      <td>1/1/13 13:12</td>\n",
              "      <td>NaN</td>\n",
              "      <td>0</td>\n",
              "      <td>0</td>\n",
              "      <td>1/1/13 12:42</td>\n",
              "      <td>12.997890</td>\n",
              "      <td>77.61488</td>\n",
              "      <td>12.994740</td>\n",
              "      <td>77.607970</td>\n",
              "      <td>0</td>\n",
              "    </tr>\n",
              "    <tr>\n",
              "      <th>4</th>\n",
              "      <td>5</td>\n",
              "      <td>21716</td>\n",
              "      <td>28</td>\n",
              "      <td>NaN</td>\n",
              "      <td>2</td>\n",
              "      <td>1237.0</td>\n",
              "      <td>330.0</td>\n",
              "      <td>NaN</td>\n",
              "      <td>NaN</td>\n",
              "      <td>1/1/13 16:33</td>\n",
              "      <td>NaN</td>\n",
              "      <td>0</td>\n",
              "      <td>0</td>\n",
              "      <td>1/1/13 15:07</td>\n",
              "      <td>12.926450</td>\n",
              "      <td>77.61206</td>\n",
              "      <td>12.858833</td>\n",
              "      <td>77.589127</td>\n",
              "      <td>0</td>\n",
              "    </tr>\n",
              "  </tbody>\n",
              "</table>\n",
              "</div>\n",
              "      <button class=\"colab-df-convert\" onclick=\"convertToInteractive('df-4d8654b9-aacc-4282-966a-897ca57e4c37')\"\n",
              "              title=\"Convert this dataframe to an interactive table.\"\n",
              "              style=\"display:none;\">\n",
              "        \n",
              "  <svg xmlns=\"http://www.w3.org/2000/svg\" height=\"24px\"viewBox=\"0 0 24 24\"\n",
              "       width=\"24px\">\n",
              "    <path d=\"M0 0h24v24H0V0z\" fill=\"none\"/>\n",
              "    <path d=\"M18.56 5.44l.94 2.06.94-2.06 2.06-.94-2.06-.94-.94-2.06-.94 2.06-2.06.94zm-11 1L8.5 8.5l.94-2.06 2.06-.94-2.06-.94L8.5 2.5l-.94 2.06-2.06.94zm10 10l.94 2.06.94-2.06 2.06-.94-2.06-.94-.94-2.06-.94 2.06-2.06.94z\"/><path d=\"M17.41 7.96l-1.37-1.37c-.4-.4-.92-.59-1.43-.59-.52 0-1.04.2-1.43.59L10.3 9.45l-7.72 7.72c-.78.78-.78 2.05 0 2.83L4 21.41c.39.39.9.59 1.41.59.51 0 1.02-.2 1.41-.59l7.78-7.78 2.81-2.81c.8-.78.8-2.07 0-2.86zM5.41 20L4 18.59l7.72-7.72 1.47 1.35L5.41 20z\"/>\n",
              "  </svg>\n",
              "      </button>\n",
              "      \n",
              "  <style>\n",
              "    .colab-df-container {\n",
              "      display:flex;\n",
              "      flex-wrap:wrap;\n",
              "      gap: 12px;\n",
              "    }\n",
              "\n",
              "    .colab-df-convert {\n",
              "      background-color: #E8F0FE;\n",
              "      border: none;\n",
              "      border-radius: 50%;\n",
              "      cursor: pointer;\n",
              "      display: none;\n",
              "      fill: #1967D2;\n",
              "      height: 32px;\n",
              "      padding: 0 0 0 0;\n",
              "      width: 32px;\n",
              "    }\n",
              "\n",
              "    .colab-df-convert:hover {\n",
              "      background-color: #E2EBFA;\n",
              "      box-shadow: 0px 1px 2px rgba(60, 64, 67, 0.3), 0px 1px 3px 1px rgba(60, 64, 67, 0.15);\n",
              "      fill: #174EA6;\n",
              "    }\n",
              "\n",
              "    [theme=dark] .colab-df-convert {\n",
              "      background-color: #3B4455;\n",
              "      fill: #D2E3FC;\n",
              "    }\n",
              "\n",
              "    [theme=dark] .colab-df-convert:hover {\n",
              "      background-color: #434B5C;\n",
              "      box-shadow: 0px 1px 3px 1px rgba(0, 0, 0, 0.15);\n",
              "      filter: drop-shadow(0px 1px 2px rgba(0, 0, 0, 0.3));\n",
              "      fill: #FFFFFF;\n",
              "    }\n",
              "  </style>\n",
              "\n",
              "      <script>\n",
              "        const buttonEl =\n",
              "          document.querySelector('#df-4d8654b9-aacc-4282-966a-897ca57e4c37 button.colab-df-convert');\n",
              "        buttonEl.style.display =\n",
              "          google.colab.kernel.accessAllowed ? 'block' : 'none';\n",
              "\n",
              "        async function convertToInteractive(key) {\n",
              "          const element = document.querySelector('#df-4d8654b9-aacc-4282-966a-897ca57e4c37');\n",
              "          const dataTable =\n",
              "            await google.colab.kernel.invokeFunction('convertToInteractive',\n",
              "                                                     [key], {});\n",
              "          if (!dataTable) return;\n",
              "\n",
              "          const docLinkHtml = 'Like what you see? Visit the ' +\n",
              "            '<a target=\"_blank\" href=https://colab.research.google.com/notebooks/data_table.ipynb>data table notebook</a>'\n",
              "            + ' to learn more about interactive tables.';\n",
              "          element.innerHTML = '';\n",
              "          dataTable['output_type'] = 'display_data';\n",
              "          await google.colab.output.renderOutput(dataTable, element);\n",
              "          const docLink = document.createElement('div');\n",
              "          docLink.innerHTML = docLinkHtml;\n",
              "          element.appendChild(docLink);\n",
              "        }\n",
              "      </script>\n",
              "    </div>\n",
              "  </div>\n",
              "  "
            ]
          },
          "metadata": {},
          "execution_count": 6
        }
      ]
    },
    {
      "cell_type": "code",
      "source": [
        "taxi_df.info()"
      ],
      "metadata": {
        "colab": {
          "base_uri": "https://localhost:8080/"
        },
        "id": "q-KXgjfjpcVd",
        "outputId": "ff874dbf-1872-4ff6-f464-95c1c2770ec6"
      },
      "execution_count": 7,
      "outputs": [
        {
          "output_type": "stream",
          "name": "stdout",
          "text": [
            "<class 'pandas.core.frame.DataFrame'>\n",
            "RangeIndex: 10000 entries, 0 to 9999\n",
            "Data columns (total 19 columns):\n",
            " #   Column               Non-Null Count  Dtype  \n",
            "---  ------               --------------  -----  \n",
            " 0   row#                 10000 non-null  int64  \n",
            " 1   user_id              10000 non-null  int64  \n",
            " 2   vehicle_model_id     10000 non-null  int64  \n",
            " 3   package_id           1752 non-null   float64\n",
            " 4   travel_type_id       10000 non-null  int64  \n",
            " 5   from_area_id         9985 non-null   float64\n",
            " 6   to_area_id           7909 non-null   float64\n",
            " 7   from_city_id         3706 non-null   float64\n",
            " 8   to_city_id           339 non-null    float64\n",
            " 9   from_date            10000 non-null  object \n",
            " 10  to_date              5822 non-null   object \n",
            " 11  online_booking       10000 non-null  int64  \n",
            " 12  mobile_site_booking  10000 non-null  int64  \n",
            " 13  booking_created      10000 non-null  object \n",
            " 14  from_lat             9985 non-null   float64\n",
            " 15  from_long            9985 non-null   float64\n",
            " 16  to_lat               7909 non-null   float64\n",
            " 17  to_long              7909 non-null   float64\n",
            " 18  Car_Cancellation     10000 non-null  int64  \n",
            "dtypes: float64(9), int64(7), object(3)\n",
            "memory usage: 1.4+ MB\n"
          ]
        }
      ]
    },
    {
      "cell_type": "code",
      "source": [
        "taxi_df.describe().T"
      ],
      "metadata": {
        "colab": {
          "base_uri": "https://localhost:8080/",
          "height": 551
        },
        "id": "pWoTM3bEp4O8",
        "outputId": "40d8dfa2-5402-4ac1-eaaa-780a1ab89f0c"
      },
      "execution_count": 9,
      "outputs": [
        {
          "output_type": "execute_result",
          "data": {
            "text/plain": [
              "                       count          mean           std       min  \\\n",
              "row#                 10000.0   5000.500000   2886.895680   1.00000   \n",
              "user_id              10000.0  30663.966200  10988.599834  16.00000   \n",
              "vehicle_model_id     10000.0     26.191700     27.228053   1.00000   \n",
              "package_id            1752.0      1.988014      1.401791   1.00000   \n",
              "travel_type_id       10000.0      2.141300      0.434917   1.00000   \n",
              "from_area_id          9985.0    709.767752    418.968918   2.00000   \n",
              "to_area_id            7909.0    665.457833    400.628562   6.00000   \n",
              "from_city_id          3706.0     14.898003      1.190770   1.00000   \n",
              "to_city_id             339.0     68.318584     49.886427   4.00000   \n",
              "online_booking       10000.0      0.353300      0.478019   0.00000   \n",
              "mobile_site_booking  10000.0      0.042400      0.201510   0.00000   \n",
              "from_lat              9985.0     12.983301      0.085659  12.77663   \n",
              "from_long             9985.0     77.636423      0.058667  77.38693   \n",
              "to_lat                7909.0     13.026217      0.113633  12.77663   \n",
              "to_long               7909.0     77.640752      0.063522  77.38693   \n",
              "Car_Cancellation     10000.0      0.074300      0.262272   0.00000   \n",
              "\n",
              "                              25%           50%          75%           max  \n",
              "row#                  2500.750000   5000.500000   7500.25000  10000.000000  \n",
              "user_id              24410.750000  31510.000000  39094.50000  48729.000000  \n",
              "vehicle_model_id        12.000000     12.000000     24.00000     91.000000  \n",
              "package_id               1.000000      2.000000      2.00000      7.000000  \n",
              "travel_type_id           2.000000      2.000000      2.00000      3.000000  \n",
              "from_area_id           393.000000    590.000000   1086.00000   1401.000000  \n",
              "to_area_id             393.000000    516.000000   1052.00000   1403.000000  \n",
              "from_city_id            15.000000     15.000000     15.00000     15.000000  \n",
              "to_city_id              32.000000     49.000000    108.00000    203.000000  \n",
              "online_booking           0.000000      0.000000      1.00000      1.000000  \n",
              "mobile_site_booking      0.000000      0.000000      0.00000      1.000000  \n",
              "from_lat                12.927320     12.969368     13.00645     13.366072  \n",
              "from_long               77.594800     77.635750     77.68779     77.786420  \n",
              "to_lat                  12.951850     12.982750     13.19956     13.366072  \n",
              "to_long                 77.587527     77.645030     77.70688     77.786420  \n",
              "Car_Cancellation         0.000000      0.000000      0.00000      1.000000  "
            ],
            "text/html": [
              "\n",
              "  <div id=\"df-0470c14f-448e-4d4c-9666-2c69927ea7ad\">\n",
              "    <div class=\"colab-df-container\">\n",
              "      <div>\n",
              "<style scoped>\n",
              "    .dataframe tbody tr th:only-of-type {\n",
              "        vertical-align: middle;\n",
              "    }\n",
              "\n",
              "    .dataframe tbody tr th {\n",
              "        vertical-align: top;\n",
              "    }\n",
              "\n",
              "    .dataframe thead th {\n",
              "        text-align: right;\n",
              "    }\n",
              "</style>\n",
              "<table border=\"1\" class=\"dataframe\">\n",
              "  <thead>\n",
              "    <tr style=\"text-align: right;\">\n",
              "      <th></th>\n",
              "      <th>count</th>\n",
              "      <th>mean</th>\n",
              "      <th>std</th>\n",
              "      <th>min</th>\n",
              "      <th>25%</th>\n",
              "      <th>50%</th>\n",
              "      <th>75%</th>\n",
              "      <th>max</th>\n",
              "    </tr>\n",
              "  </thead>\n",
              "  <tbody>\n",
              "    <tr>\n",
              "      <th>row#</th>\n",
              "      <td>10000.0</td>\n",
              "      <td>5000.500000</td>\n",
              "      <td>2886.895680</td>\n",
              "      <td>1.00000</td>\n",
              "      <td>2500.750000</td>\n",
              "      <td>5000.500000</td>\n",
              "      <td>7500.25000</td>\n",
              "      <td>10000.000000</td>\n",
              "    </tr>\n",
              "    <tr>\n",
              "      <th>user_id</th>\n",
              "      <td>10000.0</td>\n",
              "      <td>30663.966200</td>\n",
              "      <td>10988.599834</td>\n",
              "      <td>16.00000</td>\n",
              "      <td>24410.750000</td>\n",
              "      <td>31510.000000</td>\n",
              "      <td>39094.50000</td>\n",
              "      <td>48729.000000</td>\n",
              "    </tr>\n",
              "    <tr>\n",
              "      <th>vehicle_model_id</th>\n",
              "      <td>10000.0</td>\n",
              "      <td>26.191700</td>\n",
              "      <td>27.228053</td>\n",
              "      <td>1.00000</td>\n",
              "      <td>12.000000</td>\n",
              "      <td>12.000000</td>\n",
              "      <td>24.00000</td>\n",
              "      <td>91.000000</td>\n",
              "    </tr>\n",
              "    <tr>\n",
              "      <th>package_id</th>\n",
              "      <td>1752.0</td>\n",
              "      <td>1.988014</td>\n",
              "      <td>1.401791</td>\n",
              "      <td>1.00000</td>\n",
              "      <td>1.000000</td>\n",
              "      <td>2.000000</td>\n",
              "      <td>2.00000</td>\n",
              "      <td>7.000000</td>\n",
              "    </tr>\n",
              "    <tr>\n",
              "      <th>travel_type_id</th>\n",
              "      <td>10000.0</td>\n",
              "      <td>2.141300</td>\n",
              "      <td>0.434917</td>\n",
              "      <td>1.00000</td>\n",
              "      <td>2.000000</td>\n",
              "      <td>2.000000</td>\n",
              "      <td>2.00000</td>\n",
              "      <td>3.000000</td>\n",
              "    </tr>\n",
              "    <tr>\n",
              "      <th>from_area_id</th>\n",
              "      <td>9985.0</td>\n",
              "      <td>709.767752</td>\n",
              "      <td>418.968918</td>\n",
              "      <td>2.00000</td>\n",
              "      <td>393.000000</td>\n",
              "      <td>590.000000</td>\n",
              "      <td>1086.00000</td>\n",
              "      <td>1401.000000</td>\n",
              "    </tr>\n",
              "    <tr>\n",
              "      <th>to_area_id</th>\n",
              "      <td>7909.0</td>\n",
              "      <td>665.457833</td>\n",
              "      <td>400.628562</td>\n",
              "      <td>6.00000</td>\n",
              "      <td>393.000000</td>\n",
              "      <td>516.000000</td>\n",
              "      <td>1052.00000</td>\n",
              "      <td>1403.000000</td>\n",
              "    </tr>\n",
              "    <tr>\n",
              "      <th>from_city_id</th>\n",
              "      <td>3706.0</td>\n",
              "      <td>14.898003</td>\n",
              "      <td>1.190770</td>\n",
              "      <td>1.00000</td>\n",
              "      <td>15.000000</td>\n",
              "      <td>15.000000</td>\n",
              "      <td>15.00000</td>\n",
              "      <td>15.000000</td>\n",
              "    </tr>\n",
              "    <tr>\n",
              "      <th>to_city_id</th>\n",
              "      <td>339.0</td>\n",
              "      <td>68.318584</td>\n",
              "      <td>49.886427</td>\n",
              "      <td>4.00000</td>\n",
              "      <td>32.000000</td>\n",
              "      <td>49.000000</td>\n",
              "      <td>108.00000</td>\n",
              "      <td>203.000000</td>\n",
              "    </tr>\n",
              "    <tr>\n",
              "      <th>online_booking</th>\n",
              "      <td>10000.0</td>\n",
              "      <td>0.353300</td>\n",
              "      <td>0.478019</td>\n",
              "      <td>0.00000</td>\n",
              "      <td>0.000000</td>\n",
              "      <td>0.000000</td>\n",
              "      <td>1.00000</td>\n",
              "      <td>1.000000</td>\n",
              "    </tr>\n",
              "    <tr>\n",
              "      <th>mobile_site_booking</th>\n",
              "      <td>10000.0</td>\n",
              "      <td>0.042400</td>\n",
              "      <td>0.201510</td>\n",
              "      <td>0.00000</td>\n",
              "      <td>0.000000</td>\n",
              "      <td>0.000000</td>\n",
              "      <td>0.00000</td>\n",
              "      <td>1.000000</td>\n",
              "    </tr>\n",
              "    <tr>\n",
              "      <th>from_lat</th>\n",
              "      <td>9985.0</td>\n",
              "      <td>12.983301</td>\n",
              "      <td>0.085659</td>\n",
              "      <td>12.77663</td>\n",
              "      <td>12.927320</td>\n",
              "      <td>12.969368</td>\n",
              "      <td>13.00645</td>\n",
              "      <td>13.366072</td>\n",
              "    </tr>\n",
              "    <tr>\n",
              "      <th>from_long</th>\n",
              "      <td>9985.0</td>\n",
              "      <td>77.636423</td>\n",
              "      <td>0.058667</td>\n",
              "      <td>77.38693</td>\n",
              "      <td>77.594800</td>\n",
              "      <td>77.635750</td>\n",
              "      <td>77.68779</td>\n",
              "      <td>77.786420</td>\n",
              "    </tr>\n",
              "    <tr>\n",
              "      <th>to_lat</th>\n",
              "      <td>7909.0</td>\n",
              "      <td>13.026217</td>\n",
              "      <td>0.113633</td>\n",
              "      <td>12.77663</td>\n",
              "      <td>12.951850</td>\n",
              "      <td>12.982750</td>\n",
              "      <td>13.19956</td>\n",
              "      <td>13.366072</td>\n",
              "    </tr>\n",
              "    <tr>\n",
              "      <th>to_long</th>\n",
              "      <td>7909.0</td>\n",
              "      <td>77.640752</td>\n",
              "      <td>0.063522</td>\n",
              "      <td>77.38693</td>\n",
              "      <td>77.587527</td>\n",
              "      <td>77.645030</td>\n",
              "      <td>77.70688</td>\n",
              "      <td>77.786420</td>\n",
              "    </tr>\n",
              "    <tr>\n",
              "      <th>Car_Cancellation</th>\n",
              "      <td>10000.0</td>\n",
              "      <td>0.074300</td>\n",
              "      <td>0.262272</td>\n",
              "      <td>0.00000</td>\n",
              "      <td>0.000000</td>\n",
              "      <td>0.000000</td>\n",
              "      <td>0.00000</td>\n",
              "      <td>1.000000</td>\n",
              "    </tr>\n",
              "  </tbody>\n",
              "</table>\n",
              "</div>\n",
              "      <button class=\"colab-df-convert\" onclick=\"convertToInteractive('df-0470c14f-448e-4d4c-9666-2c69927ea7ad')\"\n",
              "              title=\"Convert this dataframe to an interactive table.\"\n",
              "              style=\"display:none;\">\n",
              "        \n",
              "  <svg xmlns=\"http://www.w3.org/2000/svg\" height=\"24px\"viewBox=\"0 0 24 24\"\n",
              "       width=\"24px\">\n",
              "    <path d=\"M0 0h24v24H0V0z\" fill=\"none\"/>\n",
              "    <path d=\"M18.56 5.44l.94 2.06.94-2.06 2.06-.94-2.06-.94-.94-2.06-.94 2.06-2.06.94zm-11 1L8.5 8.5l.94-2.06 2.06-.94-2.06-.94L8.5 2.5l-.94 2.06-2.06.94zm10 10l.94 2.06.94-2.06 2.06-.94-2.06-.94-.94-2.06-.94 2.06-2.06.94z\"/><path d=\"M17.41 7.96l-1.37-1.37c-.4-.4-.92-.59-1.43-.59-.52 0-1.04.2-1.43.59L10.3 9.45l-7.72 7.72c-.78.78-.78 2.05 0 2.83L4 21.41c.39.39.9.59 1.41.59.51 0 1.02-.2 1.41-.59l7.78-7.78 2.81-2.81c.8-.78.8-2.07 0-2.86zM5.41 20L4 18.59l7.72-7.72 1.47 1.35L5.41 20z\"/>\n",
              "  </svg>\n",
              "      </button>\n",
              "      \n",
              "  <style>\n",
              "    .colab-df-container {\n",
              "      display:flex;\n",
              "      flex-wrap:wrap;\n",
              "      gap: 12px;\n",
              "    }\n",
              "\n",
              "    .colab-df-convert {\n",
              "      background-color: #E8F0FE;\n",
              "      border: none;\n",
              "      border-radius: 50%;\n",
              "      cursor: pointer;\n",
              "      display: none;\n",
              "      fill: #1967D2;\n",
              "      height: 32px;\n",
              "      padding: 0 0 0 0;\n",
              "      width: 32px;\n",
              "    }\n",
              "\n",
              "    .colab-df-convert:hover {\n",
              "      background-color: #E2EBFA;\n",
              "      box-shadow: 0px 1px 2px rgba(60, 64, 67, 0.3), 0px 1px 3px 1px rgba(60, 64, 67, 0.15);\n",
              "      fill: #174EA6;\n",
              "    }\n",
              "\n",
              "    [theme=dark] .colab-df-convert {\n",
              "      background-color: #3B4455;\n",
              "      fill: #D2E3FC;\n",
              "    }\n",
              "\n",
              "    [theme=dark] .colab-df-convert:hover {\n",
              "      background-color: #434B5C;\n",
              "      box-shadow: 0px 1px 3px 1px rgba(0, 0, 0, 0.15);\n",
              "      filter: drop-shadow(0px 1px 2px rgba(0, 0, 0, 0.3));\n",
              "      fill: #FFFFFF;\n",
              "    }\n",
              "  </style>\n",
              "\n",
              "      <script>\n",
              "        const buttonEl =\n",
              "          document.querySelector('#df-0470c14f-448e-4d4c-9666-2c69927ea7ad button.colab-df-convert');\n",
              "        buttonEl.style.display =\n",
              "          google.colab.kernel.accessAllowed ? 'block' : 'none';\n",
              "\n",
              "        async function convertToInteractive(key) {\n",
              "          const element = document.querySelector('#df-0470c14f-448e-4d4c-9666-2c69927ea7ad');\n",
              "          const dataTable =\n",
              "            await google.colab.kernel.invokeFunction('convertToInteractive',\n",
              "                                                     [key], {});\n",
              "          if (!dataTable) return;\n",
              "\n",
              "          const docLinkHtml = 'Like what you see? Visit the ' +\n",
              "            '<a target=\"_blank\" href=https://colab.research.google.com/notebooks/data_table.ipynb>data table notebook</a>'\n",
              "            + ' to learn more about interactive tables.';\n",
              "          element.innerHTML = '';\n",
              "          dataTable['output_type'] = 'display_data';\n",
              "          await google.colab.output.renderOutput(dataTable, element);\n",
              "          const docLink = document.createElement('div');\n",
              "          docLink.innerHTML = docLinkHtml;\n",
              "          element.appendChild(docLink);\n",
              "        }\n",
              "      </script>\n",
              "    </div>\n",
              "  </div>\n",
              "  "
            ]
          },
          "metadata": {},
          "execution_count": 9
        }
      ]
    },
    {
      "cell_type": "markdown",
      "source": [
        "---\n",
        "## Question 1\n",
        "How can a predictive model based on these data be used by Yourcabs.com? (10\n",
        "Points)\n"
      ],
      "metadata": {
        "id": "gITSMmI_qF7d"
      }
    },
    {
      "cell_type": "markdown",
      "source": [
        "---\n",
        "**Question 1 Answer:**\n",
        "Ugh\n",
        "---"
      ],
      "metadata": {
        "id": "VnI2Jsk-qeMM"
      }
    },
    {
      "cell_type": "markdown",
      "source": [
        "---\n",
        "## Question 2\n",
        "How can a profiling model (identifying predictors that distinguish canceled/uncanceled trips) be used by Yourcabs.com? (10 Points)"
      ],
      "metadata": {
        "id": "LNNiFjYpqF_x"
      }
    },
    {
      "cell_type": "code",
      "source": [],
      "metadata": {
        "id": "o4BGidBNqv7u"
      },
      "execution_count": null,
      "outputs": []
    },
    {
      "cell_type": "markdown",
      "source": [
        "---\n",
        "**Question 2 Answer:**\n",
        "Ugh\n",
        "---"
      ],
      "metadata": {
        "id": "rBMekdOBqGDJ"
      }
    },
    {
      "cell_type": "markdown",
      "source": [
        "---\n",
        "## Question 3\n",
        "Explore, prepare, and transform the data to facilitate predictive modeling. Here are some\n",
        "hints: (15 Points)"
      ],
      "metadata": {
        "id": "8iI-3768qGMK"
      }
    },
    {
      "cell_type": "markdown",
      "source": [
        "---\n",
        "### Question 3.1\n",
        "Explore, prepare, and transform the data to facilitate predictive modeling. Here are some\n",
        "hints: (15 Points)"
      ],
      "metadata": {
        "id": "L7Y1NX8UqGQK"
      }
    },
    {
      "cell_type": "markdown",
      "source": [
        "---\n",
        "**Question 3.1 Answer:**<br>\n",
        "ugh\n",
        "---"
      ],
      "metadata": {
        "id": "qt5DOmujrBs8"
      }
    },
    {
      "cell_type": "markdown",
      "source": [
        "---\n",
        "### Question 3.2\n",
        "How will you deal with missing data, such as cases where NaN is indicated?\n",
        "\n"
      ],
      "metadata": {
        "id": "li8nybstrTxU"
      }
    },
    {
      "cell_type": "markdown",
      "source": [
        "---\n",
        "**Question 3.2 Answer:**<br>\n",
        "ugh\n",
        "---"
      ],
      "metadata": {
        "id": "_GzjIa_5rTuP"
      }
    },
    {
      "cell_type": "markdown",
      "source": [
        "---\n",
        "### Question 3.3\n",
        "Think about what useful information might be held within the date and time fields (the booking timestamp and the trip timestamp).\n"
      ],
      "metadata": {
        "id": "-GKlQrearTrI"
      }
    },
    {
      "cell_type": "markdown",
      "source": [
        "---\n",
        "**Question 3.3 Answer:**<br>\n",
        "ugh\n",
        "---"
      ],
      "metadata": {
        "id": "tWzRoutsrTpB"
      }
    },
    {
      "cell_type": "markdown",
      "source": [
        "---\n",
        "### Question 3.4\n",
        "Think also about the categorical variables, and how to deal with them. Should we turn them all into dummies? Use only some?"
      ],
      "metadata": {
        "id": "h3T-PVngrTlw"
      }
    },
    {
      "cell_type": "markdown",
      "source": [
        "---\n",
        "**Question 3.4 Answer:**<br>\n",
        "ugh\n",
        "---"
      ],
      "metadata": {
        "id": "7nuoAhJOrTid"
      }
    },
    {
      "cell_type": "markdown",
      "source": [
        "---\n",
        "## Question 4\n",
        "Fit several predictive models of your choice. Do they provide information on how the predictor variables relate to cancellations? (15 Points)\n"
      ],
      "metadata": {
        "id": "HRQsxbKXrTfo"
      }
    },
    {
      "cell_type": "markdown",
      "source": [
        "---\n",
        "**Question 4 Answer:**<br>\n",
        "ugh\n",
        "---"
      ],
      "metadata": {
        "id": "f815ZaYmrTcx"
      }
    },
    {
      "cell_type": "markdown",
      "source": [
        "---\n",
        "## Question 5\n",
        "Report the predictive performance of your model in terms of error rates (the confusion matrix). How well does the model perform? Can the model be used in practice? (10 Points)"
      ],
      "metadata": {
        "id": "a-99u2TjrTZn"
      }
    },
    {
      "cell_type": "markdown",
      "source": [
        "---\n",
        "**Question 5 Answer:**<br>\n",
        "ugh\n",
        "---"
      ],
      "metadata": {
        "id": "e_yxMXKzrTVR"
      }
    },
    {
      "cell_type": "markdown",
      "source": [
        "---\n",
        "## Question 6\n",
        "Examine the predictive performance of your model in terms of ranking (lift). How well does the model perform? Can the model be used in practice? (10 Points)\n"
      ],
      "metadata": {
        "id": "YCCri4EFrTOp"
      }
    },
    {
      "cell_type": "markdown",
      "source": [
        "---\n",
        "**Question 6 Answer:**<br>\n",
        "ugh\n",
        "---"
      ],
      "metadata": {
        "id": "dRYBdsUbrTDa"
      }
    },
    {
      "cell_type": "markdown",
      "source": [
        "---\n",
        "## Question 7\n",
        "Briefly explain, in two to three paragraphs, the business objective, the data mining models used, why they were used, the model results, and your recommendations to your non-technical stakeholder team. (10 Points)\n"
      ],
      "metadata": {
        "id": "hG3ENeBArSna"
      }
    },
    {
      "cell_type": "markdown",
      "source": [
        "---\n",
        "**Question 7 Answer:**<br>\n",
        "ugh\n",
        "---"
      ],
      "metadata": {
        "id": "eUPIBOmNs41p"
      }
    }
  ]
}