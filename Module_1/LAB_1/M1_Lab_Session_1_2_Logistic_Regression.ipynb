{
  "cells": [
    {
      "cell_type": "markdown",
      "metadata": {
        "id": "view-in-github",
        "colab_type": "text"
      },
      "source": [
        "<a href=\"https://colab.research.google.com/github/zachfreitas/ADS_505_Applied_Data_Sci_for_Business-/blob/main/Module_1/LAB_1/M1_Lab_Session_1_2_Logistic_Regression.ipynb\" target=\"_parent\"><img src=\"https://colab.research.google.com/assets/colab-badge.svg\" alt=\"Open In Colab\"/></a>"
      ]
    },
    {
      "cell_type": "markdown",
      "metadata": {
        "id": "7WLI6Yi-7MeL"
      },
      "source": [
        "# Chapter 10: Logistic Regression\n",
        "\n",
        "> (c) 2019 Galit Shmueli, Peter C. Bruce, Peter Gedeck \n",
        ">\n",
        "> Code included in\n",
        ">\n",
        "> _Data Mining for Business Analytics: Concepts, Techniques, and Applications in Python_ (First Edition) \n",
        "> Galit Shmueli, Peter C. Bruce, Peter Gedeck, and Nitin R. Patel. 2019.\n",
        "\n",
        "Edited and presented for University of San Diego by Dillon Orr, 2022\n",
        "\n",
        "## Import required packages"
      ]
    },
    {
      "cell_type": "code",
      "execution_count": null,
      "metadata": {
        "tags": [],
        "id": "Hd7riaUo7MeP"
      },
      "outputs": [],
      "source": [
        "%matplotlib inline\n",
        "\n",
        "import numpy as np\n",
        "import pandas as pd\n",
        "import matplotlib.pylab as plt\n",
        "import seaborn as sns\n",
        "import dmba\n",
        "\n",
        "from sklearn.linear_model import LogisticRegression, LogisticRegressionCV\n",
        "from sklearn.model_selection import train_test_split\n",
        "\n",
        "from dmba import classificationSummary, gainsChart, liftChart\n",
        "from dmba.metric import AIC_score"
      ]
    },
    {
      "cell_type": "markdown",
      "metadata": {
        "id": "3Y-KHKz87MeS"
      },
      "source": [
        "## Sample dataset"
      ]
    },
    {
      "cell_type": "code",
      "execution_count": null,
      "metadata": {
        "id": "WH-9dwpK7MeT",
        "outputId": "48d94620-bc5d-406a-eec9-a0a9b27fcb2c"
      },
      "outputs": [
        {
          "data": {
            "text/html": [
              "<div>\n",
              "<style scoped>\n",
              "    .dataframe tbody tr th:only-of-type {\n",
              "        vertical-align: middle;\n",
              "    }\n",
              "\n",
              "    .dataframe tbody tr th {\n",
              "        vertical-align: top;\n",
              "    }\n",
              "\n",
              "    .dataframe thead th {\n",
              "        text-align: right;\n",
              "    }\n",
              "</style>\n",
              "<table border=\"1\" class=\"dataframe\">\n",
              "  <thead>\n",
              "    <tr style=\"text-align: right;\">\n",
              "      <th></th>\n",
              "      <th>CRS_DEP_TIME</th>\n",
              "      <th>CARRIER</th>\n",
              "      <th>DEP_TIME</th>\n",
              "      <th>DEST</th>\n",
              "      <th>DISTANCE</th>\n",
              "      <th>FL_DATE</th>\n",
              "      <th>FL_NUM</th>\n",
              "      <th>ORIGIN</th>\n",
              "      <th>Weather</th>\n",
              "      <th>DAY_WEEK</th>\n",
              "      <th>DAY_OF_MONTH</th>\n",
              "      <th>TAIL_NUM</th>\n",
              "      <th>Flight Status</th>\n",
              "    </tr>\n",
              "  </thead>\n",
              "  <tbody>\n",
              "    <tr>\n",
              "      <th>1089</th>\n",
              "      <td>1455</td>\n",
              "      <td>DH</td>\n",
              "      <td>1454</td>\n",
              "      <td>JFK</td>\n",
              "      <td>228</td>\n",
              "      <td>1/16/2004</td>\n",
              "      <td>7808</td>\n",
              "      <td>IAD</td>\n",
              "      <td>0</td>\n",
              "      <td>5</td>\n",
              "      <td>16</td>\n",
              "      <td>N307UE</td>\n",
              "      <td>ontime</td>\n",
              "    </tr>\n",
              "    <tr>\n",
              "      <th>251</th>\n",
              "      <td>1730</td>\n",
              "      <td>DL</td>\n",
              "      <td>1730</td>\n",
              "      <td>LGA</td>\n",
              "      <td>214</td>\n",
              "      <td>01/05/2004</td>\n",
              "      <td>1762</td>\n",
              "      <td>DCA</td>\n",
              "      <td>0</td>\n",
              "      <td>1</td>\n",
              "      <td>5</td>\n",
              "      <td>N225DL</td>\n",
              "      <td>ontime</td>\n",
              "    </tr>\n",
              "    <tr>\n",
              "      <th>55</th>\n",
              "      <td>640</td>\n",
              "      <td>DH</td>\n",
              "      <td>645</td>\n",
              "      <td>LGA</td>\n",
              "      <td>229</td>\n",
              "      <td>01/02/2004</td>\n",
              "      <td>7790</td>\n",
              "      <td>IAD</td>\n",
              "      <td>0</td>\n",
              "      <td>5</td>\n",
              "      <td>2</td>\n",
              "      <td>N686BR</td>\n",
              "      <td>ontime</td>\n",
              "    </tr>\n",
              "    <tr>\n",
              "      <th>1484</th>\n",
              "      <td>1500</td>\n",
              "      <td>US</td>\n",
              "      <td>1456</td>\n",
              "      <td>LGA</td>\n",
              "      <td>214</td>\n",
              "      <td>1/21/2004</td>\n",
              "      <td>2176</td>\n",
              "      <td>DCA</td>\n",
              "      <td>0</td>\n",
              "      <td>3</td>\n",
              "      <td>21</td>\n",
              "      <td>N713UW</td>\n",
              "      <td>ontime</td>\n",
              "    </tr>\n",
              "    <tr>\n",
              "      <th>1353</th>\n",
              "      <td>1040</td>\n",
              "      <td>DH</td>\n",
              "      <td>1033</td>\n",
              "      <td>LGA</td>\n",
              "      <td>229</td>\n",
              "      <td>1/20/2004</td>\n",
              "      <td>7792</td>\n",
              "      <td>IAD</td>\n",
              "      <td>0</td>\n",
              "      <td>2</td>\n",
              "      <td>20</td>\n",
              "      <td>N646BR</td>\n",
              "      <td>ontime</td>\n",
              "    </tr>\n",
              "    <tr>\n",
              "      <th>1880</th>\n",
              "      <td>1030</td>\n",
              "      <td>DL</td>\n",
              "      <td>1032</td>\n",
              "      <td>LGA</td>\n",
              "      <td>214</td>\n",
              "      <td>1/27/2004</td>\n",
              "      <td>1748</td>\n",
              "      <td>DCA</td>\n",
              "      <td>0</td>\n",
              "      <td>2</td>\n",
              "      <td>27</td>\n",
              "      <td>N225DL</td>\n",
              "      <td>ontime</td>\n",
              "    </tr>\n",
              "    <tr>\n",
              "      <th>2175</th>\n",
              "      <td>1300</td>\n",
              "      <td>MQ</td>\n",
              "      <td>1254</td>\n",
              "      <td>LGA</td>\n",
              "      <td>214</td>\n",
              "      <td>1/31/2004</td>\n",
              "      <td>4964</td>\n",
              "      <td>DCA</td>\n",
              "      <td>0</td>\n",
              "      <td>6</td>\n",
              "      <td>31</td>\n",
              "      <td>N710MQ</td>\n",
              "      <td>ontime</td>\n",
              "    </tr>\n",
              "    <tr>\n",
              "      <th>42</th>\n",
              "      <td>1700</td>\n",
              "      <td>RU</td>\n",
              "      <td>1651</td>\n",
              "      <td>EWR</td>\n",
              "      <td>213</td>\n",
              "      <td>01/01/2004</td>\n",
              "      <td>2497</td>\n",
              "      <td>IAD</td>\n",
              "      <td>0</td>\n",
              "      <td>4</td>\n",
              "      <td>1</td>\n",
              "      <td>N12540</td>\n",
              "      <td>ontime</td>\n",
              "    </tr>\n",
              "    <tr>\n",
              "      <th>982</th>\n",
              "      <td>1700</td>\n",
              "      <td>US</td>\n",
              "      <td>1653</td>\n",
              "      <td>LGA</td>\n",
              "      <td>214</td>\n",
              "      <td>1/14/2004</td>\n",
              "      <td>2180</td>\n",
              "      <td>DCA</td>\n",
              "      <td>0</td>\n",
              "      <td>3</td>\n",
              "      <td>14</td>\n",
              "      <td>N739UW</td>\n",
              "      <td>ontime</td>\n",
              "    </tr>\n",
              "    <tr>\n",
              "      <th>1376</th>\n",
              "      <td>2030</td>\n",
              "      <td>DL</td>\n",
              "      <td>2029</td>\n",
              "      <td>LGA</td>\n",
              "      <td>214</td>\n",
              "      <td>1/20/2004</td>\n",
              "      <td>1768</td>\n",
              "      <td>DCA</td>\n",
              "      <td>0</td>\n",
              "      <td>2</td>\n",
              "      <td>20</td>\n",
              "      <td>N223DZ</td>\n",
              "      <td>ontime</td>\n",
              "    </tr>\n",
              "    <tr>\n",
              "      <th>987</th>\n",
              "      <td>700</td>\n",
              "      <td>RU</td>\n",
              "      <td>655</td>\n",
              "      <td>EWR</td>\n",
              "      <td>169</td>\n",
              "      <td>1/14/2004</td>\n",
              "      <td>2703</td>\n",
              "      <td>BWI</td>\n",
              "      <td>0</td>\n",
              "      <td>3</td>\n",
              "      <td>14</td>\n",
              "      <td>N14542</td>\n",
              "      <td>ontime</td>\n",
              "    </tr>\n",
              "    <tr>\n",
              "      <th>247</th>\n",
              "      <td>1230</td>\n",
              "      <td>DL</td>\n",
              "      <td>1230</td>\n",
              "      <td>LGA</td>\n",
              "      <td>214</td>\n",
              "      <td>01/05/2004</td>\n",
              "      <td>1752</td>\n",
              "      <td>DCA</td>\n",
              "      <td>0</td>\n",
              "      <td>1</td>\n",
              "      <td>5</td>\n",
              "      <td>N242DL</td>\n",
              "      <td>ontime</td>\n",
              "    </tr>\n",
              "    <tr>\n",
              "      <th>1375</th>\n",
              "      <td>1930</td>\n",
              "      <td>DL</td>\n",
              "      <td>1930</td>\n",
              "      <td>LGA</td>\n",
              "      <td>214</td>\n",
              "      <td>1/20/2004</td>\n",
              "      <td>1766</td>\n",
              "      <td>DCA</td>\n",
              "      <td>0</td>\n",
              "      <td>2</td>\n",
              "      <td>20</td>\n",
              "      <td>N231DN</td>\n",
              "      <td>ontime</td>\n",
              "    </tr>\n",
              "    <tr>\n",
              "      <th>1304</th>\n",
              "      <td>850</td>\n",
              "      <td>UA</td>\n",
              "      <td>846</td>\n",
              "      <td>LGA</td>\n",
              "      <td>229</td>\n",
              "      <td>1/19/2004</td>\n",
              "      <td>846</td>\n",
              "      <td>IAD</td>\n",
              "      <td>0</td>\n",
              "      <td>1</td>\n",
              "      <td>19</td>\n",
              "      <td>N565UA</td>\n",
              "      <td>ontime</td>\n",
              "    </tr>\n",
              "    <tr>\n",
              "      <th>959</th>\n",
              "      <td>600</td>\n",
              "      <td>MQ</td>\n",
              "      <td>553</td>\n",
              "      <td>JFK</td>\n",
              "      <td>213</td>\n",
              "      <td>1/14/2004</td>\n",
              "      <td>4760</td>\n",
              "      <td>DCA</td>\n",
              "      <td>0</td>\n",
              "      <td>3</td>\n",
              "      <td>14</td>\n",
              "      <td>N843MQ</td>\n",
              "      <td>ontime</td>\n",
              "    </tr>\n",
              "    <tr>\n",
              "      <th>1303</th>\n",
              "      <td>1900</td>\n",
              "      <td>MQ</td>\n",
              "      <td>1937</td>\n",
              "      <td>LGA</td>\n",
              "      <td>214</td>\n",
              "      <td>1/19/2004</td>\n",
              "      <td>4976</td>\n",
              "      <td>DCA</td>\n",
              "      <td>0</td>\n",
              "      <td>1</td>\n",
              "      <td>19</td>\n",
              "      <td>N704MQ</td>\n",
              "      <td>delayed</td>\n",
              "    </tr>\n",
              "    <tr>\n",
              "      <th>1555</th>\n",
              "      <td>1400</td>\n",
              "      <td>MQ</td>\n",
              "      <td>1359</td>\n",
              "      <td>LGA</td>\n",
              "      <td>214</td>\n",
              "      <td>1/22/2004</td>\n",
              "      <td>4966</td>\n",
              "      <td>DCA</td>\n",
              "      <td>0</td>\n",
              "      <td>4</td>\n",
              "      <td>22</td>\n",
              "      <td>N731MQ</td>\n",
              "      <td>ontime</td>\n",
              "    </tr>\n",
              "    <tr>\n",
              "      <th>2081</th>\n",
              "      <td>1610</td>\n",
              "      <td>DH</td>\n",
              "      <td>1609</td>\n",
              "      <td>JFK</td>\n",
              "      <td>228</td>\n",
              "      <td>1/30/2004</td>\n",
              "      <td>7816</td>\n",
              "      <td>IAD</td>\n",
              "      <td>0</td>\n",
              "      <td>5</td>\n",
              "      <td>30</td>\n",
              "      <td>N322UE</td>\n",
              "      <td>ontime</td>\n",
              "    </tr>\n",
              "    <tr>\n",
              "      <th>1986</th>\n",
              "      <td>1640</td>\n",
              "      <td>DH</td>\n",
              "      <td>1636</td>\n",
              "      <td>JFK</td>\n",
              "      <td>213</td>\n",
              "      <td>1/29/2004</td>\n",
              "      <td>6155</td>\n",
              "      <td>DCA</td>\n",
              "      <td>0</td>\n",
              "      <td>4</td>\n",
              "      <td>29</td>\n",
              "      <td>N402FJ</td>\n",
              "      <td>ontime</td>\n",
              "    </tr>\n",
              "    <tr>\n",
              "      <th>1835</th>\n",
              "      <td>700</td>\n",
              "      <td>US</td>\n",
              "      <td>729</td>\n",
              "      <td>LGA</td>\n",
              "      <td>214</td>\n",
              "      <td>1/26/2004</td>\n",
              "      <td>2160</td>\n",
              "      <td>DCA</td>\n",
              "      <td>0</td>\n",
              "      <td>1</td>\n",
              "      <td>26</td>\n",
              "      <td>N704UW</td>\n",
              "      <td>delayed</td>\n",
              "    </tr>\n",
              "  </tbody>\n",
              "</table>\n",
              "</div>"
            ],
            "text/plain": [
              "      CRS_DEP_TIME CARRIER  DEP_TIME DEST  DISTANCE     FL_DATE  FL_NUM  \\\n",
              "1089          1455      DH      1454  JFK       228   1/16/2004    7808   \n",
              "251           1730      DL      1730  LGA       214  01/05/2004    1762   \n",
              "55             640      DH       645  LGA       229  01/02/2004    7790   \n",
              "1484          1500      US      1456  LGA       214   1/21/2004    2176   \n",
              "1353          1040      DH      1033  LGA       229   1/20/2004    7792   \n",
              "1880          1030      DL      1032  LGA       214   1/27/2004    1748   \n",
              "2175          1300      MQ      1254  LGA       214   1/31/2004    4964   \n",
              "42            1700      RU      1651  EWR       213  01/01/2004    2497   \n",
              "982           1700      US      1653  LGA       214   1/14/2004    2180   \n",
              "1376          2030      DL      2029  LGA       214   1/20/2004    1768   \n",
              "987            700      RU       655  EWR       169   1/14/2004    2703   \n",
              "247           1230      DL      1230  LGA       214  01/05/2004    1752   \n",
              "1375          1930      DL      1930  LGA       214   1/20/2004    1766   \n",
              "1304           850      UA       846  LGA       229   1/19/2004     846   \n",
              "959            600      MQ       553  JFK       213   1/14/2004    4760   \n",
              "1303          1900      MQ      1937  LGA       214   1/19/2004    4976   \n",
              "1555          1400      MQ      1359  LGA       214   1/22/2004    4966   \n",
              "2081          1610      DH      1609  JFK       228   1/30/2004    7816   \n",
              "1986          1640      DH      1636  JFK       213   1/29/2004    6155   \n",
              "1835           700      US       729  LGA       214   1/26/2004    2160   \n",
              "\n",
              "     ORIGIN  Weather  DAY_WEEK  DAY_OF_MONTH TAIL_NUM Flight Status  \n",
              "1089    IAD        0         5            16   N307UE        ontime  \n",
              "251     DCA        0         1             5   N225DL        ontime  \n",
              "55      IAD        0         5             2   N686BR        ontime  \n",
              "1484    DCA        0         3            21   N713UW        ontime  \n",
              "1353    IAD        0         2            20   N646BR        ontime  \n",
              "1880    DCA        0         2            27   N225DL        ontime  \n",
              "2175    DCA        0         6            31   N710MQ        ontime  \n",
              "42      IAD        0         4             1   N12540        ontime  \n",
              "982     DCA        0         3            14   N739UW        ontime  \n",
              "1376    DCA        0         2            20   N223DZ        ontime  \n",
              "987     BWI        0         3            14   N14542        ontime  \n",
              "247     DCA        0         1             5   N242DL        ontime  \n",
              "1375    DCA        0         2            20   N231DN        ontime  \n",
              "1304    IAD        0         1            19   N565UA        ontime  \n",
              "959     DCA        0         3            14   N843MQ        ontime  \n",
              "1303    DCA        0         1            19   N704MQ       delayed  \n",
              "1555    DCA        0         4            22   N731MQ        ontime  \n",
              "2081    IAD        0         5            30   N322UE        ontime  \n",
              "1986    DCA        0         4            29   N402FJ        ontime  \n",
              "1835    DCA        0         1            26   N704UW       delayed  "
            ]
          },
          "execution_count": 3,
          "metadata": {},
          "output_type": "execute_result"
        }
      ],
      "source": [
        "delays_df = dmba.load_data('FlightDelays.csv')\n",
        "delays_df.sample(20)"
      ]
    },
    {
      "cell_type": "markdown",
      "metadata": {
        "id": "tMt5k-Nt7MeV"
      },
      "source": [
        "## Figure 10.4"
      ]
    },
    {
      "cell_type": "code",
      "execution_count": null,
      "metadata": {
        "id": "9E9seftd7MeV",
        "outputId": "bbb87e14-7a08-44b6-bd0f-07a6506eaac2"
      },
      "outputs": [
        {
          "data": {
            "image/png": "[encoded data removed]",
            "text/plain": [
              "<Figure size 432x288 with 1 Axes>"
            ]
          },
          "metadata": {
            "needs_background": "light"
          },
          "output_type": "display_data"
        }
      ],
      "source": [
        "delays_df = dmba.load_data('FlightDelays.csv')\n",
        "\n",
        "# Create an indicator variable\n",
        "delays_df['isDelayed'] = [1 if status == 'delayed' else 0 for status in delays_df['Flight Status']]\n",
        "\n",
        "# group information by day of week and determine the average delay\n",
        "averageDelay = delays_df.groupby(['DAY_WEEK'])['isDelayed'].mean()\n",
        "\n",
        "# create a bar chart\n",
        "ax = averageDelay.plot.bar(color='C0')\n",
        "ax.set_xlabel('Day of week')\n",
        "ax.set_ylabel('Average Delay')\n",
        "ax.set_title('Average Delay by Day of Week')\n",
        "_ = ax.set_xticklabels(['Mon', 'Tue', 'Wed', 'Thu', 'Fri', 'Sat', 'Sun'])"
      ]
    },
    {
      "cell_type": "markdown",
      "metadata": {
        "id": "rqwcTFoI7MeZ"
      },
      "source": [
        "Visualizing delays by various predictors"
      ]
    },
    {
      "cell_type": "code",
      "execution_count": null,
      "metadata": {
        "id": "7rrDqzMs7Mea",
        "outputId": "39d5ab42-d2ca-4903-875f-212ddfe22636"
      },
      "outputs": [
        {
          "data": {
            "image/png": "[encoded data removed]",
            "text/plain": [
              "<Figure size 720x648 with 6 Axes>"
            ]
          },
          "metadata": {
            "needs_background": "light"
          },
          "output_type": "display_data"
        }
      ],
      "source": [
        "delays_df = dmba.load_data('FlightDelays.csv')\n",
        "\n",
        "# Create an indicator variable\n",
        "delays_df['isDelayed'] = [1 if status == 'delayed' else 0 \n",
        "                          for status in delays_df['Flight Status']]\n",
        "\n",
        "def createGraph(group, xlabel, axis) -> plt.Axes: # adding type hint\n",
        "    groupAverage = delays_df.groupby([group])['isDelayed'].mean()\n",
        "    if group == 'DAY_WEEK': # rotate so that display starts on Sunday\n",
        "        groupAverage = groupAverage.reindex(index=np.roll(groupAverage.index,1))\n",
        "        groupAverage.index = ['Sun', 'Mon', 'Tue', 'Wed', 'Thu', 'Fri', 'Sat']\n",
        "    ax = groupAverage.plot.bar(color='C0', ax=axis)\n",
        "    ax.set_ylabel('Average Delay')\n",
        "    ax.set_xlabel(xlabel)\n",
        "    return ax\n",
        "\n",
        "def graphDepartureTime(xlabel, axis) -> plt.Axes: # adding type hint\n",
        "    temp_df = pd.DataFrame({'CRS_DEP_TIME': delays_df['CRS_DEP_TIME'] // 100, \n",
        "                            'isDelayed': delays_df['isDelayed']})\n",
        "    groupAverage = temp_df.groupby(['CRS_DEP_TIME'])['isDelayed'].mean()\n",
        "    ax = groupAverage.plot.bar(color='C0', ax=axis)\n",
        "    ax.set_xlabel(xlabel); ax.set_ylabel('Average Delay')\n",
        "    \n",
        "    return ax\n",
        "    \n",
        "fig, axes = plt.subplots(nrows=3, ncols=2, figsize=(10, 9))\n",
        "\n",
        "# add suptitle\n",
        "fig.suptitle('Average Delay of Flights by Predictor')\n",
        "\n",
        "# added titles to below\n",
        "ax0 = createGraph('DAY_WEEK', 'Day of week', axis=axes[0][0])\n",
        "ax0.set_title('Average Delay by Day of Week')\n",
        "\n",
        "ax1 = createGraph('DEST', 'Destination', axis=axes[0][1])\n",
        "ax1.set_title('Average Delay by Destination')\n",
        "\n",
        "ax2 = graphDepartureTime('Departure time', axis=axes[1][0])\n",
        "ax2.set_title('Average Delay by Departure Time')\n",
        "\n",
        "ax3 = createGraph('CARRIER', 'Carrier', axis=axes[1][1])\n",
        "ax3.set_title('Average Delay by Carrier')\n",
        "\n",
        "ax4 = createGraph('ORIGIN', 'Origin', axis=axes[2][0])\n",
        "ax4.set_title('Average Delay by Origin')\n",
        "\n",
        "ax5 = createGraph('Weather', 'Weather', axis=axes[2][1])\n",
        "ax5.set_title('Average Delay by Weather')\n",
        "\n",
        "plt.tight_layout()\n",
        "\n",
        "plt.show()"
      ]
    },
    {
      "cell_type": "markdown",
      "metadata": {
        "id": "1RoRF0qn7Mee"
      },
      "source": [
        "## Figure 10.5"
      ]
    },
    {
      "cell_type": "code",
      "execution_count": null,
      "metadata": {
        "id": "WpRzxpqy7Mef",
        "outputId": "d533fe74-93e6-4b65-a8fc-4f718145489c"
      },
      "outputs": [
        {
          "data": {
            "image/png": "[encoded data removed]",
            "text/plain": [
              "<Figure size 720x432 with 6 Axes>"
            ]
          },
          "metadata": {
            "needs_background": "light"
          },
          "output_type": "display_data"
        }
      ],
      "source": [
        "agg = delays_df.groupby(['ORIGIN', 'DAY_WEEK', 'CARRIER']).isDelayed.mean()\n",
        "agg = agg.reset_index()\n",
        "\n",
        "# Define the layout of the graph\n",
        "height_ratios = []\n",
        "for i, origin in enumerate(sorted(delays_df.ORIGIN.unique())):\n",
        "    height_ratios.append(len(agg[agg.ORIGIN == origin].CARRIER.unique()))\n",
        "gridspec_kw = {'height_ratios': height_ratios, 'width_ratios': [15, 1]}\n",
        "fig, axes = plt.subplots(nrows=3, ncols=2, figsize=(10, 6), \n",
        "                         gridspec_kw = gridspec_kw)\n",
        "axes[0, 1].axis('off')\n",
        "axes[2, 1].axis('off')\n",
        "\n",
        "maxIsDelay = agg.isDelayed.max()\n",
        "for i, origin in enumerate(sorted(delays_df.ORIGIN.unique())):\n",
        "    data = pd.pivot_table(agg[agg.ORIGIN == origin], values='isDelayed', aggfunc=np.sum, \n",
        "                          index=['CARRIER'], columns=['DAY_WEEK'])\n",
        "    data = data[[7, 1, 2, 3, 4, 5, 6]]  # Shift last columns to first\n",
        "    ax = sns.heatmap(data, ax=axes[i][0], vmin=0, vmax=maxIsDelay, \n",
        "                     cbar_ax=axes[1][1], cmap=sns.light_palette(\"navy\"))\n",
        "    ax.set_xticklabels(['Sun', 'Mon', 'Tue', 'Wed', 'Thu', 'Fri', 'Sat'])\n",
        "    if i != 2: \n",
        "        ax.get_xaxis().set_visible(False)\n",
        "    ax.set_ylabel('Airport ' + origin)\n",
        "    \n",
        "fig.suptitle('Percent of Flight Delays by Day of Week, Origin, and Carrier')\n",
        "    \n",
        "plt.show()"
      ]
    },
    {
      "cell_type": "markdown",
      "metadata": {
        "id": "910GH3D47Meh"
      },
      "source": [
        "## Table 10.7"
      ]
    },
    {
      "cell_type": "code",
      "execution_count": null,
      "metadata": {
        "id": "r7-95dRF7Mei",
        "outputId": "a926665b-8656-4334-bd10-8a4af55ea139"
      },
      "outputs": [
        {
          "name": "stdout",
          "output_type": "stream",
          "text": [
            "intercept  -1.2190996255195397 \n",
            "\n",
            "       Weather  DAY_WEEK_2  DAY_WEEK_3  DAY_WEEK_4  DAY_WEEK_5  DAY_WEEK_6  DAY_WEEK_7  \\\n",
            "coeff    9.325      -0.598      -0.705      -0.799      -0.296      -1.129      -0.135   \n",
            "\n",
            "       CRS_DEP_TIME_7  CRS_DEP_TIME_8  CRS_DEP_TIME_9  CRS_DEP_TIME_10  CRS_DEP_TIME_11  \\\n",
            "coeff           0.631           0.382          -0.365            0.337            0.078   \n",
            "\n",
            "       CRS_DEP_TIME_12  CRS_DEP_TIME_13  CRS_DEP_TIME_14  CRS_DEP_TIME_15  CRS_DEP_TIME_16  \\\n",
            "coeff            0.399            0.175            0.202            1.265            0.628   \n",
            "\n",
            "       CRS_DEP_TIME_17  CRS_DEP_TIME_18  CRS_DEP_TIME_19  CRS_DEP_TIME_20  CRS_DEP_TIME_21  \\\n",
            "coeff            1.093            0.285            1.655            1.023            1.077   \n",
            "\n",
            "       ORIGIN_DCA  ORIGIN_IAD  DEST_JFK  DEST_LGA  CARRIER_DH  CARRIER_DL  CARRIER_MQ  \\\n",
            "coeff       -0.01      -0.134    -0.524    -0.546       0.352      -0.685       0.743   \n",
            "\n",
            "       CARRIER_OH  CARRIER_RU  CARRIER_UA  CARRIER_US  \n",
            "coeff      -0.711      -0.194       0.315      -0.971  \n",
            "\n",
            "AIC 1004.5346225948085\n"
          ]
        }
      ],
      "source": [
        "delays_df = dmba.load_data('FlightDelays.csv')\n",
        "# Create an indicator variable\n",
        "delays_df['isDelayed'] = [1 if status == 'delayed' else 0 \n",
        "                          for status in delays_df['Flight Status']]\n",
        "\n",
        "# convert to categorical\n",
        "delays_df.DAY_WEEK = delays_df.DAY_WEEK.astype('category')\n",
        "\n",
        "# create hourly bins departure time \n",
        "delays_df.CRS_DEP_TIME = [round(t / 100) for t in delays_df.CRS_DEP_TIME]\n",
        "delays_df.CRS_DEP_TIME = delays_df.CRS_DEP_TIME.astype('category')\n",
        "\n",
        "predictors = ['DAY_WEEK', 'CRS_DEP_TIME', 'ORIGIN', 'DEST', 'CARRIER', 'Weather']\n",
        "outcome = 'isDelayed'\n",
        "\n",
        "X = pd.get_dummies(delays_df[predictors], drop_first=True)\n",
        "y = delays_df[outcome]\n",
        "classes = ['ontime', 'delayed']\n",
        "\n",
        "# split into training and validation\n",
        "train_X, valid_X, train_y, valid_y = train_test_split(X, y, test_size=0.4, \n",
        "                                                      random_state=1)\n",
        "\n",
        "logit_full = LogisticRegression(penalty=\"l2\", C=1e42, solver='liblinear')\n",
        "logit_full.fit(train_X, train_y)\n",
        "\n",
        "pd.set_option('display.width', 95)\n",
        "pd.set_option('display.precision',3)\n",
        "pd.set_option('display.max_columns', 33)\n",
        "print('intercept ', logit_full.intercept_[0], '\\n')\n",
        "\n",
        "# could use display() to present this cleaner, but for illustration, leaving as-is\n",
        "print(pd.DataFrame({'coeff': logit_full.coef_[0]}, index=X.columns).transpose())\n",
        "print('\\nAIC', AIC_score(valid_y, logit_full.predict(valid_X), df=len(train_X.columns) + 1))\n",
        "\n",
        "pd.reset_option('display.width')\n",
        "pd.reset_option('display.precision')\n",
        "pd.reset_option('display.max_columns')"
      ]
    },
    {
      "cell_type": "markdown",
      "metadata": {
        "id": "qN8BxCil7Mej"
      },
      "source": [
        "## Figure 10.6"
      ]
    },
    {
      "cell_type": "code",
      "execution_count": null,
      "metadata": {
        "id": "wHZxA-CT7Mek",
        "outputId": "7813a092-2c56-4079-dad1-eb41a245ed02"
      },
      "outputs": [
        {
          "name": "stdout",
          "output_type": "stream",
          "text": [
            "Confusion Matrix (Accuracy 0.8309)\n",
            "\n",
            "        Prediction\n",
            " Actual  ontime delayed\n",
            " ontime     705       9\n",
            "delayed     140      27\n"
          ]
        },
        {
          "data": {
            "image/png": "[encoded data removed]",
            "text/plain": [
              "<Figure size 360x360 with 1 Axes>"
            ]
          },
          "metadata": {
            "needs_background": "light"
          },
          "output_type": "display_data"
        }
      ],
      "source": [
        "logit_reg_pred = logit_full.predict_proba(valid_X)\n",
        "full_result = pd.DataFrame({'actual': valid_y, \n",
        "                            'p(0)': [p[0] for p in logit_reg_pred],\n",
        "                            'p(1)': [p[1] for p in logit_reg_pred],\n",
        "                            'predicted': logit_full.predict(valid_X)})\n",
        "full_result = full_result.sort_values(by=['p(1)'], ascending=False)\n",
        "\n",
        "# confusion matrix\n",
        "classificationSummary(full_result.actual, full_result.predicted, class_names=classes)\n",
        "\n",
        "ax0 = gainsChart(full_result.actual, figsize=[5, 5])\n",
        "ax0.set_title('Flight Delays - All Predictors')\n",
        "plt.show()"
      ]
    },
    {
      "cell_type": "markdown",
      "metadata": {
        "id": "BR9-8o8m7Mel"
      },
      "source": [
        "## Table 10.9"
      ]
    },
    {
      "cell_type": "code",
      "execution_count": null,
      "metadata": {
        "id": "k9PklNEa7Mem",
        "outputId": "3ef8f43d-0da0-4cf5-da66-e292e0c79989"
      },
      "outputs": [
        {
          "data": {
            "text/html": [
              "<div>\n",
              "<style scoped>\n",
              "    .dataframe tbody tr th:only-of-type {\n",
              "        vertical-align: middle;\n",
              "    }\n",
              "\n",
              "    .dataframe tbody tr th {\n",
              "        vertical-align: top;\n",
              "    }\n",
              "\n",
              "    .dataframe thead th {\n",
              "        text-align: right;\n",
              "    }\n",
              "</style>\n",
              "<table border=\"1\" class=\"dataframe\">\n",
              "  <thead>\n",
              "    <tr style=\"text-align: right;\">\n",
              "      <th>ORIGIN</th>\n",
              "      <th>BWI</th>\n",
              "      <th>DCA</th>\n",
              "      <th>IAD</th>\n",
              "      <th>Total</th>\n",
              "    </tr>\n",
              "    <tr>\n",
              "      <th>CARRIER</th>\n",
              "      <th></th>\n",
              "      <th></th>\n",
              "      <th></th>\n",
              "      <th></th>\n",
              "    </tr>\n",
              "  </thead>\n",
              "  <tbody>\n",
              "    <tr>\n",
              "      <th>CO</th>\n",
              "      <td>NaN</td>\n",
              "      <td>94.0</td>\n",
              "      <td>NaN</td>\n",
              "      <td>94.0</td>\n",
              "    </tr>\n",
              "    <tr>\n",
              "      <th>DH</th>\n",
              "      <td>NaN</td>\n",
              "      <td>27.0</td>\n",
              "      <td>524.0</td>\n",
              "      <td>551.0</td>\n",
              "    </tr>\n",
              "    <tr>\n",
              "      <th>DL</th>\n",
              "      <td>NaN</td>\n",
              "      <td>388.0</td>\n",
              "      <td>NaN</td>\n",
              "      <td>388.0</td>\n",
              "    </tr>\n",
              "    <tr>\n",
              "      <th>MQ</th>\n",
              "      <td>NaN</td>\n",
              "      <td>295.0</td>\n",
              "      <td>NaN</td>\n",
              "      <td>295.0</td>\n",
              "    </tr>\n",
              "    <tr>\n",
              "      <th>OH</th>\n",
              "      <td>30.0</td>\n",
              "      <td>NaN</td>\n",
              "      <td>NaN</td>\n",
              "      <td>30.0</td>\n",
              "    </tr>\n",
              "    <tr>\n",
              "      <th>RU</th>\n",
              "      <td>115.0</td>\n",
              "      <td>162.0</td>\n",
              "      <td>131.0</td>\n",
              "      <td>408.0</td>\n",
              "    </tr>\n",
              "    <tr>\n",
              "      <th>UA</th>\n",
              "      <td>NaN</td>\n",
              "      <td>NaN</td>\n",
              "      <td>31.0</td>\n",
              "      <td>31.0</td>\n",
              "    </tr>\n",
              "    <tr>\n",
              "      <th>US</th>\n",
              "      <td>NaN</td>\n",
              "      <td>404.0</td>\n",
              "      <td>NaN</td>\n",
              "      <td>404.0</td>\n",
              "    </tr>\n",
              "    <tr>\n",
              "      <th>Total</th>\n",
              "      <td>145.0</td>\n",
              "      <td>1370.0</td>\n",
              "      <td>686.0</td>\n",
              "      <td>2201.0</td>\n",
              "    </tr>\n",
              "  </tbody>\n",
              "</table>\n",
              "</div>"
            ],
            "text/plain": [
              "ORIGIN     BWI     DCA    IAD   Total\n",
              "CARRIER                              \n",
              "CO         NaN    94.0    NaN    94.0\n",
              "DH         NaN    27.0  524.0   551.0\n",
              "DL         NaN   388.0    NaN   388.0\n",
              "MQ         NaN   295.0    NaN   295.0\n",
              "OH        30.0     NaN    NaN    30.0\n",
              "RU       115.0   162.0  131.0   408.0\n",
              "UA         NaN     NaN   31.0    31.0\n",
              "US         NaN   404.0    NaN   404.0\n",
              "Total    145.0  1370.0  686.0  2201.0"
            ]
          },
          "metadata": {},
          "output_type": "display_data"
        }
      ],
      "source": [
        "# quick groupby/pivot example to re-create table 10.9\n",
        "delays_df = dmba.load_data('FlightDelays.csv')\n",
        "\n",
        "# delays_df\n",
        "\n",
        "# group by carrier, origin, name values = FLIGHTS\n",
        "grouped_df = delays_df.groupby(['CARRIER', 'ORIGIN'], as_index=False).size().rename(columns={'size':'FLIGHTS'})\n",
        "# grouped_df\n",
        "\n",
        "# pivot by carrier, origin, display FLIGHTS\n",
        "pivoted_df = grouped_df.pivot(index='CARRIER', columns='ORIGIN', values='FLIGHTS')\n",
        "# pivoted_df\n",
        "\n",
        "# add total column and rows\n",
        "summed_df = pivoted_df.copy()\n",
        "summed_df['Total'] = summed_df.sum(axis=1)\n",
        "summed_df.loc['Total'] = summed_df.sum()\n",
        "display(summed_df)"
      ]
    },
    {
      "cell_type": "markdown",
      "metadata": {
        "id": "-NzM63du7Men"
      },
      "source": [
        "## Table 10.10"
      ]
    },
    {
      "cell_type": "code",
      "execution_count": null,
      "metadata": {
        "id": "iXA1-ZE47Men",
        "outputId": "0bde8f07-8d9b-49b1-bb64-3bc89e3006da"
      },
      "outputs": [
        {
          "name": "stdout",
          "output_type": "stream",
          "text": [
            "regularization [2.7825594] \n",
            "\n",
            "intercept  -2.2874231094862276 \n",
            "\n"
          ]
        },
        {
          "data": {
            "text/html": [
              "<div>\n",
              "<style scoped>\n",
              "    .dataframe tbody tr th:only-of-type {\n",
              "        vertical-align: middle;\n",
              "    }\n",
              "\n",
              "    .dataframe tbody tr th {\n",
              "        vertical-align: top;\n",
              "    }\n",
              "\n",
              "    .dataframe thead th {\n",
              "        text-align: right;\n",
              "    }\n",
              "</style>\n",
              "<table border=\"1\" class=\"dataframe\">\n",
              "  <thead>\n",
              "    <tr style=\"text-align: right;\">\n",
              "      <th></th>\n",
              "      <th>Sun_Mon</th>\n",
              "      <th>Weather</th>\n",
              "      <th>CARRIER_CO_MQ_DH_RU</th>\n",
              "      <th>MORNING</th>\n",
              "      <th>NOON</th>\n",
              "      <th>AFTER2P</th>\n",
              "      <th>EVENING</th>\n",
              "    </tr>\n",
              "  </thead>\n",
              "  <tbody>\n",
              "    <tr>\n",
              "      <th>coeff</th>\n",
              "      <td>0.577932</td>\n",
              "      <td>4.977944</td>\n",
              "      <td>1.298899</td>\n",
              "      <td>-0.583286</td>\n",
              "      <td>-0.665857</td>\n",
              "      <td>-0.05517</td>\n",
              "      <td>0.560912</td>\n",
              "    </tr>\n",
              "  </tbody>\n",
              "</table>\n",
              "</div>"
            ],
            "text/plain": [
              "        Sun_Mon   Weather  CARRIER_CO_MQ_DH_RU   MORNING      NOON  AFTER2P  \\\n",
              "coeff  0.577932  4.977944             1.298899 -0.583286 -0.665857 -0.05517   \n",
              "\n",
              "        EVENING  \n",
              "coeff  0.560912  "
            ]
          },
          "metadata": {},
          "output_type": "display_data"
        },
        {
          "name": "stdout",
          "output_type": "stream",
          "text": [
            "\n",
            "AIC 934.6153607819033 \n",
            "\n",
            "Confusion Matrix (Accuracy 0.8343)\n",
            "\n",
            "        Prediction\n",
            " Actual  ontime delayed\n",
            " ontime     711       3\n",
            "delayed     143      24\n"
          ]
        }
      ],
      "source": [
        "delays_df = dmba.load_data('FlightDelays.csv')\n",
        "delays_df['isDelayed'] = [1 if status == 'delayed' else 0 \n",
        "                          for status in delays_df['Flight Status']]\n",
        "delays_df['CRS_DEP_TIME'] = [round(t / 100) for t in delays_df['CRS_DEP_TIME']]\n",
        "delays_red_df = pd.DataFrame({\n",
        "    'Sun_Mon' : [1 if d in (1, 7) else 0 for d in delays_df.DAY_WEEK],\n",
        "    'Weather' : delays_df.Weather,\n",
        "    'CARRIER_CO_MQ_DH_RU' : [1 if d in (\"CO\", \"MQ\", \"DH\", \"RU\") else 0 \n",
        "                             for d in delays_df.CARRIER],\n",
        "    'MORNING' : [1 if d in (6, 7, 8, 9) else 0 for d in delays_df.CRS_DEP_TIME],\n",
        "    'NOON' : [1 if d in (10, 11, 12, 13) else 0 for d in delays_df.CRS_DEP_TIME],\n",
        "    'AFTER2P' : [1 if d in (14, 15, 16, 17, 18) else 0 for d in delays_df.CRS_DEP_TIME],\n",
        "    'EVENING' : [1 if d in (19, 20) else 0 for d in delays_df.CRS_DEP_TIME],\n",
        "    'isDelayed' : [1 if status == 'delayed' else 0 for status in delays_df['Flight Status']],\n",
        "})\n",
        "\n",
        "X = delays_red_df.drop(columns=['isDelayed'])\n",
        "y = delays_red_df['isDelayed']\n",
        "classes = ['ontime', 'delayed']\n",
        "\n",
        "# split into training and validation\n",
        "train_X, valid_X, train_y, valid_y = train_test_split(X, y, test_size=0.4, \n",
        "                                                      random_state=1)\n",
        "\n",
        "logit_red = LogisticRegressionCV(penalty=\"l1\", solver='liblinear', cv=5)\n",
        "logit_red.fit(train_X, train_y)\n",
        "\n",
        "print('regularization', logit_red.C_, '\\n')\n",
        "print('intercept ', logit_red.intercept_[0], '\\n')\n",
        "\n",
        "display(pd.DataFrame({'coeff': logit_red.coef_[0]}, index=X.columns).transpose())\n",
        "\n",
        "print('\\nAIC', AIC_score(valid_y, logit_red.predict(valid_X), df=len(train_X.columns) + 1), '\\n')\n",
        "\n",
        "# confusion matrix\n",
        "classificationSummary(valid_y, logit_red.predict(valid_X), class_names=classes)"
      ]
    },
    {
      "cell_type": "markdown",
      "metadata": {
        "id": "0BDvsLxo7Meo"
      },
      "source": [
        "## Figure 10.7"
      ]
    },
    {
      "cell_type": "code",
      "execution_count": null,
      "metadata": {
        "id": "2XvfseZh7Mep",
        "outputId": "078ac1da-c9eb-4e06-b282-22ceae9a5add"
      },
      "outputs": [
        {
          "data": {
            "image/png": "[encoded data removed]",
            "text/plain": [
              "<Figure size 360x360 with 1 Axes>"
            ]
          },
          "metadata": {
            "needs_background": "light"
          },
          "output_type": "display_data"
        }
      ],
      "source": [
        "logit_reg_proba = logit_red.predict_proba(valid_X)\n",
        "red_result = pd.DataFrame({'actual': valid_y, \n",
        "                            'p(0)': [p[0] for p in logit_reg_proba],\n",
        "                            'p(1)': [p[1] for p in logit_reg_proba],\n",
        "                            'predicted': logit_red.predict(valid_X),\n",
        "                          })\n",
        "red_result = red_result.sort_values(by=['p(1)'], ascending=False)\n",
        "\n",
        "ax = gainsChart(full_result.actual, label='Full model', color='C1', figsize=[5, 5])\n",
        "ax = gainsChart(red_result.actual, label='Reduced model', color='C0', ax=ax)\n",
        "ax.legend()\n",
        "ax.set_title('Logistic Regression Using Fewer Predictors vs. Full Model')\n",
        "\n",
        "plt.show()"
      ]
    },
    {
      "cell_type": "code",
      "execution_count": null,
      "metadata": {
        "id": "PLohShJA7Mer"
      },
      "outputs": [],
      "source": []
    }
  ],
  "metadata": {
    "kernelspec": {
      "display_name": "Python 3 (ipykernel)",
      "language": "python",
      "name": "python3"
    },
    "language_info": {
      "codemirror_mode": {
        "name": "ipython",
        "version": 3
      },
      "file_extension": ".py",
      "mimetype": "text/x-python",
      "name": "python",
      "nbconvert_exporter": "python",
      "pygments_lexer": "ipython3",
      "version": "3.9.12"
    },
    "colab": {
      "provenance": [],
      "include_colab_link": true
    }
  },
  "nbformat": 4,
  "nbformat_minor": 0
}