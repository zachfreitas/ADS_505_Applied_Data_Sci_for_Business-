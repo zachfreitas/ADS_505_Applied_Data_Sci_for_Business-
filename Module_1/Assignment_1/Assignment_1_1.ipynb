{
  "nbformat": 4,
  "nbformat_minor": 0,
  "metadata": {
    "colab": {
      "provenance": [],
      "collapsed_sections": [],
      "authorship_tag": "ABX9TyMh2xET9pqyN275XEuotzQO",
      "include_colab_link": true
    },
    "kernelspec": {
      "name": "python3",
      "display_name": "Python 3"
    },
    "language_info": {
      "name": "python"
    }
  },
  "cells": [
    {
      "cell_type": "markdown",
      "metadata": {
        "id": "view-in-github",
        "colab_type": "text"
      },
      "source": [
        "<a href=\"https://colab.research.google.com/github/zachfreitas/ADS_505_Applied_Data_Sci_for_Business-/blob/main/Module_1/Assignment_1/Assignment_1_1.ipynb\" target=\"_parent\"><img src=\"https://colab.research.google.com/assets/colab-badge.svg\" alt=\"Open In Colab\"/></a>"
      ]
    },
    {
      "cell_type": "markdown",
      "source": [
        "# Assignment 1.1\n",
        "Zachariah Freitas\n",
        "2022-09-06"
      ],
      "metadata": {
        "id": "zPem7232JDWn"
      }
    },
    {
      "cell_type": "markdown",
      "source": [
        "## Import required packages"
      ],
      "metadata": {
        "id": "oAoJiPrWJTdP"
      }
    },
    {
      "cell_type": "code",
      "source": [
        "from google.colab import drive\n",
        "drive.mount('/content/drive')"
      ],
      "metadata": {
        "colab": {
          "base_uri": "https://localhost:8080/"
        },
        "id": "A75y44tEJq4P",
        "outputId": "a7f9e75f-59c2-4543-828f-d28715ecb6fc"
      },
      "execution_count": 4,
      "outputs": [
        {
          "output_type": "stream",
          "name": "stdout",
          "text": [
            "Mounted at /content/drive\n"
          ]
        }
      ]
    },
    {
      "cell_type": "code",
      "source": [
        "pip install dmba"
      ],
      "metadata": {
        "colab": {
          "base_uri": "https://localhost:8080/"
        },
        "id": "SpxHF-XGJkLu",
        "outputId": "e901dfca-9ebd-4056-b6f8-0f4673dd71fb"
      },
      "execution_count": 2,
      "outputs": [
        {
          "output_type": "stream",
          "name": "stdout",
          "text": [
            "Looking in indexes: https://pypi.org/simple, https://us-python.pkg.dev/colab-wheels/public/simple/\n",
            "Collecting dmba\n",
            "  Downloading dmba-0.1.0-py3-none-any.whl (11.8 MB)\n",
            "\u001b[K     |████████████████████████████████| 11.8 MB 7.6 MB/s \n",
            "\u001b[?25hInstalling collected packages: dmba\n",
            "Successfully installed dmba-0.1.0\n"
          ]
        }
      ]
    },
    {
      "cell_type": "code",
      "execution_count": 9,
      "metadata": {
        "id": "e4nVKpLWI557"
      },
      "outputs": [],
      "source": [
        "# Import required packages\n",
        "%matplotlib inline\n",
        "\n",
        "import numpy as np\n",
        "import pandas as pd\n",
        "# Turn off warning messages\n",
        "pd.options.mode.chained_assignment = None # default = 'warn'\n",
        "\n",
        "import matplotlib.pylab as plt\n",
        "import seaborn as sns\n",
        "\n",
        "from sklearn import preprocessing\n",
        "from sklearn.model_selection import train_test_split\n",
        "from sklearn.metrics import accuracy_score\n",
        "from sklearn.neighbors import NearestNeighbors, KNeighborsClassifier\n",
        "from sklearn.linear_model import LogisticRegression, LogisticRegressionCV\n",
        "\n",
        "#Book Authors package to gain access to datasets from book.\n",
        "import dmba\n",
        "from dmba import classificationSummary, gainsChart, liftChart\n",
        "from dmba.metric import AIC_score"
      ]
    },
    {
      "cell_type": "code",
      "source": [
        "# Get data\n",
        "cbc_df = pd.read_csv('https://raw.githubusercontent.com/zachfreitas/ADS_505_Applied_Data_Sci_for_Business-/main/Module_1/Assignment_1/CharlesBookClub.csv')\n",
        "print(cbc_df.shape)\n",
        "print(cbc_df.columns)\n",
        "cbc_df"
      ],
      "metadata": {
        "colab": {
          "base_uri": "https://localhost:8080/",
          "height": 528
        },
        "id": "OmYEshYJJNUD",
        "outputId": "e61c49a9-6020-42d4-ead5-87798bfba8a6"
      },
      "execution_count": 17,
      "outputs": [
        {
          "output_type": "stream",
          "name": "stdout",
          "text": [
            "(4000, 24)\n",
            "Index(['Seq#', 'ID#', 'Gender', 'M', 'R', 'F', 'FirstPurch', 'ChildBks',\n",
            "       'YouthBks', 'CookBks', 'DoItYBks', 'RefBks', 'ArtBks', 'GeogBks',\n",
            "       'ItalCook', 'ItalAtlas', 'ItalArt', 'Florence', 'Related Purchase',\n",
            "       'Mcode', 'Rcode', 'Fcode', 'Yes_Florence', 'No_Florence'],\n",
            "      dtype='object')\n"
          ]
        },
        {
          "output_type": "execute_result",
          "data": {
            "text/plain": [
              "      Seq#    ID#  Gender    M   R  F  FirstPurch  ChildBks  YouthBks  \\\n",
              "0        1     25       1  297  14  2          22         0         1   \n",
              "1        2     29       0  128   8  2          10         0         0   \n",
              "2        3     46       1  138  22  7          56         2         1   \n",
              "3        4     47       1  228   2  1           2         0         0   \n",
              "4        5     51       1  257  10  1          10         0         0   \n",
              "...    ...    ...     ...  ...  .. ..         ...       ...       ...   \n",
              "3995  3996  32950       0  141   2  2           6         0         0   \n",
              "3996  3997  32954       1  357  16  9          52         1         1   \n",
              "3997  3998  32955       0   48  12  1          12         0         0   \n",
              "3998  3999  32976       0  214  14  7          38         1         1   \n",
              "3999  4000  32977       1  114  10  2          12         0         0   \n",
              "\n",
              "      CookBks  ...  ItalCook  ItalAtlas  ItalArt  Florence  Related Purchase  \\\n",
              "0           1  ...         0          0        0         0                 0   \n",
              "1           0  ...         0          0        0         0                 0   \n",
              "2           2  ...         1          0        0         0                 2   \n",
              "3           0  ...         0          0        0         0                 0   \n",
              "4           0  ...         0          0        0         0                 0   \n",
              "...       ...  ...       ...        ...      ...       ...               ...   \n",
              "3995        0  ...         0          0        0         0                 0   \n",
              "3996        2  ...         0          0        0         0                 1   \n",
              "3997        0  ...         0          0        0         0                 0   \n",
              "3998        3  ...         0          0        0         0                 0   \n",
              "3999        0  ...         0          0        0         0                 1   \n",
              "\n",
              "      Mcode  Rcode  Fcode  Yes_Florence  No_Florence  \n",
              "0         5      4      2             0            1  \n",
              "1         4      3      2             0            1  \n",
              "2         4      4      3             0            1  \n",
              "3         5      1      1             0            1  \n",
              "4         5      3      1             0            1  \n",
              "...     ...    ...    ...           ...          ...  \n",
              "3995      4      1      2             0            1  \n",
              "3996      5      4      3             0            1  \n",
              "3997      2      3      1             0            1  \n",
              "3998      5      4      3             0            1  \n",
              "3999      4      3      2             0            1  \n",
              "\n",
              "[4000 rows x 24 columns]"
            ],
            "text/html": [
              "\n",
              "  <div id=\"df-8e31e2f6-5ee1-4c8a-9203-9e43cd8f5afb\">\n",
              "    <div class=\"colab-df-container\">\n",
              "      <div>\n",
              "<style scoped>\n",
              "    .dataframe tbody tr th:only-of-type {\n",
              "        vertical-align: middle;\n",
              "    }\n",
              "\n",
              "    .dataframe tbody tr th {\n",
              "        vertical-align: top;\n",
              "    }\n",
              "\n",
              "    .dataframe thead th {\n",
              "        text-align: right;\n",
              "    }\n",
              "</style>\n",
              "<table border=\"1\" class=\"dataframe\">\n",
              "  <thead>\n",
              "    <tr style=\"text-align: right;\">\n",
              "      <th></th>\n",
              "      <th>Seq#</th>\n",
              "      <th>ID#</th>\n",
              "      <th>Gender</th>\n",
              "      <th>M</th>\n",
              "      <th>R</th>\n",
              "      <th>F</th>\n",
              "      <th>FirstPurch</th>\n",
              "      <th>ChildBks</th>\n",
              "      <th>YouthBks</th>\n",
              "      <th>CookBks</th>\n",
              "      <th>...</th>\n",
              "      <th>ItalCook</th>\n",
              "      <th>ItalAtlas</th>\n",
              "      <th>ItalArt</th>\n",
              "      <th>Florence</th>\n",
              "      <th>Related Purchase</th>\n",
              "      <th>Mcode</th>\n",
              "      <th>Rcode</th>\n",
              "      <th>Fcode</th>\n",
              "      <th>Yes_Florence</th>\n",
              "      <th>No_Florence</th>\n",
              "    </tr>\n",
              "  </thead>\n",
              "  <tbody>\n",
              "    <tr>\n",
              "      <th>0</th>\n",
              "      <td>1</td>\n",
              "      <td>25</td>\n",
              "      <td>1</td>\n",
              "      <td>297</td>\n",
              "      <td>14</td>\n",
              "      <td>2</td>\n",
              "      <td>22</td>\n",
              "      <td>0</td>\n",
              "      <td>1</td>\n",
              "      <td>1</td>\n",
              "      <td>...</td>\n",
              "      <td>0</td>\n",
              "      <td>0</td>\n",
              "      <td>0</td>\n",
              "      <td>0</td>\n",
              "      <td>0</td>\n",
              "      <td>5</td>\n",
              "      <td>4</td>\n",
              "      <td>2</td>\n",
              "      <td>0</td>\n",
              "      <td>1</td>\n",
              "    </tr>\n",
              "    <tr>\n",
              "      <th>1</th>\n",
              "      <td>2</td>\n",
              "      <td>29</td>\n",
              "      <td>0</td>\n",
              "      <td>128</td>\n",
              "      <td>8</td>\n",
              "      <td>2</td>\n",
              "      <td>10</td>\n",
              "      <td>0</td>\n",
              "      <td>0</td>\n",
              "      <td>0</td>\n",
              "      <td>...</td>\n",
              "      <td>0</td>\n",
              "      <td>0</td>\n",
              "      <td>0</td>\n",
              "      <td>0</td>\n",
              "      <td>0</td>\n",
              "      <td>4</td>\n",
              "      <td>3</td>\n",
              "      <td>2</td>\n",
              "      <td>0</td>\n",
              "      <td>1</td>\n",
              "    </tr>\n",
              "    <tr>\n",
              "      <th>2</th>\n",
              "      <td>3</td>\n",
              "      <td>46</td>\n",
              "      <td>1</td>\n",
              "      <td>138</td>\n",
              "      <td>22</td>\n",
              "      <td>7</td>\n",
              "      <td>56</td>\n",
              "      <td>2</td>\n",
              "      <td>1</td>\n",
              "      <td>2</td>\n",
              "      <td>...</td>\n",
              "      <td>1</td>\n",
              "      <td>0</td>\n",
              "      <td>0</td>\n",
              "      <td>0</td>\n",
              "      <td>2</td>\n",
              "      <td>4</td>\n",
              "      <td>4</td>\n",
              "      <td>3</td>\n",
              "      <td>0</td>\n",
              "      <td>1</td>\n",
              "    </tr>\n",
              "    <tr>\n",
              "      <th>3</th>\n",
              "      <td>4</td>\n",
              "      <td>47</td>\n",
              "      <td>1</td>\n",
              "      <td>228</td>\n",
              "      <td>2</td>\n",
              "      <td>1</td>\n",
              "      <td>2</td>\n",
              "      <td>0</td>\n",
              "      <td>0</td>\n",
              "      <td>0</td>\n",
              "      <td>...</td>\n",
              "      <td>0</td>\n",
              "      <td>0</td>\n",
              "      <td>0</td>\n",
              "      <td>0</td>\n",
              "      <td>0</td>\n",
              "      <td>5</td>\n",
              "      <td>1</td>\n",
              "      <td>1</td>\n",
              "      <td>0</td>\n",
              "      <td>1</td>\n",
              "    </tr>\n",
              "    <tr>\n",
              "      <th>4</th>\n",
              "      <td>5</td>\n",
              "      <td>51</td>\n",
              "      <td>1</td>\n",
              "      <td>257</td>\n",
              "      <td>10</td>\n",
              "      <td>1</td>\n",
              "      <td>10</td>\n",
              "      <td>0</td>\n",
              "      <td>0</td>\n",
              "      <td>0</td>\n",
              "      <td>...</td>\n",
              "      <td>0</td>\n",
              "      <td>0</td>\n",
              "      <td>0</td>\n",
              "      <td>0</td>\n",
              "      <td>0</td>\n",
              "      <td>5</td>\n",
              "      <td>3</td>\n",
              "      <td>1</td>\n",
              "      <td>0</td>\n",
              "      <td>1</td>\n",
              "    </tr>\n",
              "    <tr>\n",
              "      <th>...</th>\n",
              "      <td>...</td>\n",
              "      <td>...</td>\n",
              "      <td>...</td>\n",
              "      <td>...</td>\n",
              "      <td>...</td>\n",
              "      <td>...</td>\n",
              "      <td>...</td>\n",
              "      <td>...</td>\n",
              "      <td>...</td>\n",
              "      <td>...</td>\n",
              "      <td>...</td>\n",
              "      <td>...</td>\n",
              "      <td>...</td>\n",
              "      <td>...</td>\n",
              "      <td>...</td>\n",
              "      <td>...</td>\n",
              "      <td>...</td>\n",
              "      <td>...</td>\n",
              "      <td>...</td>\n",
              "      <td>...</td>\n",
              "      <td>...</td>\n",
              "    </tr>\n",
              "    <tr>\n",
              "      <th>3995</th>\n",
              "      <td>3996</td>\n",
              "      <td>32950</td>\n",
              "      <td>0</td>\n",
              "      <td>141</td>\n",
              "      <td>2</td>\n",
              "      <td>2</td>\n",
              "      <td>6</td>\n",
              "      <td>0</td>\n",
              "      <td>0</td>\n",
              "      <td>0</td>\n",
              "      <td>...</td>\n",
              "      <td>0</td>\n",
              "      <td>0</td>\n",
              "      <td>0</td>\n",
              "      <td>0</td>\n",
              "      <td>0</td>\n",
              "      <td>4</td>\n",
              "      <td>1</td>\n",
              "      <td>2</td>\n",
              "      <td>0</td>\n",
              "      <td>1</td>\n",
              "    </tr>\n",
              "    <tr>\n",
              "      <th>3996</th>\n",
              "      <td>3997</td>\n",
              "      <td>32954</td>\n",
              "      <td>1</td>\n",
              "      <td>357</td>\n",
              "      <td>16</td>\n",
              "      <td>9</td>\n",
              "      <td>52</td>\n",
              "      <td>1</td>\n",
              "      <td>1</td>\n",
              "      <td>2</td>\n",
              "      <td>...</td>\n",
              "      <td>0</td>\n",
              "      <td>0</td>\n",
              "      <td>0</td>\n",
              "      <td>0</td>\n",
              "      <td>1</td>\n",
              "      <td>5</td>\n",
              "      <td>4</td>\n",
              "      <td>3</td>\n",
              "      <td>0</td>\n",
              "      <td>1</td>\n",
              "    </tr>\n",
              "    <tr>\n",
              "      <th>3997</th>\n",
              "      <td>3998</td>\n",
              "      <td>32955</td>\n",
              "      <td>0</td>\n",
              "      <td>48</td>\n",
              "      <td>12</td>\n",
              "      <td>1</td>\n",
              "      <td>12</td>\n",
              "      <td>0</td>\n",
              "      <td>0</td>\n",
              "      <td>0</td>\n",
              "      <td>...</td>\n",
              "      <td>0</td>\n",
              "      <td>0</td>\n",
              "      <td>0</td>\n",
              "      <td>0</td>\n",
              "      <td>0</td>\n",
              "      <td>2</td>\n",
              "      <td>3</td>\n",
              "      <td>1</td>\n",
              "      <td>0</td>\n",
              "      <td>1</td>\n",
              "    </tr>\n",
              "    <tr>\n",
              "      <th>3998</th>\n",
              "      <td>3999</td>\n",
              "      <td>32976</td>\n",
              "      <td>0</td>\n",
              "      <td>214</td>\n",
              "      <td>14</td>\n",
              "      <td>7</td>\n",
              "      <td>38</td>\n",
              "      <td>1</td>\n",
              "      <td>1</td>\n",
              "      <td>3</td>\n",
              "      <td>...</td>\n",
              "      <td>0</td>\n",
              "      <td>0</td>\n",
              "      <td>0</td>\n",
              "      <td>0</td>\n",
              "      <td>0</td>\n",
              "      <td>5</td>\n",
              "      <td>4</td>\n",
              "      <td>3</td>\n",
              "      <td>0</td>\n",
              "      <td>1</td>\n",
              "    </tr>\n",
              "    <tr>\n",
              "      <th>3999</th>\n",
              "      <td>4000</td>\n",
              "      <td>32977</td>\n",
              "      <td>1</td>\n",
              "      <td>114</td>\n",
              "      <td>10</td>\n",
              "      <td>2</td>\n",
              "      <td>12</td>\n",
              "      <td>0</td>\n",
              "      <td>0</td>\n",
              "      <td>0</td>\n",
              "      <td>...</td>\n",
              "      <td>0</td>\n",
              "      <td>0</td>\n",
              "      <td>0</td>\n",
              "      <td>0</td>\n",
              "      <td>1</td>\n",
              "      <td>4</td>\n",
              "      <td>3</td>\n",
              "      <td>2</td>\n",
              "      <td>0</td>\n",
              "      <td>1</td>\n",
              "    </tr>\n",
              "  </tbody>\n",
              "</table>\n",
              "<p>4000 rows × 24 columns</p>\n",
              "</div>\n",
              "      <button class=\"colab-df-convert\" onclick=\"convertToInteractive('df-8e31e2f6-5ee1-4c8a-9203-9e43cd8f5afb')\"\n",
              "              title=\"Convert this dataframe to an interactive table.\"\n",
              "              style=\"display:none;\">\n",
              "        \n",
              "  <svg xmlns=\"http://www.w3.org/2000/svg\" height=\"24px\"viewBox=\"0 0 24 24\"\n",
              "       width=\"24px\">\n",
              "    <path d=\"M0 0h24v24H0V0z\" fill=\"none\"/>\n",
              "    <path d=\"M18.56 5.44l.94 2.06.94-2.06 2.06-.94-2.06-.94-.94-2.06-.94 2.06-2.06.94zm-11 1L8.5 8.5l.94-2.06 2.06-.94-2.06-.94L8.5 2.5l-.94 2.06-2.06.94zm10 10l.94 2.06.94-2.06 2.06-.94-2.06-.94-.94-2.06-.94 2.06-2.06.94z\"/><path d=\"M17.41 7.96l-1.37-1.37c-.4-.4-.92-.59-1.43-.59-.52 0-1.04.2-1.43.59L10.3 9.45l-7.72 7.72c-.78.78-.78 2.05 0 2.83L4 21.41c.39.39.9.59 1.41.59.51 0 1.02-.2 1.41-.59l7.78-7.78 2.81-2.81c.8-.78.8-2.07 0-2.86zM5.41 20L4 18.59l7.72-7.72 1.47 1.35L5.41 20z\"/>\n",
              "  </svg>\n",
              "      </button>\n",
              "      \n",
              "  <style>\n",
              "    .colab-df-container {\n",
              "      display:flex;\n",
              "      flex-wrap:wrap;\n",
              "      gap: 12px;\n",
              "    }\n",
              "\n",
              "    .colab-df-convert {\n",
              "      background-color: #E8F0FE;\n",
              "      border: none;\n",
              "      border-radius: 50%;\n",
              "      cursor: pointer;\n",
              "      display: none;\n",
              "      fill: #1967D2;\n",
              "      height: 32px;\n",
              "      padding: 0 0 0 0;\n",
              "      width: 32px;\n",
              "    }\n",
              "\n",
              "    .colab-df-convert:hover {\n",
              "      background-color: #E2EBFA;\n",
              "      box-shadow: 0px 1px 2px rgba(60, 64, 67, 0.3), 0px 1px 3px 1px rgba(60, 64, 67, 0.15);\n",
              "      fill: #174EA6;\n",
              "    }\n",
              "\n",
              "    [theme=dark] .colab-df-convert {\n",
              "      background-color: #3B4455;\n",
              "      fill: #D2E3FC;\n",
              "    }\n",
              "\n",
              "    [theme=dark] .colab-df-convert:hover {\n",
              "      background-color: #434B5C;\n",
              "      box-shadow: 0px 1px 3px 1px rgba(0, 0, 0, 0.15);\n",
              "      filter: drop-shadow(0px 1px 2px rgba(0, 0, 0, 0.3));\n",
              "      fill: #FFFFFF;\n",
              "    }\n",
              "  </style>\n",
              "\n",
              "      <script>\n",
              "        const buttonEl =\n",
              "          document.querySelector('#df-8e31e2f6-5ee1-4c8a-9203-9e43cd8f5afb button.colab-df-convert');\n",
              "        buttonEl.style.display =\n",
              "          google.colab.kernel.accessAllowed ? 'block' : 'none';\n",
              "\n",
              "        async function convertToInteractive(key) {\n",
              "          const element = document.querySelector('#df-8e31e2f6-5ee1-4c8a-9203-9e43cd8f5afb');\n",
              "          const dataTable =\n",
              "            await google.colab.kernel.invokeFunction('convertToInteractive',\n",
              "                                                     [key], {});\n",
              "          if (!dataTable) return;\n",
              "\n",
              "          const docLinkHtml = 'Like what you see? Visit the ' +\n",
              "            '<a target=\"_blank\" href=https://colab.research.google.com/notebooks/data_table.ipynb>data table notebook</a>'\n",
              "            + ' to learn more about interactive tables.';\n",
              "          element.innerHTML = '';\n",
              "          dataTable['output_type'] = 'display_data';\n",
              "          await google.colab.output.renderOutput(dataTable, element);\n",
              "          const docLink = document.createElement('div');\n",
              "          docLink.innerHTML = docLinkHtml;\n",
              "          element.appendChild(docLink);\n",
              "        }\n",
              "      </script>\n",
              "    </div>\n",
              "  </div>\n",
              "  "
            ]
          },
          "metadata": {},
          "execution_count": 17
        }
      ]
    },
    {
      "cell_type": "markdown",
      "source": [
        "### Question 1\n",
        "Partition the data into training (60%) and validation (40%). Use seed = 1.\n",
        "\n"
      ],
      "metadata": {
        "id": "aW8B6BFuWApH"
      }
    },
    {
      "cell_type": "markdown",
      "source": [
        "### Question 1.1\n",
        "1.1. What is the response rate for the training data customers taken as a whole? What is the response rate for each of the 4 × 5 × 3 = 60 combinations of RFM categories? Which combinations have response rates in the training data that are above the overall response in the training data? (10 points)"
      ],
      "metadata": {
        "id": "GCdr1b6CVerw"
      }
    },
    {
      "cell_type": "markdown",
      "source": [
        "### Question 1.2\n",
        "1.2. Suppose that we decide to send promotional mail only to the “above-average” RFM \n",
        "combinations identified in part 1. Compute the response rate in the validation data using \n",
        "these combinations. (10 points)"
      ],
      "metadata": {
        "id": "60C2uZqeVr6H"
      }
    },
    {
      "cell_type": "markdown",
      "source": [
        "### Question 2\n",
        "The k-NN technique can be used to create segments based on product proximity to \n",
        "similar products of the products offered as well as the propensity to purchase (as measured by the RFM variables). For The Art History of Florence, a possible \n",
        "segmentation by product proximity could be created using the following variables: \n",
        "* R: recency—months since last purchase\n",
        "* F: frequency—total number of past purchases\n",
        "* M: monetary—total money (in dollars) spent on books\n",
        "* FirstPurch: months since first purchase\n",
        "Page 7 of 7 \n",
        "* RelatedPurch: total number of past purchases of related books (i.e., sum of \n",
        "purchases from the art and geography categories and of titles Secrets of Italian Cooking, Historical Atlas of Italy, and Italian Art)"
      ],
      "metadata": {
        "id": "CdVRFePfWSEf"
      }
    },
    {
      "cell_type": "markdown",
      "source": [
        "### Question 2.1\n",
        "Use the k-NN approach with uniform weights to classify cases with k = 1, 2, …, 11, using Florence as the outcome variable. Based on the validation set, find the best k. Remember to normalize all five variables. Create a lift curve for the best k model, and report the expected lift for an equal number of customers from the validation dataset. (12 points) \\\n",
        "Hint: You can check [sklearn.neighbors.KneighborsClassifier](https://scikit-learn.org/stable/modules/generated/sklearn.neighbors.KNeighborsClassifier.html) to assign different weights function. \n"
      ],
      "metadata": {
        "id": "U3IIAbqMVew8"
      }
    },
    {
      "cell_type": "markdown",
      "source": [
        "### Question 2.2\n",
        "The k-NN prediction algorithm gives a numerical value, which is a weighted \n",
        "average of the values of the Florence variable for the k-NN with weights that are inversely proportional to distance. Using the best k that you calculated above with k-NN classification, now run a model with k-NN prediction and compute a lift curve for the validation data. Use all 5 predictors and normalized data. What is the range within which a prediction will fall? How does this result compare to the output you get with the k-NN classification? (10 points) \\\n",
        "Hint: You can check [sklearn.neighbors.KneighborsClassifier](https://scikit-learn.org/stable/modules/generated/sklearn.neighbors.KNeighborsClassifier.html) to assign different weights \n",
        "function. "
      ],
      "metadata": {
        "id": "w4cuxC5HV0IN"
      }
    },
    {
      "cell_type": "markdown",
      "source": [
        "### Question 3\n",
        " The logistic regression model offers a powerful method for modeling response because it yields well-defined purchase probabilities. The model is especially attractive in consumer-choice settings because it can be derived from the random utility theory of consumer behavior. \\\n",
        "Use the training set data of 2400 records to construct two logistic regression models with Florence as the outcome variable and each of the following sets of predictors: (10 points) \\\n",
        "* The full set of 16 predictors in the dataset\n",
        "* A subset of predictors that you judge to be the best"
      ],
      "metadata": {
        "id": "I-w-e5EpW4LA"
      }
    },
    {
      "cell_type": "markdown",
      "source": [
        "### Question 3.1\n",
        "If the cutoff criterion for a campaign is a 30% likelihood of a purchase, find the customers in the validation data that would be targeted and count the number of buyers in this set. (10 points)"
      ],
      "metadata": {
        "id": "FIHb-tykVe0y"
      }
    },
    {
      "cell_type": "markdown",
      "source": [
        "### Question 3.2\n",
        "Briefly explain, in two to three paragraphs, the business objective, the data mining models used, why they were used, the model results, and your recommendations to your non-technical stakeholder team. (18 points)"
      ],
      "metadata": {
        "id": "icg463KpVe4_"
      }
    },
    {
      "cell_type": "markdown",
      "source": [],
      "metadata": {
        "id": "5YEfkmoKVe_1"
      }
    },
    {
      "cell_type": "code",
      "source": [],
      "metadata": {
        "id": "Jb34YB9CN_iQ"
      },
      "execution_count": null,
      "outputs": []
    }
  ]
}