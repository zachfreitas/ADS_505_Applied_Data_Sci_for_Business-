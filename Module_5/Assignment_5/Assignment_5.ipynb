{
  "nbformat": 4,
  "nbformat_minor": 0,
  "metadata": {
    "colab": {
      "provenance": [],
      "authorship_tag": "ABX9TyNPIBNSnfrt+mlj9dyfK5Ah",
      "include_colab_link": true
    },
    "kernelspec": {
      "name": "python3",
      "display_name": "Python 3"
    },
    "language_info": {
      "name": "python"
    }
  },
  "cells": [
    {
      "cell_type": "markdown",
      "metadata": {
        "id": "view-in-github",
        "colab_type": "text"
      },
      "source": [
        "<a href=\"https://colab.research.google.com/github/zachfreitas/ADS_505_Applied_Data_Sci_for_Business-/blob/main/Module_5/Assignment_5/Assignment_5.ipynb\" target=\"_parent\"><img src=\"https://colab.research.google.com/assets/colab-badge.svg\" alt=\"Open In Colab\"/></a>"
      ]
    },
    {
      "cell_type": "markdown",
      "source": [
        "# Assignment 4\n",
        "Zachariah Freitas<br>\n",
        "2022-10-04"
      ],
      "metadata": {
        "id": "O8iPqOcYz5rD"
      }
    },
    {
      "cell_type": "markdown",
      "source": [
        "Install Libraries"
      ],
      "metadata": {
        "id": "LhKn79vY0aZe"
      }
    },
    {
      "cell_type": "code",
      "source": [
        "# Connect Colab to Google Drive for Convience.\n",
        "from google.colab import drive\n",
        "drive.mount('/content/drive')"
      ],
      "metadata": {
        "id": "mcag7ReP0ESN"
      },
      "execution_count": null,
      "outputs": []
    },
    {
      "cell_type": "code",
      "source": [
        "# Install Book Libraries\n",
        "!pip install dmba"
      ],
      "metadata": {
        "id": "UcvKk0DN0Nde"
      },
      "execution_count": null,
      "outputs": []
    },
    {
      "cell_type": "code",
      "source": [
        "# Import Libraries\n",
        "\n",
        "# EDA and Preprep\n",
        "from sklearn import preprocessing\n",
        "from sklearn.model_selection import train_test_split, GridSearchCV\n",
        "import pandas as pd\n",
        "import numpy as np\n",
        "\n",
        "# Classification Model Libraries\n",
        "from sklearn.linear_model import LogisticRegressionCV # lr or Logistic Regression\n",
        "from sklearn.ensemble import BaggingClassifier # bc or Bagging Classifier\n",
        "from sklearn.ensemble import AdaBoostClassifier # abc or Ada Boost Classifier\n",
        "from sklearn.ensemble import RandomForestClassifier # rf or Random Forest Classifier\n",
        "from sklearn.discriminant_analysis import LinearDiscriminantAnalysis # lda or Linear Discriminant Analysis\n",
        "from sklearn.neural_network import MLPClassifier # nn or Neural Nets\n",
        "#from sklearn.neighbors import KNeighborsClassifier\n",
        "\n",
        "# Book Helper Functions\n",
        "from dmba import plotDecisionTree, gainsChart, liftChart, classificationSummary, regressionSummary\n",
        "from dmba.metric import AIC_score\n",
        "# import dmba\n",
        "\n",
        "# Plotting Libraries\n",
        "import matplotlib.pylab as plt\n",
        "\n",
        "# Inline Plot Formating\n",
        "%matplotlib inline"
      ],
      "metadata": {
        "id": "0OQB_ua50swp"
      },
      "execution_count": null,
      "outputs": []
    },
    {
      "cell_type": "code",
      "source": [
        "# Dataset Sources\n",
        "dataSource = 'https://raw.githubusercontent.com/zachfreitas/ADS_505_Applied_Data_Sci_for_Business-/main/Module_4/Assignment_4/Fundraising.csv'"
      ],
      "metadata": {
        "id": "w1AhljyG1IzZ"
      },
      "execution_count": null,
      "outputs": []
    },
    {
      "cell_type": "code",
      "source": [
        "df = pd.read_csv(dataSource)\n",
        "df_copy = df.copy()\n",
        "\n",
        "df_copy.columns = [d.replace(' ', '_').replace('.', '') for d in df_copy.columns]\n",
        "df_copy = df_copy.iloc[: , 2:]\n",
        "# Drop unnecessary columns\n",
        "# df_copy = df_copy.drop('TARGET_D', axis=1)\n",
        "df_copy.head()"
      ],
      "metadata": {
        "id": "cAQHOwXe1QGk"
      },
      "execution_count": null,
      "outputs": []
    },
    {
      "cell_type": "markdown",
      "source": [
        "## Question 1"
      ],
      "metadata": {
        "id": "Xa7LUm-41fys"
      }
    },
    {
      "cell_type": "markdown",
      "source": [
        "### Question 1.1"
      ],
      "metadata": {
        "id": "xntjDAR81oaG"
      }
    },
    {
      "cell_type": "code",
      "source": [],
      "metadata": {
        "id": "7Mo-ynSD20lh"
      },
      "execution_count": null,
      "outputs": []
    },
    {
      "cell_type": "markdown",
      "source": [
        "---\n",
        "**Answer:**\n",
        "\n",
        "\n",
        "\n",
        "--- \n",
        "<br>"
      ],
      "metadata": {
        "id": "-TXq4Wdi1oik"
      }
    },
    {
      "cell_type": "markdown",
      "source": [
        "### Question 1.2"
      ],
      "metadata": {
        "id": "shTgqad01ol5"
      }
    },
    {
      "cell_type": "code",
      "source": [],
      "metadata": {
        "id": "Cg5DYPKR23Tp"
      },
      "execution_count": null,
      "outputs": []
    },
    {
      "cell_type": "markdown",
      "source": [
        "---\n",
        "**Answer:**\n",
        "\n",
        "\n",
        "\n",
        "--- \n",
        "<br>"
      ],
      "metadata": {
        "id": "XWSNAyTZ1opc"
      }
    },
    {
      "cell_type": "markdown",
      "source": [
        "### Question 1.3"
      ],
      "metadata": {
        "id": "I6iBm8KB1ost"
      }
    },
    {
      "cell_type": "code",
      "source": [],
      "metadata": {
        "id": "6_bjC1Kj2xgf"
      },
      "execution_count": null,
      "outputs": []
    },
    {
      "cell_type": "markdown",
      "source": [
        "---\n",
        "**Answer:**\n",
        "\n",
        "\n",
        "\n",
        "--- \n",
        "<br>"
      ],
      "metadata": {
        "id": "tD08PkB01owG"
      }
    },
    {
      "cell_type": "markdown",
      "source": [
        "### Question 1.4"
      ],
      "metadata": {
        "id": "Jqow7pbN1o1k"
      }
    },
    {
      "cell_type": "code",
      "source": [],
      "metadata": {
        "id": "RxZ_MAuB2wxd"
      },
      "execution_count": null,
      "outputs": []
    },
    {
      "cell_type": "markdown",
      "source": [
        "---\n",
        "**Answer:**\n",
        "\n",
        "\n",
        "\n",
        "--- \n",
        "<br>"
      ],
      "metadata": {
        "id": "1TP5SCDO1o6E"
      }
    },
    {
      "cell_type": "markdown",
      "source": [
        "## Question 2"
      ],
      "metadata": {
        "id": "yIfs3I9A2jwy"
      }
    },
    {
      "cell_type": "markdown",
      "source": [
        "### Question 2.1"
      ],
      "metadata": {
        "id": "qFNsP9RG2qMo"
      }
    },
    {
      "cell_type": "code",
      "source": [],
      "metadata": {
        "id": "smuevUKp2m96"
      },
      "execution_count": null,
      "outputs": []
    },
    {
      "cell_type": "markdown",
      "source": [
        "---\n",
        "**Answer:**\n",
        "\n",
        "\n",
        "\n",
        "--- \n",
        "<br>"
      ],
      "metadata": {
        "id": "9KcXFBEh2s3I"
      }
    }
  ]
}