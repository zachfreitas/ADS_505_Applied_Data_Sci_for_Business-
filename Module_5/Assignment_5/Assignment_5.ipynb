{
  "nbformat": 4,
  "nbformat_minor": 0,
  "metadata": {
    "colab": {
      "provenance": [],
      "authorship_tag": "ABX9TyN8inrj01VEdPUEMdilP9ey",
      "include_colab_link": true
    },
    "kernelspec": {
      "name": "python3",
      "display_name": "Python 3"
    },
    "language_info": {
      "name": "python"
    }
  },
  "cells": [
    {
      "cell_type": "markdown",
      "metadata": {
        "id": "view-in-github",
        "colab_type": "text"
      },
      "source": [
        "<a href=\"https://colab.research.google.com/github/zachfreitas/ADS_505_Applied_Data_Sci_for_Business-/blob/main/Module_5/Assignment_5/Assignment_5.ipynb\" target=\"_parent\"><img src=\"https://colab.research.google.com/assets/colab-badge.svg\" alt=\"Open In Colab\"/></a>"
      ]
    },
    {
      "cell_type": "markdown",
      "source": [
        "# Assignment 5\n",
        "Zachariah Freitas<br>\n",
        "2022-10-04"
      ],
      "metadata": {
        "id": "O8iPqOcYz5rD"
      }
    },
    {
      "cell_type": "markdown",
      "source": [
        "Install Libraries"
      ],
      "metadata": {
        "id": "LhKn79vY0aZe"
      }
    },
    {
      "cell_type": "code",
      "source": [
        "# Connect Colab to Google Drive for Convience.\n",
        "from google.colab import drive\n",
        "drive.mount('/content/drive')"
      ],
      "metadata": {
        "id": "mcag7ReP0ESN",
        "outputId": "e9bbb3ed-46b5-493d-e5c4-e93860158604",
        "colab": {
          "base_uri": "https://localhost:8080/"
        }
      },
      "execution_count": 2,
      "outputs": [
        {
          "output_type": "stream",
          "name": "stdout",
          "text": [
            "Mounted at /content/drive\n"
          ]
        }
      ]
    },
    {
      "cell_type": "code",
      "source": [
        "# Install Book Libraries\n",
        "!pip install dmba"
      ],
      "metadata": {
        "id": "UcvKk0DN0Nde",
        "outputId": "5b0c8465-dc8a-4123-aa76-8f8803265d5a",
        "colab": {
          "base_uri": "https://localhost:8080/"
        }
      },
      "execution_count": 3,
      "outputs": [
        {
          "output_type": "stream",
          "name": "stdout",
          "text": [
            "Looking in indexes: https://pypi.org/simple, https://us-python.pkg.dev/colab-wheels/public/simple/\n",
            "Collecting dmba\n",
            "  Downloading dmba-0.1.0-py3-none-any.whl (11.8 MB)\n",
            "\u001b[K     |████████████████████████████████| 11.8 MB 5.3 MB/s \n",
            "\u001b[?25hInstalling collected packages: dmba\n",
            "Successfully installed dmba-0.1.0\n"
          ]
        }
      ]
    },
    {
      "cell_type": "code",
      "source": [
        "# Import Libraries\n",
        "\n",
        "# EDA and Preprep\n",
        "from sklearn import preprocessing\n",
        "from sklearn.model_selection import train_test_split, GridSearchCV\n",
        "import pandas as pd\n",
        "import numpy as np\n",
        "\n",
        "# Classification Model Libraries\n",
        "from sklearn.linear_model import LogisticRegressionCV # lr or Logistic Regression\n",
        "from sklearn.ensemble import BaggingClassifier # bc or Bagging Classifier\n",
        "from sklearn.ensemble import AdaBoostClassifier # abc or Ada Boost Classifier\n",
        "from sklearn.ensemble import RandomForestClassifier # rf or Random Forest Classifier\n",
        "from sklearn.discriminant_analysis import LinearDiscriminantAnalysis # lda or Linear Discriminant Analysis\n",
        "from sklearn.neural_network import MLPClassifier # nn or Neural Nets\n",
        "#from sklearn.neighbors import KNeighborsClassifier\n",
        "\n",
        "# Book Helper Functions\n",
        "from dmba import plotDecisionTree, gainsChart, liftChart, classificationSummary, regressionSummary\n",
        "from dmba.metric import AIC_score\n",
        "# import dmba\n",
        "\n",
        "# Plotting Libraries\n",
        "import matplotlib.pylab as plt\n",
        "\n",
        "# Inline Plot Formating\n",
        "%matplotlib inline"
      ],
      "metadata": {
        "id": "0OQB_ua50swp",
        "outputId": "b14560f5-fc6f-4fff-9a87-24ee70606f2a",
        "colab": {
          "base_uri": "https://localhost:8080/"
        }
      },
      "execution_count": 4,
      "outputs": [
        {
          "output_type": "stream",
          "name": "stdout",
          "text": [
            "no display found. Using non-interactive Agg backend\n"
          ]
        }
      ]
    },
    {
      "cell_type": "code",
      "source": [
        "# Dataset Sources\n",
        "dataSource = 'https://raw.githubusercontent.com/zachfreitas/ADS_505_Applied_Data_Sci_for_Business-/main/Module_5/Assignment_5/BathSoapHousehold.csv'"
      ],
      "metadata": {
        "id": "w1AhljyG1IzZ"
      },
      "execution_count": 5,
      "outputs": []
    },
    {
      "cell_type": "code",
      "source": [
        "df = pd.read_csv(dataSource)\n",
        "df_copy = df.copy()\n",
        "\n",
        "df_copy.columns = [d.replace(' ', '_').replace('.', '') for d in df_copy.columns]\n",
        "df_copy = df_copy.iloc[: , 2:]\n",
        "# Drop unnecessary columns\n",
        "# df_copy = df_copy.drop('TARGET_D', axis=1)\n",
        "df_copy.head()"
      ],
      "metadata": {
        "id": "cAQHOwXe1QGk",
        "outputId": "de8c89c6-0d88-4682-ee4e-2ff1fbb5cd8a",
        "colab": {
          "base_uri": "https://localhost:8080/",
          "height": 236
        }
      },
      "execution_count": 6,
      "outputs": [
        {
          "output_type": "execute_result",
          "data": {
            "text/plain": [
              "   FEH  MT  SEX  AGE  EDU  HS  CHILD  CS  Affluence_Index  No_of_Brands  ...  \\\n",
              "0    3  10    1    4    4   2      4   1                2             3  ...   \n",
              "1    2  10    2    2    4   4      2   1               19             5  ...   \n",
              "2    3  10    2    4    5   6      4   1               23             5  ...   \n",
              "3    0   0    0    4    0   0      5   0                0             2  ...   \n",
              "4    1  10    2    3    4   4      3   1               10             3  ...   \n",
              "\n",
              "   PropCat_6  PropCat_7  PropCat_8  PropCat_9  PropCat_10  PropCat_11  \\\n",
              "0   0.000000   0.000000   0.000000   0.000000         0.0    0.000000   \n",
              "1   0.347048   0.026834   0.016100   0.014311         0.0    0.059034   \n",
              "2   0.121212   0.033550   0.010823   0.008658         0.0    0.000000   \n",
              "3   0.000000   0.000000   0.000000   0.000000         0.0    0.000000   \n",
              "4   0.000000   0.000000   0.048193   0.000000         0.0    0.000000   \n",
              "\n",
              "   PropCat_12  PropCat_13  PropCat_14  PropCat_15  \n",
              "0    0.028037         0.0    0.130841    0.339564  \n",
              "1    0.000000         0.0    0.080501    0.000000  \n",
              "2    0.016234         0.0    0.561688    0.003247  \n",
              "3    0.000000         0.0    0.600000    0.000000  \n",
              "4    0.000000         0.0    0.144578    0.000000  \n",
              "\n",
              "[5 rows x 44 columns]"
            ],
            "text/html": [
              "\n",
              "  <div id=\"df-3ae38afa-8727-4856-ac4f-bd4f1506fcd2\">\n",
              "    <div class=\"colab-df-container\">\n",
              "      <div>\n",
              "<style scoped>\n",
              "    .dataframe tbody tr th:only-of-type {\n",
              "        vertical-align: middle;\n",
              "    }\n",
              "\n",
              "    .dataframe tbody tr th {\n",
              "        vertical-align: top;\n",
              "    }\n",
              "\n",
              "    .dataframe thead th {\n",
              "        text-align: right;\n",
              "    }\n",
              "</style>\n",
              "<table border=\"1\" class=\"dataframe\">\n",
              "  <thead>\n",
              "    <tr style=\"text-align: right;\">\n",
              "      <th></th>\n",
              "      <th>FEH</th>\n",
              "      <th>MT</th>\n",
              "      <th>SEX</th>\n",
              "      <th>AGE</th>\n",
              "      <th>EDU</th>\n",
              "      <th>HS</th>\n",
              "      <th>CHILD</th>\n",
              "      <th>CS</th>\n",
              "      <th>Affluence_Index</th>\n",
              "      <th>No_of_Brands</th>\n",
              "      <th>...</th>\n",
              "      <th>PropCat_6</th>\n",
              "      <th>PropCat_7</th>\n",
              "      <th>PropCat_8</th>\n",
              "      <th>PropCat_9</th>\n",
              "      <th>PropCat_10</th>\n",
              "      <th>PropCat_11</th>\n",
              "      <th>PropCat_12</th>\n",
              "      <th>PropCat_13</th>\n",
              "      <th>PropCat_14</th>\n",
              "      <th>PropCat_15</th>\n",
              "    </tr>\n",
              "  </thead>\n",
              "  <tbody>\n",
              "    <tr>\n",
              "      <th>0</th>\n",
              "      <td>3</td>\n",
              "      <td>10</td>\n",
              "      <td>1</td>\n",
              "      <td>4</td>\n",
              "      <td>4</td>\n",
              "      <td>2</td>\n",
              "      <td>4</td>\n",
              "      <td>1</td>\n",
              "      <td>2</td>\n",
              "      <td>3</td>\n",
              "      <td>...</td>\n",
              "      <td>0.000000</td>\n",
              "      <td>0.000000</td>\n",
              "      <td>0.000000</td>\n",
              "      <td>0.000000</td>\n",
              "      <td>0.0</td>\n",
              "      <td>0.000000</td>\n",
              "      <td>0.028037</td>\n",
              "      <td>0.0</td>\n",
              "      <td>0.130841</td>\n",
              "      <td>0.339564</td>\n",
              "    </tr>\n",
              "    <tr>\n",
              "      <th>1</th>\n",
              "      <td>2</td>\n",
              "      <td>10</td>\n",
              "      <td>2</td>\n",
              "      <td>2</td>\n",
              "      <td>4</td>\n",
              "      <td>4</td>\n",
              "      <td>2</td>\n",
              "      <td>1</td>\n",
              "      <td>19</td>\n",
              "      <td>5</td>\n",
              "      <td>...</td>\n",
              "      <td>0.347048</td>\n",
              "      <td>0.026834</td>\n",
              "      <td>0.016100</td>\n",
              "      <td>0.014311</td>\n",
              "      <td>0.0</td>\n",
              "      <td>0.059034</td>\n",
              "      <td>0.000000</td>\n",
              "      <td>0.0</td>\n",
              "      <td>0.080501</td>\n",
              "      <td>0.000000</td>\n",
              "    </tr>\n",
              "    <tr>\n",
              "      <th>2</th>\n",
              "      <td>3</td>\n",
              "      <td>10</td>\n",
              "      <td>2</td>\n",
              "      <td>4</td>\n",
              "      <td>5</td>\n",
              "      <td>6</td>\n",
              "      <td>4</td>\n",
              "      <td>1</td>\n",
              "      <td>23</td>\n",
              "      <td>5</td>\n",
              "      <td>...</td>\n",
              "      <td>0.121212</td>\n",
              "      <td>0.033550</td>\n",
              "      <td>0.010823</td>\n",
              "      <td>0.008658</td>\n",
              "      <td>0.0</td>\n",
              "      <td>0.000000</td>\n",
              "      <td>0.016234</td>\n",
              "      <td>0.0</td>\n",
              "      <td>0.561688</td>\n",
              "      <td>0.003247</td>\n",
              "    </tr>\n",
              "    <tr>\n",
              "      <th>3</th>\n",
              "      <td>0</td>\n",
              "      <td>0</td>\n",
              "      <td>0</td>\n",
              "      <td>4</td>\n",
              "      <td>0</td>\n",
              "      <td>0</td>\n",
              "      <td>5</td>\n",
              "      <td>0</td>\n",
              "      <td>0</td>\n",
              "      <td>2</td>\n",
              "      <td>...</td>\n",
              "      <td>0.000000</td>\n",
              "      <td>0.000000</td>\n",
              "      <td>0.000000</td>\n",
              "      <td>0.000000</td>\n",
              "      <td>0.0</td>\n",
              "      <td>0.000000</td>\n",
              "      <td>0.000000</td>\n",
              "      <td>0.0</td>\n",
              "      <td>0.600000</td>\n",
              "      <td>0.000000</td>\n",
              "    </tr>\n",
              "    <tr>\n",
              "      <th>4</th>\n",
              "      <td>1</td>\n",
              "      <td>10</td>\n",
              "      <td>2</td>\n",
              "      <td>3</td>\n",
              "      <td>4</td>\n",
              "      <td>4</td>\n",
              "      <td>3</td>\n",
              "      <td>1</td>\n",
              "      <td>10</td>\n",
              "      <td>3</td>\n",
              "      <td>...</td>\n",
              "      <td>0.000000</td>\n",
              "      <td>0.000000</td>\n",
              "      <td>0.048193</td>\n",
              "      <td>0.000000</td>\n",
              "      <td>0.0</td>\n",
              "      <td>0.000000</td>\n",
              "      <td>0.000000</td>\n",
              "      <td>0.0</td>\n",
              "      <td>0.144578</td>\n",
              "      <td>0.000000</td>\n",
              "    </tr>\n",
              "  </tbody>\n",
              "</table>\n",
              "<p>5 rows × 44 columns</p>\n",
              "</div>\n",
              "      <button class=\"colab-df-convert\" onclick=\"convertToInteractive('df-3ae38afa-8727-4856-ac4f-bd4f1506fcd2')\"\n",
              "              title=\"Convert this dataframe to an interactive table.\"\n",
              "              style=\"display:none;\">\n",
              "        \n",
              "  <svg xmlns=\"http://www.w3.org/2000/svg\" height=\"24px\"viewBox=\"0 0 24 24\"\n",
              "       width=\"24px\">\n",
              "    <path d=\"M0 0h24v24H0V0z\" fill=\"none\"/>\n",
              "    <path d=\"M18.56 5.44l.94 2.06.94-2.06 2.06-.94-2.06-.94-.94-2.06-.94 2.06-2.06.94zm-11 1L8.5 8.5l.94-2.06 2.06-.94-2.06-.94L8.5 2.5l-.94 2.06-2.06.94zm10 10l.94 2.06.94-2.06 2.06-.94-2.06-.94-.94-2.06-.94 2.06-2.06.94z\"/><path d=\"M17.41 7.96l-1.37-1.37c-.4-.4-.92-.59-1.43-.59-.52 0-1.04.2-1.43.59L10.3 9.45l-7.72 7.72c-.78.78-.78 2.05 0 2.83L4 21.41c.39.39.9.59 1.41.59.51 0 1.02-.2 1.41-.59l7.78-7.78 2.81-2.81c.8-.78.8-2.07 0-2.86zM5.41 20L4 18.59l7.72-7.72 1.47 1.35L5.41 20z\"/>\n",
              "  </svg>\n",
              "      </button>\n",
              "      \n",
              "  <style>\n",
              "    .colab-df-container {\n",
              "      display:flex;\n",
              "      flex-wrap:wrap;\n",
              "      gap: 12px;\n",
              "    }\n",
              "\n",
              "    .colab-df-convert {\n",
              "      background-color: #E8F0FE;\n",
              "      border: none;\n",
              "      border-radius: 50%;\n",
              "      cursor: pointer;\n",
              "      display: none;\n",
              "      fill: #1967D2;\n",
              "      height: 32px;\n",
              "      padding: 0 0 0 0;\n",
              "      width: 32px;\n",
              "    }\n",
              "\n",
              "    .colab-df-convert:hover {\n",
              "      background-color: #E2EBFA;\n",
              "      box-shadow: 0px 1px 2px rgba(60, 64, 67, 0.3), 0px 1px 3px 1px rgba(60, 64, 67, 0.15);\n",
              "      fill: #174EA6;\n",
              "    }\n",
              "\n",
              "    [theme=dark] .colab-df-convert {\n",
              "      background-color: #3B4455;\n",
              "      fill: #D2E3FC;\n",
              "    }\n",
              "\n",
              "    [theme=dark] .colab-df-convert:hover {\n",
              "      background-color: #434B5C;\n",
              "      box-shadow: 0px 1px 3px 1px rgba(0, 0, 0, 0.15);\n",
              "      filter: drop-shadow(0px 1px 2px rgba(0, 0, 0, 0.3));\n",
              "      fill: #FFFFFF;\n",
              "    }\n",
              "  </style>\n",
              "\n",
              "      <script>\n",
              "        const buttonEl =\n",
              "          document.querySelector('#df-3ae38afa-8727-4856-ac4f-bd4f1506fcd2 button.colab-df-convert');\n",
              "        buttonEl.style.display =\n",
              "          google.colab.kernel.accessAllowed ? 'block' : 'none';\n",
              "\n",
              "        async function convertToInteractive(key) {\n",
              "          const element = document.querySelector('#df-3ae38afa-8727-4856-ac4f-bd4f1506fcd2');\n",
              "          const dataTable =\n",
              "            await google.colab.kernel.invokeFunction('convertToInteractive',\n",
              "                                                     [key], {});\n",
              "          if (!dataTable) return;\n",
              "\n",
              "          const docLinkHtml = 'Like what you see? Visit the ' +\n",
              "            '<a target=\"_blank\" href=https://colab.research.google.com/notebooks/data_table.ipynb>data table notebook</a>'\n",
              "            + ' to learn more about interactive tables.';\n",
              "          element.innerHTML = '';\n",
              "          dataTable['output_type'] = 'display_data';\n",
              "          await google.colab.output.renderOutput(dataTable, element);\n",
              "          const docLink = document.createElement('div');\n",
              "          docLink.innerHTML = docLinkHtml;\n",
              "          element.appendChild(docLink);\n",
              "        }\n",
              "      </script>\n",
              "    </div>\n",
              "  </div>\n",
              "  "
            ]
          },
          "metadata": {},
          "execution_count": 6
        }
      ]
    },
    {
      "cell_type": "markdown",
      "source": [
        "## Question 1"
      ],
      "metadata": {
        "id": "Xa7LUm-41fys"
      }
    },
    {
      "cell_type": "markdown",
      "source": [
        "### Question 1.1"
      ],
      "metadata": {
        "id": "xntjDAR81oaG"
      }
    },
    {
      "cell_type": "code",
      "source": [],
      "metadata": {
        "id": "7Mo-ynSD20lh"
      },
      "execution_count": null,
      "outputs": []
    },
    {
      "cell_type": "markdown",
      "source": [
        "---\n",
        "**Answer:**\n",
        "\n",
        "\n",
        "\n",
        "--- \n",
        "<br>"
      ],
      "metadata": {
        "id": "-TXq4Wdi1oik"
      }
    },
    {
      "cell_type": "markdown",
      "source": [
        "### Question 1.2"
      ],
      "metadata": {
        "id": "shTgqad01ol5"
      }
    },
    {
      "cell_type": "code",
      "source": [],
      "metadata": {
        "id": "Cg5DYPKR23Tp"
      },
      "execution_count": null,
      "outputs": []
    },
    {
      "cell_type": "markdown",
      "source": [
        "---\n",
        "**Answer:**\n",
        "\n",
        "\n",
        "\n",
        "--- \n",
        "<br>"
      ],
      "metadata": {
        "id": "XWSNAyTZ1opc"
      }
    },
    {
      "cell_type": "markdown",
      "source": [
        "### Question 1.3"
      ],
      "metadata": {
        "id": "I6iBm8KB1ost"
      }
    },
    {
      "cell_type": "code",
      "source": [],
      "metadata": {
        "id": "6_bjC1Kj2xgf"
      },
      "execution_count": null,
      "outputs": []
    },
    {
      "cell_type": "markdown",
      "source": [
        "---\n",
        "**Answer:**\n",
        "\n",
        "\n",
        "\n",
        "--- \n",
        "<br>"
      ],
      "metadata": {
        "id": "tD08PkB01owG"
      }
    },
    {
      "cell_type": "markdown",
      "source": [
        "### Question 1.4"
      ],
      "metadata": {
        "id": "Jqow7pbN1o1k"
      }
    },
    {
      "cell_type": "code",
      "source": [],
      "metadata": {
        "id": "RxZ_MAuB2wxd"
      },
      "execution_count": null,
      "outputs": []
    },
    {
      "cell_type": "markdown",
      "source": [
        "---\n",
        "**Answer:**\n",
        "\n",
        "\n",
        "\n",
        "--- \n",
        "<br>"
      ],
      "metadata": {
        "id": "1TP5SCDO1o6E"
      }
    },
    {
      "cell_type": "markdown",
      "source": [
        "## Question 2"
      ],
      "metadata": {
        "id": "yIfs3I9A2jwy"
      }
    },
    {
      "cell_type": "markdown",
      "source": [
        "### Question 2.1"
      ],
      "metadata": {
        "id": "qFNsP9RG2qMo"
      }
    },
    {
      "cell_type": "code",
      "source": [],
      "metadata": {
        "id": "smuevUKp2m96"
      },
      "execution_count": null,
      "outputs": []
    },
    {
      "cell_type": "markdown",
      "source": [
        "---\n",
        "**Answer:**\n",
        "\n",
        "\n",
        "\n",
        "--- \n",
        "<br>"
      ],
      "metadata": {
        "id": "9KcXFBEh2s3I"
      }
    }
  ]
}