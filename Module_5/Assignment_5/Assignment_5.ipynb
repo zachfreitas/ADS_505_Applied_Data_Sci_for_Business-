{
  "nbformat": 4,
  "nbformat_minor": 0,
  "metadata": {
    "colab": {
      "provenance": [],
      "authorship_tag": "ABX9TyPEoSVOrJqXMXc8ZelpO6Yz",
      "include_colab_link": true
    },
    "kernelspec": {
      "name": "python3",
      "display_name": "Python 3"
    },
    "language_info": {
      "name": "python"
    }
  },
  "cells": [
    {
      "cell_type": "markdown",
      "metadata": {
        "id": "view-in-github",
        "colab_type": "text"
      },
      "source": [
        "<a href=\"https://colab.research.google.com/github/zachfreitas/ADS_505_Applied_Data_Sci_for_Business-/blob/main/Module_5/Assignment_5/Assignment_5.ipynb\" target=\"_parent\"><img src=\"https://colab.research.google.com/assets/colab-badge.svg\" alt=\"Open In Colab\"/></a>"
      ]
    },
    {
      "cell_type": "markdown",
      "source": [
        "# Assignment 5\n",
        "Zachariah Freitas<br>\n",
        "2022-10-04\n",
        "\n",
        "\n",
        "Your task is to construct and evaluate multiple data mining models, including k-means, logistic regression, decision trees, random forest classifiers, and bagging classifiers, to segment customers in order to understand their purchase behavior and influence brand loyalty."
      ],
      "metadata": {
        "id": "O8iPqOcYz5rD"
      }
    },
    {
      "cell_type": "markdown",
      "source": [
        "Install Libraries"
      ],
      "metadata": {
        "id": "LhKn79vY0aZe"
      }
    },
    {
      "cell_type": "code",
      "source": [
        "# Connect Colab to Google Drive for Convience.\n",
        "from google.colab import drive\n",
        "drive.mount('/content/drive')"
      ],
      "metadata": {
        "id": "mcag7ReP0ESN",
        "outputId": "51caef49-25db-42e1-e32e-ae8369b2f6f3",
        "colab": {
          "base_uri": "https://localhost:8080/"
        }
      },
      "execution_count": 1,
      "outputs": [
        {
          "output_type": "stream",
          "name": "stdout",
          "text": [
            "Mounted at /content/drive\n"
          ]
        }
      ]
    },
    {
      "cell_type": "code",
      "source": [
        "# Install Book Libraries\n",
        "!pip install dmba"
      ],
      "metadata": {
        "id": "UcvKk0DN0Nde",
        "outputId": "b46f863d-f809-4e49-ff64-2d644a3a26c1",
        "colab": {
          "base_uri": "https://localhost:8080/"
        }
      },
      "execution_count": 2,
      "outputs": [
        {
          "output_type": "stream",
          "name": "stdout",
          "text": [
            "Looking in indexes: https://pypi.org/simple, https://us-python.pkg.dev/colab-wheels/public/simple/\n",
            "Collecting dmba\n",
            "  Downloading dmba-0.1.0-py3-none-any.whl (11.8 MB)\n",
            "\u001b[K     |████████████████████████████████| 11.8 MB 2.1 MB/s \n",
            "\u001b[?25hInstalling collected packages: dmba\n",
            "Successfully installed dmba-0.1.0\n"
          ]
        }
      ]
    },
    {
      "cell_type": "code",
      "source": [
        "# Import Libraries\n",
        "\n",
        "# EDA and Preprep\n",
        "from sklearn import preprocessing\n",
        "from sklearn.model_selection import train_test_split, GridSearchCV\n",
        "import pandas as pd\n",
        "import numpy as np\n",
        "\n",
        "from scipy.spatial.distance import cosine\n",
        "from sklearn.metrics.pairwise import cosine_similarity\n",
        "\n",
        "# Classification Model Libraries\n",
        "from sklearn.linear_model import LogisticRegressionCV # lr or Logistic Regression\n",
        "from sklearn.ensemble import BaggingClassifier # bc or Bagging Classifier\n",
        "# from sklearn.ensemble import AdaBoostClassifier # abc or Ada Boost Classifier\n",
        "from sklearn.tree import DecisionTreeClassifier\n",
        "from sklearn.ensemble import RandomForestClassifier # rf or Random Forest Classifier\n",
        "# from sklearn.discriminant_analysis import LinearDiscriminantAnalysis # lda or Linear Discriminant Analysis\n",
        "# from sklearn.neural_network import MLPClassifier # nn or Neural Nets\n",
        "# from sklearn.neighbors import KNeighborsClassifier\n",
        "\n",
        "\n",
        "# Over sampling\n",
        "# !pip install imbalanced-learn\n",
        "from imblearn.over_sampling import RandomOverSampler\n",
        "\n",
        "\n",
        "from sklearn.metrics import pairwise\n",
        "from scipy.cluster.hierarchy import dendrogram, linkage, fcluster\n",
        "from sklearn.cluster import KMeans\n",
        "from yellowbrick.cluster import KElbowVisualizer\n",
        "\n",
        "\n",
        "# Book Helper Functions\n",
        "from dmba import plotDecisionTree, gainsChart, liftChart, classificationSummary, regressionSummary\n",
        "from dmba.metric import AIC_score\n",
        "# import dmba\n",
        "\n",
        "# Plotting Libraries\n",
        "import matplotlib.pylab as plt\n",
        "import seaborn as sns\n",
        "from pandas.plotting import parallel_coordinates\n",
        "\n",
        "# Inline Plot Formating\n",
        "%matplotlib inline"
      ],
      "metadata": {
        "id": "0OQB_ua50swp"
      },
      "execution_count": 189,
      "outputs": []
    },
    {
      "cell_type": "code",
      "source": [
        "# Dataset Source\n",
        "dataSource = 'https://raw.githubusercontent.com/zachfreitas/ADS_505_Applied_Data_Sci_for_Business-/main/Module_5/Assignment_5/BathSoapHousehold.csv'"
      ],
      "metadata": {
        "id": "w1AhljyG1IzZ"
      },
      "execution_count": 190,
      "outputs": []
    },
    {
      "cell_type": "code",
      "source": [
        "df = pd.read_csv(dataSource)\n",
        "df_copy = df.copy()\n",
        "\n",
        "df_copy.columns = [d.replace(' ', '_').replace('.', '') for d in df_copy.columns]\n",
        "# df_copy = df_copy.iloc[: , 2:]\n",
        "# Drop unnecessary columns\n",
        "# df_copy = df_copy.drop('TARGET_D', axis=1)\n",
        "df_copy.head()"
      ],
      "metadata": {
        "id": "cAQHOwXe1QGk",
        "outputId": "210d7a05-a8d0-4049-bcf3-ccdc3e0c80d9",
        "colab": {
          "base_uri": "https://localhost:8080/",
          "height": 236
        }
      },
      "execution_count": 191,
      "outputs": [
        {
          "output_type": "execute_result",
          "data": {
            "text/plain": [
              "   Member_id  SEC  FEH  MT  SEX  AGE  EDU  HS  CHILD  CS  ...  PropCat_6  \\\n",
              "0    1010010    4    3  10    1    4    4   2      4   1  ...      0.000   \n",
              "1    1010020    3    2  10    2    2    4   4      2   1  ...      0.347   \n",
              "2    1014020    2    3  10    2    4    5   6      4   1  ...      0.121   \n",
              "3    1014030    4    0   0    0    4    0   0      5   0  ...      0.000   \n",
              "4    1014190    4    1  10    2    3    4   4      3   1  ...      0.000   \n",
              "\n",
              "   PropCat_7  PropCat_8  PropCat_9  PropCat_10  PropCat_11  PropCat_12  \\\n",
              "0      0.000      0.000      0.000         0.0       0.000       0.028   \n",
              "1      0.027      0.016      0.014         0.0       0.059       0.000   \n",
              "2      0.034      0.011      0.009         0.0       0.000       0.016   \n",
              "3      0.000      0.000      0.000         0.0       0.000       0.000   \n",
              "4      0.000      0.048      0.000         0.0       0.000       0.000   \n",
              "\n",
              "   PropCat_13  PropCat_14  PropCat_15  \n",
              "0         0.0       0.131       0.340  \n",
              "1         0.0       0.081       0.000  \n",
              "2         0.0       0.562       0.003  \n",
              "3         0.0       0.600       0.000  \n",
              "4         0.0       0.145       0.000  \n",
              "\n",
              "[5 rows x 46 columns]"
            ],
            "text/html": [
              "\n",
              "  <div id=\"df-0de91552-6825-401f-b82e-67fc33baa3ce\">\n",
              "    <div class=\"colab-df-container\">\n",
              "      <div>\n",
              "<style scoped>\n",
              "    .dataframe tbody tr th:only-of-type {\n",
              "        vertical-align: middle;\n",
              "    }\n",
              "\n",
              "    .dataframe tbody tr th {\n",
              "        vertical-align: top;\n",
              "    }\n",
              "\n",
              "    .dataframe thead th {\n",
              "        text-align: right;\n",
              "    }\n",
              "</style>\n",
              "<table border=\"1\" class=\"dataframe\">\n",
              "  <thead>\n",
              "    <tr style=\"text-align: right;\">\n",
              "      <th></th>\n",
              "      <th>Member_id</th>\n",
              "      <th>SEC</th>\n",
              "      <th>FEH</th>\n",
              "      <th>MT</th>\n",
              "      <th>SEX</th>\n",
              "      <th>AGE</th>\n",
              "      <th>EDU</th>\n",
              "      <th>HS</th>\n",
              "      <th>CHILD</th>\n",
              "      <th>CS</th>\n",
              "      <th>...</th>\n",
              "      <th>PropCat_6</th>\n",
              "      <th>PropCat_7</th>\n",
              "      <th>PropCat_8</th>\n",
              "      <th>PropCat_9</th>\n",
              "      <th>PropCat_10</th>\n",
              "      <th>PropCat_11</th>\n",
              "      <th>PropCat_12</th>\n",
              "      <th>PropCat_13</th>\n",
              "      <th>PropCat_14</th>\n",
              "      <th>PropCat_15</th>\n",
              "    </tr>\n",
              "  </thead>\n",
              "  <tbody>\n",
              "    <tr>\n",
              "      <th>0</th>\n",
              "      <td>1010010</td>\n",
              "      <td>4</td>\n",
              "      <td>3</td>\n",
              "      <td>10</td>\n",
              "      <td>1</td>\n",
              "      <td>4</td>\n",
              "      <td>4</td>\n",
              "      <td>2</td>\n",
              "      <td>4</td>\n",
              "      <td>1</td>\n",
              "      <td>...</td>\n",
              "      <td>0.000</td>\n",
              "      <td>0.000</td>\n",
              "      <td>0.000</td>\n",
              "      <td>0.000</td>\n",
              "      <td>0.0</td>\n",
              "      <td>0.000</td>\n",
              "      <td>0.028</td>\n",
              "      <td>0.0</td>\n",
              "      <td>0.131</td>\n",
              "      <td>0.340</td>\n",
              "    </tr>\n",
              "    <tr>\n",
              "      <th>1</th>\n",
              "      <td>1010020</td>\n",
              "      <td>3</td>\n",
              "      <td>2</td>\n",
              "      <td>10</td>\n",
              "      <td>2</td>\n",
              "      <td>2</td>\n",
              "      <td>4</td>\n",
              "      <td>4</td>\n",
              "      <td>2</td>\n",
              "      <td>1</td>\n",
              "      <td>...</td>\n",
              "      <td>0.347</td>\n",
              "      <td>0.027</td>\n",
              "      <td>0.016</td>\n",
              "      <td>0.014</td>\n",
              "      <td>0.0</td>\n",
              "      <td>0.059</td>\n",
              "      <td>0.000</td>\n",
              "      <td>0.0</td>\n",
              "      <td>0.081</td>\n",
              "      <td>0.000</td>\n",
              "    </tr>\n",
              "    <tr>\n",
              "      <th>2</th>\n",
              "      <td>1014020</td>\n",
              "      <td>2</td>\n",
              "      <td>3</td>\n",
              "      <td>10</td>\n",
              "      <td>2</td>\n",
              "      <td>4</td>\n",
              "      <td>5</td>\n",
              "      <td>6</td>\n",
              "      <td>4</td>\n",
              "      <td>1</td>\n",
              "      <td>...</td>\n",
              "      <td>0.121</td>\n",
              "      <td>0.034</td>\n",
              "      <td>0.011</td>\n",
              "      <td>0.009</td>\n",
              "      <td>0.0</td>\n",
              "      <td>0.000</td>\n",
              "      <td>0.016</td>\n",
              "      <td>0.0</td>\n",
              "      <td>0.562</td>\n",
              "      <td>0.003</td>\n",
              "    </tr>\n",
              "    <tr>\n",
              "      <th>3</th>\n",
              "      <td>1014030</td>\n",
              "      <td>4</td>\n",
              "      <td>0</td>\n",
              "      <td>0</td>\n",
              "      <td>0</td>\n",
              "      <td>4</td>\n",
              "      <td>0</td>\n",
              "      <td>0</td>\n",
              "      <td>5</td>\n",
              "      <td>0</td>\n",
              "      <td>...</td>\n",
              "      <td>0.000</td>\n",
              "      <td>0.000</td>\n",
              "      <td>0.000</td>\n",
              "      <td>0.000</td>\n",
              "      <td>0.0</td>\n",
              "      <td>0.000</td>\n",
              "      <td>0.000</td>\n",
              "      <td>0.0</td>\n",
              "      <td>0.600</td>\n",
              "      <td>0.000</td>\n",
              "    </tr>\n",
              "    <tr>\n",
              "      <th>4</th>\n",
              "      <td>1014190</td>\n",
              "      <td>4</td>\n",
              "      <td>1</td>\n",
              "      <td>10</td>\n",
              "      <td>2</td>\n",
              "      <td>3</td>\n",
              "      <td>4</td>\n",
              "      <td>4</td>\n",
              "      <td>3</td>\n",
              "      <td>1</td>\n",
              "      <td>...</td>\n",
              "      <td>0.000</td>\n",
              "      <td>0.000</td>\n",
              "      <td>0.048</td>\n",
              "      <td>0.000</td>\n",
              "      <td>0.0</td>\n",
              "      <td>0.000</td>\n",
              "      <td>0.000</td>\n",
              "      <td>0.0</td>\n",
              "      <td>0.145</td>\n",
              "      <td>0.000</td>\n",
              "    </tr>\n",
              "  </tbody>\n",
              "</table>\n",
              "<p>5 rows × 46 columns</p>\n",
              "</div>\n",
              "      <button class=\"colab-df-convert\" onclick=\"convertToInteractive('df-0de91552-6825-401f-b82e-67fc33baa3ce')\"\n",
              "              title=\"Convert this dataframe to an interactive table.\"\n",
              "              style=\"display:none;\">\n",
              "        \n",
              "  <svg xmlns=\"http://www.w3.org/2000/svg\" height=\"24px\"viewBox=\"0 0 24 24\"\n",
              "       width=\"24px\">\n",
              "    <path d=\"M0 0h24v24H0V0z\" fill=\"none\"/>\n",
              "    <path d=\"M18.56 5.44l.94 2.06.94-2.06 2.06-.94-2.06-.94-.94-2.06-.94 2.06-2.06.94zm-11 1L8.5 8.5l.94-2.06 2.06-.94-2.06-.94L8.5 2.5l-.94 2.06-2.06.94zm10 10l.94 2.06.94-2.06 2.06-.94-2.06-.94-.94-2.06-.94 2.06-2.06.94z\"/><path d=\"M17.41 7.96l-1.37-1.37c-.4-.4-.92-.59-1.43-.59-.52 0-1.04.2-1.43.59L10.3 9.45l-7.72 7.72c-.78.78-.78 2.05 0 2.83L4 21.41c.39.39.9.59 1.41.59.51 0 1.02-.2 1.41-.59l7.78-7.78 2.81-2.81c.8-.78.8-2.07 0-2.86zM5.41 20L4 18.59l7.72-7.72 1.47 1.35L5.41 20z\"/>\n",
              "  </svg>\n",
              "      </button>\n",
              "      \n",
              "  <style>\n",
              "    .colab-df-container {\n",
              "      display:flex;\n",
              "      flex-wrap:wrap;\n",
              "      gap: 12px;\n",
              "    }\n",
              "\n",
              "    .colab-df-convert {\n",
              "      background-color: #E8F0FE;\n",
              "      border: none;\n",
              "      border-radius: 50%;\n",
              "      cursor: pointer;\n",
              "      display: none;\n",
              "      fill: #1967D2;\n",
              "      height: 32px;\n",
              "      padding: 0 0 0 0;\n",
              "      width: 32px;\n",
              "    }\n",
              "\n",
              "    .colab-df-convert:hover {\n",
              "      background-color: #E2EBFA;\n",
              "      box-shadow: 0px 1px 2px rgba(60, 64, 67, 0.3), 0px 1px 3px 1px rgba(60, 64, 67, 0.15);\n",
              "      fill: #174EA6;\n",
              "    }\n",
              "\n",
              "    [theme=dark] .colab-df-convert {\n",
              "      background-color: #3B4455;\n",
              "      fill: #D2E3FC;\n",
              "    }\n",
              "\n",
              "    [theme=dark] .colab-df-convert:hover {\n",
              "      background-color: #434B5C;\n",
              "      box-shadow: 0px 1px 3px 1px rgba(0, 0, 0, 0.15);\n",
              "      filter: drop-shadow(0px 1px 2px rgba(0, 0, 0, 0.3));\n",
              "      fill: #FFFFFF;\n",
              "    }\n",
              "  </style>\n",
              "\n",
              "      <script>\n",
              "        const buttonEl =\n",
              "          document.querySelector('#df-0de91552-6825-401f-b82e-67fc33baa3ce button.colab-df-convert');\n",
              "        buttonEl.style.display =\n",
              "          google.colab.kernel.accessAllowed ? 'block' : 'none';\n",
              "\n",
              "        async function convertToInteractive(key) {\n",
              "          const element = document.querySelector('#df-0de91552-6825-401f-b82e-67fc33baa3ce');\n",
              "          const dataTable =\n",
              "            await google.colab.kernel.invokeFunction('convertToInteractive',\n",
              "                                                     [key], {});\n",
              "          if (!dataTable) return;\n",
              "\n",
              "          const docLinkHtml = 'Like what you see? Visit the ' +\n",
              "            '<a target=\"_blank\" href=https://colab.research.google.com/notebooks/data_table.ipynb>data table notebook</a>'\n",
              "            + ' to learn more about interactive tables.';\n",
              "          element.innerHTML = '';\n",
              "          dataTable['output_type'] = 'display_data';\n",
              "          await google.colab.output.renderOutput(dataTable, element);\n",
              "          const docLink = document.createElement('div');\n",
              "          docLink.innerHTML = docLinkHtml;\n",
              "          element.appendChild(docLink);\n",
              "        }\n",
              "      </script>\n",
              "    </div>\n",
              "  </div>\n",
              "  "
            ]
          },
          "metadata": {},
          "execution_count": 191
        }
      ]
    },
    {
      "cell_type": "code",
      "source": [
        "# Demographics that we want to ignore\n",
        "Demographics = ['SEC', 'FEH' , 'MT', 'SEX', 'AGE', 'EDU', 'HS', 'CHILD', 'CS', 'Affluence_Index']"
      ],
      "metadata": {
        "id": "cgquIJaYmBG5"
      },
      "execution_count": 192,
      "outputs": []
    },
    {
      "cell_type": "markdown",
      "source": [
        "## Question 1\n",
        "Use k-means clustering to identify clusters of households based on:\n"
      ],
      "metadata": {
        "id": "Xa7LUm-41fys"
      }
    },
    {
      "cell_type": "markdown",
      "source": [
        "### Question 1.1\n",
        "The variables that describe purchase behavior (including brand loyalty) (10 points)\n"
      ],
      "metadata": {
        "id": "xntjDAR81oaG"
      }
    },
    {
      "cell_type": "code",
      "source": [
        "# Purchase behavior (volume, frequency, susceptibility to discounts, and brand loyalty)\n",
        "Purchase_behavior = ['No_of_Brands', 'Brand_Runs', 'Total_Volume', 'No_of__Trans', 'Value',\n",
        "                     'Trans_/_Brand_Runs', 'Vol/Tran', 'Avg_Price_', 'Pur_Vol_No_Promo_-_%',\n",
        "                     'Pur_Vol_Promo_6_%', 'Pur_Vol_Other_Promo_%', 'Br_Cd_57,_144',\n",
        "                     'Br_Cd_55', 'Br_Cd_272', 'Br_Cd_286', 'Br_Cd_24', 'Br_Cd_481',\n",
        "                     'Br_Cd_352', 'Br_Cd_5', 'Others_999'] \n",
        "\n",
        "#\n",
        "# Instantiate the clustering model and visualizer\n",
        "#\n",
        "km = KMeans(random_state=0)\n",
        "visualizer = KElbowVisualizer(km, k=(1,7), timings=False)\n",
        " \n",
        "visualizer.fit(df_copy[Purchase_behavior])        # Fit the data to the visualizer\n",
        "visualizer.show()        # Finalize and render the figure\n"
      ],
      "metadata": {
        "colab": {
          "base_uri": "https://localhost:8080/",
          "height": 311
        },
        "id": "J3ZK_1umJdot",
        "outputId": "8f1d3765-a1d2-4cd4-f496-406a028bc4d7"
      },
      "execution_count": 193,
      "outputs": [
        {
          "output_type": "display_data",
          "data": {
            "text/plain": [
              "<Figure size 432x288 with 1 Axes>"
            ],
            "image/png": "[encoded data removed]"
          },
          "metadata": {
            "needs_background": "light"
          }
        },
        {
          "output_type": "execute_result",
          "data": {
            "text/plain": [
              "<matplotlib.axes._subplots.AxesSubplot at 0x7f371b390e50>"
            ]
          },
          "metadata": {},
          "execution_count": 193
        }
      ]
    },
    {
      "cell_type": "code",
      "source": [
        "# Capture data for future analysis\n",
        "kmeans = KMeans(n_clusters=2, random_state=0).fit(df_copy[Purchase_behavior])\n",
        "\n",
        "# Add labels to dataset\n",
        "df_copy['Purchase_behavior_labels'] = kmeans.labels_"
      ],
      "metadata": {
        "id": "Mf6GzowlnIbJ"
      },
      "execution_count": 194,
      "outputs": []
    },
    {
      "cell_type": "markdown",
      "source": [
        "---\n",
        "**Answer:**\n",
        "\n",
        "The above kmeans cluster exercise on the purchase behavior variables that I’ve selected suggest that there are two main clusters. The variables I’ve selected as purchase behavior variables are listed as follows: 'No_of_Brands', 'Brand_Runs', 'Total_Volume', 'No_of__Trans', 'Value',  'Trans_/_Brand_Runs', 'Vol/Tran', 'Avg_Price_', 'Pur_Vol_No_Promo_-_%',  'Pur_Vol_Promo_6_%', 'Pur_Vol_Other_Promo_%', 'Br_Cd_57,_144', 'Br_Cd_55', 'Br_Cd_272', 'Br_Cd_286', 'Br_Cd_24', 'Br_Cd_481', 'Br_Cd_352', 'Br_Cd_5', 'Others_999'.\n",
        "\n",
        "--- \n",
        "<br>"
      ],
      "metadata": {
        "id": "-TXq4Wdi1oik"
      }
    },
    {
      "cell_type": "markdown",
      "source": [
        "### Question 1.2\n",
        "The variables that describe the basis for purchase (10 points)"
      ],
      "metadata": {
        "id": "shTgqad01ol5"
      }
    },
    {
      "cell_type": "code",
      "source": [
        "# Basis of purchase (price, selling proposition)\n",
        "Basis_of_purchase = ['Pr_Cat_1', 'Pr_Cat_2', 'Pr_Cat_3', 'Pr_Cat_4', \n",
        "                       'PropCat_5', 'PropCat_6', 'PropCat_7','PropCat_8',\n",
        "                       'PropCat_9', 'PropCat_10', 'PropCat_11', 'PropCat_12',\n",
        "                       'PropCat_13','PropCat_14','PropCat_15']  \n",
        "#\n",
        "# Instantiate the clustering model and visualizer\n",
        "#\n",
        "km = KMeans(random_state=0)\n",
        "visualizer = KElbowVisualizer(km, k=(1,7), timings=False)\n",
        " \n",
        "visualizer.fit(df_copy[Basis_of_purchase])        # Fit the data to the visualizer\n",
        "visualizer.show()        # Finalize and render the figure"
      ],
      "metadata": {
        "colab": {
          "base_uri": "https://localhost:8080/",
          "height": 311
        },
        "id": "oqbywHlcFYd6",
        "outputId": "f9cb5147-b7d1-4e23-9482-6ab73d016e03"
      },
      "execution_count": 195,
      "outputs": [
        {
          "output_type": "display_data",
          "data": {
            "text/plain": [
              "<Figure size 432x288 with 1 Axes>"
            ],
            "image/png": "[encoded data removed]"
          },
          "metadata": {
            "needs_background": "light"
          }
        },
        {
          "output_type": "execute_result",
          "data": {
            "text/plain": [
              "<matplotlib.axes._subplots.AxesSubplot at 0x7f370e389910>"
            ]
          },
          "metadata": {},
          "execution_count": 195
        }
      ]
    },
    {
      "cell_type": "code",
      "source": [
        "# Capture data for future analysis\n",
        "kmeans = KMeans(n_clusters=3, random_state=0).fit(df_copy[Basis_of_purchase])\n",
        "\n",
        "# Add labels to dataset\n",
        "df_copy['Basis_of_Purchase_labels'] = kmeans.labels_"
      ],
      "metadata": {
        "id": "27lrlPI2oEm7"
      },
      "execution_count": 196,
      "outputs": []
    },
    {
      "cell_type": "markdown",
      "source": [
        "---\n",
        "**Answer:**\n",
        "\n",
        "The above kmeans cluster exercise on the basis of purchase behavior variables that I’ve selected, suggest that there are three main clusters. The variables I’ve selected as the basis of purchase behavior variables are listed as follows: 'Pr_Cat_1', 'Pr_Cat_2', 'Pr_Cat_3', 'Pr_Cat_4', 'PropCat_5', 'PropCat_6', 'PropCat_7','PropCat_8', 'PropCat_9', 'PropCat_10', 'PropCat_11', 'PropCat_12', 'PropCat_13','PropCat_14','PropCat_15'.\n",
        "\n",
        "\n",
        "--- \n",
        "<br>"
      ],
      "metadata": {
        "id": "XWSNAyTZ1opc"
      }
    },
    {
      "cell_type": "markdown",
      "source": [
        "### Question 1.3\n",
        "The variables that describe both purchase behavior and basis of purchase\n",
        "(14 points)\n",
        "\n",
        "**Note 1:** How should k be chosen? Think about how the clusters would be used. It is likely that the marketing efforts would support two to five different promotional approaches.\n",
        "\n",
        "**Note 2:** How should the percentages of total purchases by various brands be treated? Isn’t a customer who buys all brand A just as loyal as a customer who buys all brand B? What will be the effect on any distance measure of using the brand share variables as is? Consider using a single derived variable.\n"
      ],
      "metadata": {
        "id": "I6iBm8KB1ost"
      }
    },
    {
      "cell_type": "code",
      "source": [
        "# Instantiate the clustering model and visualizer\n",
        "#\n",
        "km = KMeans(random_state=0)\n",
        "visualizer = KElbowVisualizer(km, k=(1,7), timings=False)\n",
        " \n",
        "visualizer.fit(df_copy[Purchase_behavior + Basis_of_purchase])        # Fit the data to the visualizer\n",
        "visualizer.show()        # Finalize and render the figure"
      ],
      "metadata": {
        "id": "6_bjC1Kj2xgf",
        "colab": {
          "base_uri": "https://localhost:8080/",
          "height": 311
        },
        "outputId": "5f77b041-88a3-44a9-8ef3-6429424e01d3"
      },
      "execution_count": 197,
      "outputs": [
        {
          "output_type": "display_data",
          "data": {
            "text/plain": [
              "<Figure size 432x288 with 1 Axes>"
            ],
            "image/png": "[encoded data removed]"
          },
          "metadata": {
            "needs_background": "light"
          }
        },
        {
          "output_type": "execute_result",
          "data": {
            "text/plain": [
              "<matplotlib.axes._subplots.AxesSubplot at 0x7f370e2da950>"
            ]
          },
          "metadata": {},
          "execution_count": 197
        }
      ]
    },
    {
      "cell_type": "code",
      "source": [
        "# Capture data for future analysis\n",
        "kmeans = KMeans(n_clusters=2, random_state=0).fit(df_copy[Purchase_behavior + Basis_of_purchase])\n",
        "\n",
        "# Add labels to dataset\n",
        "df_copy['Basis_and_purchase_behavior_labels'] = kmeans.labels_"
      ],
      "metadata": {
        "id": "pvB-UV46oa81"
      },
      "execution_count": 198,
      "outputs": []
    },
    {
      "cell_type": "markdown",
      "source": [
        "Try consolidateing 9 brand loyalty measure to one."
      ],
      "metadata": {
        "id": "oxSYpWKWocD1"
      }
    },
    {
      "cell_type": "code",
      "source": [
        "# Create a variable that combines individual loyalty to one brand to overall loyalty to any brand.\n",
        "df_copy['max_br'] = df_copy[['Br_Cd_57,_144','Br_Cd_55', 'Br_Cd_272', 'Br_Cd_286', 'Br_Cd_24', 'Br_Cd_481','Br_Cd_352', 'Br_Cd_5', 'Others_999']].max(axis=1)\n",
        "\n",
        "Purchase_behavior_max = ['No_of_Brands', 'Brand_Runs', 'Total_Volume', 'No_of__Trans', 'Value',\n",
        "                         'Trans_/_Brand_Runs', 'Vol/Tran', 'Avg_Price_', 'Pur_Vol_No_Promo_-_%',\n",
        "                         'Pur_Vol_Promo_6_%', 'Pur_Vol_Other_Promo_%', 'max_br'] \n",
        "#\n",
        "# Instantiate the clustering model and visualizer\n",
        "#\n",
        "km = KMeans(random_state=0)\n",
        "visualizer = KElbowVisualizer(km, k=(1,7), timings=False)\n",
        "\n",
        "\n",
        "x = df_copy[Purchase_behavior_max ]\n",
        " \n",
        "visualizer.fit(df_copy[Purchase_behavior_max + Basis_of_purchase])         # Fit the data to the visualizer\n",
        "visualizer.show()        # Finalize and render the figure"
      ],
      "metadata": {
        "colab": {
          "base_uri": "https://localhost:8080/",
          "height": 311
        },
        "id": "5ghvyQqHR42L",
        "outputId": "adf0fd98-f85c-4f6e-df55-8a29f176c56c"
      },
      "execution_count": 199,
      "outputs": [
        {
          "output_type": "display_data",
          "data": {
            "text/plain": [
              "<Figure size 432x288 with 1 Axes>"
            ],
            "image/png": "[encoded data removed]"
          },
          "metadata": {
            "needs_background": "light"
          }
        },
        {
          "output_type": "execute_result",
          "data": {
            "text/plain": [
              "<matplotlib.axes._subplots.AxesSubplot at 0x7f370e27f090>"
            ]
          },
          "metadata": {},
          "execution_count": 199
        }
      ]
    },
    {
      "cell_type": "markdown",
      "source": [
        "---\n",
        "**Answer:**\n",
        "\n",
        "When I run the kmeans exercise on both purchase behavior and basis of purchase variables I get two clusters. K selection is done using the elbow method. This method calculates the sum of squared distances between each observation and its closest centroid. This is also know as the distortion. The bend in the distortion curve is known as an elbow and suggest that we are not getting much more incremental improvement for an additional cluster group.\n",
        "\n",
        "Looking at brand loyalty by each product, we could decide to just look at loyalty to any product. We could create a new variable that consolidates the nine brand loyalty variables by just taking the max of the first eight variables. A value that is higher suggest that the customer is more brand loyal. When I create this variable and rerun our cluster analysis I still only find two main clusters. So I’m not sure this variable adds much value to our analysis.\n",
        "\n",
        "--- \n",
        "<br>"
      ],
      "metadata": {
        "id": "tD08PkB01owG"
      }
    },
    {
      "cell_type": "markdown",
      "source": [
        "## Question 2\n",
        "Select what you think is the best segmentation and comment on the characteristics (demographic, brand loyalty, and basis for purchase) of these clusters. (This information would be used to guide the development of advertising and promotional campaigns.)(14 points)\n"
      ],
      "metadata": {
        "id": "Jqow7pbN1o1k"
      }
    },
    {
      "cell_type": "code",
      "source": [
        "# Cluster Comparison by Demographic Variables\n",
        "\n",
        "bygroup_treatment = df_copy.groupby(['Purchase_behavior_labels'])\n",
        "print('\\nPurchase Behavior Clusters by Demographic Variables:\\n')\n",
        "print(bygroup_treatment[Demographics].agg([np.mean]).T)\n",
        "\n",
        "bygroup_treatment = df_copy.groupby(['Basis_of_Purchase_labels'])\n",
        "print('\\nBasis of Purchase Clusters by Demographic Variables:\\n')\n",
        "print(bygroup_treatment[Demographics].agg([np.mean]).T)\n",
        "\n",
        "bygroup_treatment = df_copy.groupby(['Basis_and_purchase_behavior_labels'])\n",
        "print('\\nPurchase Behavior and Basis of Purchase Clusters by Demographic Variables:\\n')\n",
        "print(bygroup_treatment[Demographics].agg([np.mean]).T)"
      ],
      "metadata": {
        "id": "Gaof_U4ydCt0",
        "outputId": "64fc25cd-cca5-4c9d-f7e9-b3be83985570",
        "colab": {
          "base_uri": "https://localhost:8080/"
        }
      },
      "execution_count": 200,
      "outputs": [
        {
          "output_type": "stream",
          "name": "stdout",
          "text": [
            "\n",
            "Purchase Behavior Clusters by Demographic Variables:\n",
            "\n",
            "Purchase_behavior_labels       0       1\n",
            "SEC             mean       2.382   2.875\n",
            "FEH             mean       1.884   2.569\n",
            "MT              mean       7.689   9.729\n",
            "SEX             mean       1.675   1.938\n",
            "AGE             mean       3.167   3.361\n",
            "EDU             mean       4.094   3.882\n",
            "HS              mean       3.662   5.868\n",
            "CHILD           mean       3.336   2.910\n",
            "CS              mean       0.901   1.028\n",
            "Affluence_Index mean      16.732  17.931\n",
            "\n",
            "Basis of Purchase Clusters by Demographic Variables:\n",
            "\n",
            "Basis_of_Purchase_labels       0      1       2\n",
            "SEC             mean       1.829  3.329   2.587\n",
            "FEH             mean       1.822  2.127   2.120\n",
            "MT              mean       7.479  7.975   8.493\n",
            "SEX             mean       1.651  1.582   1.805\n",
            "AGE             mean       3.301  3.051   3.213\n",
            "EDU             mean       4.534  2.532   4.171\n",
            "HS              mean       3.699  4.241   4.373\n",
            "CHILD           mean       3.336  3.456   3.147\n",
            "CS              mean       0.856  0.911   0.965\n",
            "Affluence_Index mean      21.007  9.190  17.117\n",
            "\n",
            "Purchase Behavior and Basis of Purchase Clusters by Demographic Variables:\n",
            "\n",
            "Basis_and_purchase_behavior_labels       0       1\n",
            "SEC             mean                 2.382   2.875\n",
            "FEH             mean                 1.884   2.569\n",
            "MT              mean                 7.689   9.729\n",
            "SEX             mean                 1.675   1.938\n",
            "AGE             mean                 3.167   3.361\n",
            "EDU             mean                 4.094   3.882\n",
            "HS              mean                 3.662   5.868\n",
            "CHILD           mean                 3.336   2.910\n",
            "CS              mean                 0.901   1.028\n",
            "Affluence_Index mean                16.732  17.931\n"
          ]
        }
      ]
    },
    {
      "cell_type": "code",
      "source": [
        "# Cluster Comparison by Purchase Behavior Variables\n",
        "\n",
        "bygroup_treatment = df_copy.groupby(['Purchase_behavior_labels'])\n",
        "print('\\nPurchase Behavior Clusters by  Purchase Behavior Variables:\\n')\n",
        "print(bygroup_treatment[Purchase_behavior].agg([np.mean]).T)\n",
        "\n",
        "bygroup_treatment = df_copy.groupby(['Basis_of_Purchase_labels'])\n",
        "print('\\nBasis of Purchase Clusters by  Purchase Behavior Variables:\\n')\n",
        "print(bygroup_treatment[Purchase_behavior].agg([np.mean]).T)\n",
        "\n",
        "bygroup_treatment = df_copy.groupby(['Basis_and_purchase_behavior_labels'])\n",
        "print('\\nPurchase Behavior and Basis of Purchase Clusters by Purchase Behavior Variables:\\n')\n",
        "print(bygroup_treatment[Purchase_behavior].agg([np.mean]).T)"
      ],
      "metadata": {
        "id": "zp9L1b3Hp0gN",
        "outputId": "2fcedb0e-8f76-4a27-8f78-7b2b1511d96c",
        "colab": {
          "base_uri": "https://localhost:8080/"
        }
      },
      "execution_count": 201,
      "outputs": [
        {
          "output_type": "stream",
          "name": "stdout",
          "text": [
            "\n",
            "Purchase Behavior Clusters by  Purchase Behavior Variables:\n",
            "\n",
            "Purchase_behavior_labels           0          1\n",
            "No_of_Brands          mean     3.518      4.014\n",
            "Brand_Runs            mean    14.746     18.938\n",
            "Total_Volume          mean  8504.105  22715.208\n",
            "No_of__Trans          mean    27.612     42.368\n",
            "Value                 mean  1014.261   2360.616\n",
            "Trans_/_Brand_Runs    mean     2.393      3.329\n",
            "Vol/Tran              mean   344.543    638.327\n",
            "Avg_Price_            mean    12.292     10.385\n",
            "Pur_Vol_No_Promo_-_%  mean     0.908      0.930\n",
            "Pur_Vol_Promo_6_%     mean     0.058      0.039\n",
            "Pur_Vol_Other_Promo_% mean     0.034      0.031\n",
            "Br_Cd_57,_144         mean     0.193      0.154\n",
            "Br_Cd_55              mean     0.108      0.199\n",
            "Br_Cd_272             mean     0.038      0.018\n",
            "Br_Cd_286             mean     0.034      0.033\n",
            "Br_Cd_24              mean     0.022      0.010\n",
            "Br_Cd_481             mean     0.026      0.027\n",
            "Br_Cd_352             mean     0.036      0.030\n",
            "Br_Cd_5               mean     0.019      0.017\n",
            "Others_999            mean     0.525      0.512\n",
            "\n",
            "Basis of Purchase Clusters by  Purchase Behavior Variables:\n",
            "\n",
            "Basis_of_Purchase_labels           0          1          2\n",
            "No_of_Brands          mean     3.555      3.025      3.797\n",
            "Brand_Runs            mean    18.240      8.975     16.211\n",
            "Total_Volume          mean  9239.795  13443.544  12634.165\n",
            "No_of__Trans          mean    33.500     25.975     31.331\n",
            "Value                 mean  1454.133    942.173   1375.191\n",
            "Trans_/_Brand_Runs    mean     2.177      4.971      2.294\n",
            "Vol/Tran              mean   293.312    533.267    437.544\n",
            "Avg_Price_            mean    16.266      7.087     11.110\n",
            "Pur_Vol_No_Promo_-_%  mean     0.903      0.936      0.912\n",
            "Pur_Vol_Promo_6_%     mean     0.061      0.018      0.058\n",
            "Pur_Vol_Other_Promo_% mean     0.036      0.046      0.030\n",
            "Br_Cd_57,_144         mean     0.118      0.053      0.237\n",
            "Br_Cd_55              mean     0.013      0.739      0.046\n",
            "Br_Cd_272             mean     0.032      0.007      0.039\n",
            "Br_Cd_286             mean     0.011      0.006      0.049\n",
            "Br_Cd_24              mean     0.063      0.003      0.006\n",
            "Br_Cd_481             mean     0.015      0.007      0.034\n",
            "Br_Cd_352             mean     0.018      0.002      0.047\n",
            "Br_Cd_5               mean     0.043      0.010      0.010\n",
            "Others_999            mean     0.688      0.173      0.531\n",
            "\n",
            "Purchase Behavior and Basis of Purchase Clusters by Purchase Behavior Variables:\n",
            "\n",
            "Basis_and_purchase_behavior_labels         0          1\n",
            "No_of_Brands          mean             3.518      4.014\n",
            "Brand_Runs            mean            14.746     18.938\n",
            "Total_Volume          mean          8504.105  22715.208\n",
            "No_of__Trans          mean            27.612     42.368\n",
            "Value                 mean          1014.261   2360.616\n",
            "Trans_/_Brand_Runs    mean             2.393      3.329\n",
            "Vol/Tran              mean           344.543    638.327\n",
            "Avg_Price_            mean            12.292     10.385\n",
            "Pur_Vol_No_Promo_-_%  mean             0.908      0.930\n",
            "Pur_Vol_Promo_6_%     mean             0.058      0.039\n",
            "Pur_Vol_Other_Promo_% mean             0.034      0.031\n",
            "Br_Cd_57,_144         mean             0.193      0.154\n",
            "Br_Cd_55              mean             0.108      0.199\n",
            "Br_Cd_272             mean             0.038      0.018\n",
            "Br_Cd_286             mean             0.034      0.033\n",
            "Br_Cd_24              mean             0.022      0.010\n",
            "Br_Cd_481             mean             0.026      0.027\n",
            "Br_Cd_352             mean             0.036      0.030\n",
            "Br_Cd_5               mean             0.019      0.017\n",
            "Others_999            mean             0.525      0.512\n"
          ]
        }
      ]
    },
    {
      "cell_type": "code",
      "source": [
        "# Cluster Comparison by Basis of Purchase Variables\n",
        "\n",
        "bygroup_treatment = df_copy.groupby(['Purchase_behavior_labels'])\n",
        "print('\\nPurchase Behavior Clusters by  Purchase Behavior Variables:\\n')\n",
        "print(bygroup_treatment[Basis_of_purchase].agg([np.mean]).T)\n",
        "\n",
        "bygroup_treatment = df_copy.groupby(['Basis_of_Purchase_labels'])\n",
        "print('\\nBasis of Purchase Clusters by  Purchase Behavior Variables:\\n')\n",
        "print(bygroup_treatment[Basis_of_purchase].agg([np.mean]).T)\n",
        "\n",
        "bygroup_treatment = df_copy.groupby(['Basis_and_purchase_behavior_labels'])\n",
        "print('\\nPurchase Behavior and Basis of Purchase Clusters by Purchase Behavior Variables:\\n')\n",
        "print(bygroup_treatment[Basis_of_purchase].agg([np.mean]).T)"
      ],
      "metadata": {
        "id": "VOHoq6YdswB1",
        "outputId": "7f40c4b1-756b-4472-ef62-02de53c5b03c",
        "colab": {
          "base_uri": "https://localhost:8080/"
        }
      },
      "execution_count": 202,
      "outputs": [
        {
          "output_type": "stream",
          "name": "stdout",
          "text": [
            "\n",
            "Purchase Behavior Clusters by  Purchase Behavior Variables:\n",
            "\n",
            "Purchase_behavior_labels      0      1\n",
            "Pr_Cat_1   mean           0.306  0.194\n",
            "Pr_Cat_2   mean           0.496  0.483\n",
            "Pr_Cat_3   mean           0.117  0.210\n",
            "Pr_Cat_4   mean           0.081  0.113\n",
            "PropCat_5  mean           0.460  0.449\n",
            "PropCat_6  mean           0.090  0.098\n",
            "PropCat_7  mean           0.099  0.090\n",
            "PropCat_8  mean           0.092  0.043\n",
            "PropCat_9  mean           0.030  0.035\n",
            "PropCat_10 mean           0.024  0.008\n",
            "PropCat_11 mean           0.030  0.027\n",
            "PropCat_12 mean           0.007  0.005\n",
            "PropCat_13 mean           0.029  0.013\n",
            "PropCat_14 mean           0.114  0.206\n",
            "PropCat_15 mean           0.025  0.026\n",
            "\n",
            "Basis of Purchase Clusters by  Purchase Behavior Variables:\n",
            "\n",
            "Basis_of_Purchase_labels      0          1      2\n",
            "Pr_Cat_1   mean           0.701  5.920e-02  0.161\n",
            "Pr_Cat_2   mean           0.255  1.441e-01  0.660\n",
            "Pr_Cat_3   mean           0.014  7.699e-01  0.055\n",
            "Pr_Cat_4   mean           0.031  2.682e-02  0.124\n",
            "PropCat_5  mean           0.327  1.138e-01  0.580\n",
            "PropCat_6  mean           0.134  6.388e-02  0.082\n",
            "PropCat_7  mean           0.171  1.011e-02  0.086\n",
            "PropCat_8  mean           0.118  1.036e-02  0.080\n",
            "PropCat_9  mean           0.034  2.008e-02  0.032\n",
            "PropCat_10 mean           0.061  5.713e-04  0.009\n",
            "PropCat_11 mean           0.016  6.704e-03  0.039\n",
            "PropCat_12 mean           0.012  1.992e-03  0.005\n",
            "PropCat_13 mean           0.084  2.736e-03  0.007\n",
            "PropCat_14 mean           0.014  7.633e-01  0.052\n",
            "PropCat_15 mean           0.028  6.499e-03  0.028\n",
            "\n",
            "Purchase Behavior and Basis of Purchase Clusters by Purchase Behavior Variables:\n",
            "\n",
            "Basis_and_purchase_behavior_labels      0      1\n",
            "Pr_Cat_1   mean                     0.306  0.194\n",
            "Pr_Cat_2   mean                     0.496  0.483\n",
            "Pr_Cat_3   mean                     0.117  0.210\n",
            "Pr_Cat_4   mean                     0.081  0.113\n",
            "PropCat_5  mean                     0.460  0.449\n",
            "PropCat_6  mean                     0.090  0.098\n",
            "PropCat_7  mean                     0.099  0.090\n",
            "PropCat_8  mean                     0.092  0.043\n",
            "PropCat_9  mean                     0.030  0.035\n",
            "PropCat_10 mean                     0.024  0.008\n",
            "PropCat_11 mean                     0.030  0.027\n",
            "PropCat_12 mean                     0.007  0.005\n",
            "PropCat_13 mean                     0.029  0.013\n",
            "PropCat_14 mean                     0.114  0.206\n",
            "PropCat_15 mean                     0.025  0.026\n"
          ]
        }
      ]
    },
    {
      "cell_type": "markdown",
      "source": [
        "Select Basis of Purchase "
      ],
      "metadata": {
        "id": "5Vws_PO_t-xi"
      }
    },
    {
      "cell_type": "code",
      "source": [
        "bygroup_treatment = df_copy.groupby(['Basis_of_Purchase_labels']) \n",
        "bygroup_treatment[Demographics].agg([np.mean]).T"
      ],
      "metadata": {
        "id": "0vvBrmYPfOcE",
        "outputId": "a9dd1535-5cbf-42d0-8ffd-f73c71b7abde",
        "colab": {
          "base_uri": "https://localhost:8080/",
          "height": 363
        }
      },
      "execution_count": 203,
      "outputs": [
        {
          "output_type": "execute_result",
          "data": {
            "text/plain": [
              "Basis_of_Purchase_labels       0      1       2\n",
              "SEC             mean       1.829  3.329   2.587\n",
              "FEH             mean       1.822  2.127   2.120\n",
              "MT              mean       7.479  7.975   8.493\n",
              "SEX             mean       1.651  1.582   1.805\n",
              "AGE             mean       3.301  3.051   3.213\n",
              "EDU             mean       4.534  2.532   4.171\n",
              "HS              mean       3.699  4.241   4.373\n",
              "CHILD           mean       3.336  3.456   3.147\n",
              "CS              mean       0.856  0.911   0.965\n",
              "Affluence_Index mean      21.007  9.190  17.117"
            ],
            "text/html": [
              "\n",
              "  <div id=\"df-cd1d89bd-52dd-4e0e-a1b2-6133d73bbd52\">\n",
              "    <div class=\"colab-df-container\">\n",
              "      <div>\n",
              "<style scoped>\n",
              "    .dataframe tbody tr th:only-of-type {\n",
              "        vertical-align: middle;\n",
              "    }\n",
              "\n",
              "    .dataframe tbody tr th {\n",
              "        vertical-align: top;\n",
              "    }\n",
              "\n",
              "    .dataframe thead th {\n",
              "        text-align: right;\n",
              "    }\n",
              "</style>\n",
              "<table border=\"1\" class=\"dataframe\">\n",
              "  <thead>\n",
              "    <tr style=\"text-align: right;\">\n",
              "      <th></th>\n",
              "      <th>Basis_of_Purchase_labels</th>\n",
              "      <th>0</th>\n",
              "      <th>1</th>\n",
              "      <th>2</th>\n",
              "    </tr>\n",
              "  </thead>\n",
              "  <tbody>\n",
              "    <tr>\n",
              "      <th>SEC</th>\n",
              "      <th>mean</th>\n",
              "      <td>1.829</td>\n",
              "      <td>3.329</td>\n",
              "      <td>2.587</td>\n",
              "    </tr>\n",
              "    <tr>\n",
              "      <th>FEH</th>\n",
              "      <th>mean</th>\n",
              "      <td>1.822</td>\n",
              "      <td>2.127</td>\n",
              "      <td>2.120</td>\n",
              "    </tr>\n",
              "    <tr>\n",
              "      <th>MT</th>\n",
              "      <th>mean</th>\n",
              "      <td>7.479</td>\n",
              "      <td>7.975</td>\n",
              "      <td>8.493</td>\n",
              "    </tr>\n",
              "    <tr>\n",
              "      <th>SEX</th>\n",
              "      <th>mean</th>\n",
              "      <td>1.651</td>\n",
              "      <td>1.582</td>\n",
              "      <td>1.805</td>\n",
              "    </tr>\n",
              "    <tr>\n",
              "      <th>AGE</th>\n",
              "      <th>mean</th>\n",
              "      <td>3.301</td>\n",
              "      <td>3.051</td>\n",
              "      <td>3.213</td>\n",
              "    </tr>\n",
              "    <tr>\n",
              "      <th>EDU</th>\n",
              "      <th>mean</th>\n",
              "      <td>4.534</td>\n",
              "      <td>2.532</td>\n",
              "      <td>4.171</td>\n",
              "    </tr>\n",
              "    <tr>\n",
              "      <th>HS</th>\n",
              "      <th>mean</th>\n",
              "      <td>3.699</td>\n",
              "      <td>4.241</td>\n",
              "      <td>4.373</td>\n",
              "    </tr>\n",
              "    <tr>\n",
              "      <th>CHILD</th>\n",
              "      <th>mean</th>\n",
              "      <td>3.336</td>\n",
              "      <td>3.456</td>\n",
              "      <td>3.147</td>\n",
              "    </tr>\n",
              "    <tr>\n",
              "      <th>CS</th>\n",
              "      <th>mean</th>\n",
              "      <td>0.856</td>\n",
              "      <td>0.911</td>\n",
              "      <td>0.965</td>\n",
              "    </tr>\n",
              "    <tr>\n",
              "      <th>Affluence_Index</th>\n",
              "      <th>mean</th>\n",
              "      <td>21.007</td>\n",
              "      <td>9.190</td>\n",
              "      <td>17.117</td>\n",
              "    </tr>\n",
              "  </tbody>\n",
              "</table>\n",
              "</div>\n",
              "      <button class=\"colab-df-convert\" onclick=\"convertToInteractive('df-cd1d89bd-52dd-4e0e-a1b2-6133d73bbd52')\"\n",
              "              title=\"Convert this dataframe to an interactive table.\"\n",
              "              style=\"display:none;\">\n",
              "        \n",
              "  <svg xmlns=\"http://www.w3.org/2000/svg\" height=\"24px\"viewBox=\"0 0 24 24\"\n",
              "       width=\"24px\">\n",
              "    <path d=\"M0 0h24v24H0V0z\" fill=\"none\"/>\n",
              "    <path d=\"M18.56 5.44l.94 2.06.94-2.06 2.06-.94-2.06-.94-.94-2.06-.94 2.06-2.06.94zm-11 1L8.5 8.5l.94-2.06 2.06-.94-2.06-.94L8.5 2.5l-.94 2.06-2.06.94zm10 10l.94 2.06.94-2.06 2.06-.94-2.06-.94-.94-2.06-.94 2.06-2.06.94z\"/><path d=\"M17.41 7.96l-1.37-1.37c-.4-.4-.92-.59-1.43-.59-.52 0-1.04.2-1.43.59L10.3 9.45l-7.72 7.72c-.78.78-.78 2.05 0 2.83L4 21.41c.39.39.9.59 1.41.59.51 0 1.02-.2 1.41-.59l7.78-7.78 2.81-2.81c.8-.78.8-2.07 0-2.86zM5.41 20L4 18.59l7.72-7.72 1.47 1.35L5.41 20z\"/>\n",
              "  </svg>\n",
              "      </button>\n",
              "      \n",
              "  <style>\n",
              "    .colab-df-container {\n",
              "      display:flex;\n",
              "      flex-wrap:wrap;\n",
              "      gap: 12px;\n",
              "    }\n",
              "\n",
              "    .colab-df-convert {\n",
              "      background-color: #E8F0FE;\n",
              "      border: none;\n",
              "      border-radius: 50%;\n",
              "      cursor: pointer;\n",
              "      display: none;\n",
              "      fill: #1967D2;\n",
              "      height: 32px;\n",
              "      padding: 0 0 0 0;\n",
              "      width: 32px;\n",
              "    }\n",
              "\n",
              "    .colab-df-convert:hover {\n",
              "      background-color: #E2EBFA;\n",
              "      box-shadow: 0px 1px 2px rgba(60, 64, 67, 0.3), 0px 1px 3px 1px rgba(60, 64, 67, 0.15);\n",
              "      fill: #174EA6;\n",
              "    }\n",
              "\n",
              "    [theme=dark] .colab-df-convert {\n",
              "      background-color: #3B4455;\n",
              "      fill: #D2E3FC;\n",
              "    }\n",
              "\n",
              "    [theme=dark] .colab-df-convert:hover {\n",
              "      background-color: #434B5C;\n",
              "      box-shadow: 0px 1px 3px 1px rgba(0, 0, 0, 0.15);\n",
              "      filter: drop-shadow(0px 1px 2px rgba(0, 0, 0, 0.3));\n",
              "      fill: #FFFFFF;\n",
              "    }\n",
              "  </style>\n",
              "\n",
              "      <script>\n",
              "        const buttonEl =\n",
              "          document.querySelector('#df-cd1d89bd-52dd-4e0e-a1b2-6133d73bbd52 button.colab-df-convert');\n",
              "        buttonEl.style.display =\n",
              "          google.colab.kernel.accessAllowed ? 'block' : 'none';\n",
              "\n",
              "        async function convertToInteractive(key) {\n",
              "          const element = document.querySelector('#df-cd1d89bd-52dd-4e0e-a1b2-6133d73bbd52');\n",
              "          const dataTable =\n",
              "            await google.colab.kernel.invokeFunction('convertToInteractive',\n",
              "                                                     [key], {});\n",
              "          if (!dataTable) return;\n",
              "\n",
              "          const docLinkHtml = 'Like what you see? Visit the ' +\n",
              "            '<a target=\"_blank\" href=https://colab.research.google.com/notebooks/data_table.ipynb>data table notebook</a>'\n",
              "            + ' to learn more about interactive tables.';\n",
              "          element.innerHTML = '';\n",
              "          dataTable['output_type'] = 'display_data';\n",
              "          await google.colab.output.renderOutput(dataTable, element);\n",
              "          const docLink = document.createElement('div');\n",
              "          docLink.innerHTML = docLinkHtml;\n",
              "          element.appendChild(docLink);\n",
              "        }\n",
              "      </script>\n",
              "    </div>\n",
              "  </div>\n",
              "  "
            ]
          },
          "metadata": {},
          "execution_count": 203
        }
      ]
    },
    {
      "cell_type": "code",
      "source": [
        "bygroup_treatment[Purchase_behavior].agg([np.mean]).T"
      ],
      "metadata": {
        "id": "H3wR6dMYuRUk",
        "outputId": "6eb2913d-ca1c-461e-e0e5-ac736e65f55e",
        "colab": {
          "base_uri": "https://localhost:8080/",
          "height": 677
        }
      },
      "execution_count": 204,
      "outputs": [
        {
          "output_type": "execute_result",
          "data": {
            "text/plain": [
              "Basis_of_Purchase_labels           0          1          2\n",
              "No_of_Brands          mean     3.555      3.025      3.797\n",
              "Brand_Runs            mean    18.240      8.975     16.211\n",
              "Total_Volume          mean  9239.795  13443.544  12634.165\n",
              "No_of__Trans          mean    33.500     25.975     31.331\n",
              "Value                 mean  1454.133    942.173   1375.191\n",
              "Trans_/_Brand_Runs    mean     2.177      4.971      2.294\n",
              "Vol/Tran              mean   293.312    533.267    437.544\n",
              "Avg_Price_            mean    16.266      7.087     11.110\n",
              "Pur_Vol_No_Promo_-_%  mean     0.903      0.936      0.912\n",
              "Pur_Vol_Promo_6_%     mean     0.061      0.018      0.058\n",
              "Pur_Vol_Other_Promo_% mean     0.036      0.046      0.030\n",
              "Br_Cd_57,_144         mean     0.118      0.053      0.237\n",
              "Br_Cd_55              mean     0.013      0.739      0.046\n",
              "Br_Cd_272             mean     0.032      0.007      0.039\n",
              "Br_Cd_286             mean     0.011      0.006      0.049\n",
              "Br_Cd_24              mean     0.063      0.003      0.006\n",
              "Br_Cd_481             mean     0.015      0.007      0.034\n",
              "Br_Cd_352             mean     0.018      0.002      0.047\n",
              "Br_Cd_5               mean     0.043      0.010      0.010\n",
              "Others_999            mean     0.688      0.173      0.531"
            ],
            "text/html": [
              "\n",
              "  <div id=\"df-c8e32271-30aa-485a-9ace-c63823d861c3\">\n",
              "    <div class=\"colab-df-container\">\n",
              "      <div>\n",
              "<style scoped>\n",
              "    .dataframe tbody tr th:only-of-type {\n",
              "        vertical-align: middle;\n",
              "    }\n",
              "\n",
              "    .dataframe tbody tr th {\n",
              "        vertical-align: top;\n",
              "    }\n",
              "\n",
              "    .dataframe thead th {\n",
              "        text-align: right;\n",
              "    }\n",
              "</style>\n",
              "<table border=\"1\" class=\"dataframe\">\n",
              "  <thead>\n",
              "    <tr style=\"text-align: right;\">\n",
              "      <th></th>\n",
              "      <th>Basis_of_Purchase_labels</th>\n",
              "      <th>0</th>\n",
              "      <th>1</th>\n",
              "      <th>2</th>\n",
              "    </tr>\n",
              "  </thead>\n",
              "  <tbody>\n",
              "    <tr>\n",
              "      <th>No_of_Brands</th>\n",
              "      <th>mean</th>\n",
              "      <td>3.555</td>\n",
              "      <td>3.025</td>\n",
              "      <td>3.797</td>\n",
              "    </tr>\n",
              "    <tr>\n",
              "      <th>Brand_Runs</th>\n",
              "      <th>mean</th>\n",
              "      <td>18.240</td>\n",
              "      <td>8.975</td>\n",
              "      <td>16.211</td>\n",
              "    </tr>\n",
              "    <tr>\n",
              "      <th>Total_Volume</th>\n",
              "      <th>mean</th>\n",
              "      <td>9239.795</td>\n",
              "      <td>13443.544</td>\n",
              "      <td>12634.165</td>\n",
              "    </tr>\n",
              "    <tr>\n",
              "      <th>No_of__Trans</th>\n",
              "      <th>mean</th>\n",
              "      <td>33.500</td>\n",
              "      <td>25.975</td>\n",
              "      <td>31.331</td>\n",
              "    </tr>\n",
              "    <tr>\n",
              "      <th>Value</th>\n",
              "      <th>mean</th>\n",
              "      <td>1454.133</td>\n",
              "      <td>942.173</td>\n",
              "      <td>1375.191</td>\n",
              "    </tr>\n",
              "    <tr>\n",
              "      <th>Trans_/_Brand_Runs</th>\n",
              "      <th>mean</th>\n",
              "      <td>2.177</td>\n",
              "      <td>4.971</td>\n",
              "      <td>2.294</td>\n",
              "    </tr>\n",
              "    <tr>\n",
              "      <th>Vol/Tran</th>\n",
              "      <th>mean</th>\n",
              "      <td>293.312</td>\n",
              "      <td>533.267</td>\n",
              "      <td>437.544</td>\n",
              "    </tr>\n",
              "    <tr>\n",
              "      <th>Avg_Price_</th>\n",
              "      <th>mean</th>\n",
              "      <td>16.266</td>\n",
              "      <td>7.087</td>\n",
              "      <td>11.110</td>\n",
              "    </tr>\n",
              "    <tr>\n",
              "      <th>Pur_Vol_No_Promo_-_%</th>\n",
              "      <th>mean</th>\n",
              "      <td>0.903</td>\n",
              "      <td>0.936</td>\n",
              "      <td>0.912</td>\n",
              "    </tr>\n",
              "    <tr>\n",
              "      <th>Pur_Vol_Promo_6_%</th>\n",
              "      <th>mean</th>\n",
              "      <td>0.061</td>\n",
              "      <td>0.018</td>\n",
              "      <td>0.058</td>\n",
              "    </tr>\n",
              "    <tr>\n",
              "      <th>Pur_Vol_Other_Promo_%</th>\n",
              "      <th>mean</th>\n",
              "      <td>0.036</td>\n",
              "      <td>0.046</td>\n",
              "      <td>0.030</td>\n",
              "    </tr>\n",
              "    <tr>\n",
              "      <th>Br_Cd_57,_144</th>\n",
              "      <th>mean</th>\n",
              "      <td>0.118</td>\n",
              "      <td>0.053</td>\n",
              "      <td>0.237</td>\n",
              "    </tr>\n",
              "    <tr>\n",
              "      <th>Br_Cd_55</th>\n",
              "      <th>mean</th>\n",
              "      <td>0.013</td>\n",
              "      <td>0.739</td>\n",
              "      <td>0.046</td>\n",
              "    </tr>\n",
              "    <tr>\n",
              "      <th>Br_Cd_272</th>\n",
              "      <th>mean</th>\n",
              "      <td>0.032</td>\n",
              "      <td>0.007</td>\n",
              "      <td>0.039</td>\n",
              "    </tr>\n",
              "    <tr>\n",
              "      <th>Br_Cd_286</th>\n",
              "      <th>mean</th>\n",
              "      <td>0.011</td>\n",
              "      <td>0.006</td>\n",
              "      <td>0.049</td>\n",
              "    </tr>\n",
              "    <tr>\n",
              "      <th>Br_Cd_24</th>\n",
              "      <th>mean</th>\n",
              "      <td>0.063</td>\n",
              "      <td>0.003</td>\n",
              "      <td>0.006</td>\n",
              "    </tr>\n",
              "    <tr>\n",
              "      <th>Br_Cd_481</th>\n",
              "      <th>mean</th>\n",
              "      <td>0.015</td>\n",
              "      <td>0.007</td>\n",
              "      <td>0.034</td>\n",
              "    </tr>\n",
              "    <tr>\n",
              "      <th>Br_Cd_352</th>\n",
              "      <th>mean</th>\n",
              "      <td>0.018</td>\n",
              "      <td>0.002</td>\n",
              "      <td>0.047</td>\n",
              "    </tr>\n",
              "    <tr>\n",
              "      <th>Br_Cd_5</th>\n",
              "      <th>mean</th>\n",
              "      <td>0.043</td>\n",
              "      <td>0.010</td>\n",
              "      <td>0.010</td>\n",
              "    </tr>\n",
              "    <tr>\n",
              "      <th>Others_999</th>\n",
              "      <th>mean</th>\n",
              "      <td>0.688</td>\n",
              "      <td>0.173</td>\n",
              "      <td>0.531</td>\n",
              "    </tr>\n",
              "  </tbody>\n",
              "</table>\n",
              "</div>\n",
              "      <button class=\"colab-df-convert\" onclick=\"convertToInteractive('df-c8e32271-30aa-485a-9ace-c63823d861c3')\"\n",
              "              title=\"Convert this dataframe to an interactive table.\"\n",
              "              style=\"display:none;\">\n",
              "        \n",
              "  <svg xmlns=\"http://www.w3.org/2000/svg\" height=\"24px\"viewBox=\"0 0 24 24\"\n",
              "       width=\"24px\">\n",
              "    <path d=\"M0 0h24v24H0V0z\" fill=\"none\"/>\n",
              "    <path d=\"M18.56 5.44l.94 2.06.94-2.06 2.06-.94-2.06-.94-.94-2.06-.94 2.06-2.06.94zm-11 1L8.5 8.5l.94-2.06 2.06-.94-2.06-.94L8.5 2.5l-.94 2.06-2.06.94zm10 10l.94 2.06.94-2.06 2.06-.94-2.06-.94-.94-2.06-.94 2.06-2.06.94z\"/><path d=\"M17.41 7.96l-1.37-1.37c-.4-.4-.92-.59-1.43-.59-.52 0-1.04.2-1.43.59L10.3 9.45l-7.72 7.72c-.78.78-.78 2.05 0 2.83L4 21.41c.39.39.9.59 1.41.59.51 0 1.02-.2 1.41-.59l7.78-7.78 2.81-2.81c.8-.78.8-2.07 0-2.86zM5.41 20L4 18.59l7.72-7.72 1.47 1.35L5.41 20z\"/>\n",
              "  </svg>\n",
              "      </button>\n",
              "      \n",
              "  <style>\n",
              "    .colab-df-container {\n",
              "      display:flex;\n",
              "      flex-wrap:wrap;\n",
              "      gap: 12px;\n",
              "    }\n",
              "\n",
              "    .colab-df-convert {\n",
              "      background-color: #E8F0FE;\n",
              "      border: none;\n",
              "      border-radius: 50%;\n",
              "      cursor: pointer;\n",
              "      display: none;\n",
              "      fill: #1967D2;\n",
              "      height: 32px;\n",
              "      padding: 0 0 0 0;\n",
              "      width: 32px;\n",
              "    }\n",
              "\n",
              "    .colab-df-convert:hover {\n",
              "      background-color: #E2EBFA;\n",
              "      box-shadow: 0px 1px 2px rgba(60, 64, 67, 0.3), 0px 1px 3px 1px rgba(60, 64, 67, 0.15);\n",
              "      fill: #174EA6;\n",
              "    }\n",
              "\n",
              "    [theme=dark] .colab-df-convert {\n",
              "      background-color: #3B4455;\n",
              "      fill: #D2E3FC;\n",
              "    }\n",
              "\n",
              "    [theme=dark] .colab-df-convert:hover {\n",
              "      background-color: #434B5C;\n",
              "      box-shadow: 0px 1px 3px 1px rgba(0, 0, 0, 0.15);\n",
              "      filter: drop-shadow(0px 1px 2px rgba(0, 0, 0, 0.3));\n",
              "      fill: #FFFFFF;\n",
              "    }\n",
              "  </style>\n",
              "\n",
              "      <script>\n",
              "        const buttonEl =\n",
              "          document.querySelector('#df-c8e32271-30aa-485a-9ace-c63823d861c3 button.colab-df-convert');\n",
              "        buttonEl.style.display =\n",
              "          google.colab.kernel.accessAllowed ? 'block' : 'none';\n",
              "\n",
              "        async function convertToInteractive(key) {\n",
              "          const element = document.querySelector('#df-c8e32271-30aa-485a-9ace-c63823d861c3');\n",
              "          const dataTable =\n",
              "            await google.colab.kernel.invokeFunction('convertToInteractive',\n",
              "                                                     [key], {});\n",
              "          if (!dataTable) return;\n",
              "\n",
              "          const docLinkHtml = 'Like what you see? Visit the ' +\n",
              "            '<a target=\"_blank\" href=https://colab.research.google.com/notebooks/data_table.ipynb>data table notebook</a>'\n",
              "            + ' to learn more about interactive tables.';\n",
              "          element.innerHTML = '';\n",
              "          dataTable['output_type'] = 'display_data';\n",
              "          await google.colab.output.renderOutput(dataTable, element);\n",
              "          const docLink = document.createElement('div');\n",
              "          docLink.innerHTML = docLinkHtml;\n",
              "          element.appendChild(docLink);\n",
              "        }\n",
              "      </script>\n",
              "    </div>\n",
              "  </div>\n",
              "  "
            ]
          },
          "metadata": {},
          "execution_count": 204
        }
      ]
    },
    {
      "cell_type": "code",
      "source": [
        "bygroup_treatment[Basis_of_purchase].agg([np.mean]).T"
      ],
      "metadata": {
        "id": "p8L0vqsqfVmU",
        "outputId": "936e341a-10d2-440f-8638-25db22af7bd7",
        "colab": {
          "base_uri": "https://localhost:8080/",
          "height": 520
        }
      },
      "execution_count": 205,
      "outputs": [
        {
          "output_type": "execute_result",
          "data": {
            "text/plain": [
              "Basis_of_Purchase_labels      0          1      2\n",
              "Pr_Cat_1   mean           0.701  5.920e-02  0.161\n",
              "Pr_Cat_2   mean           0.255  1.441e-01  0.660\n",
              "Pr_Cat_3   mean           0.014  7.699e-01  0.055\n",
              "Pr_Cat_4   mean           0.031  2.682e-02  0.124\n",
              "PropCat_5  mean           0.327  1.138e-01  0.580\n",
              "PropCat_6  mean           0.134  6.388e-02  0.082\n",
              "PropCat_7  mean           0.171  1.011e-02  0.086\n",
              "PropCat_8  mean           0.118  1.036e-02  0.080\n",
              "PropCat_9  mean           0.034  2.008e-02  0.032\n",
              "PropCat_10 mean           0.061  5.713e-04  0.009\n",
              "PropCat_11 mean           0.016  6.704e-03  0.039\n",
              "PropCat_12 mean           0.012  1.992e-03  0.005\n",
              "PropCat_13 mean           0.084  2.736e-03  0.007\n",
              "PropCat_14 mean           0.014  7.633e-01  0.052\n",
              "PropCat_15 mean           0.028  6.499e-03  0.028"
            ],
            "text/html": [
              "\n",
              "  <div id=\"df-3d15a200-fdfc-48e1-83db-9ccb787e8622\">\n",
              "    <div class=\"colab-df-container\">\n",
              "      <div>\n",
              "<style scoped>\n",
              "    .dataframe tbody tr th:only-of-type {\n",
              "        vertical-align: middle;\n",
              "    }\n",
              "\n",
              "    .dataframe tbody tr th {\n",
              "        vertical-align: top;\n",
              "    }\n",
              "\n",
              "    .dataframe thead th {\n",
              "        text-align: right;\n",
              "    }\n",
              "</style>\n",
              "<table border=\"1\" class=\"dataframe\">\n",
              "  <thead>\n",
              "    <tr style=\"text-align: right;\">\n",
              "      <th></th>\n",
              "      <th>Basis_of_Purchase_labels</th>\n",
              "      <th>0</th>\n",
              "      <th>1</th>\n",
              "      <th>2</th>\n",
              "    </tr>\n",
              "  </thead>\n",
              "  <tbody>\n",
              "    <tr>\n",
              "      <th>Pr_Cat_1</th>\n",
              "      <th>mean</th>\n",
              "      <td>0.701</td>\n",
              "      <td>5.920e-02</td>\n",
              "      <td>0.161</td>\n",
              "    </tr>\n",
              "    <tr>\n",
              "      <th>Pr_Cat_2</th>\n",
              "      <th>mean</th>\n",
              "      <td>0.255</td>\n",
              "      <td>1.441e-01</td>\n",
              "      <td>0.660</td>\n",
              "    </tr>\n",
              "    <tr>\n",
              "      <th>Pr_Cat_3</th>\n",
              "      <th>mean</th>\n",
              "      <td>0.014</td>\n",
              "      <td>7.699e-01</td>\n",
              "      <td>0.055</td>\n",
              "    </tr>\n",
              "    <tr>\n",
              "      <th>Pr_Cat_4</th>\n",
              "      <th>mean</th>\n",
              "      <td>0.031</td>\n",
              "      <td>2.682e-02</td>\n",
              "      <td>0.124</td>\n",
              "    </tr>\n",
              "    <tr>\n",
              "      <th>PropCat_5</th>\n",
              "      <th>mean</th>\n",
              "      <td>0.327</td>\n",
              "      <td>1.138e-01</td>\n",
              "      <td>0.580</td>\n",
              "    </tr>\n",
              "    <tr>\n",
              "      <th>PropCat_6</th>\n",
              "      <th>mean</th>\n",
              "      <td>0.134</td>\n",
              "      <td>6.388e-02</td>\n",
              "      <td>0.082</td>\n",
              "    </tr>\n",
              "    <tr>\n",
              "      <th>PropCat_7</th>\n",
              "      <th>mean</th>\n",
              "      <td>0.171</td>\n",
              "      <td>1.011e-02</td>\n",
              "      <td>0.086</td>\n",
              "    </tr>\n",
              "    <tr>\n",
              "      <th>PropCat_8</th>\n",
              "      <th>mean</th>\n",
              "      <td>0.118</td>\n",
              "      <td>1.036e-02</td>\n",
              "      <td>0.080</td>\n",
              "    </tr>\n",
              "    <tr>\n",
              "      <th>PropCat_9</th>\n",
              "      <th>mean</th>\n",
              "      <td>0.034</td>\n",
              "      <td>2.008e-02</td>\n",
              "      <td>0.032</td>\n",
              "    </tr>\n",
              "    <tr>\n",
              "      <th>PropCat_10</th>\n",
              "      <th>mean</th>\n",
              "      <td>0.061</td>\n",
              "      <td>5.713e-04</td>\n",
              "      <td>0.009</td>\n",
              "    </tr>\n",
              "    <tr>\n",
              "      <th>PropCat_11</th>\n",
              "      <th>mean</th>\n",
              "      <td>0.016</td>\n",
              "      <td>6.704e-03</td>\n",
              "      <td>0.039</td>\n",
              "    </tr>\n",
              "    <tr>\n",
              "      <th>PropCat_12</th>\n",
              "      <th>mean</th>\n",
              "      <td>0.012</td>\n",
              "      <td>1.992e-03</td>\n",
              "      <td>0.005</td>\n",
              "    </tr>\n",
              "    <tr>\n",
              "      <th>PropCat_13</th>\n",
              "      <th>mean</th>\n",
              "      <td>0.084</td>\n",
              "      <td>2.736e-03</td>\n",
              "      <td>0.007</td>\n",
              "    </tr>\n",
              "    <tr>\n",
              "      <th>PropCat_14</th>\n",
              "      <th>mean</th>\n",
              "      <td>0.014</td>\n",
              "      <td>7.633e-01</td>\n",
              "      <td>0.052</td>\n",
              "    </tr>\n",
              "    <tr>\n",
              "      <th>PropCat_15</th>\n",
              "      <th>mean</th>\n",
              "      <td>0.028</td>\n",
              "      <td>6.499e-03</td>\n",
              "      <td>0.028</td>\n",
              "    </tr>\n",
              "  </tbody>\n",
              "</table>\n",
              "</div>\n",
              "      <button class=\"colab-df-convert\" onclick=\"convertToInteractive('df-3d15a200-fdfc-48e1-83db-9ccb787e8622')\"\n",
              "              title=\"Convert this dataframe to an interactive table.\"\n",
              "              style=\"display:none;\">\n",
              "        \n",
              "  <svg xmlns=\"http://www.w3.org/2000/svg\" height=\"24px\"viewBox=\"0 0 24 24\"\n",
              "       width=\"24px\">\n",
              "    <path d=\"M0 0h24v24H0V0z\" fill=\"none\"/>\n",
              "    <path d=\"M18.56 5.44l.94 2.06.94-2.06 2.06-.94-2.06-.94-.94-2.06-.94 2.06-2.06.94zm-11 1L8.5 8.5l.94-2.06 2.06-.94-2.06-.94L8.5 2.5l-.94 2.06-2.06.94zm10 10l.94 2.06.94-2.06 2.06-.94-2.06-.94-.94-2.06-.94 2.06-2.06.94z\"/><path d=\"M17.41 7.96l-1.37-1.37c-.4-.4-.92-.59-1.43-.59-.52 0-1.04.2-1.43.59L10.3 9.45l-7.72 7.72c-.78.78-.78 2.05 0 2.83L4 21.41c.39.39.9.59 1.41.59.51 0 1.02-.2 1.41-.59l7.78-7.78 2.81-2.81c.8-.78.8-2.07 0-2.86zM5.41 20L4 18.59l7.72-7.72 1.47 1.35L5.41 20z\"/>\n",
              "  </svg>\n",
              "      </button>\n",
              "      \n",
              "  <style>\n",
              "    .colab-df-container {\n",
              "      display:flex;\n",
              "      flex-wrap:wrap;\n",
              "      gap: 12px;\n",
              "    }\n",
              "\n",
              "    .colab-df-convert {\n",
              "      background-color: #E8F0FE;\n",
              "      border: none;\n",
              "      border-radius: 50%;\n",
              "      cursor: pointer;\n",
              "      display: none;\n",
              "      fill: #1967D2;\n",
              "      height: 32px;\n",
              "      padding: 0 0 0 0;\n",
              "      width: 32px;\n",
              "    }\n",
              "\n",
              "    .colab-df-convert:hover {\n",
              "      background-color: #E2EBFA;\n",
              "      box-shadow: 0px 1px 2px rgba(60, 64, 67, 0.3), 0px 1px 3px 1px rgba(60, 64, 67, 0.15);\n",
              "      fill: #174EA6;\n",
              "    }\n",
              "\n",
              "    [theme=dark] .colab-df-convert {\n",
              "      background-color: #3B4455;\n",
              "      fill: #D2E3FC;\n",
              "    }\n",
              "\n",
              "    [theme=dark] .colab-df-convert:hover {\n",
              "      background-color: #434B5C;\n",
              "      box-shadow: 0px 1px 3px 1px rgba(0, 0, 0, 0.15);\n",
              "      filter: drop-shadow(0px 1px 2px rgba(0, 0, 0, 0.3));\n",
              "      fill: #FFFFFF;\n",
              "    }\n",
              "  </style>\n",
              "\n",
              "      <script>\n",
              "        const buttonEl =\n",
              "          document.querySelector('#df-3d15a200-fdfc-48e1-83db-9ccb787e8622 button.colab-df-convert');\n",
              "        buttonEl.style.display =\n",
              "          google.colab.kernel.accessAllowed ? 'block' : 'none';\n",
              "\n",
              "        async function convertToInteractive(key) {\n",
              "          const element = document.querySelector('#df-3d15a200-fdfc-48e1-83db-9ccb787e8622');\n",
              "          const dataTable =\n",
              "            await google.colab.kernel.invokeFunction('convertToInteractive',\n",
              "                                                     [key], {});\n",
              "          if (!dataTable) return;\n",
              "\n",
              "          const docLinkHtml = 'Like what you see? Visit the ' +\n",
              "            '<a target=\"_blank\" href=https://colab.research.google.com/notebooks/data_table.ipynb>data table notebook</a>'\n",
              "            + ' to learn more about interactive tables.';\n",
              "          element.innerHTML = '';\n",
              "          dataTable['output_type'] = 'display_data';\n",
              "          await google.colab.output.renderOutput(dataTable, element);\n",
              "          const docLink = document.createElement('div');\n",
              "          docLink.innerHTML = docLinkHtml;\n",
              "          element.appendChild(docLink);\n",
              "        }\n",
              "      </script>\n",
              "    </div>\n",
              "  </div>\n",
              "  "
            ]
          },
          "metadata": {},
          "execution_count": 205
        }
      ]
    },
    {
      "cell_type": "markdown",
      "source": [
        "---\n",
        "**Answer:**\n",
        "\n",
        "I think our best segmentation is where we use the cluster results from Purchase Behavior. Here we see that there is a segment 0 which average price of purchase is 16.266 which is 46% higher than segment 2 and 129% higher than segment 1. Segment 0 also appears to be most responsive to purchasing products under promotion. As indicated ‘Pur_Vol_Promo_6_%’.\n",
        "\n",
        "--- \n",
        "<br>"
      ],
      "metadata": {
        "id": "1TP5SCDO1o6E"
      }
    },
    {
      "cell_type": "markdown",
      "source": [
        "## Question 3\n",
        "Develop a model that classifies the data into these segments. Since this information would most likely be used in targeting direct-mail promotions, it would be useful to select a market segment that would be defined as a success in the classification model.(14 points)\n"
      ],
      "metadata": {
        "id": "yIfs3I9A2jwy"
      }
    },
    {
      "cell_type": "markdown",
      "source": [
        "k-means, logistic regression, decision trees, random forest classifiers, and bagging classifiers"
      ],
      "metadata": {
        "id": "Up_Qv7gvVRZT"
      }
    },
    {
      "cell_type": "code",
      "source": [
        "# Helper Functions:\n",
        "def confusionMatrices(model, title):\n",
        "  print('\\n'+'-'*20)\n",
        "  print(title + ' - training results\\n')\n",
        "  classificationSummary(y_train, model.predict(X_train_norm))\n",
        "  print('\\n'+'-'*20)\n",
        "  print(title + ' - validation results\\n')\n",
        "  valid_pred = model.predict(X_test_norm)\n",
        "  classificationSummary(y_test, valid_pred)\n",
        "\n",
        "\n",
        "def pred_results(model):\n",
        "  model_proba = model.predict_proba(X_test_norm)\n",
        "  pred_results = pd.DataFrame({'actual': y_test.astype(\"int64\"), \n",
        "                            'p(0)': [p[0] for p in model_proba],\n",
        "                            'p(1)': [p[1] for p in model_proba],\n",
        "                            'predicted': model.predict(X_test_norm)\n",
        "                          })\n",
        "  pred_results = pred_results.sort_values(by=['p(1)'], ascending=False)\n",
        "  return pred_results"
      ],
      "metadata": {
        "id": "weLpk-P3dqww"
      },
      "execution_count": 206,
      "outputs": []
    },
    {
      "cell_type": "code",
      "source": [
        "# Create Model Variables\n",
        "X = df_copy[Basis_of_purchase] # Demographics + Purchase_behavior + \n",
        "y = df_copy['Purchase_behavior_labels'].apply(lambda x: 1 if x == 0 else 0)\n",
        "\n",
        "# Standardize the dataset\n",
        "scaler = preprocessing.StandardScaler()\n",
        "scaler.fit(X * 1.0)\n",
        "\n",
        "# define oversampling strategy\n",
        "oversample = RandomOverSampler(sampling_strategy='minority')\n",
        "\n",
        "# fit and apply the transform\n",
        "X_over, y_over = oversample.fit_resample(X, y)\n",
        "\n",
        "# Split dataset into test train\n",
        "X_train, X_test, y_train, y_test = train_test_split(X_over, y_over, test_size=0.4, random_state=12345)\n",
        "\n",
        "# Normalize the data\n",
        "X_train_norm = scaler.transform(X_train)\n",
        "X_test_norm = scaler.transform(X_test)"
      ],
      "metadata": {
        "id": "TNY8H8yPz_9E"
      },
      "execution_count": 207,
      "outputs": []
    },
    {
      "cell_type": "code",
      "source": [
        "# Logistic Regression Model\n",
        "lr = LogisticRegressionCV(penalty='l1', solver='saga', cv=5, max_iter=5000)\n",
        "lr.fit(X_train_norm, y_train)\n",
        "confusionMatrices(lr, 'Logistic Regression')\n",
        "lr_result = pred_results(lr)\n",
        "pred = lr.predict(X_test_norm)\n",
        "print('\\nAIC', AIC_score(y_test, pred, df=len(X.columns) + 1), '\\n')"
      ],
      "metadata": {
        "id": "F_h-At2pznTD",
        "outputId": "7a55073f-3b62-4290-dc52-e66c7564d6b4",
        "colab": {
          "base_uri": "https://localhost:8080/"
        }
      },
      "execution_count": 208,
      "outputs": [
        {
          "output_type": "stream",
          "name": "stdout",
          "text": [
            "\n",
            "--------------------\n",
            "Logistic Regression - training results\n",
            "\n",
            "Confusion Matrix (Accuracy 0.6033)\n",
            "\n",
            "       Prediction\n",
            "Actual   0   1\n",
            "     0 158 109\n",
            "     1 108 172\n",
            "\n",
            "--------------------\n",
            "Logistic Regression - validation results\n",
            "\n",
            "Confusion Matrix (Accuracy 0.5945)\n",
            "\n",
            "       Prediction\n",
            "Actual   0   1\n",
            "     0 110  79\n",
            "     1  69 107\n",
            "\n",
            "AIC 740.3450751057037 \n",
            "\n"
          ]
        }
      ]
    },
    {
      "cell_type": "code",
      "source": [
        "# Decision Tree Model\n",
        "# use first grid search to find more optimal hyperparamters.\n",
        "param_grid = {\n",
        "    'max_depth': [5, 6, 7, 8, 9, 10], \n",
        "    'min_impurity_decrease': [0, 0.000001, 0.000002, 0.000003, 0.000005, 0.000006, 0.000007, 0.000008], \n",
        "    'min_samples_split': [6,7,8,9,10,11,12,13,14,15,16,18,20], \n",
        "}\n",
        "gridSearch = GridSearchCV(DecisionTreeClassifier(random_state=1), param_grid, cv=5, n_jobs=-1)\n",
        "gridSearch.fit(X_train_norm, y_train)\n",
        "\n",
        "print('Initial parameters: ', gridSearch.best_params_)\n",
        "\n",
        "dt_result = pred_results(gridSearch.best_estimator_)\n",
        "\n",
        "# Classification Matrix\n",
        "print('Test Confusion Matrix:\\n')\n",
        "classificationSummary(y_train, gridSearch.best_estimator_.predict(X_train_norm))\n",
        "print('\\n\\nValidation Confusion Matrix:\\n')\n",
        "classificationSummary(y_test, gridSearch.best_estimator_.predict(X_test_norm))\n",
        "\n",
        "print('\\nAIC', AIC_score(y_test, pred, df=len(X.columns) + 1), '\\n')"
      ],
      "metadata": {
        "id": "ZdskJV9hz6WM",
        "outputId": "8252c255-12dd-4fe6-8681-4c66cb294a6e",
        "colab": {
          "base_uri": "https://localhost:8080/"
        }
      },
      "execution_count": 209,
      "outputs": [
        {
          "output_type": "stream",
          "name": "stdout",
          "text": [
            "Initial parameters:  {'max_depth': 10, 'min_impurity_decrease': 0, 'min_samples_split': 8}\n",
            "Test Confusion Matrix:\n",
            "\n",
            "Confusion Matrix (Accuracy 0.9452)\n",
            "\n",
            "       Prediction\n",
            "Actual   0   1\n",
            "     0 257  10\n",
            "     1  20 260\n",
            "\n",
            "\n",
            "Validation Confusion Matrix:\n",
            "\n",
            "Confusion Matrix (Accuracy 0.6932)\n",
            "\n",
            "       Prediction\n",
            "Actual   0   1\n",
            "     0 152  37\n",
            "     1  75 101\n",
            "\n",
            "AIC 740.3450751057037 \n",
            "\n"
          ]
        }
      ]
    },
    {
      "cell_type": "code",
      "source": [
        "# Random Forest Model\n",
        "rf = RandomForestClassifier(n_estimators=100)\n",
        "rf.fit(X_train_norm, y_train)\n",
        "confusionMatrices(rf, 'Random Forest')\n",
        "rf_result = pred_results(rf)\n",
        "pred = rf.predict(X_test_norm)\n",
        "print('\\nAIC', AIC_score(y_test, pred, df=len(X.columns) + 1), '\\n')"
      ],
      "metadata": {
        "id": "n8RVIC9xztd0",
        "outputId": "de139094-b94d-4410-e2d3-f6d18a788a09",
        "colab": {
          "base_uri": "https://localhost:8080/"
        }
      },
      "execution_count": 210,
      "outputs": [
        {
          "output_type": "stream",
          "name": "stdout",
          "text": [
            "\n",
            "--------------------\n",
            "Random Forest - training results\n",
            "\n",
            "Confusion Matrix (Accuracy 0.9927)\n",
            "\n",
            "       Prediction\n",
            "Actual   0   1\n",
            "     0 263   4\n",
            "     1   0 280\n",
            "\n",
            "--------------------\n",
            "Random Forest - validation results\n",
            "\n",
            "Confusion Matrix (Accuracy 0.8082)\n",
            "\n",
            "       Prediction\n",
            "Actual   0   1\n",
            "     0 157  32\n",
            "     1  38 138\n",
            "\n",
            "AIC 467.0633585298177 \n",
            "\n"
          ]
        }
      ]
    },
    {
      "cell_type": "code",
      "source": [
        "# Bagging Classifier Model\n",
        "bc = BaggingClassifier()\n",
        "bc.fit(X_train_norm, y_train)\n",
        "confusionMatrices(bc, 'Bagging Classifier')\n",
        "bc_result = pred_results(bc)\n",
        "pred = bc.predict(X_test_norm)\n",
        "print('\\nAIC', AIC_score(y_test, pred, df=len(X.columns) + 1), '\\n')"
      ],
      "metadata": {
        "id": "gURN6WRqznWc",
        "outputId": "7125abd4-c23a-4452-dedc-bbda95c9dca9",
        "colab": {
          "base_uri": "https://localhost:8080/"
        }
      },
      "execution_count": 211,
      "outputs": [
        {
          "output_type": "stream",
          "name": "stdout",
          "text": [
            "\n",
            "--------------------\n",
            "Bagging Classifier - training results\n",
            "\n",
            "Confusion Matrix (Accuracy 0.9744)\n",
            "\n",
            "       Prediction\n",
            "Actual   0   1\n",
            "     0 264   3\n",
            "     1  11 269\n",
            "\n",
            "--------------------\n",
            "Bagging Classifier - validation results\n",
            "\n",
            "Confusion Matrix (Accuracy 0.7863)\n",
            "\n",
            "       Prediction\n",
            "Actual   0   1\n",
            "     0 162  27\n",
            "     1  51 125\n",
            "\n",
            "AIC 506.56131692350266 \n",
            "\n"
          ]
        }
      ]
    },
    {
      "cell_type": "code",
      "source": [
        "# Plot\n",
        "ax = gainsChart(lr_result.actual, label='Logistic Regression', color='C0', figsize=[10, 10])\n",
        "ax = gainsChart(dt_result.actual, label='Decision Tree', color='C1', ax=ax)\n",
        "ax = gainsChart(rf_result.actual, label='Random Forest', color='C2', ax=ax)\n",
        "ax = gainsChart(bc_result.actual, label='Bagging Classifier', color='C4', ax=ax)\n",
        "ax.legend()\n",
        "ax.set_title('Model Comparisons')\n",
        "\n",
        "plt.show()"
      ],
      "metadata": {
        "id": "qkhOAhzWznaZ",
        "outputId": "e0c80462-4a6b-46cb-9d03-0dfe97aadfc4",
        "colab": {
          "base_uri": "https://localhost:8080/",
          "height": 620
        }
      },
      "execution_count": 212,
      "outputs": [
        {
          "output_type": "display_data",
          "data": {
            "text/plain": [
              "<Figure size 720x720 with 1 Axes>"
            ],
            "image/png": "[encoded data removed]"
          },
          "metadata": {
            "needs_background": "light"
          }
        }
      ]
    },
    {
      "cell_type": "markdown",
      "source": [
        "---\n",
        "**Answer:**\n",
        "\n",
        "Assuming our best segment 0 comes from our purchase behavior segmentation. I’ve built several models, Logistic regression, decision tree, random forest, and a bagging classifier, to see which one does the best job of predicting segment 0 our target segment. I found that Random Forest did the best job of predicting our segment with the highest accuracy of 0.8137 and the lowest overall AIC score of 456. You can visualize its superiority over the other models just viewing the gains chart we plotted above.\n",
        "\n",
        "\n",
        "\n",
        "--- \n",
        "<br>"
      ],
      "metadata": {
        "id": "Y5duJwuIdp_7"
      }
    },
    {
      "cell_type": "markdown",
      "source": [
        "## Question 4\n",
        "Briefly explain, in two to three paragraphs, the business objective, the data mining models used, why they were used, the model results, and your recommendations to your non-technical stakeholder team. (18 points)\n",
        "\n"
      ],
      "metadata": {
        "id": "qFNsP9RG2qMo"
      }
    },
    {
      "cell_type": "markdown",
      "source": [
        "---\n",
        "**Answer:**\n",
        "\n",
        "\n",
        "Our business objective was to find segments that are both profitable and responsive to promotions. We used Kmeans clustering to identify the segments. Then we used classification modeling to try to predict the segments from our customer data. With our best performing model, Random Forest, we are able to predict our most profitable customers who are most likely to respond to marketing promotions.\n",
        "\n",
        "I recommend that we target prospects that most look like our best performing segments using the Ransom Forest model we created during this exercise.\n",
        "\n",
        "\n",
        "--- \n",
        "<br>"
      ],
      "metadata": {
        "id": "9KcXFBEh2s3I"
      }
    }
  ]
}