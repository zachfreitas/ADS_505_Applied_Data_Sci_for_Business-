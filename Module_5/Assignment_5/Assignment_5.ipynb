{
  "nbformat": 4,
  "nbformat_minor": 0,
  "metadata": {
    "colab": {
      "provenance": [],
      "authorship_tag": "ABX9TyOYGKmXQkGGd6YOXjtUL7oC",
      "include_colab_link": true
    },
    "kernelspec": {
      "name": "python3",
      "display_name": "Python 3"
    },
    "language_info": {
      "name": "python"
    }
  },
  "cells": [
    {
      "cell_type": "markdown",
      "metadata": {
        "id": "view-in-github",
        "colab_type": "text"
      },
      "source": [
        "<a href=\"https://colab.research.google.com/github/zachfreitas/ADS_505_Applied_Data_Sci_for_Business-/blob/main/Module_5/Assignment_5/Assignment_5.ipynb\" target=\"_parent\"><img src=\"https://colab.research.google.com/assets/colab-badge.svg\" alt=\"Open In Colab\"/></a>"
      ]
    },
    {
      "cell_type": "markdown",
      "source": [
        "# Assignment 5\n",
        "Zachariah Freitas<br>\n",
        "2022-10-04\n",
        "\n",
        "\n",
        "Your task is to construct and evaluate multiple data mining models, including k-means, logistic regression, decision trees, random forest classifiers, and bagging classifiers, to segment customers in order to understand their purchase behavior and influence brand loyalty."
      ],
      "metadata": {
        "id": "O8iPqOcYz5rD"
      }
    },
    {
      "cell_type": "markdown",
      "source": [
        "Install Libraries"
      ],
      "metadata": {
        "id": "LhKn79vY0aZe"
      }
    },
    {
      "cell_type": "code",
      "source": [
        "# Connect Colab to Google Drive for Convience.\n",
        "from google.colab import drive\n",
        "drive.mount('/content/drive')"
      ],
      "metadata": {
        "id": "mcag7ReP0ESN",
        "outputId": "51caef49-25db-42e1-e32e-ae8369b2f6f3",
        "colab": {
          "base_uri": "https://localhost:8080/"
        }
      },
      "execution_count": 1,
      "outputs": [
        {
          "output_type": "stream",
          "name": "stdout",
          "text": [
            "Mounted at /content/drive\n"
          ]
        }
      ]
    },
    {
      "cell_type": "code",
      "source": [
        "# Install Book Libraries\n",
        "!pip install dmba"
      ],
      "metadata": {
        "id": "UcvKk0DN0Nde",
        "outputId": "b46f863d-f809-4e49-ff64-2d644a3a26c1",
        "colab": {
          "base_uri": "https://localhost:8080/"
        }
      },
      "execution_count": 2,
      "outputs": [
        {
          "output_type": "stream",
          "name": "stdout",
          "text": [
            "Looking in indexes: https://pypi.org/simple, https://us-python.pkg.dev/colab-wheels/public/simple/\n",
            "Collecting dmba\n",
            "  Downloading dmba-0.1.0-py3-none-any.whl (11.8 MB)\n",
            "\u001b[K     |████████████████████████████████| 11.8 MB 2.1 MB/s \n",
            "\u001b[?25hInstalling collected packages: dmba\n",
            "Successfully installed dmba-0.1.0\n"
          ]
        }
      ]
    },
    {
      "cell_type": "code",
      "source": [
        "# Import Libraries\n",
        "\n",
        "# EDA and Preprep\n",
        "from sklearn import preprocessing\n",
        "from sklearn.model_selection import train_test_split, GridSearchCV\n",
        "import pandas as pd\n",
        "import numpy as np\n",
        "\n",
        "from scipy.spatial.distance import cosine\n",
        "from sklearn.metrics.pairwise import cosine_similarity\n",
        "\n",
        "# Classification Model Libraries\n",
        "# from sklearn.linear_model import LogisticRegressionCV # lr or Logistic Regression\n",
        "# from sklearn.ensemble import BaggingClassifier # bc or Bagging Classifier\n",
        "# from sklearn.ensemble import AdaBoostClassifier # abc or Ada Boost Classifier\n",
        "# from sklearn.ensemble import RandomForestClassifier # rf or Random Forest Classifier\n",
        "# from sklearn.discriminant_analysis import LinearDiscriminantAnalysis # lda or Linear Discriminant Analysis\n",
        "# from sklearn.neural_network import MLPClassifier # nn or Neural Nets\n",
        "# from sklearn.neighbors import KNeighborsClassifier\n",
        "\n",
        "from sklearn.metrics import pairwise\n",
        "from scipy.cluster.hierarchy import dendrogram, linkage, fcluster\n",
        "from sklearn.cluster import KMeans\n",
        "from yellowbrick.cluster import KElbowVisualizer\n",
        "\n",
        "\n",
        "# Book Helper Functions\n",
        "from dmba import plotDecisionTree, gainsChart, liftChart, classificationSummary, regressionSummary\n",
        "from dmba.metric import AIC_score\n",
        "# import dmba\n",
        "\n",
        "# Plotting Libraries\n",
        "import matplotlib.pylab as plt\n",
        "import seaborn as sns\n",
        "from pandas.plotting import parallel_coordinates\n",
        "\n",
        "# Inline Plot Formating\n",
        "%matplotlib inline"
      ],
      "metadata": {
        "id": "0OQB_ua50swp",
        "outputId": "5151965b-9772-46dc-bddf-0b3207434c90",
        "colab": {
          "base_uri": "https://localhost:8080/"
        }
      },
      "execution_count": 3,
      "outputs": [
        {
          "output_type": "stream",
          "name": "stdout",
          "text": [
            "no display found. Using non-interactive Agg backend\n"
          ]
        }
      ]
    },
    {
      "cell_type": "code",
      "source": [
        "# Dataset Source\n",
        "dataSource = 'https://raw.githubusercontent.com/zachfreitas/ADS_505_Applied_Data_Sci_for_Business-/main/Module_5/Assignment_5/BathSoapHousehold.csv'"
      ],
      "metadata": {
        "id": "w1AhljyG1IzZ"
      },
      "execution_count": 4,
      "outputs": []
    },
    {
      "cell_type": "code",
      "source": [
        "df = pd.read_csv(dataSource)\n",
        "df_copy = df.copy()\n",
        "\n",
        "df_copy.columns = [d.replace(' ', '_').replace('.', '') for d in df_copy.columns]\n",
        "# df_copy = df_copy.iloc[: , 2:]\n",
        "# Drop unnecessary columns\n",
        "# df_copy = df_copy.drop('TARGET_D', axis=1)\n",
        "df_copy.head()"
      ],
      "metadata": {
        "id": "cAQHOwXe1QGk",
        "outputId": "6b12346d-fca9-4280-ba58-fabc0c0ff2ac",
        "colab": {
          "base_uri": "https://localhost:8080/",
          "height": 236
        }
      },
      "execution_count": 5,
      "outputs": [
        {
          "output_type": "execute_result",
          "data": {
            "text/plain": [
              "   Member_id  SEC  FEH  MT  SEX  AGE  EDU  HS  CHILD  CS  ...  PropCat_6  \\\n",
              "0    1010010    4    3  10    1    4    4   2      4   1  ...   0.000000   \n",
              "1    1010020    3    2  10    2    2    4   4      2   1  ...   0.347048   \n",
              "2    1014020    2    3  10    2    4    5   6      4   1  ...   0.121212   \n",
              "3    1014030    4    0   0    0    4    0   0      5   0  ...   0.000000   \n",
              "4    1014190    4    1  10    2    3    4   4      3   1  ...   0.000000   \n",
              "\n",
              "   PropCat_7  PropCat_8  PropCat_9  PropCat_10  PropCat_11  PropCat_12  \\\n",
              "0   0.000000   0.000000   0.000000         0.0    0.000000    0.028037   \n",
              "1   0.026834   0.016100   0.014311         0.0    0.059034    0.000000   \n",
              "2   0.033550   0.010823   0.008658         0.0    0.000000    0.016234   \n",
              "3   0.000000   0.000000   0.000000         0.0    0.000000    0.000000   \n",
              "4   0.000000   0.048193   0.000000         0.0    0.000000    0.000000   \n",
              "\n",
              "   PropCat_13  PropCat_14  PropCat_15  \n",
              "0         0.0    0.130841    0.339564  \n",
              "1         0.0    0.080501    0.000000  \n",
              "2         0.0    0.561688    0.003247  \n",
              "3         0.0    0.600000    0.000000  \n",
              "4         0.0    0.144578    0.000000  \n",
              "\n",
              "[5 rows x 46 columns]"
            ],
            "text/html": [
              "\n",
              "  <div id=\"df-35fd5e62-823c-4fda-9437-426fe7fc8f29\">\n",
              "    <div class=\"colab-df-container\">\n",
              "      <div>\n",
              "<style scoped>\n",
              "    .dataframe tbody tr th:only-of-type {\n",
              "        vertical-align: middle;\n",
              "    }\n",
              "\n",
              "    .dataframe tbody tr th {\n",
              "        vertical-align: top;\n",
              "    }\n",
              "\n",
              "    .dataframe thead th {\n",
              "        text-align: right;\n",
              "    }\n",
              "</style>\n",
              "<table border=\"1\" class=\"dataframe\">\n",
              "  <thead>\n",
              "    <tr style=\"text-align: right;\">\n",
              "      <th></th>\n",
              "      <th>Member_id</th>\n",
              "      <th>SEC</th>\n",
              "      <th>FEH</th>\n",
              "      <th>MT</th>\n",
              "      <th>SEX</th>\n",
              "      <th>AGE</th>\n",
              "      <th>EDU</th>\n",
              "      <th>HS</th>\n",
              "      <th>CHILD</th>\n",
              "      <th>CS</th>\n",
              "      <th>...</th>\n",
              "      <th>PropCat_6</th>\n",
              "      <th>PropCat_7</th>\n",
              "      <th>PropCat_8</th>\n",
              "      <th>PropCat_9</th>\n",
              "      <th>PropCat_10</th>\n",
              "      <th>PropCat_11</th>\n",
              "      <th>PropCat_12</th>\n",
              "      <th>PropCat_13</th>\n",
              "      <th>PropCat_14</th>\n",
              "      <th>PropCat_15</th>\n",
              "    </tr>\n",
              "  </thead>\n",
              "  <tbody>\n",
              "    <tr>\n",
              "      <th>0</th>\n",
              "      <td>1010010</td>\n",
              "      <td>4</td>\n",
              "      <td>3</td>\n",
              "      <td>10</td>\n",
              "      <td>1</td>\n",
              "      <td>4</td>\n",
              "      <td>4</td>\n",
              "      <td>2</td>\n",
              "      <td>4</td>\n",
              "      <td>1</td>\n",
              "      <td>...</td>\n",
              "      <td>0.000000</td>\n",
              "      <td>0.000000</td>\n",
              "      <td>0.000000</td>\n",
              "      <td>0.000000</td>\n",
              "      <td>0.0</td>\n",
              "      <td>0.000000</td>\n",
              "      <td>0.028037</td>\n",
              "      <td>0.0</td>\n",
              "      <td>0.130841</td>\n",
              "      <td>0.339564</td>\n",
              "    </tr>\n",
              "    <tr>\n",
              "      <th>1</th>\n",
              "      <td>1010020</td>\n",
              "      <td>3</td>\n",
              "      <td>2</td>\n",
              "      <td>10</td>\n",
              "      <td>2</td>\n",
              "      <td>2</td>\n",
              "      <td>4</td>\n",
              "      <td>4</td>\n",
              "      <td>2</td>\n",
              "      <td>1</td>\n",
              "      <td>...</td>\n",
              "      <td>0.347048</td>\n",
              "      <td>0.026834</td>\n",
              "      <td>0.016100</td>\n",
              "      <td>0.014311</td>\n",
              "      <td>0.0</td>\n",
              "      <td>0.059034</td>\n",
              "      <td>0.000000</td>\n",
              "      <td>0.0</td>\n",
              "      <td>0.080501</td>\n",
              "      <td>0.000000</td>\n",
              "    </tr>\n",
              "    <tr>\n",
              "      <th>2</th>\n",
              "      <td>1014020</td>\n",
              "      <td>2</td>\n",
              "      <td>3</td>\n",
              "      <td>10</td>\n",
              "      <td>2</td>\n",
              "      <td>4</td>\n",
              "      <td>5</td>\n",
              "      <td>6</td>\n",
              "      <td>4</td>\n",
              "      <td>1</td>\n",
              "      <td>...</td>\n",
              "      <td>0.121212</td>\n",
              "      <td>0.033550</td>\n",
              "      <td>0.010823</td>\n",
              "      <td>0.008658</td>\n",
              "      <td>0.0</td>\n",
              "      <td>0.000000</td>\n",
              "      <td>0.016234</td>\n",
              "      <td>0.0</td>\n",
              "      <td>0.561688</td>\n",
              "      <td>0.003247</td>\n",
              "    </tr>\n",
              "    <tr>\n",
              "      <th>3</th>\n",
              "      <td>1014030</td>\n",
              "      <td>4</td>\n",
              "      <td>0</td>\n",
              "      <td>0</td>\n",
              "      <td>0</td>\n",
              "      <td>4</td>\n",
              "      <td>0</td>\n",
              "      <td>0</td>\n",
              "      <td>5</td>\n",
              "      <td>0</td>\n",
              "      <td>...</td>\n",
              "      <td>0.000000</td>\n",
              "      <td>0.000000</td>\n",
              "      <td>0.000000</td>\n",
              "      <td>0.000000</td>\n",
              "      <td>0.0</td>\n",
              "      <td>0.000000</td>\n",
              "      <td>0.000000</td>\n",
              "      <td>0.0</td>\n",
              "      <td>0.600000</td>\n",
              "      <td>0.000000</td>\n",
              "    </tr>\n",
              "    <tr>\n",
              "      <th>4</th>\n",
              "      <td>1014190</td>\n",
              "      <td>4</td>\n",
              "      <td>1</td>\n",
              "      <td>10</td>\n",
              "      <td>2</td>\n",
              "      <td>3</td>\n",
              "      <td>4</td>\n",
              "      <td>4</td>\n",
              "      <td>3</td>\n",
              "      <td>1</td>\n",
              "      <td>...</td>\n",
              "      <td>0.000000</td>\n",
              "      <td>0.000000</td>\n",
              "      <td>0.048193</td>\n",
              "      <td>0.000000</td>\n",
              "      <td>0.0</td>\n",
              "      <td>0.000000</td>\n",
              "      <td>0.000000</td>\n",
              "      <td>0.0</td>\n",
              "      <td>0.144578</td>\n",
              "      <td>0.000000</td>\n",
              "    </tr>\n",
              "  </tbody>\n",
              "</table>\n",
              "<p>5 rows × 46 columns</p>\n",
              "</div>\n",
              "      <button class=\"colab-df-convert\" onclick=\"convertToInteractive('df-35fd5e62-823c-4fda-9437-426fe7fc8f29')\"\n",
              "              title=\"Convert this dataframe to an interactive table.\"\n",
              "              style=\"display:none;\">\n",
              "        \n",
              "  <svg xmlns=\"http://www.w3.org/2000/svg\" height=\"24px\"viewBox=\"0 0 24 24\"\n",
              "       width=\"24px\">\n",
              "    <path d=\"M0 0h24v24H0V0z\" fill=\"none\"/>\n",
              "    <path d=\"M18.56 5.44l.94 2.06.94-2.06 2.06-.94-2.06-.94-.94-2.06-.94 2.06-2.06.94zm-11 1L8.5 8.5l.94-2.06 2.06-.94-2.06-.94L8.5 2.5l-.94 2.06-2.06.94zm10 10l.94 2.06.94-2.06 2.06-.94-2.06-.94-.94-2.06-.94 2.06-2.06.94z\"/><path d=\"M17.41 7.96l-1.37-1.37c-.4-.4-.92-.59-1.43-.59-.52 0-1.04.2-1.43.59L10.3 9.45l-7.72 7.72c-.78.78-.78 2.05 0 2.83L4 21.41c.39.39.9.59 1.41.59.51 0 1.02-.2 1.41-.59l7.78-7.78 2.81-2.81c.8-.78.8-2.07 0-2.86zM5.41 20L4 18.59l7.72-7.72 1.47 1.35L5.41 20z\"/>\n",
              "  </svg>\n",
              "      </button>\n",
              "      \n",
              "  <style>\n",
              "    .colab-df-container {\n",
              "      display:flex;\n",
              "      flex-wrap:wrap;\n",
              "      gap: 12px;\n",
              "    }\n",
              "\n",
              "    .colab-df-convert {\n",
              "      background-color: #E8F0FE;\n",
              "      border: none;\n",
              "      border-radius: 50%;\n",
              "      cursor: pointer;\n",
              "      display: none;\n",
              "      fill: #1967D2;\n",
              "      height: 32px;\n",
              "      padding: 0 0 0 0;\n",
              "      width: 32px;\n",
              "    }\n",
              "\n",
              "    .colab-df-convert:hover {\n",
              "      background-color: #E2EBFA;\n",
              "      box-shadow: 0px 1px 2px rgba(60, 64, 67, 0.3), 0px 1px 3px 1px rgba(60, 64, 67, 0.15);\n",
              "      fill: #174EA6;\n",
              "    }\n",
              "\n",
              "    [theme=dark] .colab-df-convert {\n",
              "      background-color: #3B4455;\n",
              "      fill: #D2E3FC;\n",
              "    }\n",
              "\n",
              "    [theme=dark] .colab-df-convert:hover {\n",
              "      background-color: #434B5C;\n",
              "      box-shadow: 0px 1px 3px 1px rgba(0, 0, 0, 0.15);\n",
              "      filter: drop-shadow(0px 1px 2px rgba(0, 0, 0, 0.3));\n",
              "      fill: #FFFFFF;\n",
              "    }\n",
              "  </style>\n",
              "\n",
              "      <script>\n",
              "        const buttonEl =\n",
              "          document.querySelector('#df-35fd5e62-823c-4fda-9437-426fe7fc8f29 button.colab-df-convert');\n",
              "        buttonEl.style.display =\n",
              "          google.colab.kernel.accessAllowed ? 'block' : 'none';\n",
              "\n",
              "        async function convertToInteractive(key) {\n",
              "          const element = document.querySelector('#df-35fd5e62-823c-4fda-9437-426fe7fc8f29');\n",
              "          const dataTable =\n",
              "            await google.colab.kernel.invokeFunction('convertToInteractive',\n",
              "                                                     [key], {});\n",
              "          if (!dataTable) return;\n",
              "\n",
              "          const docLinkHtml = 'Like what you see? Visit the ' +\n",
              "            '<a target=\"_blank\" href=https://colab.research.google.com/notebooks/data_table.ipynb>data table notebook</a>'\n",
              "            + ' to learn more about interactive tables.';\n",
              "          element.innerHTML = '';\n",
              "          dataTable['output_type'] = 'display_data';\n",
              "          await google.colab.output.renderOutput(dataTable, element);\n",
              "          const docLink = document.createElement('div');\n",
              "          docLink.innerHTML = docLinkHtml;\n",
              "          element.appendChild(docLink);\n",
              "        }\n",
              "      </script>\n",
              "    </div>\n",
              "  </div>\n",
              "  "
            ]
          },
          "metadata": {},
          "execution_count": 5
        }
      ]
    },
    {
      "cell_type": "code",
      "source": [
        "# Demographics that we want to ignore\n",
        "Demographics = ['SEC', 'FEH' , 'MT', 'SEX', 'AGE', 'EDU', 'HS', 'SHILD', 'CS', 'Affluence_Index']"
      ],
      "metadata": {
        "id": "cgquIJaYmBG5"
      },
      "execution_count": 9,
      "outputs": []
    },
    {
      "cell_type": "markdown",
      "source": [
        "## Question 1\n",
        "Use k-means clustering to identify clusters of households based on:\n"
      ],
      "metadata": {
        "id": "Xa7LUm-41fys"
      }
    },
    {
      "cell_type": "markdown",
      "source": [
        "### Question 1.1\n",
        "The variables that describe purchase behavior (including brand loyalty) (10 points)\n"
      ],
      "metadata": {
        "id": "xntjDAR81oaG"
      }
    },
    {
      "cell_type": "code",
      "source": [
        "# Purchase behavior (volume, frequency, susceptibility to discounts, and brand loyalty)\n",
        "Purchase_behavior = ['No_of_Brands', 'Brand_Runs', 'Total_Volume', 'No_of__Trans', 'Value',\n",
        "                     'Trans_/_Brand_Runs', 'Vol/Tran', 'Avg_Price_', 'Pur_Vol_No_Promo_-_%',\n",
        "                     'Pur_Vol_Promo_6_%', 'Pur_Vol_Other_Promo_%', 'Br_Cd_57,_144',\n",
        "                     'Br_Cd_55', 'Br_Cd_272', 'Br_Cd_286', 'Br_Cd_24', 'Br_Cd_481',\n",
        "                     'Br_Cd_352', 'Br_Cd_5', 'Others_999'] \n",
        "\n",
        "#\n",
        "# Instantiate the clustering model and visualizer\n",
        "#\n",
        "km = KMeans(random_state=0)\n",
        "visualizer = KElbowVisualizer(km, k=(2,7), timings=False)\n",
        " \n",
        "visualizer.fit(df_copy[Purchase_behavior])        # Fit the data to the visualizer\n",
        "visualizer.show()        # Finalize and render the figure"
      ],
      "metadata": {
        "id": "J3ZK_1umJdot",
        "outputId": "1ffbe370-d2f1-4ef4-caba-859956953f52",
        "colab": {
          "base_uri": "https://localhost:8080/",
          "height": 393
        }
      },
      "execution_count": 48,
      "outputs": [
        {
          "output_type": "display_data",
          "data": {
            "text/plain": [
              "<Figure size 576x396 with 1 Axes>"
            ],
            "image/png": "[encoded data removed]"
          },
          "metadata": {}
        },
        {
          "output_type": "execute_result",
          "data": {
            "text/plain": [
              "<matplotlib.axes._subplots.AxesSubplot at 0x7f37121087d0>"
            ]
          },
          "metadata": {},
          "execution_count": 48
        }
      ]
    },
    {
      "cell_type": "markdown",
      "source": [
        "---\n",
        "**Answer:**\n",
        "\n",
        "\n",
        "\n",
        "--- \n",
        "<br>"
      ],
      "metadata": {
        "id": "-TXq4Wdi1oik"
      }
    },
    {
      "cell_type": "markdown",
      "source": [
        "### Question 1.2\n",
        "The variables that describe the basis for purchase (10 points)"
      ],
      "metadata": {
        "id": "shTgqad01ol5"
      }
    },
    {
      "cell_type": "code",
      "source": [
        "# Basis of purchase (price, selling proposition)\n",
        "Basis_of_purchase = ['Pr_Cat_1', 'Pr_Cat_2', 'Pr_Cat_3', 'Pr_Cat_4', \n",
        "                       'PropCat_5', 'PropCat_6', 'PropCat_7','PropCat_8',\n",
        "                       'PropCat_9', 'PropCat_10', 'PropCat_11', 'PropCat_12',\n",
        "                       'PropCat_13','PropCat_14','PropCat_15']  \n",
        "#\n",
        "# Instantiate the clustering model and visualizer\n",
        "#\n",
        "km = KMeans(random_state=0)\n",
        "visualizer = KElbowVisualizer(km, k=(1,7), timings=False)\n",
        " \n",
        "visualizer.fit(df_copy[Basis_of_purchase])        # Fit the data to the visualizer\n",
        "visualizer.show()        # Finalize and render the figure"
      ],
      "metadata": {
        "id": "oqbywHlcFYd6",
        "outputId": "05278d44-b6dc-4982-f42a-0beac55cf88b",
        "colab": {
          "base_uri": "https://localhost:8080/",
          "height": 393
        }
      },
      "execution_count": 49,
      "outputs": [
        {
          "output_type": "display_data",
          "data": {
            "text/plain": [
              "<Figure size 576x396 with 1 Axes>"
            ],
            "image/png": "[encoded data removed]"
          },
          "metadata": {}
        },
        {
          "output_type": "execute_result",
          "data": {
            "text/plain": [
              "<matplotlib.axes._subplots.AxesSubplot at 0x7f37120b67d0>"
            ]
          },
          "metadata": {},
          "execution_count": 49
        }
      ]
    },
    {
      "cell_type": "markdown",
      "source": [
        "---\n",
        "**Answer:**\n",
        "\n",
        "\n",
        "\n",
        "--- \n",
        "<br>"
      ],
      "metadata": {
        "id": "XWSNAyTZ1opc"
      }
    },
    {
      "cell_type": "markdown",
      "source": [
        "### Question 1.3\n",
        "The variables that describe both purchase behavior and basis of purchase\n",
        "(14 points)\n",
        "\n",
        "**Note 1:** How should k be chosen? Think about how the clusters would be used. It is likely that the marketing efforts would support two to five different promotional approaches.\n",
        "\n",
        "**Note 2:** How should the percentages of total purchases by various brands be treated? Isn’t a customer who buys all brand A just as loyal as a customer who buys all brand B? What will be the effect on any distance measure of using the brand share variables as is? Consider using a single derived variable.\n"
      ],
      "metadata": {
        "id": "I6iBm8KB1ost"
      }
    },
    {
      "cell_type": "code",
      "source": [
        "# Instantiate the clustering model and visualizer\n",
        "#\n",
        "km = KMeans(random_state=0)\n",
        "visualizer = KElbowVisualizer(km, k=(1,7), timings=False)\n",
        " \n",
        "visualizer.fit(df_copy[Purchase_behavior + Basis_of_purchase])        # Fit the data to the visualizer\n",
        "visualizer.show()        # Finalize and render the figure"
      ],
      "metadata": {
        "id": "6_bjC1Kj2xgf",
        "outputId": "ca0ae56c-5ddd-4e3c-c4ff-c4a29b1ecb56",
        "colab": {
          "base_uri": "https://localhost:8080/",
          "height": 445
        }
      },
      "execution_count": 58,
      "outputs": [
        {
          "output_type": "stream",
          "name": "stdout",
          "text": [
            "(600, 35)\n",
            "(600, 20)\n",
            "(600, 15)\n"
          ]
        },
        {
          "output_type": "display_data",
          "data": {
            "text/plain": [
              "<Figure size 576x396 with 1 Axes>"
            ],
            "image/png": "[encoded data removed]"
          },
          "metadata": {}
        },
        {
          "output_type": "execute_result",
          "data": {
            "text/plain": [
              "<matplotlib.axes._subplots.AxesSubplot at 0x7f3714d8eb90>"
            ]
          },
          "metadata": {},
          "execution_count": 58
        }
      ]
    },
    {
      "cell_type": "code",
      "source": [
        "# Create a variable that combines individual loyalty to one brand to overall loyalty to any brand.\n",
        "df_copy['max_br'] = df_copy[['Br_Cd_57,_144','Br_Cd_55', 'Br_Cd_272', 'Br_Cd_286', 'Br_Cd_24', 'Br_Cd_481','Br_Cd_352', 'Br_Cd_5', 'Others_999']].max(axis=1)\n",
        "\n",
        "Purchase_behavior_max = ['No_of_Brands', 'Brand_Runs', 'Total_Volume', 'No_of__Trans', 'Value',\n",
        "                         'Trans_/_Brand_Runs', 'Vol/Tran', 'Avg_Price_', 'Pur_Vol_No_Promo_-_%',\n",
        "                         'Pur_Vol_Promo_6_%', 'Pur_Vol_Other_Promo_%', 'max_br'] \n",
        "#\n",
        "# Instantiate the clustering model and visualizer\n",
        "#\n",
        "km = KMeans(random_state=0)\n",
        "visualizer = KElbowVisualizer(km, k=(1,7), timings=False)\n",
        "\n",
        "\n",
        "x = df_copy[Purchase_behavior_max + Basis_of_purchase]\n",
        " \n",
        "visualizer.fit(df_copy[Purchase_behavior_max + Basis_of_purchase])         # Fit the data to the visualizer\n",
        "visualizer.show()        # Finalize and render the figure"
      ],
      "metadata": {
        "id": "5ghvyQqHR42L",
        "outputId": "97830516-91ed-46cc-e3b3-4998994102af",
        "colab": {
          "base_uri": "https://localhost:8080/",
          "height": 393
        }
      },
      "execution_count": 74,
      "outputs": [
        {
          "output_type": "display_data",
          "data": {
            "text/plain": [
              "<Figure size 576x396 with 1 Axes>"
            ],
            "image/png": "[encoded data removed]"
          },
          "metadata": {}
        },
        {
          "output_type": "execute_result",
          "data": {
            "text/plain": [
              "<matplotlib.axes._subplots.AxesSubplot at 0x7f3711c08a90>"
            ]
          },
          "metadata": {},
          "execution_count": 74
        }
      ]
    },
    {
      "cell_type": "markdown",
      "source": [
        "---\n",
        "**Answer:**\n",
        "\n",
        "\n",
        "\n",
        "--- \n",
        "<br>"
      ],
      "metadata": {
        "id": "tD08PkB01owG"
      }
    },
    {
      "cell_type": "markdown",
      "source": [
        "## Question 2\n",
        "Select what you think is the best segmentation and comment on the characteristics (demographic, brand loyalty, and basis for purchase) of these clusters. (This information would be used to guide the development of advertising and promotional campaigns.)(14 points)\n"
      ],
      "metadata": {
        "id": "Jqow7pbN1o1k"
      }
    },
    {
      "cell_type": "code",
      "source": [],
      "metadata": {
        "id": "RxZ_MAuB2wxd"
      },
      "execution_count": null,
      "outputs": []
    },
    {
      "cell_type": "markdown",
      "source": [
        "---\n",
        "**Answer:**\n",
        "\n",
        "\n",
        "\n",
        "--- \n",
        "<br>"
      ],
      "metadata": {
        "id": "1TP5SCDO1o6E"
      }
    },
    {
      "cell_type": "markdown",
      "source": [
        "## Question 3\n",
        "Develop a model that classifies the data into these segments. Since this information would most likely be used in targeting direct-mail promotions, it would be useful to select a market segment that would be defined as a success in the classification model.(14 points)\n"
      ],
      "metadata": {
        "id": "yIfs3I9A2jwy"
      }
    },
    {
      "cell_type": "code",
      "source": [],
      "metadata": {
        "id": "weLpk-P3dqww"
      },
      "execution_count": null,
      "outputs": []
    },
    {
      "cell_type": "markdown",
      "source": [
        "---\n",
        "**Answer:**\n",
        "\n",
        "\n",
        "\n",
        "--- \n",
        "<br>"
      ],
      "metadata": {
        "id": "Y5duJwuIdp_7"
      }
    },
    {
      "cell_type": "markdown",
      "source": [
        "## Question 4\n",
        "Briefly explain, in two to three paragraphs, the business objective, the data mining models used, why they were used, the model results, and your recommendations to your non-technical stakeholder team. (18 points)\n",
        "\n"
      ],
      "metadata": {
        "id": "qFNsP9RG2qMo"
      }
    },
    {
      "cell_type": "code",
      "source": [],
      "metadata": {
        "id": "smuevUKp2m96"
      },
      "execution_count": null,
      "outputs": []
    },
    {
      "cell_type": "markdown",
      "source": [
        "---\n",
        "**Answer:**\n",
        "\n",
        "\n",
        "\n",
        "--- \n",
        "<br>"
      ],
      "metadata": {
        "id": "9KcXFBEh2s3I"
      }
    }
  ]
}